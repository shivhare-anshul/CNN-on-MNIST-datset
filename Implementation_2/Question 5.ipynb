{
 "cells": [
  {
   "cell_type": "markdown",
   "id": "faced-sheriff",
   "metadata": {},
   "source": [
    "# Importing Libraries"
   ]
  },
  {
   "cell_type": "code",
   "execution_count": 1,
   "id": "arabic-archives",
   "metadata": {},
   "outputs": [],
   "source": [
    "import torch\n",
    "import torch.nn as nn\n",
    "import torchvision.transforms as transforms\n",
    "import torchvision.datasets as datasets\n",
    "import torch.nn.functional as F\n",
    "import torch.optim as optim\n",
    "import copy\n",
    "from tqdm import tqdm\n",
    "import matplotlib.pyplot as plt\n",
    "import numpy as np"
   ]
  },
  {
   "cell_type": "markdown",
   "id": "streaming-arrow",
   "metadata": {},
   "source": [
    "## Loading Data"
   ]
  },
  {
   "cell_type": "code",
   "execution_count": 2,
   "id": "independent-trunk",
   "metadata": {},
   "outputs": [],
   "source": [
    "transform = transforms.Compose([transforms.ToTensor()])\n",
    "trainset = datasets.MNIST(root='./data', train=True, download=True, transform=transform)\n",
    "testset = datasets.MNIST(root='./data', train=False, download=True, transform=transform)"
   ]
  },
  {
   "cell_type": "code",
   "execution_count": 3,
   "id": "touched-affair",
   "metadata": {},
   "outputs": [],
   "source": [
    "trainloader = torch.utils.data.DataLoader(trainset, batch_size=64,shuffle=True)\n",
    "testloader = torch.utils.data.DataLoader(testset, batch_size=32)"
   ]
  },
  {
   "cell_type": "markdown",
   "id": "alpine-license",
   "metadata": {},
   "source": [
    "## Defining Model\n",
    "2 convolutional Layer, 2 Dense layer"
   ]
  },
  {
   "cell_type": "code",
   "execution_count": 4,
   "id": "included-rehabilitation",
   "metadata": {},
   "outputs": [],
   "source": [
    "class CNN(nn.Module):\n",
    "    def __init__(self,dropout):\n",
    "        super().__init__()\n",
    "        self.dropout=dropout\n",
    "        self.pool = nn.MaxPool2d(2, 2)\n",
    "        \n",
    "        self.conv1=nn.Conv2d(1,64,kernel_size=3)\n",
    "        self.conv2=nn.Conv2d(64,64,kernel_size=3)\n",
    "        self.dense1=nn.Linear(64*5*5,256)\n",
    "        self.dense2=nn.Linear(256,10)\n",
    "        \n",
    "        self.dropout=nn.Dropout(0.1)\n",
    "        \n",
    "    def forward(self,images):\n",
    "        shape=images.size()\n",
    "        temp=self.conv1(images)\n",
    "        temp=self.pool(temp)\n",
    "        temp=F.relu(temp)\n",
    "        temp=self.conv2(temp)\n",
    "        temp=self.pool(temp)\n",
    "        temp=F.relu(temp)\n",
    "        temp=temp.view(shape[0],-1)\n",
    "        temp=self.dense1(temp)\n",
    "        temp=F.relu(temp)\n",
    "        if self.dropout:\n",
    "            temp=self.dropout(temp)\n",
    "        temp=self.dense2(temp)\n",
    "        return temp"
   ]
  },
  {
   "cell_type": "code",
   "execution_count": 5,
   "id": "nutritional-david",
   "metadata": {},
   "outputs": [],
   "source": [
    "device=torch.device(\"cuda\" if torch.cuda.is_available() else \"cpu\")"
   ]
  },
  {
   "cell_type": "markdown",
   "id": "enormous-asset",
   "metadata": {},
   "source": [
    "### We are using Cross entropy as our loss function"
   ]
  },
  {
   "cell_type": "code",
   "execution_count": 6,
   "id": "invalid-radical",
   "metadata": {},
   "outputs": [],
   "source": [
    "criterion = nn.CrossEntropyLoss(reduction='sum').to(device)\n",
    "epochs=100\n",
    "\n",
    "all_losses=[]"
   ]
  },
  {
   "cell_type": "markdown",
   "id": "divine-portland",
   "metadata": {},
   "source": [
    "# Using Optimizer SGD, Adam, RMSprop with and without regularization and Dropout\n",
    "### 12 such cases are below:"
   ]
  },
  {
   "cell_type": "markdown",
   "id": "mediterranean-appliance",
   "metadata": {},
   "source": [
    "## SGD without Regularization and without Dropout"
   ]
  },
  {
   "cell_type": "code",
   "execution_count": 7,
   "id": "judicial-candy",
   "metadata": {},
   "outputs": [
    {
     "name": "stderr",
     "output_type": "stream",
     "text": [
      "100%|█████████████████████████████████████████████████████████████████████████████| 938/938 [00:19<00:00, 48.12it/s]\n",
      "100%|████████████████████████████████████████████████████████████████████████████| 313/313 [00:01<00:00, 164.39it/s]\n",
      "  1%|▌                                                                              | 6/938 [00:00<00:18, 50.01it/s]"
     ]
    },
    {
     "name": "stdout",
     "output_type": "stream",
     "text": [
      "Epoch = 1\tSum of Training loss = 72368.37129974365\tCorrect Validation Examples = 8753\n"
     ]
    },
    {
     "name": "stderr",
     "output_type": "stream",
     "text": [
      "100%|█████████████████████████████████████████████████████████████████████████████| 938/938 [00:15<00:00, 60.42it/s]\n",
      "100%|████████████████████████████████████████████████████████████████████████████| 313/313 [00:01<00:00, 167.17it/s]\n",
      "  1%|▌                                                                              | 6/938 [00:00<00:16, 55.55it/s]"
     ]
    },
    {
     "name": "stdout",
     "output_type": "stream",
     "text": [
      "Epoch = 2\tSum of Training loss = 20957.367738246918\tCorrect Validation Examples = 9258\n"
     ]
    },
    {
     "name": "stderr",
     "output_type": "stream",
     "text": [
      "100%|█████████████████████████████████████████████████████████████████████████████| 938/938 [00:15<00:00, 61.10it/s]\n",
      "100%|████████████████████████████████████████████████████████████████████████████| 313/313 [00:02<00:00, 134.68it/s]\n",
      "  1%|▍                                                                              | 5/938 [00:00<00:19, 48.09it/s]"
     ]
    },
    {
     "name": "stdout",
     "output_type": "stream",
     "text": [
      "Epoch = 3\tSum of Training loss = 14918.634208202362\tCorrect Validation Examples = 9437\n"
     ]
    },
    {
     "name": "stderr",
     "output_type": "stream",
     "text": [
      "100%|█████████████████████████████████████████████████████████████████████████████| 938/938 [00:16<00:00, 55.49it/s]\n",
      "100%|████████████████████████████████████████████████████████████████████████████| 313/313 [00:02<00:00, 146.54it/s]\n",
      "  1%|▌                                                                              | 6/938 [00:00<00:18, 51.71it/s]"
     ]
    },
    {
     "name": "stdout",
     "output_type": "stream",
     "text": [
      "Epoch = 4\tSum of Training loss = 11561.562938213348\tCorrect Validation Examples = 9550\n"
     ]
    },
    {
     "name": "stderr",
     "output_type": "stream",
     "text": [
      "100%|█████████████████████████████████████████████████████████████████████████████| 938/938 [00:15<00:00, 60.55it/s]\n",
      "100%|████████████████████████████████████████████████████████████████████████████| 313/313 [00:01<00:00, 172.74it/s]\n",
      "  1%|▌                                                                              | 6/938 [00:00<00:16, 55.54it/s]"
     ]
    },
    {
     "name": "stdout",
     "output_type": "stream",
     "text": [
      "Epoch = 5\tSum of Training loss = 9472.270433425903\tCorrect Validation Examples = 9650\n"
     ]
    },
    {
     "name": "stderr",
     "output_type": "stream",
     "text": [
      "100%|█████████████████████████████████████████████████████████████████████████████| 938/938 [00:15<00:00, 60.78it/s]\n",
      "100%|████████████████████████████████████████████████████████████████████████████| 313/313 [00:01<00:00, 164.36it/s]\n",
      "  1%|▌                                                                              | 6/938 [00:00<00:18, 51.74it/s]"
     ]
    },
    {
     "name": "stdout",
     "output_type": "stream",
     "text": [
      "Epoch = 6\tSum of Training loss = 8093.138997793198\tCorrect Validation Examples = 9658\n"
     ]
    },
    {
     "name": "stderr",
     "output_type": "stream",
     "text": [
      "100%|█████████████████████████████████████████████████████████████████████████████| 938/938 [00:15<00:00, 59.50it/s]\n",
      "100%|████████████████████████████████████████████████████████████████████████████| 313/313 [00:02<00:00, 149.62it/s]\n",
      "  1%|▌                                                                              | 6/938 [00:00<00:18, 51.72it/s]"
     ]
    },
    {
     "name": "stdout",
     "output_type": "stream",
     "text": [
      "Epoch = 7\tSum of Training loss = 7152.006485760212\tCorrect Validation Examples = 9725\n"
     ]
    },
    {
     "name": "stderr",
     "output_type": "stream",
     "text": [
      "100%|█████████████████████████████████████████████████████████████████████████████| 938/938 [00:16<00:00, 57.71it/s]\n",
      "100%|████████████████████████████████████████████████████████████████████████████| 313/313 [00:02<00:00, 154.95it/s]\n",
      "  1%|▌                                                                              | 6/938 [00:00<00:16, 55.56it/s]"
     ]
    },
    {
     "name": "stdout",
     "output_type": "stream",
     "text": [
      "Epoch = 8\tSum of Training loss = 6363.756223320961\tCorrect Validation Examples = 9741\n"
     ]
    },
    {
     "name": "stderr",
     "output_type": "stream",
     "text": [
      "100%|█████████████████████████████████████████████████████████████████████████████| 938/938 [00:15<00:00, 61.49it/s]\n",
      "100%|████████████████████████████████████████████████████████████████████████████| 313/313 [00:01<00:00, 170.11it/s]\n",
      "  1%|▉                                                                             | 12/938 [00:00<00:16, 57.16it/s]"
     ]
    },
    {
     "name": "stdout",
     "output_type": "stream",
     "text": [
      "Epoch = 9\tSum of Training loss = 5850.147871017456\tCorrect Validation Examples = 9745\n"
     ]
    },
    {
     "name": "stderr",
     "output_type": "stream",
     "text": [
      "100%|█████████████████████████████████████████████████████████████████████████████| 938/938 [00:15<00:00, 61.86it/s]\n",
      "100%|████████████████████████████████████████████████████████████████████████████| 313/313 [00:01<00:00, 174.67it/s]\n",
      "  1%|▌                                                                              | 6/938 [00:00<00:16, 55.56it/s]"
     ]
    },
    {
     "name": "stdout",
     "output_type": "stream",
     "text": [
      "Epoch = 10\tSum of Training loss = 5354.289064496756\tCorrect Validation Examples = 9783\n"
     ]
    },
    {
     "name": "stderr",
     "output_type": "stream",
     "text": [
      "100%|█████████████████████████████████████████████████████████████████████████████| 938/938 [00:15<00:00, 61.18it/s]\n",
      "100%|████████████████████████████████████████████████████████████████████████████| 313/313 [00:01<00:00, 173.12it/s]\n",
      "  1%|▌                                                                              | 6/938 [00:00<00:16, 55.56it/s]"
     ]
    },
    {
     "name": "stdout",
     "output_type": "stream",
     "text": [
      "Epoch = 11\tSum of Training loss = 4961.693220645189\tCorrect Validation Examples = 9780\n"
     ]
    },
    {
     "name": "stderr",
     "output_type": "stream",
     "text": [
      "100%|█████████████████████████████████████████████████████████████████████████████| 938/938 [00:15<00:00, 61.34it/s]\n",
      "100%|████████████████████████████████████████████████████████████████████████████| 313/313 [00:01<00:00, 174.64it/s]\n",
      "  1%|▌                                                                              | 6/938 [00:00<00:16, 55.56it/s]"
     ]
    },
    {
     "name": "stdout",
     "output_type": "stream",
     "text": [
      "Epoch = 12\tSum of Training loss = 4677.048956155777\tCorrect Validation Examples = 9806\n"
     ]
    },
    {
     "name": "stderr",
     "output_type": "stream",
     "text": [
      "100%|█████████████████████████████████████████████████████████████████████████████| 938/938 [00:15<00:00, 61.29it/s]\n",
      "100%|████████████████████████████████████████████████████████████████████████████| 313/313 [00:01<00:00, 166.44it/s]\n",
      "  1%|▌                                                                              | 6/938 [00:00<00:17, 53.59it/s]"
     ]
    },
    {
     "name": "stdout",
     "output_type": "stream",
     "text": [
      "Epoch = 13\tSum of Training loss = 4425.826155126095\tCorrect Validation Examples = 9816\n"
     ]
    },
    {
     "name": "stderr",
     "output_type": "stream",
     "text": [
      "100%|█████████████████████████████████████████████████████████████████████████████| 938/938 [00:15<00:00, 59.56it/s]\n",
      "100%|████████████████████████████████████████████████████████████████████████████| 313/313 [00:01<00:00, 160.02it/s]\n",
      "  1%|▌                                                                              | 6/938 [00:00<00:17, 53.57it/s]"
     ]
    },
    {
     "name": "stdout",
     "output_type": "stream",
     "text": [
      "Epoch = 14\tSum of Training loss = 4151.8343768417835\tCorrect Validation Examples = 9809\n"
     ]
    },
    {
     "name": "stderr",
     "output_type": "stream",
     "text": [
      "100%|█████████████████████████████████████████████████████████████████████████████| 938/938 [00:16<00:00, 56.60it/s]\n",
      "100%|████████████████████████████████████████████████████████████████████████████| 313/313 [00:02<00:00, 149.33it/s]\n",
      "  1%|▌                                                                              | 6/938 [00:00<00:16, 55.57it/s]"
     ]
    },
    {
     "name": "stdout",
     "output_type": "stream",
     "text": [
      "Epoch = 15\tSum of Training loss = 3933.571166664362\tCorrect Validation Examples = 9818\n"
     ]
    },
    {
     "name": "stderr",
     "output_type": "stream",
     "text": [
      "100%|█████████████████████████████████████████████████████████████████████████████| 938/938 [00:15<00:00, 59.91it/s]\n",
      "100%|████████████████████████████████████████████████████████████████████████████| 313/313 [00:02<00:00, 140.23it/s]\n",
      "  1%|▌                                                                              | 6/938 [00:00<00:16, 55.54it/s]"
     ]
    },
    {
     "name": "stdout",
     "output_type": "stream",
     "text": [
      "Epoch = 16\tSum of Training loss = 3741.9672107100487\tCorrect Validation Examples = 9817\n"
     ]
    },
    {
     "name": "stderr",
     "output_type": "stream",
     "text": [
      "100%|█████████████████████████████████████████████████████████████████████████████| 938/938 [00:15<00:00, 58.93it/s]\n",
      "100%|████████████████████████████████████████████████████████████████████████████| 313/313 [00:01<00:00, 164.65it/s]\n",
      "  1%|▍                                                                              | 5/938 [00:00<00:20, 44.64it/s]"
     ]
    },
    {
     "name": "stdout",
     "output_type": "stream",
     "text": [
      "Epoch = 17\tSum of Training loss = 3587.1218749284744\tCorrect Validation Examples = 9844\n"
     ]
    },
    {
     "name": "stderr",
     "output_type": "stream",
     "text": [
      "100%|█████████████████████████████████████████████████████████████████████████████| 938/938 [00:15<00:00, 61.94it/s]\n",
      "100%|████████████████████████████████████████████████████████████████████████████| 313/313 [00:01<00:00, 168.55it/s]\n",
      "  1%|▌                                                                              | 6/938 [00:00<00:18, 51.75it/s]"
     ]
    },
    {
     "name": "stdout",
     "output_type": "stream",
     "text": [
      "Epoch = 18\tSum of Training loss = 3446.5444211363792\tCorrect Validation Examples = 9832\n"
     ]
    },
    {
     "name": "stderr",
     "output_type": "stream",
     "text": [
      "100%|█████████████████████████████████████████████████████████████████████████████| 938/938 [00:16<00:00, 57.40it/s]\n",
      "100%|████████████████████████████████████████████████████████████████████████████| 313/313 [00:01<00:00, 158.40it/s]\n",
      "  1%|▌                                                                              | 6/938 [00:00<00:18, 51.73it/s]"
     ]
    },
    {
     "name": "stdout",
     "output_type": "stream",
     "text": [
      "Epoch = 19\tSum of Training loss = 3308.615053296089\tCorrect Validation Examples = 9850\n"
     ]
    },
    {
     "name": "stderr",
     "output_type": "stream",
     "text": [
      "100%|█████████████████████████████████████████████████████████████████████████████| 938/938 [00:16<00:00, 57.60it/s]\n",
      "100%|████████████████████████████████████████████████████████████████████████████| 313/313 [00:01<00:00, 166.84it/s]\n",
      "  1%|▌                                                                              | 6/938 [00:00<00:18, 51.74it/s]"
     ]
    },
    {
     "name": "stdout",
     "output_type": "stream",
     "text": [
      "Epoch = 20\tSum of Training loss = 3171.9702781438828\tCorrect Validation Examples = 9850\n"
     ]
    },
    {
     "name": "stderr",
     "output_type": "stream",
     "text": [
      "100%|█████████████████████████████████████████████████████████████████████████████| 938/938 [00:15<00:00, 60.34it/s]\n",
      "100%|████████████████████████████████████████████████████████████████████████████| 313/313 [00:01<00:00, 165.43it/s]\n",
      "  1%|▌                                                                              | 6/938 [00:00<00:18, 51.72it/s]"
     ]
    },
    {
     "name": "stdout",
     "output_type": "stream",
     "text": [
      "Epoch = 21\tSum of Training loss = 3061.0758510529995\tCorrect Validation Examples = 9867\n"
     ]
    },
    {
     "name": "stderr",
     "output_type": "stream",
     "text": [
      "100%|█████████████████████████████████████████████████████████████████████████████| 938/938 [00:16<00:00, 57.87it/s]\n",
      "100%|████████████████████████████████████████████████████████████████████████████| 313/313 [00:02<00:00, 138.00it/s]\n",
      "  1%|▌                                                                              | 6/938 [00:00<00:17, 53.56it/s]"
     ]
    },
    {
     "name": "stdout",
     "output_type": "stream",
     "text": [
      "Epoch = 22\tSum of Training loss = 2965.36040276289\tCorrect Validation Examples = 9865\n"
     ]
    },
    {
     "name": "stderr",
     "output_type": "stream",
     "text": [
      "100%|█████████████████████████████████████████████████████████████████████████████| 938/938 [00:16<00:00, 56.15it/s]\n",
      "100%|████████████████████████████████████████████████████████████████████████████| 313/313 [00:02<00:00, 149.04it/s]\n",
      "  1%|▍                                                                              | 5/938 [00:00<00:19, 48.08it/s]"
     ]
    },
    {
     "name": "stdout",
     "output_type": "stream",
     "text": [
      "Epoch = 23\tSum of Training loss = 2812.4103229492903\tCorrect Validation Examples = 9855\n"
     ]
    },
    {
     "name": "stderr",
     "output_type": "stream",
     "text": [
      "100%|█████████████████████████████████████████████████████████████████████████████| 938/938 [00:15<00:00, 60.53it/s]\n",
      "100%|████████████████████████████████████████████████████████████████████████████| 313/313 [00:01<00:00, 173.89it/s]\n",
      "  1%|▌                                                                              | 6/938 [00:00<00:17, 53.59it/s]"
     ]
    },
    {
     "name": "stdout",
     "output_type": "stream",
     "text": [
      "Epoch = 24\tSum of Training loss = 2743.394438609481\tCorrect Validation Examples = 9874\n"
     ]
    },
    {
     "name": "stderr",
     "output_type": "stream",
     "text": [
      "100%|█████████████████████████████████████████████████████████████████████████████| 938/938 [00:15<00:00, 61.78it/s]\n",
      "100%|████████████████████████████████████████████████████████████████████████████| 313/313 [00:01<00:00, 163.70it/s]\n",
      "  1%|▌                                                                              | 6/938 [00:00<00:17, 53.57it/s]"
     ]
    },
    {
     "name": "stdout",
     "output_type": "stream",
     "text": [
      "Epoch = 25\tSum of Training loss = 2628.010795176029\tCorrect Validation Examples = 9878\n"
     ]
    },
    {
     "name": "stderr",
     "output_type": "stream",
     "text": [
      "100%|█████████████████████████████████████████████████████████████████████████████| 938/938 [00:15<00:00, 60.44it/s]\n",
      "100%|████████████████████████████████████████████████████████████████████████████| 313/313 [00:01<00:00, 170.48it/s]\n",
      "  1%|▌                                                                              | 6/938 [00:00<00:16, 55.56it/s]"
     ]
    },
    {
     "name": "stdout",
     "output_type": "stream",
     "text": [
      "Epoch = 26\tSum of Training loss = 2598.9241123124957\tCorrect Validation Examples = 9868\n"
     ]
    },
    {
     "name": "stderr",
     "output_type": "stream",
     "text": [
      "100%|█████████████████████████████████████████████████████████████████████████████| 938/938 [00:15<00:00, 62.02it/s]\n",
      "100%|████████████████████████████████████████████████████████████████████████████| 313/313 [00:01<00:00, 169.36it/s]\n",
      "  1%|▌                                                                              | 6/938 [00:00<00:16, 55.54it/s]"
     ]
    },
    {
     "name": "stdout",
     "output_type": "stream",
     "text": [
      "Epoch = 27\tSum of Training loss = 2457.3099817037582\tCorrect Validation Examples = 9878\n"
     ]
    },
    {
     "name": "stderr",
     "output_type": "stream",
     "text": [
      "100%|█████████████████████████████████████████████████████████████████████████████| 938/938 [00:15<00:00, 60.03it/s]\n",
      "100%|████████████████████████████████████████████████████████████████████████████| 313/313 [00:01<00:00, 171.60it/s]\n",
      "  1%|▌                                                                              | 6/938 [00:00<00:16, 57.71it/s]"
     ]
    },
    {
     "name": "stdout",
     "output_type": "stream",
     "text": [
      "Epoch = 28\tSum of Training loss = 2357.9709810316563\tCorrect Validation Examples = 9886\n"
     ]
    },
    {
     "name": "stderr",
     "output_type": "stream",
     "text": [
      "100%|█████████████████████████████████████████████████████████████████████████████| 938/938 [00:15<00:00, 60.05it/s]\n",
      "100%|████████████████████████████████████████████████████████████████████████████| 313/313 [00:01<00:00, 157.44it/s]\n",
      "  1%|▌                                                                              | 6/938 [00:00<00:17, 53.57it/s]"
     ]
    },
    {
     "name": "stdout",
     "output_type": "stream",
     "text": [
      "Epoch = 29\tSum of Training loss = 2312.9804257005453\tCorrect Validation Examples = 9877\n"
     ]
    },
    {
     "name": "stderr",
     "output_type": "stream",
     "text": [
      "100%|█████████████████████████████████████████████████████████████████████████████| 938/938 [00:15<00:00, 61.71it/s]\n",
      "100%|████████████████████████████████████████████████████████████████████████████| 313/313 [00:01<00:00, 172.74it/s]\n",
      "  1%|▉                                                                             | 12/938 [00:00<00:15, 58.07it/s]"
     ]
    },
    {
     "name": "stdout",
     "output_type": "stream",
     "text": [
      "Epoch = 30\tSum of Training loss = 2204.946766681969\tCorrect Validation Examples = 9882\n"
     ]
    },
    {
     "name": "stderr",
     "output_type": "stream",
     "text": [
      "100%|█████████████████████████████████████████████████████████████████████████████| 938/938 [00:15<00:00, 59.60it/s]\n",
      "100%|████████████████████████████████████████████████████████████████████████████| 313/313 [00:01<00:00, 156.91it/s]\n",
      "  1%|▌                                                                              | 6/938 [00:00<00:16, 55.07it/s]"
     ]
    },
    {
     "name": "stdout",
     "output_type": "stream",
     "text": [
      "Epoch = 31\tSum of Training loss = 2186.548873282969\tCorrect Validation Examples = 9894\n"
     ]
    },
    {
     "name": "stderr",
     "output_type": "stream",
     "text": [
      "100%|█████████████████████████████████████████████████████████████████████████████| 938/938 [00:16<00:00, 55.55it/s]\n",
      "100%|████████████████████████████████████████████████████████████████████████████| 313/313 [00:01<00:00, 164.24it/s]\n",
      "  1%|▌                                                                              | 6/938 [00:00<00:17, 53.57it/s]"
     ]
    },
    {
     "name": "stdout",
     "output_type": "stream",
     "text": [
      "Epoch = 32\tSum of Training loss = 2135.4269941300154\tCorrect Validation Examples = 9885\n"
     ]
    },
    {
     "name": "stderr",
     "output_type": "stream",
     "text": [
      "100%|█████████████████████████████████████████████████████████████████████████████| 938/938 [00:15<00:00, 59.50it/s]\n",
      "100%|████████████████████████████████████████████████████████████████████████████| 313/313 [00:01<00:00, 167.56it/s]\n",
      "  1%|▌                                                                              | 6/938 [00:00<00:18, 51.73it/s]"
     ]
    },
    {
     "name": "stdout",
     "output_type": "stream",
     "text": [
      "Epoch = 33\tSum of Training loss = 2052.9670667126775\tCorrect Validation Examples = 9886\n"
     ]
    },
    {
     "name": "stderr",
     "output_type": "stream",
     "text": [
      "100%|█████████████████████████████████████████████████████████████████████████████| 938/938 [00:15<00:00, 61.00it/s]\n",
      "100%|████████████████████████████████████████████████████████████████████████████| 313/313 [00:01<00:00, 162.34it/s]\n",
      "  1%|▌                                                                              | 6/938 [00:00<00:16, 55.56it/s]"
     ]
    },
    {
     "name": "stdout",
     "output_type": "stream",
     "text": [
      "Epoch = 34\tSum of Training loss = 1986.1399119794369\tCorrect Validation Examples = 9883\n"
     ]
    },
    {
     "name": "stderr",
     "output_type": "stream",
     "text": [
      "100%|█████████████████████████████████████████████████████████████████████████████| 938/938 [00:15<00:00, 59.13it/s]\n",
      "100%|████████████████████████████████████████████████████████████████████████████| 313/313 [00:02<00:00, 152.83it/s]\n",
      "  1%|▌                                                                              | 6/938 [00:00<00:16, 55.56it/s]"
     ]
    },
    {
     "name": "stdout",
     "output_type": "stream",
     "text": [
      "Epoch = 35\tSum of Training loss = 1946.8071637526155\tCorrect Validation Examples = 9888\n"
     ]
    },
    {
     "name": "stderr",
     "output_type": "stream",
     "text": [
      "100%|█████████████████████████████████████████████████████████████████████████████| 938/938 [00:15<00:00, 58.79it/s]\n",
      "100%|████████████████████████████████████████████████████████████████████████████| 313/313 [00:01<00:00, 160.68it/s]\n",
      "  1%|▌                                                                              | 6/938 [00:00<00:18, 50.00it/s]"
     ]
    },
    {
     "name": "stdout",
     "output_type": "stream",
     "text": [
      "Epoch = 36\tSum of Training loss = 1901.2472503706813\tCorrect Validation Examples = 9893\n"
     ]
    },
    {
     "name": "stderr",
     "output_type": "stream",
     "text": [
      "100%|█████████████████████████████████████████████████████████████████████████████| 938/938 [00:15<00:00, 59.01it/s]\n",
      "100%|████████████████████████████████████████████████████████████████████████████| 313/313 [00:01<00:00, 170.48it/s]\n",
      "  1%|▌                                                                              | 6/938 [00:00<00:16, 55.57it/s]"
     ]
    },
    {
     "name": "stdout",
     "output_type": "stream",
     "text": [
      "Epoch = 37\tSum of Training loss = 1840.3439383730292\tCorrect Validation Examples = 9890\n"
     ]
    },
    {
     "name": "stderr",
     "output_type": "stream",
     "text": [
      "100%|█████████████████████████████████████████████████████████████████████████████| 938/938 [00:15<00:00, 60.62it/s]\n",
      "100%|████████████████████████████████████████████████████████████████████████████| 313/313 [00:01<00:00, 162.68it/s]\n",
      "  1%|▉                                                                             | 12/938 [00:00<00:16, 56.78it/s]"
     ]
    },
    {
     "name": "stdout",
     "output_type": "stream",
     "text": [
      "Epoch = 38\tSum of Training loss = 1791.0568594187498\tCorrect Validation Examples = 9887\n"
     ]
    },
    {
     "name": "stderr",
     "output_type": "stream",
     "text": [
      "100%|█████████████████████████████████████████████████████████████████████████████| 938/938 [00:15<00:00, 62.16it/s]\n",
      "100%|████████████████████████████████████████████████████████████████████████████| 313/313 [00:01<00:00, 173.12it/s]\n",
      "  1%|▌                                                                              | 6/938 [00:00<00:16, 57.71it/s]"
     ]
    },
    {
     "name": "stdout",
     "output_type": "stream",
     "text": [
      "Epoch = 39\tSum of Training loss = 1772.5129438862205\tCorrect Validation Examples = 9878\n"
     ]
    },
    {
     "name": "stderr",
     "output_type": "stream",
     "text": [
      "100%|█████████████████████████████████████████████████████████████████████████████| 938/938 [00:14<00:00, 62.57it/s]\n",
      "100%|████████████████████████████████████████████████████████████████████████████| 313/313 [00:01<00:00, 177.04it/s]\n",
      "  1%|▉                                                                             | 12/938 [00:00<00:15, 59.02it/s]"
     ]
    },
    {
     "name": "stdout",
     "output_type": "stream",
     "text": [
      "Epoch = 40\tSum of Training loss = 1711.3150417283177\tCorrect Validation Examples = 9889\n"
     ]
    },
    {
     "name": "stderr",
     "output_type": "stream",
     "text": [
      "100%|█████████████████████████████████████████████████████████████████████████████| 938/938 [00:14<00:00, 62.88it/s]\n",
      "100%|████████████████████████████████████████████████████████████████████████████| 313/313 [00:01<00:00, 175.45it/s]\n",
      "  1%|▌                                                                              | 6/938 [00:00<00:16, 57.71it/s]"
     ]
    },
    {
     "name": "stdout",
     "output_type": "stream",
     "text": [
      "Epoch = 41\tSum of Training loss = 1641.1491323113441\tCorrect Validation Examples = 9890\n"
     ]
    },
    {
     "name": "stderr",
     "output_type": "stream",
     "text": [
      "100%|█████████████████████████████████████████████████████████████████████████████| 938/938 [00:15<00:00, 61.52it/s]\n",
      "100%|████████████████████████████████████████████████████████████████████████████| 313/313 [00:02<00:00, 148.76it/s]\n",
      "  1%|▌                                                                              | 7/938 [00:00<00:15, 60.34it/s]"
     ]
    },
    {
     "name": "stdout",
     "output_type": "stream",
     "text": [
      "Epoch = 42\tSum of Training loss = 1643.1787118576467\tCorrect Validation Examples = 9896\n"
     ]
    },
    {
     "name": "stderr",
     "output_type": "stream",
     "text": [
      "100%|█████████████████████████████████████████████████████████████████████████████| 938/938 [00:15<00:00, 60.76it/s]\n",
      "100%|████████████████████████████████████████████████████████████████████████████| 313/313 [00:01<00:00, 174.25it/s]\n",
      "  1%|▌                                                                              | 6/938 [00:00<00:16, 57.69it/s]"
     ]
    },
    {
     "name": "stdout",
     "output_type": "stream",
     "text": [
      "Epoch = 43\tSum of Training loss = 1600.6961660981178\tCorrect Validation Examples = 9893\n"
     ]
    },
    {
     "name": "stderr",
     "output_type": "stream",
     "text": [
      "100%|█████████████████████████████████████████████████████████████████████████████| 938/938 [00:14<00:00, 63.29it/s]\n",
      "100%|████████████████████████████████████████████████████████████████████████████| 313/313 [00:01<00:00, 175.45it/s]\n",
      "  1%|▌                                                                              | 6/938 [00:00<00:16, 55.54it/s]"
     ]
    },
    {
     "name": "stdout",
     "output_type": "stream",
     "text": [
      "Epoch = 44\tSum of Training loss = 1541.7604066561908\tCorrect Validation Examples = 9895\n"
     ]
    },
    {
     "name": "stderr",
     "output_type": "stream",
     "text": [
      "100%|█████████████████████████████████████████████████████████████████████████████| 938/938 [00:15<00:00, 61.33it/s]\n",
      "100%|████████████████████████████████████████████████████████████████████████████| 313/313 [00:01<00:00, 164.39it/s]\n",
      "  1%|▌                                                                              | 6/938 [00:00<00:16, 55.56it/s]"
     ]
    },
    {
     "name": "stdout",
     "output_type": "stream",
     "text": [
      "Epoch = 45\tSum of Training loss = 1504.0481932330877\tCorrect Validation Examples = 9893\n"
     ]
    },
    {
     "name": "stderr",
     "output_type": "stream",
     "text": [
      "100%|█████████████████████████████████████████████████████████████████████████████| 938/938 [00:15<00:00, 61.30it/s]\n",
      "100%|████████████████████████████████████████████████████████████████████████████| 313/313 [00:01<00:00, 168.28it/s]\n",
      "  1%|▌                                                                              | 6/938 [00:00<00:16, 57.70it/s]"
     ]
    },
    {
     "name": "stdout",
     "output_type": "stream",
     "text": [
      "Epoch = 46\tSum of Training loss = 1447.809718105942\tCorrect Validation Examples = 9884\n"
     ]
    },
    {
     "name": "stderr",
     "output_type": "stream",
     "text": [
      "100%|█████████████████████████████████████████████████████████████████████████████| 938/938 [00:15<00:00, 60.59it/s]\n",
      "100%|████████████████████████████████████████████████████████████████████████████| 313/313 [00:01<00:00, 180.30it/s]\n",
      "  1%|▌                                                                              | 6/938 [00:00<00:16, 55.56it/s]"
     ]
    },
    {
     "name": "stdout",
     "output_type": "stream",
     "text": [
      "Epoch = 47\tSum of Training loss = 1434.3641012012959\tCorrect Validation Examples = 9901\n"
     ]
    },
    {
     "name": "stderr",
     "output_type": "stream",
     "text": [
      "100%|█████████████████████████████████████████████████████████████████████████████| 938/938 [00:15<00:00, 61.12it/s]\n",
      "100%|████████████████████████████████████████████████████████████████████████████| 313/313 [00:01<00:00, 176.53it/s]\n",
      "  1%|▌                                                                              | 6/938 [00:00<00:16, 57.69it/s]"
     ]
    },
    {
     "name": "stdout",
     "output_type": "stream",
     "text": [
      "Epoch = 48\tSum of Training loss = 1401.3168429806828\tCorrect Validation Examples = 9897\n"
     ]
    },
    {
     "name": "stderr",
     "output_type": "stream",
     "text": [
      "100%|█████████████████████████████████████████████████████████████████████████████| 938/938 [00:15<00:00, 60.92it/s]\n",
      "100%|████████████████████████████████████████████████████████████████████████████| 313/313 [00:01<00:00, 168.65it/s]\n",
      "  1%|▌                                                                              | 6/938 [00:00<00:17, 52.04it/s]"
     ]
    },
    {
     "name": "stdout",
     "output_type": "stream",
     "text": [
      "Epoch = 49\tSum of Training loss = 1339.2015202268958\tCorrect Validation Examples = 9899\n"
     ]
    },
    {
     "name": "stderr",
     "output_type": "stream",
     "text": [
      "100%|█████████████████████████████████████████████████████████████████████████████| 938/938 [00:15<00:00, 62.48it/s]\n",
      "100%|████████████████████████████████████████████████████████████████████████████| 313/313 [00:01<00:00, 170.48it/s]\n",
      "  1%|▌                                                                              | 6/938 [00:00<00:16, 55.54it/s]"
     ]
    },
    {
     "name": "stdout",
     "output_type": "stream",
     "text": [
      "Epoch = 50\tSum of Training loss = 1349.7896643355489\tCorrect Validation Examples = 9900\n"
     ]
    },
    {
     "name": "stderr",
     "output_type": "stream",
     "text": [
      "100%|█████████████████████████████████████████████████████████████████████████████| 938/938 [00:15<00:00, 62.09it/s]\n",
      "100%|████████████████████████████████████████████████████████████████████████████| 313/313 [00:01<00:00, 157.45it/s]\n",
      "  1%|▌                                                                              | 6/938 [00:00<00:18, 50.00it/s]"
     ]
    },
    {
     "name": "stdout",
     "output_type": "stream",
     "text": [
      "Epoch = 51\tSum of Training loss = 1332.334458168596\tCorrect Validation Examples = 9894\n"
     ]
    },
    {
     "name": "stderr",
     "output_type": "stream",
     "text": [
      "100%|█████████████████████████████████████████████████████████████████████████████| 938/938 [00:15<00:00, 61.79it/s]\n",
      "100%|████████████████████████████████████████████████████████████████████████████| 313/313 [00:01<00:00, 181.55it/s]\n",
      "  1%|▌                                                                              | 6/938 [00:00<00:16, 57.71it/s]"
     ]
    },
    {
     "name": "stdout",
     "output_type": "stream",
     "text": [
      "Epoch = 52\tSum of Training loss = 1309.8652646504343\tCorrect Validation Examples = 9892\n"
     ]
    },
    {
     "name": "stderr",
     "output_type": "stream",
     "text": [
      "100%|█████████████████████████████████████████████████████████████████████████████| 938/938 [00:15<00:00, 61.94it/s]\n",
      "100%|████████████████████████████████████████████████████████████████████████████| 313/313 [00:01<00:00, 181.56it/s]\n",
      "  1%|▌                                                                              | 6/938 [00:00<00:16, 55.55it/s]"
     ]
    },
    {
     "name": "stdout",
     "output_type": "stream",
     "text": [
      "Epoch = 53\tSum of Training loss = 1265.7838099449873\tCorrect Validation Examples = 9899\n"
     ]
    },
    {
     "name": "stderr",
     "output_type": "stream",
     "text": [
      "100%|█████████████████████████████████████████████████████████████████████████████| 938/938 [00:14<00:00, 62.94it/s]\n",
      "100%|████████████████████████████████████████████████████████████████████████████| 313/313 [00:01<00:00, 182.40it/s]\n",
      "  1%|▌                                                                              | 6/938 [00:00<00:16, 57.68it/s]"
     ]
    },
    {
     "name": "stdout",
     "output_type": "stream",
     "text": [
      "Epoch = 54\tSum of Training loss = 1220.6603598669171\tCorrect Validation Examples = 9898\n"
     ]
    },
    {
     "name": "stderr",
     "output_type": "stream",
     "text": [
      "100%|█████████████████████████████████████████████████████████████████████████████| 938/938 [00:14<00:00, 63.02it/s]\n",
      "100%|████████████████████████████████████████████████████████████████████████████| 313/313 [00:01<00:00, 179.06it/s]\n",
      "  1%|▌                                                                              | 6/938 [00:00<00:16, 57.69it/s]"
     ]
    },
    {
     "name": "stdout",
     "output_type": "stream",
     "text": [
      "Epoch = 55\tSum of Training loss = 1209.994992904365\tCorrect Validation Examples = 9900\n"
     ]
    },
    {
     "name": "stderr",
     "output_type": "stream",
     "text": [
      "100%|█████████████████████████████████████████████████████████████████████████████| 938/938 [00:15<00:00, 61.90it/s]\n",
      "100%|████████████████████████████████████████████████████████████████████████████| 313/313 [00:01<00:00, 179.06it/s]\n",
      "  1%|▌                                                                              | 6/938 [00:00<00:17, 53.57it/s]"
     ]
    },
    {
     "name": "stdout",
     "output_type": "stream",
     "text": [
      "Epoch = 56\tSum of Training loss = 1153.4837249554694\tCorrect Validation Examples = 9901\n"
     ]
    },
    {
     "name": "stderr",
     "output_type": "stream",
     "text": [
      "100%|█████████████████████████████████████████████████████████████████████████████| 938/938 [00:14<00:00, 62.56it/s]\n",
      "100%|████████████████████████████████████████████████████████████████████████████| 313/313 [00:01<00:00, 181.53it/s]\n",
      "  1%|▌                                                                              | 6/938 [00:00<00:16, 57.69it/s]"
     ]
    },
    {
     "name": "stdout",
     "output_type": "stream",
     "text": [
      "Epoch = 57\tSum of Training loss = 1124.3249031677842\tCorrect Validation Examples = 9894\n"
     ]
    },
    {
     "name": "stderr",
     "output_type": "stream",
     "text": [
      "100%|█████████████████████████████████████████████████████████████████████████████| 938/938 [00:15<00:00, 60.81it/s]\n",
      "100%|█████████████████████████████████████████████████████████████████████████████| 313/313 [00:35<00:00,  8.84it/s]\n",
      "  1%|▋                                                                              | 8/938 [00:00<00:12, 76.39it/s]"
     ]
    },
    {
     "name": "stdout",
     "output_type": "stream",
     "text": [
      "Epoch = 58\tSum of Training loss = 1111.2822373062372\tCorrect Validation Examples = 9899\n"
     ]
    },
    {
     "name": "stderr",
     "output_type": "stream",
     "text": [
      "100%|█████████████████████████████████████████████████████████████████████████████| 938/938 [00:10<00:00, 89.52it/s]\n",
      "100%|████████████████████████████████████████████████████████████████████████████| 313/313 [00:01<00:00, 248.29it/s]\n",
      "  1%|▊                                                                              | 9/938 [00:00<00:10, 88.46it/s]"
     ]
    },
    {
     "name": "stdout",
     "output_type": "stream",
     "text": [
      "Epoch = 59\tSum of Training loss = 1078.7267182134092\tCorrect Validation Examples = 9904\n"
     ]
    },
    {
     "name": "stderr",
     "output_type": "stream",
     "text": [
      "100%|█████████████████████████████████████████████████████████████████████████████| 938/938 [00:09<00:00, 96.48it/s]\n",
      "100%|████████████████████████████████████████████████████████████████████████████| 313/313 [00:01<00:00, 277.33it/s]\n",
      "  1%|▊                                                                             | 10/938 [00:00<00:10, 89.54it/s]"
     ]
    },
    {
     "name": "stdout",
     "output_type": "stream",
     "text": [
      "Epoch = 60\tSum of Training loss = 1090.4762477893382\tCorrect Validation Examples = 9904\n"
     ]
    },
    {
     "name": "stderr",
     "output_type": "stream",
     "text": [
      "100%|████████████████████████████████████████████████████████████████████████████| 938/938 [00:08<00:00, 107.83it/s]\n",
      "100%|████████████████████████████████████████████████████████████████████████████| 313/313 [00:01<00:00, 279.28it/s]\n",
      "  1%|▊                                                                             | 10/938 [00:00<00:10, 91.16it/s]"
     ]
    },
    {
     "name": "stdout",
     "output_type": "stream",
     "text": [
      "Epoch = 61\tSum of Training loss = 1070.844479702413\tCorrect Validation Examples = 9898\n"
     ]
    },
    {
     "name": "stderr",
     "output_type": "stream",
     "text": [
      "100%|████████████████████████████████████████████████████████████████████████████| 938/938 [00:09<00:00, 102.50it/s]\n",
      "100%|████████████████████████████████████████████████████████████████████████████| 313/313 [00:01<00:00, 260.24it/s]\n",
      "  1%|▊                                                                              | 9/938 [00:00<00:10, 88.46it/s]"
     ]
    },
    {
     "name": "stdout",
     "output_type": "stream",
     "text": [
      "Epoch = 62\tSum of Training loss = 1027.5403669904917\tCorrect Validation Examples = 9896\n"
     ]
    },
    {
     "name": "stderr",
     "output_type": "stream",
     "text": [
      "100%|████████████████████████████████████████████████████████████████████████████| 938/938 [00:09<00:00, 100.68it/s]\n",
      "100%|████████████████████████████████████████████████████████████████████████████| 313/313 [00:01<00:00, 270.62it/s]\n",
      "  1%|▊                                                                             | 10/938 [00:00<00:10, 91.99it/s]"
     ]
    },
    {
     "name": "stdout",
     "output_type": "stream",
     "text": [
      "Epoch = 63\tSum of Training loss = 1021.378204792738\tCorrect Validation Examples = 9895\n"
     ]
    },
    {
     "name": "stderr",
     "output_type": "stream",
     "text": [
      "100%|████████████████████████████████████████████████████████████████████████████| 938/938 [00:09<00:00, 103.48it/s]\n",
      "100%|████████████████████████████████████████████████████████████████████████████| 313/313 [00:01<00:00, 275.53it/s]\n",
      "  2%|█▋                                                                            | 20/938 [00:00<00:09, 97.68it/s]"
     ]
    },
    {
     "name": "stdout",
     "output_type": "stream",
     "text": [
      "Epoch = 64\tSum of Training loss = 1006.9984400998801\tCorrect Validation Examples = 9902\n"
     ]
    },
    {
     "name": "stderr",
     "output_type": "stream",
     "text": [
      "100%|████████████████████████████████████████████████████████████████████████████| 938/938 [00:08<00:00, 107.16it/s]\n",
      "100%|████████████████████████████████████████████████████████████████████████████| 313/313 [00:01<00:00, 269.71it/s]\n",
      "  1%|▊                                                                             | 10/938 [00:00<00:09, 96.41it/s]"
     ]
    },
    {
     "name": "stdout",
     "output_type": "stream",
     "text": [
      "Epoch = 65\tSum of Training loss = 926.5469100158662\tCorrect Validation Examples = 9902\n"
     ]
    },
    {
     "name": "stderr",
     "output_type": "stream",
     "text": [
      "100%|████████████████████████████████████████████████████████████████████████████| 938/938 [00:08<00:00, 107.68it/s]\n",
      "100%|████████████████████████████████████████████████████████████████████████████| 313/313 [00:01<00:00, 282.26it/s]\n",
      "  1%|▊                                                                             | 10/938 [00:00<00:09, 98.30it/s]"
     ]
    },
    {
     "name": "stdout",
     "output_type": "stream",
     "text": [
      "Epoch = 66\tSum of Training loss = 970.4965632036328\tCorrect Validation Examples = 9898\n"
     ]
    },
    {
     "name": "stderr",
     "output_type": "stream",
     "text": [
      "100%|████████████████████████████████████████████████████████████████████████████| 938/938 [00:08<00:00, 107.36it/s]\n",
      "100%|████████████████████████████████████████████████████████████████████████████| 313/313 [00:01<00:00, 280.46it/s]\n",
      "  1%|▊                                                                             | 10/938 [00:00<00:09, 96.41it/s]"
     ]
    },
    {
     "name": "stdout",
     "output_type": "stream",
     "text": [
      "Epoch = 67\tSum of Training loss = 931.8913536667824\tCorrect Validation Examples = 9906\n"
     ]
    },
    {
     "name": "stderr",
     "output_type": "stream",
     "text": [
      "100%|████████████████████████████████████████████████████████████████████████████| 938/938 [00:08<00:00, 107.09it/s]\n",
      "100%|████████████████████████████████████████████████████████████████████████████| 313/313 [00:01<00:00, 275.24it/s]\n",
      "  1%|▊                                                                             | 10/938 [00:00<00:10, 88.73it/s]"
     ]
    },
    {
     "name": "stdout",
     "output_type": "stream",
     "text": [
      "Epoch = 68\tSum of Training loss = 869.1128637837246\tCorrect Validation Examples = 9900\n"
     ]
    },
    {
     "name": "stderr",
     "output_type": "stream",
     "text": [
      "100%|████████████████████████████████████████████████████████████████████████████| 938/938 [00:08<00:00, 108.32it/s]\n",
      "100%|████████████████████████████████████████████████████████████████████████████| 313/313 [00:01<00:00, 272.19it/s]\n",
      "  1%|▊                                                                             | 10/938 [00:00<00:09, 93.71it/s]"
     ]
    },
    {
     "name": "stdout",
     "output_type": "stream",
     "text": [
      "Epoch = 69\tSum of Training loss = 902.914366915822\tCorrect Validation Examples = 9903\n"
     ]
    },
    {
     "name": "stderr",
     "output_type": "stream",
     "text": [
      "100%|████████████████████████████████████████████████████████████████████████████| 938/938 [00:08<00:00, 107.48it/s]\n",
      "100%|████████████████████████████████████████████████████████████████████████████| 313/313 [00:01<00:00, 274.76it/s]\n",
      "  1%|▊                                                                             | 10/938 [00:00<00:09, 97.35it/s]"
     ]
    },
    {
     "name": "stdout",
     "output_type": "stream",
     "text": [
      "Epoch = 70\tSum of Training loss = 881.5360441822559\tCorrect Validation Examples = 9909\n"
     ]
    },
    {
     "name": "stderr",
     "output_type": "stream",
     "text": [
      "100%|████████████████████████████████████████████████████████████████████████████| 938/938 [00:08<00:00, 106.78it/s]\n",
      "100%|████████████████████████████████████████████████████████████████████████████| 313/313 [00:01<00:00, 272.98it/s]\n",
      "  1%|▉                                                                             | 11/938 [00:00<00:09, 98.50it/s]"
     ]
    },
    {
     "name": "stdout",
     "output_type": "stream",
     "text": [
      "Epoch = 71\tSum of Training loss = 865.9833189249039\tCorrect Validation Examples = 9900\n"
     ]
    },
    {
     "name": "stderr",
     "output_type": "stream",
     "text": [
      "100%|████████████████████████████████████████████████████████████████████████████| 938/938 [00:08<00:00, 107.08it/s]\n",
      "100%|████████████████████████████████████████████████████████████████████████████| 313/313 [00:01<00:00, 251.07it/s]\n",
      "  1%|▊                                                                              | 9/938 [00:00<00:11, 82.04it/s]"
     ]
    },
    {
     "name": "stdout",
     "output_type": "stream",
     "text": [
      "Epoch = 72\tSum of Training loss = 854.0639626421034\tCorrect Validation Examples = 9902\n"
     ]
    },
    {
     "name": "stderr",
     "output_type": "stream",
     "text": [
      "100%|████████████████████████████████████████████████████████████████████████████| 938/938 [00:08<00:00, 106.55it/s]\n",
      "100%|████████████████████████████████████████████████████████████████████████████| 313/313 [00:01<00:00, 279.51it/s]\n",
      "  1%|▊                                                                             | 10/938 [00:00<00:09, 97.35it/s]"
     ]
    },
    {
     "name": "stdout",
     "output_type": "stream",
     "text": [
      "Epoch = 73\tSum of Training loss = 835.2740982286632\tCorrect Validation Examples = 9893\n"
     ]
    },
    {
     "name": "stderr",
     "output_type": "stream",
     "text": [
      "100%|████████████████████████████████████████████████████████████████████████████| 938/938 [00:08<00:00, 107.76it/s]\n",
      "100%|████████████████████████████████████████████████████████████████████████████| 313/313 [00:01<00:00, 273.46it/s]\n",
      "  1%|▉                                                                            | 11/938 [00:00<00:09, 101.22it/s]"
     ]
    },
    {
     "name": "stdout",
     "output_type": "stream",
     "text": [
      "Epoch = 74\tSum of Training loss = 814.2163631850854\tCorrect Validation Examples = 9902\n"
     ]
    },
    {
     "name": "stderr",
     "output_type": "stream",
     "text": [
      "100%|████████████████████████████████████████████████████████████████████████████| 938/938 [00:08<00:00, 106.46it/s]\n",
      "100%|████████████████████████████████████████████████████████████████████████████| 313/313 [00:01<00:00, 271.00it/s]\n",
      "  1%|▊                                                                              | 9/938 [00:00<00:10, 85.94it/s]"
     ]
    },
    {
     "name": "stdout",
     "output_type": "stream",
     "text": [
      "Epoch = 75\tSum of Training loss = 776.7454563630745\tCorrect Validation Examples = 9899\n"
     ]
    },
    {
     "name": "stderr",
     "output_type": "stream",
     "text": [
      "100%|████████████████████████████████████████████████████████████████████████████| 938/938 [00:08<00:00, 104.58it/s]\n",
      "100%|████████████████████████████████████████████████████████████████████████████| 313/313 [00:01<00:00, 269.27it/s]\n",
      "  1%|▊                                                                             | 10/938 [00:00<00:09, 95.49it/s]"
     ]
    },
    {
     "name": "stdout",
     "output_type": "stream",
     "text": [
      "Epoch = 76\tSum of Training loss = 764.871977519244\tCorrect Validation Examples = 9911\n"
     ]
    },
    {
     "name": "stderr",
     "output_type": "stream",
     "text": [
      "100%|████████████████████████████████████████████████████████████████████████████| 938/938 [00:08<00:00, 104.26it/s]\n",
      "100%|████████████████████████████████████████████████████████████████████████████| 313/313 [00:01<00:00, 263.94it/s]\n",
      "  1%|▊                                                                             | 10/938 [00:00<00:10, 91.15it/s]"
     ]
    },
    {
     "name": "stdout",
     "output_type": "stream",
     "text": [
      "Epoch = 77\tSum of Training loss = 769.8877314040437\tCorrect Validation Examples = 9897\n"
     ]
    },
    {
     "name": "stderr",
     "output_type": "stream",
     "text": [
      "100%|████████████████████████████████████████████████████████████████████████████| 938/938 [00:08<00:00, 107.88it/s]\n",
      "100%|████████████████████████████████████████████████████████████████████████████| 313/313 [00:01<00:00, 282.23it/s]\n",
      "  2%|█▋                                                                           | 21/938 [00:00<00:09, 101.49it/s]"
     ]
    },
    {
     "name": "stdout",
     "output_type": "stream",
     "text": [
      "Epoch = 78\tSum of Training loss = 759.2628625482321\tCorrect Validation Examples = 9897\n"
     ]
    },
    {
     "name": "stderr",
     "output_type": "stream",
     "text": [
      "100%|████████████████████████████████████████████████████████████████████████████| 938/938 [00:08<00:00, 108.93it/s]\n",
      "100%|████████████████████████████████████████████████████████████████████████████| 313/313 [00:01<00:00, 272.04it/s]\n",
      "  1%|▉                                                                            | 11/938 [00:00<00:09, 100.27it/s]"
     ]
    },
    {
     "name": "stdout",
     "output_type": "stream",
     "text": [
      "Epoch = 79\tSum of Training loss = 692.0092693590559\tCorrect Validation Examples = 9910\n"
     ]
    },
    {
     "name": "stderr",
     "output_type": "stream",
     "text": [
      "100%|████████████████████████████████████████████████████████████████████████████| 938/938 [00:08<00:00, 105.84it/s]\n",
      "100%|████████████████████████████████████████████████████████████████████████████| 313/313 [00:01<00:00, 269.76it/s]\n",
      "  1%|▊                                                                             | 10/938 [00:00<00:09, 96.38it/s]"
     ]
    },
    {
     "name": "stdout",
     "output_type": "stream",
     "text": [
      "Epoch = 80\tSum of Training loss = 667.4783783303574\tCorrect Validation Examples = 9902\n"
     ]
    },
    {
     "name": "stderr",
     "output_type": "stream",
     "text": [
      "100%|████████████████████████████████████████████████████████████████████████████| 938/938 [00:09<00:00, 102.63it/s]\n",
      "100%|████████████████████████████████████████████████████████████████████████████| 313/313 [00:01<00:00, 282.89it/s]\n",
      "  1%|▊                                                                              | 9/938 [00:00<00:10, 89.35it/s]"
     ]
    },
    {
     "name": "stdout",
     "output_type": "stream",
     "text": [
      "Epoch = 81\tSum of Training loss = 682.8157765292563\tCorrect Validation Examples = 9897\n"
     ]
    },
    {
     "name": "stderr",
     "output_type": "stream",
     "text": [
      "100%|████████████████████████████████████████████████████████████████████████████| 938/938 [00:09<00:00, 103.77it/s]\n",
      "100%|████████████████████████████████████████████████████████████████████████████| 313/313 [00:01<00:00, 270.92it/s]\n",
      "  1%|▊                                                                             | 10/938 [00:00<00:09, 93.71it/s]"
     ]
    },
    {
     "name": "stdout",
     "output_type": "stream",
     "text": [
      "Epoch = 82\tSum of Training loss = 678.5334337409586\tCorrect Validation Examples = 9904\n"
     ]
    },
    {
     "name": "stderr",
     "output_type": "stream",
     "text": [
      "100%|████████████████████████████████████████████████████████████████████████████| 938/938 [00:08<00:00, 105.03it/s]\n",
      "100%|████████████████████████████████████████████████████████████████████████████| 313/313 [00:01<00:00, 260.13it/s]\n",
      "  1%|▊                                                                             | 10/938 [00:00<00:09, 93.70it/s]"
     ]
    },
    {
     "name": "stdout",
     "output_type": "stream",
     "text": [
      "Epoch = 83\tSum of Training loss = 635.813932005316\tCorrect Validation Examples = 9908\n"
     ]
    },
    {
     "name": "stderr",
     "output_type": "stream",
     "text": [
      "100%|████████████████████████████████████████████████████████████████████████████| 938/938 [00:09<00:00, 101.84it/s]\n",
      "100%|████████████████████████████████████████████████████████████████████████████| 313/313 [00:01<00:00, 278.78it/s]\n",
      "  1%|▊                                                                             | 10/938 [00:00<00:09, 94.61it/s]"
     ]
    },
    {
     "name": "stdout",
     "output_type": "stream",
     "text": [
      "Epoch = 84\tSum of Training loss = 652.7852406245656\tCorrect Validation Examples = 9905\n"
     ]
    },
    {
     "name": "stderr",
     "output_type": "stream",
     "text": [
      "100%|████████████████████████████████████████████████████████████████████████████| 938/938 [00:08<00:00, 107.11it/s]\n",
      "100%|████████████████████████████████████████████████████████████████████████████| 313/313 [00:01<00:00, 273.38it/s]\n",
      "  1%|▊                                                                             | 10/938 [00:00<00:09, 94.59it/s]"
     ]
    },
    {
     "name": "stdout",
     "output_type": "stream",
     "text": [
      "Epoch = 85\tSum of Training loss = 648.3933730069548\tCorrect Validation Examples = 9911\n"
     ]
    },
    {
     "name": "stderr",
     "output_type": "stream",
     "text": [
      "100%|████████████████████████████████████████████████████████████████████████████| 938/938 [00:08<00:00, 104.25it/s]\n",
      "100%|████████████████████████████████████████████████████████████████████████████| 313/313 [00:01<00:00, 262.46it/s]\n",
      "  1%|▊                                                                             | 10/938 [00:00<00:09, 92.84it/s]"
     ]
    },
    {
     "name": "stdout",
     "output_type": "stream",
     "text": [
      "Epoch = 86\tSum of Training loss = 635.8613512981683\tCorrect Validation Examples = 9897\n"
     ]
    },
    {
     "name": "stderr",
     "output_type": "stream",
     "text": [
      "100%|████████████████████████████████████████████████████████████████████████████| 938/938 [00:09<00:00, 102.37it/s]\n",
      "100%|████████████████████████████████████████████████████████████████████████████| 313/313 [00:01<00:00, 262.41it/s]\n",
      "  1%|▊                                                                             | 10/938 [00:00<00:09, 93.71it/s]"
     ]
    },
    {
     "name": "stdout",
     "output_type": "stream",
     "text": [
      "Epoch = 87\tSum of Training loss = 618.5091289924458\tCorrect Validation Examples = 9903\n"
     ]
    },
    {
     "name": "stderr",
     "output_type": "stream",
     "text": [
      "100%|████████████████████████████████████████████████████████████████████████████| 938/938 [00:08<00:00, 105.23it/s]\n",
      "100%|████████████████████████████████████████████████████████████████████████████| 313/313 [00:01<00:00, 276.74it/s]\n",
      "  1%|▊                                                                             | 10/938 [00:00<00:09, 92.84it/s]"
     ]
    },
    {
     "name": "stdout",
     "output_type": "stream",
     "text": [
      "Epoch = 88\tSum of Training loss = 627.1896759551018\tCorrect Validation Examples = 9901\n"
     ]
    },
    {
     "name": "stderr",
     "output_type": "stream",
     "text": [
      "100%|████████████████████████████████████████████████████████████████████████████| 938/938 [00:08<00:00, 107.37it/s]\n",
      "100%|████████████████████████████████████████████████████████████████████████████| 313/313 [00:01<00:00, 285.05it/s]\n",
      "  1%|▊                                                                             | 10/938 [00:00<00:09, 96.41it/s]"
     ]
    },
    {
     "name": "stdout",
     "output_type": "stream",
     "text": [
      "Epoch = 89\tSum of Training loss = 628.8413677583449\tCorrect Validation Examples = 9902\n"
     ]
    },
    {
     "name": "stderr",
     "output_type": "stream",
     "text": [
      "100%|████████████████████████████████████████████████████████████████████████████| 938/938 [00:08<00:00, 109.88it/s]\n",
      "100%|████████████████████████████████████████████████████████████████████████████| 313/313 [00:01<00:00, 280.45it/s]\n",
      "  1%|▊                                                                             | 10/938 [00:00<00:09, 98.30it/s]"
     ]
    },
    {
     "name": "stdout",
     "output_type": "stream",
     "text": [
      "Epoch = 90\tSum of Training loss = 598.2538675197866\tCorrect Validation Examples = 9902\n"
     ]
    },
    {
     "name": "stderr",
     "output_type": "stream",
     "text": [
      "100%|████████████████████████████████████████████████████████████████████████████| 938/938 [00:08<00:00, 104.82it/s]\n",
      "100%|████████████████████████████████████████████████████████████████████████████| 313/313 [00:01<00:00, 256.99it/s]\n",
      "  1%|▊                                                                             | 10/938 [00:00<00:09, 93.72it/s]"
     ]
    },
    {
     "name": "stdout",
     "output_type": "stream",
     "text": [
      "Epoch = 91\tSum of Training loss = 558.1219270280562\tCorrect Validation Examples = 9902\n"
     ]
    },
    {
     "name": "stderr",
     "output_type": "stream",
     "text": [
      "100%|████████████████████████████████████████████████████████████████████████████| 938/938 [00:08<00:00, 104.78it/s]\n",
      "100%|████████████████████████████████████████████████████████████████████████████| 313/313 [00:01<00:00, 264.87it/s]\n",
      "  1%|▊                                                                             | 10/938 [00:00<00:09, 97.35it/s]"
     ]
    },
    {
     "name": "stdout",
     "output_type": "stream",
     "text": [
      "Epoch = 92\tSum of Training loss = 588.6499595560599\tCorrect Validation Examples = 9904\n"
     ]
    },
    {
     "name": "stderr",
     "output_type": "stream",
     "text": [
      "100%|████████████████████████████████████████████████████████████████████████████| 938/938 [00:09<00:00, 103.07it/s]\n",
      "100%|████████████████████████████████████████████████████████████████████████████| 313/313 [00:01<00:00, 260.66it/s]\n",
      "  1%|▉                                                                            | 11/938 [00:00<00:09, 100.27it/s]"
     ]
    },
    {
     "name": "stdout",
     "output_type": "stream",
     "text": [
      "Epoch = 93\tSum of Training loss = 568.0322104888037\tCorrect Validation Examples = 9906\n"
     ]
    },
    {
     "name": "stderr",
     "output_type": "stream",
     "text": [
      "100%|████████████████████████████████████████████████████████████████████████████| 938/938 [00:08<00:00, 105.53it/s]\n",
      "100%|████████████████████████████████████████████████████████████████████████████| 313/313 [00:01<00:00, 268.00it/s]\n",
      "  1%|▊                                                                             | 10/938 [00:00<00:09, 97.35it/s]"
     ]
    },
    {
     "name": "stdout",
     "output_type": "stream",
     "text": [
      "Epoch = 94\tSum of Training loss = 559.9980060523376\tCorrect Validation Examples = 9900\n"
     ]
    },
    {
     "name": "stderr",
     "output_type": "stream",
     "text": [
      "100%|████████████████████████████████████████████████████████████████████████████| 938/938 [00:08<00:00, 104.94it/s]\n",
      "100%|████████████████████████████████████████████████████████████████████████████| 313/313 [00:01<00:00, 276.99it/s]\n",
      "  1%|▊                                                                             | 10/938 [00:00<00:09, 97.37it/s]"
     ]
    },
    {
     "name": "stdout",
     "output_type": "stream",
     "text": [
      "Epoch = 95\tSum of Training loss = 555.6914976416156\tCorrect Validation Examples = 9898\n"
     ]
    },
    {
     "name": "stderr",
     "output_type": "stream",
     "text": [
      "100%|████████████████████████████████████████████████████████████████████████████| 938/938 [00:08<00:00, 104.63it/s]\n",
      "100%|████████████████████████████████████████████████████████████████████████████| 313/313 [00:01<00:00, 264.84it/s]\n",
      "  1%|▊                                                                             | 10/938 [00:00<00:09, 94.59it/s]"
     ]
    },
    {
     "name": "stdout",
     "output_type": "stream",
     "text": [
      "Epoch = 96\tSum of Training loss = 518.6307246470824\tCorrect Validation Examples = 9906\n"
     ]
    },
    {
     "name": "stderr",
     "output_type": "stream",
     "text": [
      "100%|████████████████████████████████████████████████████████████████████████████| 938/938 [00:09<00:00, 104.02it/s]\n",
      "100%|████████████████████████████████████████████████████████████████████████████| 313/313 [00:01<00:00, 268.95it/s]\n",
      "  1%|▊                                                                             | 10/938 [00:00<00:09, 97.35it/s]"
     ]
    },
    {
     "name": "stdout",
     "output_type": "stream",
     "text": [
      "Epoch = 97\tSum of Training loss = 501.6273494618945\tCorrect Validation Examples = 9903\n"
     ]
    },
    {
     "name": "stderr",
     "output_type": "stream",
     "text": [
      "100%|████████████████████████████████████████████████████████████████████████████| 938/938 [00:08<00:00, 105.09it/s]\n",
      "100%|████████████████████████████████████████████████████████████████████████████| 313/313 [00:01<00:00, 254.07it/s]\n",
      "  1%|▊                                                                             | 10/938 [00:00<00:09, 98.31it/s]"
     ]
    },
    {
     "name": "stdout",
     "output_type": "stream",
     "text": [
      "Epoch = 98\tSum of Training loss = 526.5389870218933\tCorrect Validation Examples = 9910\n"
     ]
    },
    {
     "name": "stderr",
     "output_type": "stream",
     "text": [
      "100%|████████████████████████████████████████████████████████████████████████████| 938/938 [00:08<00:00, 107.12it/s]\n",
      "100%|████████████████████████████████████████████████████████████████████████████| 313/313 [00:01<00:00, 253.83it/s]\n",
      "  1%|▊                                                                              | 9/938 [00:00<00:10, 85.94it/s]"
     ]
    },
    {
     "name": "stdout",
     "output_type": "stream",
     "text": [
      "Epoch = 99\tSum of Training loss = 476.5848149652593\tCorrect Validation Examples = 9900\n"
     ]
    },
    {
     "name": "stderr",
     "output_type": "stream",
     "text": [
      "100%|████████████████████████████████████████████████████████████████████████████| 938/938 [00:09<00:00, 103.41it/s]\n",
      "100%|████████████████████████████████████████████████████████████████████████████| 313/313 [00:01<00:00, 268.91it/s]\n"
     ]
    },
    {
     "name": "stdout",
     "output_type": "stream",
     "text": [
      "Epoch = 100\tSum of Training loss = 494.11150859622285\tCorrect Validation Examples = 9901\n"
     ]
    },
    {
     "data": {
      "text/plain": [
       "<Figure size 1152x360 with 0 Axes>"
      ]
     },
     "metadata": {},
     "output_type": "display_data"
    }
   ],
   "source": [
    "model=CNN(dropout=False).to(device)\n",
    "optimizer = optim.SGD(model.parameters(), lr=1e-4)\n",
    "train_loss_array=[]\n",
    "valid_acc_array=[]\n",
    "for epoch in range(epochs):\n",
    "    \n",
    "    #Traning \n",
    "    train_loss=0\n",
    "    for data in tqdm(trainloader):\n",
    "        images,labels=data\n",
    "        images=images.to(device)\n",
    "        labels=labels.to(device)\n",
    "        optimizer.zero_grad()\n",
    "        output=model(images)\n",
    "        loss = criterion(output, labels)\n",
    "        loss.backward()\n",
    "        optimizer.step()\n",
    "        train_loss += loss.item()\n",
    "    train_loss_array.append(train_loss)\n",
    "    \n",
    "    \n",
    "    #validation\n",
    "    correct=0\n",
    "    model.eval()\n",
    "    with torch.no_grad():\n",
    "        for data in tqdm(testloader):\n",
    "            images,labels=data\n",
    "            images=images.to(device)\n",
    "            labels=labels.to(device)\n",
    "            output=model(images)\n",
    "            _,pred=torch.max(output.data,1)\n",
    "            correct+=(pred == labels).sum().item()\n",
    "    valid_acc_array.append(correct)\n",
    "    model.train()\n",
    "    print(f\"Epoch = {epoch+1}\\tSum of Training loss = {train_loss}\\tCorrect Validation Examples = {correct}\")\n",
    "    \n",
    "fig,ax=plt.subplots(1,2,figsize=(16,5))\n",
    "ax[0].plot(np.arange(1,epochs+1),train_loss_array)\n",
    "ax[0].set(ylabel=\"Summed Training loss\",xlabel=\"Epochs\")\n",
    "ax[1].plot(np.arange(1,epochs+1),np.array(valid_acc_array)/len(testset)*100)\n",
    "ax[1].set(ylabel=\"Validation Accuracy\",xlabel=\"Epochs\")\n",
    "plt.savefig(\"SGD.png\",dpi=500)\n",
    "plt.clf()"
   ]
  },
  {
   "cell_type": "code",
   "execution_count": 8,
   "id": "negative-nancy",
   "metadata": {},
   "outputs": [
    {
     "name": "stdout",
     "output_type": "stream",
     "text": [
      "Maximum Accuracy achieved = 99.11\n"
     ]
    }
   ],
   "source": [
    "print(f'Maximum Accuracy achieved = {max(valid_acc_array)/len(testset)*100}')\n",
    "all_losses.append(train_loss_array)"
   ]
  },
  {
   "cell_type": "markdown",
   "id": "prospective-conference",
   "metadata": {},
   "source": [
    "## SGD without Regularization and with Dropout"
   ]
  },
  {
   "cell_type": "code",
   "execution_count": 9,
   "id": "neural-requirement",
   "metadata": {},
   "outputs": [
    {
     "name": "stderr",
     "output_type": "stream",
     "text": [
      "100%|████████████████████████████████████████████████████████████████████████████| 938/938 [00:09<00:00, 102.89it/s]\n",
      "100%|████████████████████████████████████████████████████████████████████████████| 313/313 [00:01<00:00, 263.37it/s]\n",
      "  2%|█▋                                                                            | 20/938 [00:00<00:09, 96.52it/s]"
     ]
    },
    {
     "name": "stdout",
     "output_type": "stream",
     "text": [
      "Epoch = 1\tSum of Training loss = 74766.29827022552\tCorrect Validation Examples = 8945\n"
     ]
    },
    {
     "name": "stderr",
     "output_type": "stream",
     "text": [
      "100%|████████████████████████████████████████████████████████████████████████████| 938/938 [00:09<00:00, 101.19it/s]\n",
      "100%|████████████████████████████████████████████████████████████████████████████| 313/313 [00:01<00:00, 246.73it/s]\n",
      "  1%|▊                                                                             | 10/938 [00:00<00:10, 91.99it/s]"
     ]
    },
    {
     "name": "stdout",
     "output_type": "stream",
     "text": [
      "Epoch = 2\tSum of Training loss = 20481.24946975708\tCorrect Validation Examples = 9275\n"
     ]
    },
    {
     "name": "stderr",
     "output_type": "stream",
     "text": [
      "100%|████████████████████████████████████████████████████████████████████████████| 938/938 [00:09<00:00, 103.73it/s]\n",
      "100%|████████████████████████████████████████████████████████████████████████████| 313/313 [00:01<00:00, 265.51it/s]\n",
      "  1%|▊                                                                              | 9/938 [00:00<00:10, 89.35it/s]"
     ]
    },
    {
     "name": "stdout",
     "output_type": "stream",
     "text": [
      "Epoch = 3\tSum of Training loss = 14524.1700797081\tCorrect Validation Examples = 9428\n"
     ]
    },
    {
     "name": "stderr",
     "output_type": "stream",
     "text": [
      "100%|████████████████████████████████████████████████████████████████████████████| 938/938 [00:09<00:00, 103.03it/s]\n",
      "100%|████████████████████████████████████████████████████████████████████████████| 313/313 [00:01<00:00, 254.01it/s]\n",
      "  1%|▊                                                                             | 10/938 [00:00<00:09, 93.71it/s]"
     ]
    },
    {
     "name": "stdout",
     "output_type": "stream",
     "text": [
      "Epoch = 4\tSum of Training loss = 11143.917868614197\tCorrect Validation Examples = 9568\n"
     ]
    },
    {
     "name": "stderr",
     "output_type": "stream",
     "text": [
      "100%|████████████████████████████████████████████████████████████████████████████| 938/938 [00:09<00:00, 103.12it/s]\n",
      "100%|████████████████████████████████████████████████████████████████████████████| 313/313 [00:01<00:00, 272.34it/s]\n",
      "  1%|▊                                                                             | 10/938 [00:00<00:09, 95.49it/s]"
     ]
    },
    {
     "name": "stdout",
     "output_type": "stream",
     "text": [
      "Epoch = 5\tSum of Training loss = 9052.390028357506\tCorrect Validation Examples = 9665\n"
     ]
    },
    {
     "name": "stderr",
     "output_type": "stream",
     "text": [
      "100%|████████████████████████████████████████████████████████████████████████████| 938/938 [00:08<00:00, 106.27it/s]\n",
      "100%|████████████████████████████████████████████████████████████████████████████| 313/313 [00:01<00:00, 252.19it/s]\n",
      "  1%|▋                                                                              | 8/938 [00:00<00:11, 79.42it/s]"
     ]
    },
    {
     "name": "stdout",
     "output_type": "stream",
     "text": [
      "Epoch = 6\tSum of Training loss = 7738.441807627678\tCorrect Validation Examples = 9675\n"
     ]
    },
    {
     "name": "stderr",
     "output_type": "stream",
     "text": [
      "100%|████████████████████████████████████████████████████████████████████████████| 938/938 [00:08<00:00, 106.90it/s]\n",
      "100%|████████████████████████████████████████████████████████████████████████████| 313/313 [00:01<00:00, 275.52it/s]\n",
      "  2%|█▋                                                                           | 21/938 [00:00<00:09, 100.03it/s]"
     ]
    },
    {
     "name": "stdout",
     "output_type": "stream",
     "text": [
      "Epoch = 7\tSum of Training loss = 6725.874166786671\tCorrect Validation Examples = 9725\n"
     ]
    },
    {
     "name": "stderr",
     "output_type": "stream",
     "text": [
      "100%|████████████████████████████████████████████████████████████████████████████| 938/938 [00:08<00:00, 105.92it/s]\n",
      "100%|████████████████████████████████████████████████████████████████████████████| 313/313 [00:01<00:00, 281.85it/s]\n",
      "  1%|▊                                                                              | 9/938 [00:00<00:10, 88.48it/s]"
     ]
    },
    {
     "name": "stdout",
     "output_type": "stream",
     "text": [
      "Epoch = 8\tSum of Training loss = 6093.7593803703785\tCorrect Validation Examples = 9741\n"
     ]
    },
    {
     "name": "stderr",
     "output_type": "stream",
     "text": [
      "100%|████████████████████████████████████████████████████████████████████████████| 938/938 [00:08<00:00, 107.03it/s]\n",
      "100%|████████████████████████████████████████████████████████████████████████████| 313/313 [00:01<00:00, 260.30it/s]\n",
      "  1%|▊                                                                             | 10/938 [00:00<00:09, 95.46it/s]"
     ]
    },
    {
     "name": "stdout",
     "output_type": "stream",
     "text": [
      "Epoch = 9\tSum of Training loss = 5564.8590295910835\tCorrect Validation Examples = 9760\n"
     ]
    },
    {
     "name": "stderr",
     "output_type": "stream",
     "text": [
      "100%|████████████████████████████████████████████████████████████████████████████| 938/938 [00:09<00:00, 102.14it/s]\n",
      "100%|████████████████████████████████████████████████████████████████████████████| 313/313 [00:01<00:00, 270.78it/s]\n",
      "  1%|▊                                                                             | 10/938 [00:00<00:09, 98.30it/s]"
     ]
    },
    {
     "name": "stdout",
     "output_type": "stream",
     "text": [
      "Epoch = 10\tSum of Training loss = 5122.92390114069\tCorrect Validation Examples = 9785\n"
     ]
    },
    {
     "name": "stderr",
     "output_type": "stream",
     "text": [
      "100%|████████████████████████████████████████████████████████████████████████████| 938/938 [00:08<00:00, 107.64it/s]\n",
      "100%|████████████████████████████████████████████████████████████████████████████| 313/313 [00:01<00:00, 270.07it/s]\n",
      "  2%|█▋                                                                            | 20/938 [00:00<00:09, 96.95it/s]"
     ]
    },
    {
     "name": "stdout",
     "output_type": "stream",
     "text": [
      "Epoch = 11\tSum of Training loss = 4754.099829137325\tCorrect Validation Examples = 9786\n"
     ]
    },
    {
     "name": "stderr",
     "output_type": "stream",
     "text": [
      "100%|████████████████████████████████████████████████████████████████████████████| 938/938 [00:08<00:00, 106.60it/s]\n",
      "100%|████████████████████████████████████████████████████████████████████████████| 313/313 [00:01<00:00, 278.84it/s]\n",
      "  1%|▊                                                                             | 10/938 [00:00<00:09, 96.41it/s]"
     ]
    },
    {
     "name": "stdout",
     "output_type": "stream",
     "text": [
      "Epoch = 12\tSum of Training loss = 4542.257907897234\tCorrect Validation Examples = 9808\n"
     ]
    },
    {
     "name": "stderr",
     "output_type": "stream",
     "text": [
      "100%|████████████████████████████████████████████████████████████████████████████| 938/938 [00:08<00:00, 105.56it/s]\n",
      "100%|████████████████████████████████████████████████████████████████████████████| 313/313 [00:01<00:00, 265.29it/s]\n",
      "  1%|▉                                                                            | 11/938 [00:00<00:09, 100.27it/s]"
     ]
    },
    {
     "name": "stdout",
     "output_type": "stream",
     "text": [
      "Epoch = 13\tSum of Training loss = 4232.793093830347\tCorrect Validation Examples = 9807\n"
     ]
    },
    {
     "name": "stderr",
     "output_type": "stream",
     "text": [
      "100%|████████████████████████████████████████████████████████████████████████████| 938/938 [00:08<00:00, 106.68it/s]\n",
      "100%|████████████████████████████████████████████████████████████████████████████| 313/313 [00:01<00:00, 269.39it/s]\n",
      "  1%|▊                                                                             | 10/938 [00:00<00:09, 95.49it/s]"
     ]
    },
    {
     "name": "stdout",
     "output_type": "stream",
     "text": [
      "Epoch = 14\tSum of Training loss = 4007.0832735449076\tCorrect Validation Examples = 9822\n"
     ]
    },
    {
     "name": "stderr",
     "output_type": "stream",
     "text": [
      "100%|████████████████████████████████████████████████████████████████████████████| 938/938 [00:09<00:00, 103.90it/s]\n",
      "100%|████████████████████████████████████████████████████████████████████████████| 313/313 [00:01<00:00, 266.50it/s]\n",
      "  1%|▊                                                                             | 10/938 [00:00<00:09, 92.84it/s]"
     ]
    },
    {
     "name": "stdout",
     "output_type": "stream",
     "text": [
      "Epoch = 15\tSum of Training loss = 3795.614697664976\tCorrect Validation Examples = 9826\n"
     ]
    },
    {
     "name": "stderr",
     "output_type": "stream",
     "text": [
      "100%|█████████████████████████████████████████████████████████████████████████████| 938/938 [00:09<00:00, 99.05it/s]\n",
      "100%|████████████████████████████████████████████████████████████████████████████| 313/313 [00:01<00:00, 255.97it/s]\n",
      "  1%|▊                                                                              | 9/938 [00:00<00:10, 88.46it/s]"
     ]
    },
    {
     "name": "stdout",
     "output_type": "stream",
     "text": [
      "Epoch = 16\tSum of Training loss = 3626.41141051054\tCorrect Validation Examples = 9831\n"
     ]
    },
    {
     "name": "stderr",
     "output_type": "stream",
     "text": [
      "100%|█████████████████████████████████████████████████████████████████████████████| 938/938 [00:09<00:00, 96.40it/s]\n",
      "100%|████████████████████████████████████████████████████████████████████████████| 313/313 [00:01<00:00, 235.97it/s]\n",
      "  1%|▊                                                                              | 9/938 [00:00<00:11, 82.04it/s]"
     ]
    },
    {
     "name": "stdout",
     "output_type": "stream",
     "text": [
      "Epoch = 17\tSum of Training loss = 3437.965415894985\tCorrect Validation Examples = 9843\n"
     ]
    },
    {
     "name": "stderr",
     "output_type": "stream",
     "text": [
      "100%|█████████████████████████████████████████████████████████████████████████████| 938/938 [00:09<00:00, 94.00it/s]\n",
      "100%|████████████████████████████████████████████████████████████████████████████| 313/313 [00:01<00:00, 221.01it/s]\n",
      "  1%|▊                                                                              | 9/938 [00:00<00:10, 86.77it/s]"
     ]
    },
    {
     "name": "stdout",
     "output_type": "stream",
     "text": [
      "Epoch = 18\tSum of Training loss = 3337.4647561460733\tCorrect Validation Examples = 9839\n"
     ]
    },
    {
     "name": "stderr",
     "output_type": "stream",
     "text": [
      "100%|████████████████████████████████████████████████████████████████████████████| 938/938 [00:09<00:00, 100.52it/s]\n",
      "100%|████████████████████████████████████████████████████████████████████████████| 313/313 [00:01<00:00, 260.29it/s]\n",
      "  1%|▊                                                                             | 10/938 [00:00<00:09, 95.49it/s]"
     ]
    },
    {
     "name": "stdout",
     "output_type": "stream",
     "text": [
      "Epoch = 19\tSum of Training loss = 3207.4028754532337\tCorrect Validation Examples = 9845\n"
     ]
    },
    {
     "name": "stderr",
     "output_type": "stream",
     "text": [
      "100%|█████████████████████████████████████████████████████████████████████████████| 938/938 [00:09<00:00, 97.96it/s]\n",
      "100%|████████████████████████████████████████████████████████████████████████████| 313/313 [00:01<00:00, 255.46it/s]\n",
      "  2%|█▍                                                                            | 18/938 [00:00<00:10, 88.32it/s]"
     ]
    },
    {
     "name": "stdout",
     "output_type": "stream",
     "text": [
      "Epoch = 20\tSum of Training loss = 3004.8524943739176\tCorrect Validation Examples = 9846\n"
     ]
    },
    {
     "name": "stderr",
     "output_type": "stream",
     "text": [
      "100%|█████████████████████████████████████████████████████████████████████████████| 938/938 [00:09<00:00, 98.98it/s]\n",
      "100%|████████████████████████████████████████████████████████████████████████████| 313/313 [00:01<00:00, 273.34it/s]\n",
      "  2%|█▎                                                                            | 16/938 [00:00<00:11, 78.13it/s]"
     ]
    },
    {
     "name": "stdout",
     "output_type": "stream",
     "text": [
      "Epoch = 21\tSum of Training loss = 2937.1825041025877\tCorrect Validation Examples = 9858\n"
     ]
    },
    {
     "name": "stderr",
     "output_type": "stream",
     "text": [
      "100%|████████████████████████████████████████████████████████████████████████████| 938/938 [00:09<00:00, 102.74it/s]\n",
      "100%|████████████████████████████████████████████████████████████████████████████| 313/313 [00:01<00:00, 257.67it/s]\n",
      "  1%|▊                                                                             | 10/938 [00:00<00:10, 90.33it/s]"
     ]
    },
    {
     "name": "stdout",
     "output_type": "stream",
     "text": [
      "Epoch = 22\tSum of Training loss = 2832.127809122205\tCorrect Validation Examples = 9847\n"
     ]
    },
    {
     "name": "stderr",
     "output_type": "stream",
     "text": [
      "100%|████████████████████████████████████████████████████████████████████████████| 938/938 [00:08<00:00, 105.04it/s]\n",
      "100%|████████████████████████████████████████████████████████████████████████████| 313/313 [00:01<00:00, 271.84it/s]\n",
      "  1%|▊                                                                             | 10/938 [00:00<00:09, 94.59it/s]"
     ]
    },
    {
     "name": "stdout",
     "output_type": "stream",
     "text": [
      "Epoch = 23\tSum of Training loss = 2755.4085919186473\tCorrect Validation Examples = 9864\n"
     ]
    },
    {
     "name": "stderr",
     "output_type": "stream",
     "text": [
      "100%|████████████████████████████████████████████████████████████████████████████| 938/938 [00:09<00:00, 103.23it/s]\n",
      "100%|████████████████████████████████████████████████████████████████████████████| 313/313 [00:01<00:00, 252.48it/s]\n",
      "  2%|█▋                                                                            | 20/938 [00:00<00:09, 96.34it/s]"
     ]
    },
    {
     "name": "stdout",
     "output_type": "stream",
     "text": [
      "Epoch = 24\tSum of Training loss = 2630.6982456296682\tCorrect Validation Examples = 9869\n"
     ]
    },
    {
     "name": "stderr",
     "output_type": "stream",
     "text": [
      "100%|█████████████████████████████████████████████████████████████████████████████| 938/938 [00:09<00:00, 99.39it/s]\n",
      "100%|████████████████████████████████████████████████████████████████████████████| 313/313 [00:01<00:00, 240.12it/s]\n",
      "  1%|▋                                                                              | 8/938 [00:00<00:11, 77.88it/s]"
     ]
    },
    {
     "name": "stdout",
     "output_type": "stream",
     "text": [
      "Epoch = 25\tSum of Training loss = 2570.1872106939554\tCorrect Validation Examples = 9875\n"
     ]
    },
    {
     "name": "stderr",
     "output_type": "stream",
     "text": [
      "100%|█████████████████████████████████████████████████████████████████████████████| 938/938 [00:09<00:00, 95.35it/s]\n",
      "100%|████████████████████████████████████████████████████████████████████████████| 313/313 [00:01<00:00, 237.04it/s]\n",
      "  1%|▊                                                                              | 9/938 [00:00<00:11, 81.30it/s]"
     ]
    },
    {
     "name": "stdout",
     "output_type": "stream",
     "text": [
      "Epoch = 26\tSum of Training loss = 2471.7190280109644\tCorrect Validation Examples = 9857\n"
     ]
    },
    {
     "name": "stderr",
     "output_type": "stream",
     "text": [
      "100%|████████████████████████████████████████████████████████████████████████████| 938/938 [00:09<00:00, 104.02it/s]\n",
      "100%|████████████████████████████████████████████████████████████████████████████| 313/313 [00:01<00:00, 259.37it/s]\n",
      "  1%|▊                                                                              | 9/938 [00:00<00:10, 86.77it/s]"
     ]
    },
    {
     "name": "stdout",
     "output_type": "stream",
     "text": [
      "Epoch = 27\tSum of Training loss = 2395.78422562778\tCorrect Validation Examples = 9859\n"
     ]
    },
    {
     "name": "stderr",
     "output_type": "stream",
     "text": [
      "100%|████████████████████████████████████████████████████████████████████████████| 938/938 [00:08<00:00, 104.98it/s]\n",
      "100%|████████████████████████████████████████████████████████████████████████████| 313/313 [00:01<00:00, 263.60it/s]\n",
      "  1%|▊                                                                              | 9/938 [00:00<00:10, 85.13it/s]"
     ]
    },
    {
     "name": "stdout",
     "output_type": "stream",
     "text": [
      "Epoch = 28\tSum of Training loss = 2354.743520885706\tCorrect Validation Examples = 9862\n"
     ]
    },
    {
     "name": "stderr",
     "output_type": "stream",
     "text": [
      "100%|████████████████████████████████████████████████████████████████████████████| 938/938 [00:08<00:00, 104.72it/s]\n",
      "100%|████████████████████████████████████████████████████████████████████████████| 313/313 [00:01<00:00, 284.36it/s]\n",
      "  1%|▊                                                                             | 10/938 [00:00<00:09, 96.41it/s]"
     ]
    },
    {
     "name": "stdout",
     "output_type": "stream",
     "text": [
      "Epoch = 29\tSum of Training loss = 2294.053158737719\tCorrect Validation Examples = 9868\n"
     ]
    },
    {
     "name": "stderr",
     "output_type": "stream",
     "text": [
      "100%|████████████████████████████████████████████████████████████████████████████| 938/938 [00:09<00:00, 103.23it/s]\n",
      "100%|████████████████████████████████████████████████████████████████████████████| 313/313 [00:01<00:00, 267.45it/s]\n",
      "  1%|▊                                                                             | 10/938 [00:00<00:09, 96.42it/s]"
     ]
    },
    {
     "name": "stdout",
     "output_type": "stream",
     "text": [
      "Epoch = 30\tSum of Training loss = 2197.8793140128255\tCorrect Validation Examples = 9860\n"
     ]
    },
    {
     "name": "stderr",
     "output_type": "stream",
     "text": [
      "100%|████████████████████████████████████████████████████████████████████████████| 938/938 [00:08<00:00, 106.73it/s]\n",
      "100%|████████████████████████████████████████████████████████████████████████████| 313/313 [00:01<00:00, 272.84it/s]\n",
      "  2%|█▌                                                                            | 19/938 [00:00<00:10, 90.94it/s]"
     ]
    },
    {
     "name": "stdout",
     "output_type": "stream",
     "text": [
      "Epoch = 31\tSum of Training loss = 2157.0415324121714\tCorrect Validation Examples = 9880\n"
     ]
    },
    {
     "name": "stderr",
     "output_type": "stream",
     "text": [
      "100%|████████████████████████████████████████████████████████████████████████████| 938/938 [00:08<00:00, 104.47it/s]\n",
      "100%|████████████████████████████████████████████████████████████████████████████| 313/313 [00:01<00:00, 262.41it/s]\n",
      "  2%|█▋                                                                           | 21/938 [00:00<00:09, 101.67it/s]"
     ]
    },
    {
     "name": "stdout",
     "output_type": "stream",
     "text": [
      "Epoch = 32\tSum of Training loss = 2085.319789007306\tCorrect Validation Examples = 9879\n"
     ]
    },
    {
     "name": "stderr",
     "output_type": "stream",
     "text": [
      "100%|████████████████████████████████████████████████████████████████████████████| 938/938 [00:08<00:00, 107.96it/s]\n",
      "100%|████████████████████████████████████████████████████████████████████████████| 313/313 [00:01<00:00, 283.50it/s]\n",
      "  1%|▊                                                                             | 10/938 [00:00<00:09, 96.41it/s]"
     ]
    },
    {
     "name": "stdout",
     "output_type": "stream",
     "text": [
      "Epoch = 33\tSum of Training loss = 2001.1143814399838\tCorrect Validation Examples = 9881\n"
     ]
    },
    {
     "name": "stderr",
     "output_type": "stream",
     "text": [
      "100%|████████████████████████████████████████████████████████████████████████████| 938/938 [00:08<00:00, 106.59it/s]\n",
      "100%|████████████████████████████████████████████████████████████████████████████| 313/313 [00:01<00:00, 285.82it/s]\n",
      "  1%|▉                                                                            | 11/938 [00:00<00:09, 101.19it/s]"
     ]
    },
    {
     "name": "stdout",
     "output_type": "stream",
     "text": [
      "Epoch = 34\tSum of Training loss = 1909.049660421908\tCorrect Validation Examples = 9865\n"
     ]
    },
    {
     "name": "stderr",
     "output_type": "stream",
     "text": [
      "100%|████████████████████████████████████████████████████████████████████████████| 938/938 [00:09<00:00, 104.05it/s]\n",
      "100%|████████████████████████████████████████████████████████████████████████████| 313/313 [00:01<00:00, 270.78it/s]\n",
      "  1%|▊                                                                             | 10/938 [00:00<00:09, 95.49it/s]"
     ]
    },
    {
     "name": "stdout",
     "output_type": "stream",
     "text": [
      "Epoch = 35\tSum of Training loss = 1943.184266537428\tCorrect Validation Examples = 9881\n"
     ]
    },
    {
     "name": "stderr",
     "output_type": "stream",
     "text": [
      "100%|████████████████████████████████████████████████████████████████████████████| 938/938 [00:09<00:00, 102.94it/s]\n",
      "100%|████████████████████████████████████████████████████████████████████████████| 313/313 [00:01<00:00, 272.54it/s]\n",
      "  1%|▊                                                                             | 10/938 [00:00<00:09, 99.24it/s]"
     ]
    },
    {
     "name": "stdout",
     "output_type": "stream",
     "text": [
      "Epoch = 36\tSum of Training loss = 1870.2844938710332\tCorrect Validation Examples = 9881\n"
     ]
    },
    {
     "name": "stderr",
     "output_type": "stream",
     "text": [
      "100%|████████████████████████████████████████████████████████████████████████████| 938/938 [00:08<00:00, 108.44it/s]\n",
      "100%|████████████████████████████████████████████████████████████████████████████| 313/313 [00:01<00:00, 288.45it/s]\n",
      "  1%|▉                                                                            | 11/938 [00:00<00:08, 103.04it/s]"
     ]
    },
    {
     "name": "stdout",
     "output_type": "stream",
     "text": [
      "Epoch = 37\tSum of Training loss = 1831.7451190203428\tCorrect Validation Examples = 9891\n"
     ]
    },
    {
     "name": "stderr",
     "output_type": "stream",
     "text": [
      "100%|████████████████████████████████████████████████████████████████████████████| 938/938 [00:08<00:00, 107.45it/s]\n",
      "100%|████████████████████████████████████████████████████████████████████████████| 313/313 [00:01<00:00, 272.29it/s]\n",
      "  1%|▊                                                                             | 10/938 [00:00<00:09, 94.60it/s]"
     ]
    },
    {
     "name": "stdout",
     "output_type": "stream",
     "text": [
      "Epoch = 38\tSum of Training loss = 1718.5420444086194\tCorrect Validation Examples = 9885\n"
     ]
    },
    {
     "name": "stderr",
     "output_type": "stream",
     "text": [
      "100%|████████████████████████████████████████████████████████████████████████████| 938/938 [00:08<00:00, 105.81it/s]\n",
      "100%|████████████████████████████████████████████████████████████████████████████| 313/313 [00:01<00:00, 273.62it/s]\n",
      "  2%|█▋                                                                           | 21/938 [00:00<00:09, 100.43it/s]"
     ]
    },
    {
     "name": "stdout",
     "output_type": "stream",
     "text": [
      "Epoch = 39\tSum of Training loss = 1735.860800564289\tCorrect Validation Examples = 9890\n"
     ]
    },
    {
     "name": "stderr",
     "output_type": "stream",
     "text": [
      "100%|████████████████████████████████████████████████████████████████████████████| 938/938 [00:08<00:00, 106.21it/s]\n",
      "100%|████████████████████████████████████████████████████████████████████████████| 313/313 [00:01<00:00, 277.93it/s]\n",
      "  1%|▊                                                                             | 10/938 [00:00<00:09, 96.41it/s]"
     ]
    },
    {
     "name": "stdout",
     "output_type": "stream",
     "text": [
      "Epoch = 40\tSum of Training loss = 1675.414042390883\tCorrect Validation Examples = 9878\n"
     ]
    },
    {
     "name": "stderr",
     "output_type": "stream",
     "text": [
      "100%|████████████████████████████████████████████████████████████████████████████| 938/938 [00:09<00:00, 103.18it/s]\n",
      "100%|████████████████████████████████████████████████████████████████████████████| 313/313 [00:01<00:00, 264.40it/s]\n",
      "  1%|▊                                                                             | 10/938 [00:00<00:09, 95.48it/s]"
     ]
    },
    {
     "name": "stdout",
     "output_type": "stream",
     "text": [
      "Epoch = 41\tSum of Training loss = 1601.4207339473069\tCorrect Validation Examples = 9886\n"
     ]
    },
    {
     "name": "stderr",
     "output_type": "stream",
     "text": [
      "100%|█████████████████████████████████████████████████████████████████████████████| 938/938 [00:09<00:00, 99.74it/s]\n",
      "100%|████████████████████████████████████████████████████████████████████████████| 313/313 [00:01<00:00, 247.31it/s]\n",
      "  1%|▊                                                                             | 10/938 [00:00<00:10, 91.15it/s]"
     ]
    },
    {
     "name": "stdout",
     "output_type": "stream",
     "text": [
      "Epoch = 42\tSum of Training loss = 1594.048018336296\tCorrect Validation Examples = 9896\n"
     ]
    },
    {
     "name": "stderr",
     "output_type": "stream",
     "text": [
      "100%|████████████████████████████████████████████████████████████████████████████| 938/938 [00:09<00:00, 101.26it/s]\n",
      "100%|████████████████████████████████████████████████████████████████████████████| 313/313 [00:01<00:00, 223.69it/s]\n",
      "  1%|▋                                                                              | 8/938 [00:00<00:12, 75.65it/s]"
     ]
    },
    {
     "name": "stdout",
     "output_type": "stream",
     "text": [
      "Epoch = 43\tSum of Training loss = 1506.829229094088\tCorrect Validation Examples = 9891\n"
     ]
    },
    {
     "name": "stderr",
     "output_type": "stream",
     "text": [
      "100%|█████████████████████████████████████████████████████████████████████████████| 938/938 [00:09<00:00, 94.08it/s]\n",
      "100%|████████████████████████████████████████████████████████████████████████████| 313/313 [00:01<00:00, 241.16it/s]\n",
      "  1%|▋                                                                              | 8/938 [00:00<00:11, 78.64it/s]"
     ]
    },
    {
     "name": "stdout",
     "output_type": "stream",
     "text": [
      "Epoch = 44\tSum of Training loss = 1522.0186675786972\tCorrect Validation Examples = 9893\n"
     ]
    },
    {
     "name": "stderr",
     "output_type": "stream",
     "text": [
      "100%|█████████████████████████████████████████████████████████████████████████████| 938/938 [00:09<00:00, 98.56it/s]\n",
      "100%|████████████████████████████████████████████████████████████████████████████| 313/313 [00:01<00:00, 269.39it/s]\n",
      "  1%|▊                                                                             | 10/938 [00:00<00:09, 99.27it/s]"
     ]
    },
    {
     "name": "stdout",
     "output_type": "stream",
     "text": [
      "Epoch = 45\tSum of Training loss = 1471.7179451920092\tCorrect Validation Examples = 9889\n"
     ]
    },
    {
     "name": "stderr",
     "output_type": "stream",
     "text": [
      "100%|████████████████████████████████████████████████████████████████████████████| 938/938 [00:09<00:00, 101.70it/s]\n",
      "100%|████████████████████████████████████████████████████████████████████████████| 313/313 [00:01<00:00, 250.11it/s]\n",
      "  1%|▋                                                                              | 8/938 [00:00<00:12, 74.97it/s]"
     ]
    },
    {
     "name": "stdout",
     "output_type": "stream",
     "text": [
      "Epoch = 46\tSum of Training loss = 1408.1572115793824\tCorrect Validation Examples = 9893\n"
     ]
    },
    {
     "name": "stderr",
     "output_type": "stream",
     "text": [
      "100%|█████████████████████████████████████████████████████████████████████████████| 938/938 [00:10<00:00, 93.79it/s]\n",
      "100%|████████████████████████████████████████████████████████████████████████████| 313/313 [00:01<00:00, 219.62it/s]\n",
      "  1%|▊                                                                              | 9/938 [00:00<00:11, 83.57it/s]"
     ]
    },
    {
     "name": "stdout",
     "output_type": "stream",
     "text": [
      "Epoch = 47\tSum of Training loss = 1379.1363529860973\tCorrect Validation Examples = 9893\n"
     ]
    },
    {
     "name": "stderr",
     "output_type": "stream",
     "text": [
      "100%|█████████████████████████████████████████████████████████████████████████████| 938/938 [00:09<00:00, 99.94it/s]\n",
      "100%|████████████████████████████████████████████████████████████████████████████| 313/313 [00:01<00:00, 274.33it/s]\n",
      "  1%|▊                                                                             | 10/938 [00:00<00:09, 97.36it/s]"
     ]
    },
    {
     "name": "stdout",
     "output_type": "stream",
     "text": [
      "Epoch = 48\tSum of Training loss = 1340.6152908578515\tCorrect Validation Examples = 9899\n"
     ]
    },
    {
     "name": "stderr",
     "output_type": "stream",
     "text": [
      "100%|████████████████████████████████████████████████████████████████████████████| 938/938 [00:08<00:00, 108.20it/s]\n",
      "100%|████████████████████████████████████████████████████████████████████████████| 313/313 [00:01<00:00, 279.95it/s]\n",
      "  1%|▊                                                                             | 10/938 [00:00<00:09, 95.49it/s]"
     ]
    },
    {
     "name": "stdout",
     "output_type": "stream",
     "text": [
      "Epoch = 49\tSum of Training loss = 1306.914742514491\tCorrect Validation Examples = 9893\n"
     ]
    },
    {
     "name": "stderr",
     "output_type": "stream",
     "text": [
      "100%|████████████████████████████████████████████████████████████████████████████| 938/938 [00:08<00:00, 105.84it/s]\n",
      "100%|████████████████████████████████████████████████████████████████████████████| 313/313 [00:01<00:00, 270.05it/s]\n",
      "  1%|▊                                                                             | 10/938 [00:00<00:09, 94.56it/s]"
     ]
    },
    {
     "name": "stdout",
     "output_type": "stream",
     "text": [
      "Epoch = 50\tSum of Training loss = 1329.303660992533\tCorrect Validation Examples = 9893\n"
     ]
    },
    {
     "name": "stderr",
     "output_type": "stream",
     "text": [
      "100%|████████████████████████████████████████████████████████████████████████████| 938/938 [00:08<00:00, 106.07it/s]\n",
      "100%|████████████████████████████████████████████████████████████████████████████| 313/313 [00:01<00:00, 282.85it/s]\n",
      "  1%|▊                                                                             | 10/938 [00:00<00:09, 98.31it/s]"
     ]
    },
    {
     "name": "stdout",
     "output_type": "stream",
     "text": [
      "Epoch = 51\tSum of Training loss = 1252.279021738097\tCorrect Validation Examples = 9900\n"
     ]
    },
    {
     "name": "stderr",
     "output_type": "stream",
     "text": [
      "100%|████████████████████████████████████████████████████████████████████████████| 938/938 [00:08<00:00, 108.54it/s]\n",
      "100%|████████████████████████████████████████████████████████████████████████████| 313/313 [00:01<00:00, 280.76it/s]\n",
      "  1%|▊                                                                              | 9/938 [00:00<00:10, 88.47it/s]"
     ]
    },
    {
     "name": "stdout",
     "output_type": "stream",
     "text": [
      "Epoch = 52\tSum of Training loss = 1222.0254625277594\tCorrect Validation Examples = 9897\n"
     ]
    },
    {
     "name": "stderr",
     "output_type": "stream",
     "text": [
      "100%|████████████████████████████████████████████████████████████████████████████| 938/938 [00:08<00:00, 109.15it/s]\n",
      "100%|████████████████████████████████████████████████████████████████████████████| 313/313 [00:01<00:00, 283.24it/s]\n",
      "  1%|▊                                                                             | 10/938 [00:00<00:09, 96.41it/s]"
     ]
    },
    {
     "name": "stdout",
     "output_type": "stream",
     "text": [
      "Epoch = 53\tSum of Training loss = 1231.6637133955956\tCorrect Validation Examples = 9894\n"
     ]
    },
    {
     "name": "stderr",
     "output_type": "stream",
     "text": [
      "100%|████████████████████████████████████████████████████████████████████████████| 938/938 [00:08<00:00, 110.33it/s]\n",
      "100%|████████████████████████████████████████████████████████████████████████████| 313/313 [00:01<00:00, 280.64it/s]\n",
      "  1%|▊                                                                             | 10/938 [00:00<00:09, 93.71it/s]"
     ]
    },
    {
     "name": "stdout",
     "output_type": "stream",
     "text": [
      "Epoch = 54\tSum of Training loss = 1187.410469552502\tCorrect Validation Examples = 9898\n"
     ]
    },
    {
     "name": "stderr",
     "output_type": "stream",
     "text": [
      "100%|████████████████████████████████████████████████████████████████████████████| 938/938 [00:08<00:00, 110.04it/s]\n",
      "100%|████████████████████████████████████████████████████████████████████████████| 313/313 [00:01<00:00, 284.01it/s]\n",
      "  1%|▊                                                                             | 10/938 [00:00<00:09, 98.32it/s]"
     ]
    },
    {
     "name": "stdout",
     "output_type": "stream",
     "text": [
      "Epoch = 55\tSum of Training loss = 1147.6023709326982\tCorrect Validation Examples = 9890\n"
     ]
    },
    {
     "name": "stderr",
     "output_type": "stream",
     "text": [
      "100%|████████████████████████████████████████████████████████████████████████████| 938/938 [00:08<00:00, 108.63it/s]\n",
      "100%|████████████████████████████████████████████████████████████████████████████| 313/313 [00:01<00:00, 282.55it/s]\n",
      "  1%|▊                                                                             | 10/938 [00:00<00:09, 96.41it/s]"
     ]
    },
    {
     "name": "stdout",
     "output_type": "stream",
     "text": [
      "Epoch = 56\tSum of Training loss = 1128.5477409809828\tCorrect Validation Examples = 9896\n"
     ]
    },
    {
     "name": "stderr",
     "output_type": "stream",
     "text": [
      "100%|████████████████████████████████████████████████████████████████████████████| 938/938 [00:08<00:00, 109.70it/s]\n",
      "100%|████████████████████████████████████████████████████████████████████████████| 313/313 [00:01<00:00, 284.55it/s]\n",
      "  1%|▊                                                                             | 10/938 [00:00<00:09, 92.84it/s]"
     ]
    },
    {
     "name": "stdout",
     "output_type": "stream",
     "text": [
      "Epoch = 57\tSum of Training loss = 1110.429523292929\tCorrect Validation Examples = 9892\n"
     ]
    },
    {
     "name": "stderr",
     "output_type": "stream",
     "text": [
      "100%|████████████████████████████████████████████████████████████████████████████| 938/938 [00:08<00:00, 109.10it/s]\n",
      "100%|████████████████████████████████████████████████████████████████████████████| 313/313 [00:01<00:00, 284.01it/s]\n",
      "  1%|▊                                                                             | 10/938 [00:00<00:09, 96.41it/s]"
     ]
    },
    {
     "name": "stdout",
     "output_type": "stream",
     "text": [
      "Epoch = 58\tSum of Training loss = 1132.1992847323418\tCorrect Validation Examples = 9904\n"
     ]
    },
    {
     "name": "stderr",
     "output_type": "stream",
     "text": [
      "100%|████████████████████████████████████████████████████████████████████████████| 938/938 [00:08<00:00, 109.52it/s]\n",
      "100%|████████████████████████████████████████████████████████████████████████████| 313/313 [00:01<00:00, 273.13it/s]\n",
      "  1%|▊                                                                             | 10/938 [00:00<00:09, 95.49it/s]"
     ]
    },
    {
     "name": "stdout",
     "output_type": "stream",
     "text": [
      "Epoch = 59\tSum of Training loss = 1064.9970793109387\tCorrect Validation Examples = 9897\n"
     ]
    },
    {
     "name": "stderr",
     "output_type": "stream",
     "text": [
      "100%|████████████████████████████████████████████████████████████████████████████| 938/938 [00:08<00:00, 104.72it/s]\n",
      "100%|████████████████████████████████████████████████████████████████████████████| 313/313 [00:01<00:00, 254.32it/s]\n",
      "  1%|▊                                                                             | 10/938 [00:00<00:10, 91.99it/s]"
     ]
    },
    {
     "name": "stdout",
     "output_type": "stream",
     "text": [
      "Epoch = 60\tSum of Training loss = 1046.2033506035805\tCorrect Validation Examples = 9900\n"
     ]
    },
    {
     "name": "stderr",
     "output_type": "stream",
     "text": [
      "100%|████████████████████████████████████████████████████████████████████████████| 938/938 [00:08<00:00, 105.66it/s]\n",
      "100%|████████████████████████████████████████████████████████████████████████████| 313/313 [00:01<00:00, 266.28it/s]\n",
      "  1%|▊                                                                              | 9/938 [00:00<00:10, 88.48it/s]"
     ]
    },
    {
     "name": "stdout",
     "output_type": "stream",
     "text": [
      "Epoch = 61\tSum of Training loss = 1018.9901943160221\tCorrect Validation Examples = 9903\n"
     ]
    },
    {
     "name": "stderr",
     "output_type": "stream",
     "text": [
      "100%|████████████████████████████████████████████████████████████████████████████| 938/938 [00:08<00:00, 106.04it/s]\n",
      "100%|████████████████████████████████████████████████████████████████████████████| 313/313 [00:01<00:00, 282.99it/s]\n",
      "  2%|█▋                                                                            | 20/938 [00:00<00:09, 95.33it/s]"
     ]
    },
    {
     "name": "stdout",
     "output_type": "stream",
     "text": [
      "Epoch = 62\tSum of Training loss = 970.7062920834869\tCorrect Validation Examples = 9898\n"
     ]
    },
    {
     "name": "stderr",
     "output_type": "stream",
     "text": [
      "100%|████████████████████████████████████████████████████████████████████████████| 938/938 [00:08<00:00, 109.17it/s]\n",
      "100%|████████████████████████████████████████████████████████████████████████████| 313/313 [00:01<00:00, 279.08it/s]\n",
      "  1%|▊                                                                             | 10/938 [00:00<00:09, 96.41it/s]"
     ]
    },
    {
     "name": "stdout",
     "output_type": "stream",
     "text": [
      "Epoch = 63\tSum of Training loss = 950.9303823467344\tCorrect Validation Examples = 9901\n"
     ]
    },
    {
     "name": "stderr",
     "output_type": "stream",
     "text": [
      "100%|████████████████████████████████████████████████████████████████████████████| 938/938 [00:08<00:00, 110.51it/s]\n",
      "100%|████████████████████████████████████████████████████████████████████████████| 313/313 [00:01<00:00, 285.00it/s]\n",
      "  1%|▊                                                                             | 10/938 [00:00<00:09, 97.33it/s]"
     ]
    },
    {
     "name": "stdout",
     "output_type": "stream",
     "text": [
      "Epoch = 64\tSum of Training loss = 986.7063456568867\tCorrect Validation Examples = 9891\n"
     ]
    },
    {
     "name": "stderr",
     "output_type": "stream",
     "text": [
      "100%|████████████████████████████████████████████████████████████████████████████| 938/938 [00:08<00:00, 109.39it/s]\n",
      "100%|████████████████████████████████████████████████████████████████████████████| 313/313 [00:01<00:00, 282.73it/s]\n",
      "  2%|█▋                                                                            | 20/938 [00:00<00:09, 96.88it/s]"
     ]
    },
    {
     "name": "stdout",
     "output_type": "stream",
     "text": [
      "Epoch = 65\tSum of Training loss = 918.6086433846503\tCorrect Validation Examples = 9895\n"
     ]
    },
    {
     "name": "stderr",
     "output_type": "stream",
     "text": [
      "100%|████████████████████████████████████████████████████████████████████████████| 938/938 [00:08<00:00, 109.79it/s]\n",
      "100%|████████████████████████████████████████████████████████████████████████████| 313/313 [00:01<00:00, 287.53it/s]\n",
      "  1%|▊                                                                             | 10/938 [00:00<00:09, 99.27it/s]"
     ]
    },
    {
     "name": "stdout",
     "output_type": "stream",
     "text": [
      "Epoch = 66\tSum of Training loss = 878.3688072180375\tCorrect Validation Examples = 9896\n"
     ]
    },
    {
     "name": "stderr",
     "output_type": "stream",
     "text": [
      "100%|████████████████████████████████████████████████████████████████████████████| 938/938 [00:08<00:00, 109.51it/s]\n",
      "100%|████████████████████████████████████████████████████████████████████████████| 313/313 [00:01<00:00, 281.21it/s]\n",
      "  1%|▊                                                                             | 10/938 [00:00<00:09, 96.41it/s]"
     ]
    },
    {
     "name": "stdout",
     "output_type": "stream",
     "text": [
      "Epoch = 67\tSum of Training loss = 922.7095519583672\tCorrect Validation Examples = 9895\n"
     ]
    },
    {
     "name": "stderr",
     "output_type": "stream",
     "text": [
      "100%|████████████████████████████████████████████████████████████████████████████| 938/938 [00:08<00:00, 110.05it/s]\n",
      "100%|████████████████████████████████████████████████████████████████████████████| 313/313 [00:01<00:00, 281.21it/s]\n",
      "  2%|█▋                                                                            | 20/938 [00:00<00:09, 97.18it/s]"
     ]
    },
    {
     "name": "stdout",
     "output_type": "stream",
     "text": [
      "Epoch = 68\tSum of Training loss = 854.7937798351049\tCorrect Validation Examples = 9904\n"
     ]
    },
    {
     "name": "stderr",
     "output_type": "stream",
     "text": [
      "100%|████████████████████████████████████████████████████████████████████████████| 938/938 [00:08<00:00, 109.48it/s]\n",
      "100%|████████████████████████████████████████████████████████████████████████████| 313/313 [00:01<00:00, 283.14it/s]\n",
      "  1%|▊                                                                             | 10/938 [00:00<00:09, 95.49it/s]"
     ]
    },
    {
     "name": "stdout",
     "output_type": "stream",
     "text": [
      "Epoch = 69\tSum of Training loss = 816.0466916700825\tCorrect Validation Examples = 9902\n"
     ]
    },
    {
     "name": "stderr",
     "output_type": "stream",
     "text": [
      "100%|████████████████████████████████████████████████████████████████████████████| 938/938 [00:08<00:00, 106.90it/s]\n",
      "100%|████████████████████████████████████████████████████████████████████████████| 313/313 [00:01<00:00, 269.27it/s]\n",
      "  1%|▊                                                                             | 10/938 [00:00<00:10, 91.98it/s]"
     ]
    },
    {
     "name": "stdout",
     "output_type": "stream",
     "text": [
      "Epoch = 70\tSum of Training loss = 818.5831773155369\tCorrect Validation Examples = 9893\n"
     ]
    },
    {
     "name": "stderr",
     "output_type": "stream",
     "text": [
      "100%|████████████████████████████████████████████████████████████████████████████| 938/938 [00:08<00:00, 106.05it/s]\n",
      "100%|████████████████████████████████████████████████████████████████████████████| 313/313 [00:01<00:00, 279.85it/s]\n",
      "  1%|▊                                                                             | 10/938 [00:00<00:09, 96.43it/s]"
     ]
    },
    {
     "name": "stdout",
     "output_type": "stream",
     "text": [
      "Epoch = 71\tSum of Training loss = 854.7348512830213\tCorrect Validation Examples = 9899\n"
     ]
    },
    {
     "name": "stderr",
     "output_type": "stream",
     "text": [
      "100%|████████████████████████████████████████████████████████████████████████████| 938/938 [00:08<00:00, 108.37it/s]\n",
      "100%|████████████████████████████████████████████████████████████████████████████| 313/313 [00:01<00:00, 283.49it/s]\n",
      "  1%|▊                                                                             | 10/938 [00:00<00:09, 94.59it/s]"
     ]
    },
    {
     "name": "stdout",
     "output_type": "stream",
     "text": [
      "Epoch = 72\tSum of Training loss = 806.324445342645\tCorrect Validation Examples = 9900\n"
     ]
    },
    {
     "name": "stderr",
     "output_type": "stream",
     "text": [
      "100%|████████████████████████████████████████████████████████████████████████████| 938/938 [00:09<00:00, 100.13it/s]\n",
      "100%|████████████████████████████████████████████████████████████████████████████| 313/313 [00:01<00:00, 213.64it/s]\n",
      "  1%|▋                                                                              | 8/938 [00:00<00:12, 76.39it/s]"
     ]
    },
    {
     "name": "stdout",
     "output_type": "stream",
     "text": [
      "Epoch = 73\tSum of Training loss = 781.9901538453996\tCorrect Validation Examples = 9895\n"
     ]
    },
    {
     "name": "stderr",
     "output_type": "stream",
     "text": [
      "100%|█████████████████████████████████████████████████████████████████████████████| 938/938 [00:10<00:00, 92.53it/s]\n",
      "100%|████████████████████████████████████████████████████████████████████████████| 313/313 [00:01<00:00, 236.50it/s]\n",
      "  1%|▊                                                                              | 9/938 [00:00<00:11, 83.56it/s]"
     ]
    },
    {
     "name": "stdout",
     "output_type": "stream",
     "text": [
      "Epoch = 74\tSum of Training loss = 803.526908768341\tCorrect Validation Examples = 9898\n"
     ]
    },
    {
     "name": "stderr",
     "output_type": "stream",
     "text": [
      "100%|█████████████████████████████████████████████████████████████████████████████| 938/938 [00:09<00:00, 96.87it/s]\n",
      "100%|████████████████████████████████████████████████████████████████████████████| 313/313 [00:01<00:00, 259.37it/s]\n",
      "  1%|▊                                                                              | 9/938 [00:00<00:10, 87.62it/s]"
     ]
    },
    {
     "name": "stdout",
     "output_type": "stream",
     "text": [
      "Epoch = 75\tSum of Training loss = 742.6711743674241\tCorrect Validation Examples = 9887\n"
     ]
    },
    {
     "name": "stderr",
     "output_type": "stream",
     "text": [
      "100%|████████████████████████████████████████████████████████████████████████████| 938/938 [00:09<00:00, 103.37it/s]\n",
      "100%|████████████████████████████████████████████████████████████████████████████| 313/313 [00:01<00:00, 279.31it/s]\n",
      "  1%|▉                                                                            | 11/938 [00:00<00:09, 101.19it/s]"
     ]
    },
    {
     "name": "stdout",
     "output_type": "stream",
     "text": [
      "Epoch = 76\tSum of Training loss = 706.581808146555\tCorrect Validation Examples = 9904\n"
     ]
    },
    {
     "name": "stderr",
     "output_type": "stream",
     "text": [
      "100%|████████████████████████████████████████████████████████████████████████████| 938/938 [00:08<00:00, 109.63it/s]\n",
      "100%|████████████████████████████████████████████████████████████████████████████| 313/313 [00:01<00:00, 279.33it/s]\n",
      "  1%|▉                                                                            | 11/938 [00:00<00:09, 100.24it/s]"
     ]
    },
    {
     "name": "stdout",
     "output_type": "stream",
     "text": [
      "Epoch = 77\tSum of Training loss = 707.9795143539086\tCorrect Validation Examples = 9902\n"
     ]
    },
    {
     "name": "stderr",
     "output_type": "stream",
     "text": [
      "100%|████████████████████████████████████████████████████████████████████████████| 938/938 [00:08<00:00, 109.23it/s]\n",
      "100%|████████████████████████████████████████████████████████████████████████████| 313/313 [00:01<00:00, 281.21it/s]\n",
      "  2%|█▋                                                                            | 20/938 [00:00<00:09, 98.52it/s]"
     ]
    },
    {
     "name": "stdout",
     "output_type": "stream",
     "text": [
      "Epoch = 78\tSum of Training loss = 722.7356875604019\tCorrect Validation Examples = 9897\n"
     ]
    },
    {
     "name": "stderr",
     "output_type": "stream",
     "text": [
      "100%|████████████████████████████████████████████████████████████████████████████| 938/938 [00:08<00:00, 109.57it/s]\n",
      "100%|████████████████████████████████████████████████████████████████████████████| 313/313 [00:01<00:00, 282.96it/s]\n",
      "  1%|▊                                                                             | 10/938 [00:00<00:09, 96.41it/s]"
     ]
    },
    {
     "name": "stdout",
     "output_type": "stream",
     "text": [
      "Epoch = 79\tSum of Training loss = 694.2922638431191\tCorrect Validation Examples = 9899\n"
     ]
    },
    {
     "name": "stderr",
     "output_type": "stream",
     "text": [
      "100%|████████████████████████████████████████████████████████████████████████████| 938/938 [00:08<00:00, 110.38it/s]\n",
      "100%|████████████████████████████████████████████████████████████████████████████| 313/313 [00:01<00:00, 285.42it/s]\n",
      "  1%|▊                                                                             | 10/938 [00:00<00:09, 96.41it/s]"
     ]
    },
    {
     "name": "stdout",
     "output_type": "stream",
     "text": [
      "Epoch = 80\tSum of Training loss = 696.6059501781128\tCorrect Validation Examples = 9897\n"
     ]
    },
    {
     "name": "stderr",
     "output_type": "stream",
     "text": [
      "100%|████████████████████████████████████████████████████████████████████████████| 938/938 [00:08<00:00, 109.92it/s]\n",
      "100%|████████████████████████████████████████████████████████████████████████████| 313/313 [00:01<00:00, 284.36it/s]\n",
      "  1%|▊                                                                             | 10/938 [00:00<00:09, 99.29it/s]"
     ]
    },
    {
     "name": "stdout",
     "output_type": "stream",
     "text": [
      "Epoch = 81\tSum of Training loss = 661.2024819129147\tCorrect Validation Examples = 9901\n"
     ]
    },
    {
     "name": "stderr",
     "output_type": "stream",
     "text": [
      "100%|████████████████████████████████████████████████████████████████████████████| 938/938 [00:08<00:00, 110.20it/s]\n",
      "100%|████████████████████████████████████████████████████████████████████████████| 313/313 [00:01<00:00, 286.61it/s]\n",
      "  1%|▊                                                                             | 10/938 [00:00<00:09, 97.35it/s]"
     ]
    },
    {
     "name": "stdout",
     "output_type": "stream",
     "text": [
      "Epoch = 82\tSum of Training loss = 650.506027768366\tCorrect Validation Examples = 9902\n"
     ]
    },
    {
     "name": "stderr",
     "output_type": "stream",
     "text": [
      "100%|████████████████████████████████████████████████████████████████████████████| 938/938 [00:08<00:00, 110.37it/s]\n",
      "100%|████████████████████████████████████████████████████████████████████████████| 313/313 [00:01<00:00, 281.97it/s]\n",
      "  2%|█▋                                                                            | 20/938 [00:00<00:09, 94.62it/s]"
     ]
    },
    {
     "name": "stdout",
     "output_type": "stream",
     "text": [
      "Epoch = 83\tSum of Training loss = 650.4677047459409\tCorrect Validation Examples = 9896\n"
     ]
    },
    {
     "name": "stderr",
     "output_type": "stream",
     "text": [
      "100%|████████████████████████████████████████████████████████████████████████████| 938/938 [00:08<00:00, 106.64it/s]\n",
      "100%|████████████████████████████████████████████████████████████████████████████| 313/313 [00:01<00:00, 275.62it/s]\n",
      "  2%|█▋                                                                            | 21/938 [00:00<00:09, 98.36it/s]"
     ]
    },
    {
     "name": "stdout",
     "output_type": "stream",
     "text": [
      "Epoch = 84\tSum of Training loss = 632.509404799901\tCorrect Validation Examples = 9899\n"
     ]
    },
    {
     "name": "stderr",
     "output_type": "stream",
     "text": [
      "100%|████████████████████████████████████████████████████████████████████████████| 938/938 [00:08<00:00, 105.89it/s]\n",
      "100%|████████████████████████████████████████████████████████████████████████████| 313/313 [00:01<00:00, 281.21it/s]\n",
      "  1%|▊                                                                             | 10/938 [00:00<00:09, 92.84it/s]"
     ]
    },
    {
     "name": "stdout",
     "output_type": "stream",
     "text": [
      "Epoch = 85\tSum of Training loss = 619.4450790137053\tCorrect Validation Examples = 9890\n"
     ]
    },
    {
     "name": "stderr",
     "output_type": "stream",
     "text": [
      "100%|████████████████████████████████████████████████████████████████████████████| 938/938 [00:08<00:00, 109.38it/s]\n",
      "100%|████████████████████████████████████████████████████████████████████████████| 313/313 [00:01<00:00, 279.75it/s]\n",
      "  1%|▊                                                                             | 10/938 [00:00<00:09, 92.84it/s]"
     ]
    },
    {
     "name": "stdout",
     "output_type": "stream",
     "text": [
      "Epoch = 86\tSum of Training loss = 628.1984536270611\tCorrect Validation Examples = 9903\n"
     ]
    },
    {
     "name": "stderr",
     "output_type": "stream",
     "text": [
      "100%|████████████████████████████████████████████████████████████████████████████| 938/938 [00:08<00:00, 109.49it/s]\n",
      "100%|████████████████████████████████████████████████████████████████████████████| 313/313 [00:01<00:00, 286.11it/s]\n",
      "  1%|▊                                                                             | 10/938 [00:00<00:09, 96.41it/s]"
     ]
    },
    {
     "name": "stdout",
     "output_type": "stream",
     "text": [
      "Epoch = 87\tSum of Training loss = 582.3082263008691\tCorrect Validation Examples = 9904\n"
     ]
    },
    {
     "name": "stderr",
     "output_type": "stream",
     "text": [
      "100%|████████████████████████████████████████████████████████████████████████████| 938/938 [00:08<00:00, 110.40it/s]\n",
      "100%|████████████████████████████████████████████████████████████████████████████| 313/313 [00:01<00:00, 285.83it/s]\n",
      "  1%|▊                                                                             | 10/938 [00:00<00:09, 98.27it/s]"
     ]
    },
    {
     "name": "stdout",
     "output_type": "stream",
     "text": [
      "Epoch = 88\tSum of Training loss = 576.9427135251462\tCorrect Validation Examples = 9900\n"
     ]
    },
    {
     "name": "stderr",
     "output_type": "stream",
     "text": [
      "100%|████████████████████████████████████████████████████████████████████████████| 938/938 [00:08<00:00, 110.02it/s]\n",
      "100%|████████████████████████████████████████████████████████████████████████████| 313/313 [00:01<00:00, 285.75it/s]\n",
      "  1%|▊                                                                             | 10/938 [00:00<00:09, 97.35it/s]"
     ]
    },
    {
     "name": "stdout",
     "output_type": "stream",
     "text": [
      "Epoch = 89\tSum of Training loss = 564.2854675822891\tCorrect Validation Examples = 9906\n"
     ]
    },
    {
     "name": "stderr",
     "output_type": "stream",
     "text": [
      "100%|████████████████████████████████████████████████████████████████████████████| 938/938 [00:08<00:00, 109.00it/s]\n",
      "100%|████████████████████████████████████████████████████████████████████████████| 313/313 [00:01<00:00, 272.61it/s]\n",
      "  1%|▊                                                                              | 9/938 [00:00<00:10, 88.47it/s]"
     ]
    },
    {
     "name": "stdout",
     "output_type": "stream",
     "text": [
      "Epoch = 90\tSum of Training loss = 564.827677774243\tCorrect Validation Examples = 9901\n"
     ]
    },
    {
     "name": "stderr",
     "output_type": "stream",
     "text": [
      "100%|████████████████████████████████████████████████████████████████████████████| 938/938 [00:08<00:00, 109.40it/s]\n",
      "100%|████████████████████████████████████████████████████████████████████████████| 313/313 [00:01<00:00, 283.24it/s]\n",
      "  2%|█▋                                                                            | 20/938 [00:00<00:09, 97.49it/s]"
     ]
    },
    {
     "name": "stdout",
     "output_type": "stream",
     "text": [
      "Epoch = 91\tSum of Training loss = 549.3544377116486\tCorrect Validation Examples = 9896\n"
     ]
    },
    {
     "name": "stderr",
     "output_type": "stream",
     "text": [
      "100%|████████████████████████████████████████████████████████████████████████████| 938/938 [00:08<00:00, 110.26it/s]\n",
      "100%|████████████████████████████████████████████████████████████████████████████| 313/313 [00:01<00:00, 288.92it/s]\n",
      "  1%|▊                                                                             | 10/938 [00:00<00:09, 96.41it/s]"
     ]
    },
    {
     "name": "stdout",
     "output_type": "stream",
     "text": [
      "Epoch = 92\tSum of Training loss = 541.7013657737989\tCorrect Validation Examples = 9904\n"
     ]
    },
    {
     "name": "stderr",
     "output_type": "stream",
     "text": [
      "100%|████████████████████████████████████████████████████████████████████████████| 938/938 [00:08<00:00, 109.58it/s]\n",
      "100%|████████████████████████████████████████████████████████████████████████████| 313/313 [00:01<00:00, 288.64it/s]\n",
      "  1%|▊                                                                             | 10/938 [00:00<00:09, 96.41it/s]"
     ]
    },
    {
     "name": "stdout",
     "output_type": "stream",
     "text": [
      "Epoch = 93\tSum of Training loss = 527.2139513362199\tCorrect Validation Examples = 9905\n"
     ]
    },
    {
     "name": "stderr",
     "output_type": "stream",
     "text": [
      "100%|████████████████████████████████████████████████████████████████████████████| 938/938 [00:08<00:00, 109.43it/s]\n",
      "100%|████████████████████████████████████████████████████████████████████████████| 313/313 [00:01<00:00, 282.23it/s]\n",
      "  1%|▊                                                                             | 10/938 [00:00<00:09, 99.27it/s]"
     ]
    },
    {
     "name": "stdout",
     "output_type": "stream",
     "text": [
      "Epoch = 94\tSum of Training loss = 555.7765297333244\tCorrect Validation Examples = 9899\n"
     ]
    },
    {
     "name": "stderr",
     "output_type": "stream",
     "text": [
      "100%|████████████████████████████████████████████████████████████████████████████| 938/938 [00:08<00:00, 110.01it/s]\n",
      "100%|████████████████████████████████████████████████████████████████████████████| 313/313 [00:01<00:00, 292.49it/s]\n",
      "  1%|▊                                                                             | 10/938 [00:00<00:09, 94.61it/s]"
     ]
    },
    {
     "name": "stdout",
     "output_type": "stream",
     "text": [
      "Epoch = 95\tSum of Training loss = 510.29766203509644\tCorrect Validation Examples = 9899\n"
     ]
    },
    {
     "name": "stderr",
     "output_type": "stream",
     "text": [
      "100%|████████████████████████████████████████████████████████████████████████████| 938/938 [00:08<00:00, 109.26it/s]\n",
      "100%|████████████████████████████████████████████████████████████████████████████| 313/313 [00:01<00:00, 284.61it/s]\n",
      "  1%|▊                                                                             | 10/938 [00:00<00:09, 98.30it/s]"
     ]
    },
    {
     "name": "stdout",
     "output_type": "stream",
     "text": [
      "Epoch = 96\tSum of Training loss = 502.70746759918984\tCorrect Validation Examples = 9900\n"
     ]
    },
    {
     "name": "stderr",
     "output_type": "stream",
     "text": [
      "100%|████████████████████████████████████████████████████████████████████████████| 938/938 [00:08<00:00, 110.28it/s]\n",
      "100%|████████████████████████████████████████████████████████████████████████████| 313/313 [00:01<00:00, 280.27it/s]\n",
      "  1%|▊                                                                             | 10/938 [00:00<00:09, 95.49it/s]"
     ]
    },
    {
     "name": "stdout",
     "output_type": "stream",
     "text": [
      "Epoch = 97\tSum of Training loss = 510.6924338954268\tCorrect Validation Examples = 9897\n"
     ]
    },
    {
     "name": "stderr",
     "output_type": "stream",
     "text": [
      "100%|████████████████████████████████████████████████████████████████████████████| 938/938 [00:08<00:00, 110.06it/s]\n",
      "100%|████████████████████████████████████████████████████████████████████████████| 313/313 [00:01<00:00, 280.46it/s]\n",
      "  2%|█▋                                                                           | 21/938 [00:00<00:09, 100.21it/s]"
     ]
    },
    {
     "name": "stdout",
     "output_type": "stream",
     "text": [
      "Epoch = 98\tSum of Training loss = 468.6201472398825\tCorrect Validation Examples = 9900\n"
     ]
    },
    {
     "name": "stderr",
     "output_type": "stream",
     "text": [
      "100%|████████████████████████████████████████████████████████████████████████████| 938/938 [00:08<00:00, 109.90it/s]\n",
      "100%|████████████████████████████████████████████████████████████████████████████| 313/313 [00:01<00:00, 276.79it/s]\n",
      "  1%|▊                                                                             | 10/938 [00:00<00:09, 93.71it/s]"
     ]
    },
    {
     "name": "stdout",
     "output_type": "stream",
     "text": [
      "Epoch = 99\tSum of Training loss = 445.7056709395256\tCorrect Validation Examples = 9897\n"
     ]
    },
    {
     "name": "stderr",
     "output_type": "stream",
     "text": [
      "100%|████████████████████████████████████████████████████████████████████████████| 938/938 [00:08<00:00, 110.00it/s]\n",
      "100%|████████████████████████████████████████████████████████████████████████████| 313/313 [00:01<00:00, 283.75it/s]\n"
     ]
    },
    {
     "name": "stdout",
     "output_type": "stream",
     "text": [
      "Epoch = 100\tSum of Training loss = 486.71295703342184\tCorrect Validation Examples = 9904\n"
     ]
    },
    {
     "data": {
      "text/plain": [
       "<Figure size 1152x360 with 0 Axes>"
      ]
     },
     "metadata": {},
     "output_type": "display_data"
    }
   ],
   "source": [
    "model=CNN(dropout=True).to(device)\n",
    "optimizer = optim.SGD(model.parameters(), lr=1e-4)\n",
    "train_loss_array=[]\n",
    "valid_acc_array=[]\n",
    "for epoch in range(epochs):\n",
    "    #Traning \n",
    "    train_loss=0\n",
    "    for data in tqdm(trainloader):\n",
    "        images,labels=data\n",
    "        images=images.to(device)\n",
    "        labels=labels.to(device)\n",
    "        optimizer.zero_grad()\n",
    "        output=model(images)\n",
    "        loss = criterion(output, labels)\n",
    "        loss.backward()\n",
    "        optimizer.step()\n",
    "        train_loss += loss.item()\n",
    "    train_loss_array.append(train_loss)\n",
    "    #validation\n",
    "    correct=0\n",
    "    model.eval()\n",
    "    with torch.no_grad():\n",
    "        for data in tqdm(testloader):\n",
    "            images,labels=data\n",
    "            images=images.to(device)\n",
    "            labels=labels.to(device)\n",
    "            output=model(images)\n",
    "            _,pred=torch.max(output.data,1)\n",
    "            correct+=(pred == labels).sum().item()\n",
    "    valid_acc_array.append(correct)\n",
    "    model.train()\n",
    "    print(f\"Epoch = {epoch+1}\\tSum of Training loss = {train_loss}\\tCorrect Validation Examples = {correct}\")\n",
    "    \n",
    "fig,ax=plt.subplots(1,2,figsize=(16,5))\n",
    "ax[0].plot(np.arange(1,epochs+1),train_loss_array)\n",
    "ax[0].set(ylabel=\"Summed Training loss\",xlabel=\"Epochs\")\n",
    "ax[1].plot(np.arange(1,epochs+1),np.array(valid_acc_array)/len(testset)*100)\n",
    "ax[1].set(ylabel=\"Validation Accuracy\",xlabel=\"Epochs\")\n",
    "plt.savefig(\"SGD_dropout.png\",dpi=500)\n",
    "plt.clf()"
   ]
  },
  {
   "cell_type": "code",
   "execution_count": 10,
   "id": "allied-muslim",
   "metadata": {},
   "outputs": [
    {
     "name": "stdout",
     "output_type": "stream",
     "text": [
      "Maximum Accuracy achieved = 99.06\n"
     ]
    }
   ],
   "source": [
    "print(f'Maximum Accuracy achieved = {max(valid_acc_array)/len(testset)*100}')\n",
    "all_losses.append(train_loss_array)"
   ]
  },
  {
   "cell_type": "markdown",
   "id": "lesbian-ferry",
   "metadata": {},
   "source": [
    "## SGD with Regularization and without Dropout"
   ]
  },
  {
   "cell_type": "code",
   "execution_count": 11,
   "id": "timely-compiler",
   "metadata": {},
   "outputs": [
    {
     "name": "stderr",
     "output_type": "stream",
     "text": [
      "100%|████████████████████████████████████████████████████████████████████████████| 938/938 [00:08<00:00, 108.13it/s]\n",
      "100%|████████████████████████████████████████████████████████████████████████████| 313/313 [00:01<00:00, 279.46it/s]\n",
      "  1%|▊                                                                             | 10/938 [00:00<00:09, 98.26it/s]"
     ]
    },
    {
     "name": "stdout",
     "output_type": "stream",
     "text": [
      "Epoch = 1\tSum of Training loss = 74565.70112991333\tCorrect Validation Examples = 8746\n"
     ]
    },
    {
     "name": "stderr",
     "output_type": "stream",
     "text": [
      "100%|████████████████████████████████████████████████████████████████████████████| 938/938 [00:08<00:00, 107.91it/s]\n",
      "100%|████████████████████████████████████████████████████████████████████████████| 313/313 [00:01<00:00, 272.04it/s]\n",
      "  2%|█▋                                                                            | 20/938 [00:00<00:09, 95.67it/s]"
     ]
    },
    {
     "name": "stdout",
     "output_type": "stream",
     "text": [
      "Epoch = 2\tSum of Training loss = 21724.75870847702\tCorrect Validation Examples = 9203\n"
     ]
    },
    {
     "name": "stderr",
     "output_type": "stream",
     "text": [
      "100%|████████████████████████████████████████████████████████████████████████████| 938/938 [00:08<00:00, 108.76it/s]\n",
      "100%|████████████████████████████████████████████████████████████████████████████| 313/313 [00:01<00:00, 280.46it/s]\n",
      "  1%|▊                                                                             | 10/938 [00:00<00:09, 92.85it/s]"
     ]
    },
    {
     "name": "stdout",
     "output_type": "stream",
     "text": [
      "Epoch = 3\tSum of Training loss = 15538.129435062408\tCorrect Validation Examples = 9422\n"
     ]
    },
    {
     "name": "stderr",
     "output_type": "stream",
     "text": [
      "100%|████████████████████████████████████████████████████████████████████████████| 938/938 [00:08<00:00, 108.24it/s]\n",
      "100%|████████████████████████████████████████████████████████████████████████████| 313/313 [00:01<00:00, 275.54it/s]\n",
      "  1%|▊                                                                             | 10/938 [00:00<00:09, 96.41it/s]"
     ]
    },
    {
     "name": "stdout",
     "output_type": "stream",
     "text": [
      "Epoch = 4\tSum of Training loss = 12146.960253477097\tCorrect Validation Examples = 9554\n"
     ]
    },
    {
     "name": "stderr",
     "output_type": "stream",
     "text": [
      "100%|████████████████████████████████████████████████████████████████████████████| 938/938 [00:08<00:00, 108.24it/s]\n",
      "100%|████████████████████████████████████████████████████████████████████████████| 313/313 [00:01<00:00, 279.70it/s]\n",
      "  1%|▊                                                                             | 10/938 [00:00<00:09, 97.35it/s]"
     ]
    },
    {
     "name": "stdout",
     "output_type": "stream",
     "text": [
      "Epoch = 5\tSum of Training loss = 10028.224506616592\tCorrect Validation Examples = 9629\n"
     ]
    },
    {
     "name": "stderr",
     "output_type": "stream",
     "text": [
      "100%|████████████████████████████████████████████████████████████████████████████| 938/938 [00:08<00:00, 108.89it/s]\n",
      "100%|████████████████████████████████████████████████████████████████████████████| 313/313 [00:01<00:00, 282.48it/s]\n",
      "  1%|▊                                                                             | 10/938 [00:00<00:09, 93.71it/s]"
     ]
    },
    {
     "name": "stdout",
     "output_type": "stream",
     "text": [
      "Epoch = 6\tSum of Training loss = 8599.615125656128\tCorrect Validation Examples = 9683\n"
     ]
    },
    {
     "name": "stderr",
     "output_type": "stream",
     "text": [
      "100%|████████████████████████████████████████████████████████████████████████████| 938/938 [00:08<00:00, 108.93it/s]\n",
      "100%|████████████████████████████████████████████████████████████████████████████| 313/313 [00:01<00:00, 286.81it/s]\n",
      "  1%|▊                                                                             | 10/938 [00:00<00:09, 94.59it/s]"
     ]
    },
    {
     "name": "stdout",
     "output_type": "stream",
     "text": [
      "Epoch = 7\tSum of Training loss = 7575.842904448509\tCorrect Validation Examples = 9710\n"
     ]
    },
    {
     "name": "stderr",
     "output_type": "stream",
     "text": [
      "100%|████████████████████████████████████████████████████████████████████████████| 938/938 [00:08<00:00, 109.01it/s]\n",
      "100%|████████████████████████████████████████████████████████████████████████████| 313/313 [00:01<00:00, 280.45it/s]\n",
      "  1%|▊                                                                             | 10/938 [00:00<00:09, 95.49it/s]"
     ]
    },
    {
     "name": "stdout",
     "output_type": "stream",
     "text": [
      "Epoch = 8\tSum of Training loss = 6850.388573527336\tCorrect Validation Examples = 9733\n"
     ]
    },
    {
     "name": "stderr",
     "output_type": "stream",
     "text": [
      "100%|████████████████████████████████████████████████████████████████████████████| 938/938 [00:08<00:00, 108.89it/s]\n",
      "100%|████████████████████████████████████████████████████████████████████████████| 313/313 [00:01<00:00, 279.70it/s]\n",
      "  1%|▊                                                                             | 10/938 [00:00<00:09, 93.70it/s]"
     ]
    },
    {
     "name": "stdout",
     "output_type": "stream",
     "text": [
      "Epoch = 9\tSum of Training loss = 6336.343897819519\tCorrect Validation Examples = 9721\n"
     ]
    },
    {
     "name": "stderr",
     "output_type": "stream",
     "text": [
      "100%|████████████████████████████████████████████████████████████████████████████| 938/938 [00:08<00:00, 108.12it/s]\n",
      "100%|████████████████████████████████████████████████████████████████████████████| 313/313 [00:01<00:00, 279.70it/s]\n",
      "  1%|▊                                                                             | 10/938 [00:00<00:09, 99.28it/s]"
     ]
    },
    {
     "name": "stdout",
     "output_type": "stream",
     "text": [
      "Epoch = 10\tSum of Training loss = 5857.915752649307\tCorrect Validation Examples = 9753\n"
     ]
    },
    {
     "name": "stderr",
     "output_type": "stream",
     "text": [
      "100%|████████████████████████████████████████████████████████████████████████████| 938/938 [00:08<00:00, 108.40it/s]\n",
      "100%|████████████████████████████████████████████████████████████████████████████| 313/313 [00:01<00:00, 282.22it/s]\n",
      "  1%|▊                                                                             | 10/938 [00:00<00:09, 97.35it/s]"
     ]
    },
    {
     "name": "stdout",
     "output_type": "stream",
     "text": [
      "Epoch = 11\tSum of Training loss = 5491.976347327232\tCorrect Validation Examples = 9787\n"
     ]
    },
    {
     "name": "stderr",
     "output_type": "stream",
     "text": [
      "100%|████████████████████████████████████████████████████████████████████████████| 938/938 [00:08<00:00, 108.10it/s]\n",
      "100%|████████████████████████████████████████████████████████████████████████████| 313/313 [00:01<00:00, 284.79it/s]\n",
      "  1%|▊                                                                             | 10/938 [00:00<00:09, 93.71it/s]"
     ]
    },
    {
     "name": "stdout",
     "output_type": "stream",
     "text": [
      "Epoch = 12\tSum of Training loss = 5232.920854091644\tCorrect Validation Examples = 9789\n"
     ]
    },
    {
     "name": "stderr",
     "output_type": "stream",
     "text": [
      "100%|████████████████████████████████████████████████████████████████████████████| 938/938 [00:08<00:00, 109.09it/s]\n",
      "100%|████████████████████████████████████████████████████████████████████████████| 313/313 [00:01<00:00, 278.96it/s]\n",
      "  1%|▊                                                                             | 10/938 [00:00<00:09, 95.49it/s]"
     ]
    },
    {
     "name": "stdout",
     "output_type": "stream",
     "text": [
      "Epoch = 13\tSum of Training loss = 4941.476200997829\tCorrect Validation Examples = 9794\n"
     ]
    },
    {
     "name": "stderr",
     "output_type": "stream",
     "text": [
      "100%|████████████████████████████████████████████████████████████████████████████| 938/938 [00:08<00:00, 109.62it/s]\n",
      "100%|████████████████████████████████████████████████████████████████████████████| 313/313 [00:01<00:00, 274.82it/s]\n",
      "  1%|▊                                                                             | 10/938 [00:00<00:09, 94.59it/s]"
     ]
    },
    {
     "name": "stdout",
     "output_type": "stream",
     "text": [
      "Epoch = 14\tSum of Training loss = 4757.019130825996\tCorrect Validation Examples = 9795\n"
     ]
    },
    {
     "name": "stderr",
     "output_type": "stream",
     "text": [
      "100%|████████████████████████████████████████████████████████████████████████████| 938/938 [00:08<00:00, 109.38it/s]\n",
      "100%|████████████████████████████████████████████████████████████████████████████| 313/313 [00:01<00:00, 279.81it/s]\n",
      "  2%|█▋                                                                            | 21/938 [00:00<00:09, 98.89it/s]"
     ]
    },
    {
     "name": "stdout",
     "output_type": "stream",
     "text": [
      "Epoch = 15\tSum of Training loss = 4563.758766710758\tCorrect Validation Examples = 9803\n"
     ]
    },
    {
     "name": "stderr",
     "output_type": "stream",
     "text": [
      "100%|████████████████████████████████████████████████████████████████████████████| 938/938 [00:09<00:00, 103.63it/s]\n",
      "100%|████████████████████████████████████████████████████████████████████████████| 313/313 [00:01<00:00, 231.82it/s]\n",
      "  2%|█▍                                                                            | 18/938 [00:00<00:10, 87.61it/s]"
     ]
    },
    {
     "name": "stdout",
     "output_type": "stream",
     "text": [
      "Epoch = 16\tSum of Training loss = 4417.517806649208\tCorrect Validation Examples = 9807\n"
     ]
    },
    {
     "name": "stderr",
     "output_type": "stream",
     "text": [
      "100%|█████████████████████████████████████████████████████████████████████████████| 938/938 [00:09<00:00, 96.70it/s]\n",
      "100%|████████████████████████████████████████████████████████████████████████████| 313/313 [00:01<00:00, 262.29it/s]\n",
      "  1%|▋                                                                              | 8/938 [00:00<00:11, 78.20it/s]"
     ]
    },
    {
     "name": "stdout",
     "output_type": "stream",
     "text": [
      "Epoch = 17\tSum of Training loss = 4254.655748009682\tCorrect Validation Examples = 9822\n"
     ]
    },
    {
     "name": "stderr",
     "output_type": "stream",
     "text": [
      "100%|█████████████████████████████████████████████████████████████████████████████| 938/938 [00:09<00:00, 99.31it/s]\n",
      "100%|████████████████████████████████████████████████████████████████████████████| 313/313 [00:01<00:00, 251.23it/s]\n",
      "  1%|▊                                                                              | 9/938 [00:00<00:11, 84.34it/s]"
     ]
    },
    {
     "name": "stdout",
     "output_type": "stream",
     "text": [
      "Epoch = 18\tSum of Training loss = 4141.129955559969\tCorrect Validation Examples = 9835\n"
     ]
    },
    {
     "name": "stderr",
     "output_type": "stream",
     "text": [
      "100%|█████████████████████████████████████████████████████████████████████████████| 938/938 [00:09<00:00, 99.54it/s]\n",
      "100%|████████████████████████████████████████████████████████████████████████████| 313/313 [00:01<00:00, 265.64it/s]\n",
      "  1%|▊                                                                             | 10/938 [00:00<00:09, 92.84it/s]"
     ]
    },
    {
     "name": "stdout",
     "output_type": "stream",
     "text": [
      "Epoch = 19\tSum of Training loss = 4067.023316502571\tCorrect Validation Examples = 9826\n"
     ]
    },
    {
     "name": "stderr",
     "output_type": "stream",
     "text": [
      "100%|████████████████████████████████████████████████████████████████████████████| 938/938 [00:09<00:00, 100.78it/s]\n",
      "100%|████████████████████████████████████████████████████████████████████████████| 313/313 [00:01<00:00, 257.56it/s]\n",
      "  1%|▊                                                                              | 9/938 [00:00<00:10, 85.94it/s]"
     ]
    },
    {
     "name": "stdout",
     "output_type": "stream",
     "text": [
      "Epoch = 20\tSum of Training loss = 3873.566700130701\tCorrect Validation Examples = 9807\n"
     ]
    },
    {
     "name": "stderr",
     "output_type": "stream",
     "text": [
      "100%|█████████████████████████████████████████████████████████████████████████████| 938/938 [00:09<00:00, 98.21it/s]\n",
      "100%|████████████████████████████████████████████████████████████████████████████| 313/313 [00:01<00:00, 304.40it/s]\n",
      "  1%|▉                                                                            | 12/938 [00:00<00:08, 113.51it/s]"
     ]
    },
    {
     "name": "stdout",
     "output_type": "stream",
     "text": [
      "Epoch = 21\tSum of Training loss = 3843.475147873163\tCorrect Validation Examples = 9825\n"
     ]
    },
    {
     "name": "stderr",
     "output_type": "stream",
     "text": [
      "100%|████████████████████████████████████████████████████████████████████████████| 938/938 [00:08<00:00, 115.84it/s]\n",
      "100%|████████████████████████████████████████████████████████████████████████████| 313/313 [00:01<00:00, 288.72it/s]\n",
      "  1%|▉                                                                            | 11/938 [00:00<00:08, 106.05it/s]"
     ]
    },
    {
     "name": "stdout",
     "output_type": "stream",
     "text": [
      "Epoch = 22\tSum of Training loss = 3708.012809753418\tCorrect Validation Examples = 9847\n"
     ]
    },
    {
     "name": "stderr",
     "output_type": "stream",
     "text": [
      "100%|████████████████████████████████████████████████████████████████████████████| 938/938 [00:07<00:00, 120.77it/s]\n",
      "100%|████████████████████████████████████████████████████████████████████████████| 313/313 [00:00<00:00, 315.09it/s]\n",
      "  1%|▉                                                                            | 11/938 [00:00<00:08, 108.16it/s]"
     ]
    },
    {
     "name": "stdout",
     "output_type": "stream",
     "text": [
      "Epoch = 23\tSum of Training loss = 3633.8382162451744\tCorrect Validation Examples = 9830\n"
     ]
    },
    {
     "name": "stderr",
     "output_type": "stream",
     "text": [
      "100%|████████████████████████████████████████████████████████████████████████████| 938/938 [00:07<00:00, 120.63it/s]\n",
      "100%|████████████████████████████████████████████████████████████████████████████| 313/313 [00:01<00:00, 311.67it/s]\n",
      "  1%|▉                                                                            | 11/938 [00:00<00:08, 104.02it/s]"
     ]
    },
    {
     "name": "stdout",
     "output_type": "stream",
     "text": [
      "Epoch = 24\tSum of Training loss = 3610.3956679701805\tCorrect Validation Examples = 9821\n"
     ]
    },
    {
     "name": "stderr",
     "output_type": "stream",
     "text": [
      "100%|████████████████████████████████████████████████████████████████████████████| 938/938 [00:07<00:00, 121.01it/s]\n",
      "100%|████████████████████████████████████████████████████████████████████████████| 313/313 [00:00<00:00, 314.15it/s]\n",
      "  1%|▉                                                                            | 11/938 [00:00<00:08, 107.08it/s]"
     ]
    },
    {
     "name": "stdout",
     "output_type": "stream",
     "text": [
      "Epoch = 25\tSum of Training loss = 3519.60934561491\tCorrect Validation Examples = 9840\n"
     ]
    },
    {
     "name": "stderr",
     "output_type": "stream",
     "text": [
      "100%|████████████████████████████████████████████████████████████████████████████| 938/938 [00:07<00:00, 119.43it/s]\n",
      "100%|████████████████████████████████████████████████████████████████████████████| 313/313 [00:01<00:00, 310.48it/s]\n",
      "  1%|▉                                                                            | 11/938 [00:00<00:08, 104.54it/s]"
     ]
    },
    {
     "name": "stdout",
     "output_type": "stream",
     "text": [
      "Epoch = 26\tSum of Training loss = 3463.61588332057\tCorrect Validation Examples = 9839\n"
     ]
    },
    {
     "name": "stderr",
     "output_type": "stream",
     "text": [
      "100%|████████████████████████████████████████████████████████████████████████████| 938/938 [00:08<00:00, 115.65it/s]\n",
      "100%|████████████████████████████████████████████████████████████████████████████| 313/313 [00:01<00:00, 295.35it/s]\n",
      "  1%|▉                                                                            | 11/938 [00:00<00:08, 103.08it/s]"
     ]
    },
    {
     "name": "stdout",
     "output_type": "stream",
     "text": [
      "Epoch = 27\tSum of Training loss = 3370.7099462151527\tCorrect Validation Examples = 9851\n"
     ]
    },
    {
     "name": "stderr",
     "output_type": "stream",
     "text": [
      "100%|████████████████████████████████████████████████████████████████████████████| 938/938 [00:08<00:00, 114.16it/s]\n",
      "100%|████████████████████████████████████████████████████████████████████████████| 313/313 [00:01<00:00, 297.76it/s]\n",
      "  1%|▉                                                                            | 11/938 [00:00<00:08, 104.02it/s]"
     ]
    },
    {
     "name": "stdout",
     "output_type": "stream",
     "text": [
      "Epoch = 28\tSum of Training loss = 3336.4838058650494\tCorrect Validation Examples = 9854\n"
     ]
    },
    {
     "name": "stderr",
     "output_type": "stream",
     "text": [
      "100%|████████████████████████████████████████████████████████████████████████████| 938/938 [00:07<00:00, 118.72it/s]\n",
      "100%|████████████████████████████████████████████████████████████████████████████| 313/313 [00:00<00:00, 313.84it/s]\n",
      "  1%|▉                                                                            | 12/938 [00:00<00:08, 110.39it/s]"
     ]
    },
    {
     "name": "stdout",
     "output_type": "stream",
     "text": [
      "Epoch = 29\tSum of Training loss = 3283.716143131256\tCorrect Validation Examples = 9853\n"
     ]
    },
    {
     "name": "stderr",
     "output_type": "stream",
     "text": [
      "100%|████████████████████████████████████████████████████████████████████████████| 938/938 [00:07<00:00, 119.45it/s]\n",
      "100%|████████████████████████████████████████████████████████████████████████████| 313/313 [00:01<00:00, 240.20it/s]\n",
      "  1%|▉                                                                            | 11/938 [00:00<00:09, 102.12it/s]"
     ]
    },
    {
     "name": "stdout",
     "output_type": "stream",
     "text": [
      "Epoch = 30\tSum of Training loss = 3218.535389751196\tCorrect Validation Examples = 9834\n"
     ]
    },
    {
     "name": "stderr",
     "output_type": "stream",
     "text": [
      "100%|████████████████████████████████████████████████████████████████████████████| 938/938 [00:08<00:00, 116.70it/s]\n",
      "100%|████████████████████████████████████████████████████████████████████████████| 313/313 [00:01<00:00, 308.52it/s]\n",
      "  1%|▉                                                                            | 11/938 [00:00<00:08, 107.08it/s]"
     ]
    },
    {
     "name": "stdout",
     "output_type": "stream",
     "text": [
      "Epoch = 31\tSum of Training loss = 3178.6181628108025\tCorrect Validation Examples = 9863\n"
     ]
    },
    {
     "name": "stderr",
     "output_type": "stream",
     "text": [
      "100%|████████████████████████████████████████████████████████████████████████████| 938/938 [00:08<00:00, 116.04it/s]\n",
      "100%|████████████████████████████████████████████████████████████████████████████| 313/313 [00:00<00:00, 314.07it/s]\n",
      "  2%|█▉                                                                           | 23/938 [00:00<00:08, 113.26it/s]"
     ]
    },
    {
     "name": "stdout",
     "output_type": "stream",
     "text": [
      "Epoch = 32\tSum of Training loss = 3145.111194998026\tCorrect Validation Examples = 9850\n"
     ]
    },
    {
     "name": "stderr",
     "output_type": "stream",
     "text": [
      "100%|████████████████████████████████████████████████████████████████████████████| 938/938 [00:07<00:00, 121.34it/s]\n",
      "100%|████████████████████████████████████████████████████████████████████████████| 313/313 [00:00<00:00, 315.73it/s]\n",
      "  1%|▉                                                                            | 12/938 [00:00<00:08, 111.41it/s]"
     ]
    },
    {
     "name": "stdout",
     "output_type": "stream",
     "text": [
      "Epoch = 33\tSum of Training loss = 3120.429541736841\tCorrect Validation Examples = 9859\n"
     ]
    },
    {
     "name": "stderr",
     "output_type": "stream",
     "text": [
      "100%|████████████████████████████████████████████████████████████████████████████| 938/938 [00:07<00:00, 119.97it/s]\n",
      "100%|████████████████████████████████████████████████████████████████████████████| 313/313 [00:00<00:00, 316.68it/s]\n",
      "  1%|▉                                                                            | 11/938 [00:00<00:08, 107.08it/s]"
     ]
    },
    {
     "name": "stdout",
     "output_type": "stream",
     "text": [
      "Epoch = 34\tSum of Training loss = 3059.6262340843678\tCorrect Validation Examples = 9859\n"
     ]
    },
    {
     "name": "stderr",
     "output_type": "stream",
     "text": [
      "100%|████████████████████████████████████████████████████████████████████████████| 938/938 [00:07<00:00, 120.69it/s]\n",
      "100%|████████████████████████████████████████████████████████████████████████████| 313/313 [00:00<00:00, 314.15it/s]\n",
      "  1%|▉                                                                            | 11/938 [00:00<00:08, 108.10it/s]"
     ]
    },
    {
     "name": "stdout",
     "output_type": "stream",
     "text": [
      "Epoch = 35\tSum of Training loss = 3018.13470351696\tCorrect Validation Examples = 9848\n"
     ]
    },
    {
     "name": "stderr",
     "output_type": "stream",
     "text": [
      "100%|████████████████████████████████████████████████████████████████████████████| 938/938 [00:07<00:00, 120.45it/s]\n",
      "100%|████████████████████████████████████████████████████████████████████████████| 313/313 [00:00<00:00, 315.40it/s]\n",
      "  1%|▉                                                                            | 11/938 [00:00<00:08, 106.05it/s]"
     ]
    },
    {
     "name": "stdout",
     "output_type": "stream",
     "text": [
      "Epoch = 36\tSum of Training loss = 2997.501065939665\tCorrect Validation Examples = 9859\n"
     ]
    },
    {
     "name": "stderr",
     "output_type": "stream",
     "text": [
      "100%|████████████████████████████████████████████████████████████████████████████| 938/938 [00:08<00:00, 116.20it/s]\n",
      "100%|████████████████████████████████████████████████████████████████████████████| 313/313 [00:01<00:00, 295.73it/s]\n",
      "  2%|█▊                                                                           | 22/938 [00:00<00:08, 106.64it/s]"
     ]
    },
    {
     "name": "stdout",
     "output_type": "stream",
     "text": [
      "Epoch = 37\tSum of Training loss = 2946.261778354645\tCorrect Validation Examples = 9862\n"
     ]
    },
    {
     "name": "stderr",
     "output_type": "stream",
     "text": [
      "100%|████████████████████████████████████████████████████████████████████████████| 938/938 [00:07<00:00, 118.12it/s]\n",
      "100%|████████████████████████████████████████████████████████████████████████████| 313/313 [00:01<00:00, 308.90it/s]\n",
      "  1%|▉                                                                            | 11/938 [00:00<00:08, 107.08it/s]"
     ]
    },
    {
     "name": "stdout",
     "output_type": "stream",
     "text": [
      "Epoch = 38\tSum of Training loss = 2956.217404026538\tCorrect Validation Examples = 9862\n"
     ]
    },
    {
     "name": "stderr",
     "output_type": "stream",
     "text": [
      "100%|████████████████████████████████████████████████████████████████████████████| 938/938 [00:08<00:00, 116.20it/s]\n",
      "100%|████████████████████████████████████████████████████████████████████████████| 313/313 [00:01<00:00, 311.66it/s]\n",
      "  2%|█▊                                                                           | 22/938 [00:00<00:08, 109.20it/s]"
     ]
    },
    {
     "name": "stdout",
     "output_type": "stream",
     "text": [
      "Epoch = 39\tSum of Training loss = 2879.0542187690735\tCorrect Validation Examples = 9876\n"
     ]
    },
    {
     "name": "stderr",
     "output_type": "stream",
     "text": [
      "100%|████████████████████████████████████████████████████████████████████████████| 938/938 [00:08<00:00, 111.83it/s]\n",
      "100%|████████████████████████████████████████████████████████████████████████████| 313/313 [00:01<00:00, 304.40it/s]\n",
      "  1%|▊                                                                             | 10/938 [00:00<00:09, 93.71it/s]"
     ]
    },
    {
     "name": "stdout",
     "output_type": "stream",
     "text": [
      "Epoch = 40\tSum of Training loss = 2890.445970773697\tCorrect Validation Examples = 9864\n"
     ]
    },
    {
     "name": "stderr",
     "output_type": "stream",
     "text": [
      "100%|████████████████████████████████████████████████████████████████████████████| 938/938 [00:08<00:00, 114.84it/s]\n",
      "100%|████████████████████████████████████████████████████████████████████████████| 313/313 [00:01<00:00, 277.19it/s]\n",
      "  1%|▊                                                                             | 10/938 [00:00<00:09, 95.49it/s]"
     ]
    },
    {
     "name": "stdout",
     "output_type": "stream",
     "text": [
      "Epoch = 41\tSum of Training loss = 2835.8322320729494\tCorrect Validation Examples = 9864\n"
     ]
    },
    {
     "name": "stderr",
     "output_type": "stream",
     "text": [
      "100%|████████████████████████████████████████████████████████████████████████████| 938/938 [00:07<00:00, 118.19it/s]\n",
      "100%|████████████████████████████████████████████████████████████████████████████| 313/313 [00:00<00:00, 314.78it/s]\n",
      "  1%|▉                                                                            | 11/938 [00:00<00:08, 104.05it/s]"
     ]
    },
    {
     "name": "stdout",
     "output_type": "stream",
     "text": [
      "Epoch = 42\tSum of Training loss = 2821.848826497793\tCorrect Validation Examples = 9867\n"
     ]
    },
    {
     "name": "stderr",
     "output_type": "stream",
     "text": [
      "100%|████████████████████████████████████████████████████████████████████████████| 938/938 [00:08<00:00, 115.90it/s]\n",
      "100%|████████████████████████████████████████████████████████████████████████████| 313/313 [00:01<00:00, 267.10it/s]\n",
      "  1%|▉                                                                            | 11/938 [00:00<00:08, 105.04it/s]"
     ]
    },
    {
     "name": "stdout",
     "output_type": "stream",
     "text": [
      "Epoch = 43\tSum of Training loss = 2796.7942182421684\tCorrect Validation Examples = 9864\n"
     ]
    },
    {
     "name": "stderr",
     "output_type": "stream",
     "text": [
      "100%|████████████████████████████████████████████████████████████████████████████| 938/938 [00:08<00:00, 111.24it/s]\n",
      "100%|████████████████████████████████████████████████████████████████████████████| 313/313 [00:01<00:00, 265.74it/s]\n",
      "  1%|▉                                                                            | 11/938 [00:00<00:09, 101.21it/s]"
     ]
    },
    {
     "name": "stdout",
     "output_type": "stream",
     "text": [
      "Epoch = 44\tSum of Training loss = 2808.409618332982\tCorrect Validation Examples = 9869\n"
     ]
    },
    {
     "name": "stderr",
     "output_type": "stream",
     "text": [
      "100%|████████████████████████████████████████████████████████████████████████████| 938/938 [00:08<00:00, 112.99it/s]\n",
      "100%|████████████████████████████████████████████████████████████████████████████| 313/313 [00:01<00:00, 305.55it/s]\n",
      "  1%|▉                                                                            | 11/938 [00:00<00:09, 101.19it/s]"
     ]
    },
    {
     "name": "stdout",
     "output_type": "stream",
     "text": [
      "Epoch = 45\tSum of Training loss = 2764.6973741054535\tCorrect Validation Examples = 9873\n"
     ]
    },
    {
     "name": "stderr",
     "output_type": "stream",
     "text": [
      "100%|████████████████████████████████████████████████████████████████████████████| 938/938 [00:08<00:00, 113.73it/s]\n",
      "100%|████████████████████████████████████████████████████████████████████████████| 313/313 [00:01<00:00, 296.07it/s]\n",
      "  1%|▉                                                                            | 12/938 [00:00<00:08, 109.38it/s]"
     ]
    },
    {
     "name": "stdout",
     "output_type": "stream",
     "text": [
      "Epoch = 46\tSum of Training loss = 2758.611985772848\tCorrect Validation Examples = 9874\n"
     ]
    },
    {
     "name": "stderr",
     "output_type": "stream",
     "text": [
      "100%|████████████████████████████████████████████████████████████████████████████| 938/938 [00:08<00:00, 116.45it/s]\n",
      "100%|████████████████████████████████████████████████████████████████████████████| 313/313 [00:01<00:00, 300.51it/s]\n",
      "  2%|█▊                                                                           | 22/938 [00:00<00:08, 107.43it/s]"
     ]
    },
    {
     "name": "stdout",
     "output_type": "stream",
     "text": [
      "Epoch = 47\tSum of Training loss = 2707.878251850605\tCorrect Validation Examples = 9879\n"
     ]
    },
    {
     "name": "stderr",
     "output_type": "stream",
     "text": [
      "100%|████████████████████████████████████████████████████████████████████████████| 938/938 [00:08<00:00, 116.21it/s]\n",
      "100%|████████████████████████████████████████████████████████████████████████████| 313/313 [00:00<00:00, 316.37it/s]\n",
      "  1%|▉                                                                            | 11/938 [00:00<00:08, 105.04it/s]"
     ]
    },
    {
     "name": "stdout",
     "output_type": "stream",
     "text": [
      "Epoch = 48\tSum of Training loss = 2705.5816390514374\tCorrect Validation Examples = 9868\n"
     ]
    },
    {
     "name": "stderr",
     "output_type": "stream",
     "text": [
      "100%|████████████████████████████████████████████████████████████████████████████| 938/938 [00:08<00:00, 115.41it/s]\n",
      "100%|████████████████████████████████████████████████████████████████████████████| 313/313 [00:01<00:00, 288.45it/s]\n",
      "  1%|▊                                                                             | 10/938 [00:00<00:09, 93.71it/s]"
     ]
    },
    {
     "name": "stdout",
     "output_type": "stream",
     "text": [
      "Epoch = 49\tSum of Training loss = 2710.678428530693\tCorrect Validation Examples = 9856\n"
     ]
    },
    {
     "name": "stderr",
     "output_type": "stream",
     "text": [
      "100%|████████████████████████████████████████████████████████████████████████████| 938/938 [00:07<00:00, 118.09it/s]\n",
      "100%|████████████████████████████████████████████████████████████████████████████| 313/313 [00:00<00:00, 320.15it/s]\n",
      "  1%|▉                                                                            | 11/938 [00:00<00:08, 106.05it/s]"
     ]
    },
    {
     "name": "stdout",
     "output_type": "stream",
     "text": [
      "Epoch = 50\tSum of Training loss = 2666.1234126985073\tCorrect Validation Examples = 9875\n"
     ]
    },
    {
     "name": "stderr",
     "output_type": "stream",
     "text": [
      "100%|████████████████████████████████████████████████████████████████████████████| 938/938 [00:07<00:00, 121.13it/s]\n",
      "100%|████████████████████████████████████████████████████████████████████████████| 313/313 [00:00<00:00, 319.92it/s]\n",
      "  1%|▉                                                                            | 11/938 [00:00<00:08, 105.04it/s]"
     ]
    },
    {
     "name": "stdout",
     "output_type": "stream",
     "text": [
      "Epoch = 51\tSum of Training loss = 2652.1392215788364\tCorrect Validation Examples = 9876\n"
     ]
    },
    {
     "name": "stderr",
     "output_type": "stream",
     "text": [
      "100%|████████████████████████████████████████████████████████████████████████████| 938/938 [00:07<00:00, 120.06it/s]\n",
      "100%|████████████████████████████████████████████████████████████████████████████| 313/313 [00:01<00:00, 304.39it/s]\n",
      "  2%|█▊                                                                           | 22/938 [00:00<00:08, 107.00it/s]"
     ]
    },
    {
     "name": "stdout",
     "output_type": "stream",
     "text": [
      "Epoch = 52\tSum of Training loss = 2612.328337356448\tCorrect Validation Examples = 9875\n"
     ]
    },
    {
     "name": "stderr",
     "output_type": "stream",
     "text": [
      "100%|████████████████████████████████████████████████████████████████████████████| 938/938 [00:07<00:00, 118.79it/s]\n",
      "100%|████████████████████████████████████████████████████████████████████████████| 313/313 [00:00<00:00, 315.40it/s]\n",
      "  1%|▉                                                                            | 11/938 [00:00<00:08, 106.05it/s]"
     ]
    },
    {
     "name": "stdout",
     "output_type": "stream",
     "text": [
      "Epoch = 53\tSum of Training loss = 2623.6364160478115\tCorrect Validation Examples = 9882\n"
     ]
    },
    {
     "name": "stderr",
     "output_type": "stream",
     "text": [
      "100%|████████████████████████████████████████████████████████████████████████████| 938/938 [00:08<00:00, 115.73it/s]\n",
      "100%|████████████████████████████████████████████████████████████████████████████| 313/313 [00:01<00:00, 306.18it/s]\n",
      "  2%|█▊                                                                           | 22/938 [00:00<00:08, 106.11it/s]"
     ]
    },
    {
     "name": "stdout",
     "output_type": "stream",
     "text": [
      "Epoch = 54\tSum of Training loss = 2605.6022258996964\tCorrect Validation Examples = 9873\n"
     ]
    },
    {
     "name": "stderr",
     "output_type": "stream",
     "text": [
      "100%|████████████████████████████████████████████████████████████████████████████| 938/938 [00:07<00:00, 119.86it/s]\n",
      "100%|████████████████████████████████████████████████████████████████████████████| 313/313 [00:00<00:00, 317.96it/s]\n",
      "  2%|█▉                                                                           | 23/938 [00:00<00:08, 111.16it/s]"
     ]
    },
    {
     "name": "stdout",
     "output_type": "stream",
     "text": [
      "Epoch = 55\tSum of Training loss = 2550.427316993475\tCorrect Validation Examples = 9877\n"
     ]
    },
    {
     "name": "stderr",
     "output_type": "stream",
     "text": [
      "100%|████████████████████████████████████████████████████████████████████████████| 938/938 [00:07<00:00, 122.49it/s]\n",
      "100%|████████████████████████████████████████████████████████████████████████████| 313/313 [00:00<00:00, 318.45it/s]\n",
      "  1%|▉                                                                            | 11/938 [00:00<00:08, 106.05it/s]"
     ]
    },
    {
     "name": "stdout",
     "output_type": "stream",
     "text": [
      "Epoch = 56\tSum of Training loss = 2591.784258246422\tCorrect Validation Examples = 9882\n"
     ]
    },
    {
     "name": "stderr",
     "output_type": "stream",
     "text": [
      "100%|████████████████████████████████████████████████████████████████████████████| 938/938 [00:07<00:00, 122.30it/s]\n",
      "100%|████████████████████████████████████████████████████████████████████████████| 313/313 [00:00<00:00, 319.48it/s]\n",
      "  1%|▉                                                                            | 11/938 [00:00<00:08, 107.08it/s]"
     ]
    },
    {
     "name": "stdout",
     "output_type": "stream",
     "text": [
      "Epoch = 57\tSum of Training loss = 2555.6389419585466\tCorrect Validation Examples = 9873\n"
     ]
    },
    {
     "name": "stderr",
     "output_type": "stream",
     "text": [
      "100%|████████████████████████████████████████████████████████████████████████████| 938/938 [00:07<00:00, 122.71it/s]\n",
      "100%|████████████████████████████████████████████████████████████████████████████| 313/313 [00:00<00:00, 317.97it/s]\n",
      "  1%|▉                                                                            | 12/938 [00:00<00:08, 111.41it/s]"
     ]
    },
    {
     "name": "stdout",
     "output_type": "stream",
     "text": [
      "Epoch = 58\tSum of Training loss = 2507.9715113192797\tCorrect Validation Examples = 9868\n"
     ]
    },
    {
     "name": "stderr",
     "output_type": "stream",
     "text": [
      "100%|████████████████████████████████████████████████████████████████████████████| 938/938 [00:07<00:00, 122.49it/s]\n",
      "100%|████████████████████████████████████████████████████████████████████████████| 313/313 [00:00<00:00, 322.44it/s]\n",
      "  1%|▉                                                                            | 11/938 [00:00<00:09, 101.19it/s]"
     ]
    },
    {
     "name": "stdout",
     "output_type": "stream",
     "text": [
      "Epoch = 59\tSum of Training loss = 2491.9450182914734\tCorrect Validation Examples = 9866\n"
     ]
    },
    {
     "name": "stderr",
     "output_type": "stream",
     "text": [
      "100%|████████████████████████████████████████████████████████████████████████████| 938/938 [00:07<00:00, 121.31it/s]\n",
      "100%|████████████████████████████████████████████████████████████████████████████| 313/313 [00:00<00:00, 320.75it/s]\n",
      "  1%|▉                                                                            | 12/938 [00:00<00:08, 110.36it/s]"
     ]
    },
    {
     "name": "stdout",
     "output_type": "stream",
     "text": [
      "Epoch = 60\tSum of Training loss = 2513.3232867866755\tCorrect Validation Examples = 9888\n"
     ]
    },
    {
     "name": "stderr",
     "output_type": "stream",
     "text": [
      "100%|████████████████████████████████████████████████████████████████████████████| 938/938 [00:07<00:00, 122.34it/s]\n",
      "100%|████████████████████████████████████████████████████████████████████████████| 313/313 [00:00<00:00, 318.74it/s]\n",
      "  1%|▉                                                                            | 11/938 [00:00<00:08, 107.08it/s]"
     ]
    },
    {
     "name": "stdout",
     "output_type": "stream",
     "text": [
      "Epoch = 61\tSum of Training loss = 2491.9361974447966\tCorrect Validation Examples = 9878\n"
     ]
    },
    {
     "name": "stderr",
     "output_type": "stream",
     "text": [
      "100%|████████████████████████████████████████████████████████████████████████████| 938/938 [00:07<00:00, 122.32it/s]\n",
      "100%|████████████████████████████████████████████████████████████████████████████| 313/313 [00:00<00:00, 316.88it/s]\n",
      "  1%|▉                                                                            | 11/938 [00:00<00:08, 105.04it/s]"
     ]
    },
    {
     "name": "stdout",
     "output_type": "stream",
     "text": [
      "Epoch = 62\tSum of Training loss = 2528.8242738991976\tCorrect Validation Examples = 9867\n"
     ]
    },
    {
     "name": "stderr",
     "output_type": "stream",
     "text": [
      "100%|████████████████████████████████████████████████████████████████████████████| 938/938 [00:07<00:00, 122.31it/s]\n",
      "100%|████████████████████████████████████████████████████████████████████████████| 313/313 [00:00<00:00, 324.26it/s]\n",
      "  1%|▉                                                                            | 11/938 [00:00<00:08, 108.15it/s]"
     ]
    },
    {
     "name": "stdout",
     "output_type": "stream",
     "text": [
      "Epoch = 63\tSum of Training loss = 2456.097114622593\tCorrect Validation Examples = 9874\n"
     ]
    },
    {
     "name": "stderr",
     "output_type": "stream",
     "text": [
      "100%|████████████████████████████████████████████████████████████████████████████| 938/938 [00:07<00:00, 122.53it/s]\n",
      "100%|████████████████████████████████████████████████████████████████████████████| 313/313 [00:00<00:00, 313.21it/s]\n",
      "  2%|█▊                                                                           | 22/938 [00:00<00:08, 104.55it/s]"
     ]
    },
    {
     "name": "stdout",
     "output_type": "stream",
     "text": [
      "Epoch = 64\tSum of Training loss = 2423.400178819895\tCorrect Validation Examples = 9865\n"
     ]
    },
    {
     "name": "stderr",
     "output_type": "stream",
     "text": [
      "100%|████████████████████████████████████████████████████████████████████████████| 938/938 [00:07<00:00, 122.04it/s]\n",
      "100%|████████████████████████████████████████████████████████████████████████████| 313/313 [00:00<00:00, 318.03it/s]\n",
      "  1%|▉                                                                            | 11/938 [00:00<00:08, 107.05it/s]"
     ]
    },
    {
     "name": "stdout",
     "output_type": "stream",
     "text": [
      "Epoch = 65\tSum of Training loss = 2454.8135819733143\tCorrect Validation Examples = 9880\n"
     ]
    },
    {
     "name": "stderr",
     "output_type": "stream",
     "text": [
      "100%|████████████████████████████████████████████████████████████████████████████| 938/938 [00:07<00:00, 122.11it/s]\n",
      "100%|████████████████████████████████████████████████████████████████████████████| 313/313 [00:00<00:00, 317.97it/s]\n",
      "  1%|▉                                                                            | 12/938 [00:00<00:08, 110.39it/s]"
     ]
    },
    {
     "name": "stdout",
     "output_type": "stream",
     "text": [
      "Epoch = 66\tSum of Training loss = 2451.2355170696974\tCorrect Validation Examples = 9876\n"
     ]
    },
    {
     "name": "stderr",
     "output_type": "stream",
     "text": [
      "100%|████████████████████████████████████████████████████████████████████████████| 938/938 [00:07<00:00, 121.68it/s]\n",
      "100%|████████████████████████████████████████████████████████████████████████████| 313/313 [00:00<00:00, 315.72it/s]\n",
      "  1%|▉                                                                            | 11/938 [00:00<00:08, 107.08it/s]"
     ]
    },
    {
     "name": "stdout",
     "output_type": "stream",
     "text": [
      "Epoch = 67\tSum of Training loss = 2408.929100498557\tCorrect Validation Examples = 9879\n"
     ]
    },
    {
     "name": "stderr",
     "output_type": "stream",
     "text": [
      "100%|████████████████████████████████████████████████████████████████████████████| 938/938 [00:07<00:00, 122.16it/s]\n",
      "100%|████████████████████████████████████████████████████████████████████████████| 313/313 [00:00<00:00, 320.49it/s]\n",
      "  1%|▉                                                                            | 12/938 [00:00<00:08, 108.39it/s]"
     ]
    },
    {
     "name": "stdout",
     "output_type": "stream",
     "text": [
      "Epoch = 68\tSum of Training loss = 2381.05568125844\tCorrect Validation Examples = 9878\n"
     ]
    },
    {
     "name": "stderr",
     "output_type": "stream",
     "text": [
      "100%|████████████████████████████████████████████████████████████████████████████| 938/938 [00:07<00:00, 122.23it/s]\n",
      "100%|████████████████████████████████████████████████████████████████████████████| 313/313 [00:00<00:00, 319.90it/s]\n",
      "  1%|▉                                                                            | 11/938 [00:00<00:08, 107.08it/s]"
     ]
    },
    {
     "name": "stdout",
     "output_type": "stream",
     "text": [
      "Epoch = 69\tSum of Training loss = 2426.2087157964706\tCorrect Validation Examples = 9873\n"
     ]
    },
    {
     "name": "stderr",
     "output_type": "stream",
     "text": [
      "100%|████████████████████████████████████████████████████████████████████████████| 938/938 [00:07<00:00, 122.12it/s]\n",
      "100%|████████████████████████████████████████████████████████████████████████████| 313/313 [00:00<00:00, 317.55it/s]\n",
      "  1%|▉                                                                            | 11/938 [00:00<00:08, 106.05it/s]"
     ]
    },
    {
     "name": "stdout",
     "output_type": "stream",
     "text": [
      "Epoch = 70\tSum of Training loss = 2419.619499564171\tCorrect Validation Examples = 9878\n"
     ]
    },
    {
     "name": "stderr",
     "output_type": "stream",
     "text": [
      "100%|████████████████████████████████████████████████████████████████████████████| 938/938 [00:07<00:00, 122.65it/s]\n",
      "100%|████████████████████████████████████████████████████████████████████████████| 313/313 [00:00<00:00, 315.73it/s]\n",
      "  2%|█▊                                                                           | 22/938 [00:00<00:08, 108.76it/s]"
     ]
    },
    {
     "name": "stdout",
     "output_type": "stream",
     "text": [
      "Epoch = 71\tSum of Training loss = 2370.9889413118362\tCorrect Validation Examples = 9887\n"
     ]
    },
    {
     "name": "stderr",
     "output_type": "stream",
     "text": [
      "100%|████████████████████████████████████████████████████████████████████████████| 938/938 [00:07<00:00, 122.62it/s]\n",
      "100%|████████████████████████████████████████████████████████████████████████████| 313/313 [00:00<00:00, 317.32it/s]\n",
      "  1%|▉                                                                            | 11/938 [00:00<00:08, 108.13it/s]"
     ]
    },
    {
     "name": "stdout",
     "output_type": "stream",
     "text": [
      "Epoch = 72\tSum of Training loss = 2394.2327004373074\tCorrect Validation Examples = 9869\n"
     ]
    },
    {
     "name": "stderr",
     "output_type": "stream",
     "text": [
      "100%|████████████████████████████████████████████████████████████████████████████| 938/938 [00:07<00:00, 122.65it/s]\n",
      "100%|████████████████████████████████████████████████████████████████████████████| 313/313 [00:00<00:00, 320.40it/s]\n",
      "  2%|█▉                                                                           | 23/938 [00:00<00:08, 111.52it/s]"
     ]
    },
    {
     "name": "stdout",
     "output_type": "stream",
     "text": [
      "Epoch = 73\tSum of Training loss = 2385.0279690921307\tCorrect Validation Examples = 9879\n"
     ]
    },
    {
     "name": "stderr",
     "output_type": "stream",
     "text": [
      "100%|████████████████████████████████████████████████████████████████████████████| 938/938 [00:07<00:00, 122.32it/s]\n",
      "100%|████████████████████████████████████████████████████████████████████████████| 313/313 [00:00<00:00, 316.36it/s]\n",
      "  1%|▉                                                                            | 11/938 [00:00<00:08, 109.20it/s]"
     ]
    },
    {
     "name": "stdout",
     "output_type": "stream",
     "text": [
      "Epoch = 74\tSum of Training loss = 2359.490651547909\tCorrect Validation Examples = 9881\n"
     ]
    },
    {
     "name": "stderr",
     "output_type": "stream",
     "text": [
      "100%|████████████████████████████████████████████████████████████████████████████| 938/938 [00:07<00:00, 122.26it/s]\n",
      "100%|████████████████████████████████████████████████████████████████████████████| 313/313 [00:00<00:00, 320.06it/s]\n",
      "  1%|▉                                                                            | 11/938 [00:00<00:08, 106.06it/s]"
     ]
    },
    {
     "name": "stdout",
     "output_type": "stream",
     "text": [
      "Epoch = 75\tSum of Training loss = 2369.327110350132\tCorrect Validation Examples = 9877\n"
     ]
    },
    {
     "name": "stderr",
     "output_type": "stream",
     "text": [
      "100%|████████████████████████████████████████████████████████████████████████████| 938/938 [00:07<00:00, 122.25it/s]\n",
      "100%|████████████████████████████████████████████████████████████████████████████| 313/313 [00:00<00:00, 321.22it/s]\n",
      "  1%|▉                                                                            | 11/938 [00:00<00:08, 109.20it/s]"
     ]
    },
    {
     "name": "stdout",
     "output_type": "stream",
     "text": [
      "Epoch = 76\tSum of Training loss = 2362.0834997594357\tCorrect Validation Examples = 9883\n"
     ]
    },
    {
     "name": "stderr",
     "output_type": "stream",
     "text": [
      "100%|████████████████████████████████████████████████████████████████████████████| 938/938 [00:07<00:00, 123.08it/s]\n",
      "100%|████████████████████████████████████████████████████████████████████████████| 313/313 [00:00<00:00, 322.20it/s]\n",
      "  1%|▉                                                                            | 12/938 [00:00<00:08, 112.42it/s]"
     ]
    },
    {
     "name": "stdout",
     "output_type": "stream",
     "text": [
      "Epoch = 77\tSum of Training loss = 2369.461426600814\tCorrect Validation Examples = 9881\n"
     ]
    },
    {
     "name": "stderr",
     "output_type": "stream",
     "text": [
      "100%|████████████████████████████████████████████████████████████████████████████| 938/938 [00:07<00:00, 122.10it/s]\n",
      "100%|████████████████████████████████████████████████████████████████████████████| 313/313 [00:01<00:00, 310.64it/s]\n",
      "  1%|▉                                                                            | 11/938 [00:00<00:08, 104.06it/s]"
     ]
    },
    {
     "name": "stdout",
     "output_type": "stream",
     "text": [
      "Epoch = 78\tSum of Training loss = 2341.941710293293\tCorrect Validation Examples = 9886\n"
     ]
    },
    {
     "name": "stderr",
     "output_type": "stream",
     "text": [
      "100%|████████████████████████████████████████████████████████████████████████████| 938/938 [00:07<00:00, 121.68it/s]\n",
      "100%|████████████████████████████████████████████████████████████████████████████| 313/313 [00:00<00:00, 319.26it/s]\n",
      "  1%|▉                                                                            | 11/938 [00:00<00:08, 106.03it/s]"
     ]
    },
    {
     "name": "stdout",
     "output_type": "stream",
     "text": [
      "Epoch = 79\tSum of Training loss = 2321.782819509506\tCorrect Validation Examples = 9890\n"
     ]
    },
    {
     "name": "stderr",
     "output_type": "stream",
     "text": [
      "100%|████████████████████████████████████████████████████████████████████████████| 938/938 [00:07<00:00, 122.22it/s]\n",
      "100%|████████████████████████████████████████████████████████████████████████████| 313/313 [00:00<00:00, 317.96it/s]\n",
      "  1%|▉                                                                            | 11/938 [00:00<00:08, 108.10it/s]"
     ]
    },
    {
     "name": "stdout",
     "output_type": "stream",
     "text": [
      "Epoch = 80\tSum of Training loss = 2310.4039108753204\tCorrect Validation Examples = 9883\n"
     ]
    },
    {
     "name": "stderr",
     "output_type": "stream",
     "text": [
      "100%|████████████████████████████████████████████████████████████████████████████| 938/938 [00:07<00:00, 122.11it/s]\n",
      "100%|████████████████████████████████████████████████████████████████████████████| 313/313 [00:00<00:00, 320.18it/s]\n",
      "  1%|▉                                                                            | 12/938 [00:00<00:08, 111.41it/s]"
     ]
    },
    {
     "name": "stdout",
     "output_type": "stream",
     "text": [
      "Epoch = 81\tSum of Training loss = 2331.9983783364296\tCorrect Validation Examples = 9877\n"
     ]
    },
    {
     "name": "stderr",
     "output_type": "stream",
     "text": [
      "100%|████████████████████████████████████████████████████████████████████████████| 938/938 [00:07<00:00, 120.46it/s]\n",
      "100%|████████████████████████████████████████████████████████████████████████████| 313/313 [00:01<00:00, 297.48it/s]\n",
      "  1%|▉                                                                            | 11/938 [00:00<00:08, 109.20it/s]"
     ]
    },
    {
     "name": "stdout",
     "output_type": "stream",
     "text": [
      "Epoch = 82\tSum of Training loss = 2306.534540787339\tCorrect Validation Examples = 9876\n"
     ]
    },
    {
     "name": "stderr",
     "output_type": "stream",
     "text": [
      "100%|████████████████████████████████████████████████████████████████████████████| 938/938 [00:07<00:00, 118.33it/s]\n",
      "100%|████████████████████████████████████████████████████████████████████████████| 313/313 [00:01<00:00, 290.05it/s]\n",
      "  2%|█▊                                                                           | 22/938 [00:00<00:08, 108.31it/s]"
     ]
    },
    {
     "name": "stdout",
     "output_type": "stream",
     "text": [
      "Epoch = 83\tSum of Training loss = 2300.3488190472126\tCorrect Validation Examples = 9880\n"
     ]
    },
    {
     "name": "stderr",
     "output_type": "stream",
     "text": [
      "100%|████████████████████████████████████████████████████████████████████████████| 938/938 [00:08<00:00, 110.53it/s]\n",
      "100%|████████████████████████████████████████████████████████████████████████████| 313/313 [00:01<00:00, 309.77it/s]\n",
      "  2%|█▉                                                                           | 23/938 [00:00<00:08, 109.49it/s]"
     ]
    },
    {
     "name": "stdout",
     "output_type": "stream",
     "text": [
      "Epoch = 84\tSum of Training loss = 2287.5972848534584\tCorrect Validation Examples = 9882\n"
     ]
    },
    {
     "name": "stderr",
     "output_type": "stream",
     "text": [
      "100%|████████████████████████████████████████████████████████████████████████████| 938/938 [00:08<00:00, 112.82it/s]\n",
      "100%|████████████████████████████████████████████████████████████████████████████| 313/313 [00:01<00:00, 286.86it/s]\n",
      "  1%|▉                                                                            | 11/938 [00:00<00:08, 104.05it/s]"
     ]
    },
    {
     "name": "stdout",
     "output_type": "stream",
     "text": [
      "Epoch = 85\tSum of Training loss = 2284.5615956783295\tCorrect Validation Examples = 9876\n"
     ]
    },
    {
     "name": "stderr",
     "output_type": "stream",
     "text": [
      "100%|████████████████████████████████████████████████████████████████████████████| 938/938 [00:07<00:00, 119.66it/s]\n",
      "100%|████████████████████████████████████████████████████████████████████████████| 313/313 [00:00<00:00, 318.52it/s]\n",
      "  1%|▉                                                                            | 12/938 [00:00<00:08, 112.49it/s]"
     ]
    },
    {
     "name": "stdout",
     "output_type": "stream",
     "text": [
      "Epoch = 86\tSum of Training loss = 2257.180321365595\tCorrect Validation Examples = 9874\n"
     ]
    },
    {
     "name": "stderr",
     "output_type": "stream",
     "text": [
      "100%|████████████████████████████████████████████████████████████████████████████| 938/938 [00:07<00:00, 121.66it/s]\n",
      "100%|████████████████████████████████████████████████████████████████████████████| 313/313 [00:01<00:00, 310.72it/s]\n",
      "  1%|▉                                                                            | 12/938 [00:00<00:08, 109.38it/s]"
     ]
    },
    {
     "name": "stdout",
     "output_type": "stream",
     "text": [
      "Epoch = 87\tSum of Training loss = 2257.171542748809\tCorrect Validation Examples = 9891\n"
     ]
    },
    {
     "name": "stderr",
     "output_type": "stream",
     "text": [
      "100%|████████████████████████████████████████████████████████████████████████████| 938/938 [00:07<00:00, 121.32it/s]\n",
      "100%|████████████████████████████████████████████████████████████████████████████| 313/313 [00:00<00:00, 316.04it/s]\n",
      "  1%|▉                                                                            | 11/938 [00:00<00:08, 106.03it/s]"
     ]
    },
    {
     "name": "stdout",
     "output_type": "stream",
     "text": [
      "Epoch = 88\tSum of Training loss = 2276.8671725541353\tCorrect Validation Examples = 9878\n"
     ]
    },
    {
     "name": "stderr",
     "output_type": "stream",
     "text": [
      "100%|████████████████████████████████████████████████████████████████████████████| 938/938 [00:07<00:00, 121.77it/s]\n",
      "100%|████████████████████████████████████████████████████████████████████████████| 313/313 [00:00<00:00, 315.76it/s]\n",
      "  1%|▉                                                                            | 11/938 [00:00<00:08, 106.05it/s]"
     ]
    },
    {
     "name": "stdout",
     "output_type": "stream",
     "text": [
      "Epoch = 89\tSum of Training loss = 2259.779404088855\tCorrect Validation Examples = 9874\n"
     ]
    },
    {
     "name": "stderr",
     "output_type": "stream",
     "text": [
      "100%|████████████████████████████████████████████████████████████████████████████| 938/938 [00:07<00:00, 122.29it/s]\n",
      "100%|████████████████████████████████████████████████████████████████████████████| 313/313 [00:01<00:00, 311.95it/s]\n",
      "  1%|▉                                                                            | 11/938 [00:00<00:08, 107.08it/s]"
     ]
    },
    {
     "name": "stdout",
     "output_type": "stream",
     "text": [
      "Epoch = 90\tSum of Training loss = 2259.545429378748\tCorrect Validation Examples = 9884\n"
     ]
    },
    {
     "name": "stderr",
     "output_type": "stream",
     "text": [
      "100%|████████████████████████████████████████████████████████████████████████████| 938/938 [00:07<00:00, 122.71it/s]\n",
      "100%|████████████████████████████████████████████████████████████████████████████| 313/313 [00:00<00:00, 316.36it/s]\n",
      "  1%|▉                                                                            | 11/938 [00:00<00:08, 106.05it/s]"
     ]
    },
    {
     "name": "stdout",
     "output_type": "stream",
     "text": [
      "Epoch = 91\tSum of Training loss = 2255.150998324156\tCorrect Validation Examples = 9884\n"
     ]
    },
    {
     "name": "stderr",
     "output_type": "stream",
     "text": [
      "100%|████████████████████████████████████████████████████████████████████████████| 938/938 [00:07<00:00, 121.80it/s]\n",
      "100%|████████████████████████████████████████████████████████████████████████████| 313/313 [00:00<00:00, 321.95it/s]\n",
      "  1%|▉                                                                            | 11/938 [00:00<00:08, 107.08it/s]"
     ]
    },
    {
     "name": "stdout",
     "output_type": "stream",
     "text": [
      "Epoch = 92\tSum of Training loss = 2256.9069325625896\tCorrect Validation Examples = 9890\n"
     ]
    },
    {
     "name": "stderr",
     "output_type": "stream",
     "text": [
      "100%|████████████████████████████████████████████████████████████████████████████| 938/938 [00:07<00:00, 121.89it/s]\n",
      "100%|████████████████████████████████████████████████████████████████████████████| 313/313 [00:00<00:00, 316.05it/s]\n",
      "  1%|▉                                                                            | 11/938 [00:00<00:08, 107.08it/s]"
     ]
    },
    {
     "name": "stdout",
     "output_type": "stream",
     "text": [
      "Epoch = 93\tSum of Training loss = 2263.359961181879\tCorrect Validation Examples = 9880\n"
     ]
    },
    {
     "name": "stderr",
     "output_type": "stream",
     "text": [
      "100%|████████████████████████████████████████████████████████████████████████████| 938/938 [00:07<00:00, 122.57it/s]\n",
      "100%|████████████████████████████████████████████████████████████████████████████| 313/313 [00:00<00:00, 316.97it/s]\n",
      "  1%|▉                                                                            | 11/938 [00:00<00:08, 107.08it/s]"
     ]
    },
    {
     "name": "stdout",
     "output_type": "stream",
     "text": [
      "Epoch = 94\tSum of Training loss = 2266.406960308552\tCorrect Validation Examples = 9879\n"
     ]
    },
    {
     "name": "stderr",
     "output_type": "stream",
     "text": [
      "100%|████████████████████████████████████████████████████████████████████████████| 938/938 [00:07<00:00, 122.29it/s]\n",
      "100%|████████████████████████████████████████████████████████████████████████████| 313/313 [00:00<00:00, 315.09it/s]\n",
      "  1%|▉                                                                            | 11/938 [00:00<00:08, 108.13it/s]"
     ]
    },
    {
     "name": "stdout",
     "output_type": "stream",
     "text": [
      "Epoch = 95\tSum of Training loss = 2219.2443174123764\tCorrect Validation Examples = 9888\n"
     ]
    },
    {
     "name": "stderr",
     "output_type": "stream",
     "text": [
      "100%|████████████████████████████████████████████████████████████████████████████| 938/938 [00:07<00:00, 122.30it/s]\n",
      "100%|████████████████████████████████████████████████████████████████████████████| 313/313 [00:01<00:00, 308.88it/s]\n",
      "  1%|▉                                                                            | 11/938 [00:00<00:08, 107.08it/s]"
     ]
    },
    {
     "name": "stdout",
     "output_type": "stream",
     "text": [
      "Epoch = 96\tSum of Training loss = 2227.5789874196053\tCorrect Validation Examples = 9866\n"
     ]
    },
    {
     "name": "stderr",
     "output_type": "stream",
     "text": [
      "100%|████████████████████████████████████████████████████████████████████████████| 938/938 [00:07<00:00, 122.32it/s]\n",
      "100%|████████████████████████████████████████████████████████████████████████████| 313/313 [00:00<00:00, 318.60it/s]\n",
      "  1%|▉                                                                            | 11/938 [00:00<00:08, 107.08it/s]"
     ]
    },
    {
     "name": "stdout",
     "output_type": "stream",
     "text": [
      "Epoch = 97\tSum of Training loss = 2265.0227443426847\tCorrect Validation Examples = 9881\n"
     ]
    },
    {
     "name": "stderr",
     "output_type": "stream",
     "text": [
      "100%|████████████████████████████████████████████████████████████████████████████| 938/938 [00:07<00:00, 122.78it/s]\n",
      "100%|████████████████████████████████████████████████████████████████████████████| 313/313 [00:00<00:00, 318.61it/s]\n",
      "  1%|▉                                                                            | 11/938 [00:00<00:08, 109.20it/s]"
     ]
    },
    {
     "name": "stdout",
     "output_type": "stream",
     "text": [
      "Epoch = 98\tSum of Training loss = 2234.917712777853\tCorrect Validation Examples = 9878\n"
     ]
    },
    {
     "name": "stderr",
     "output_type": "stream",
     "text": [
      "100%|████████████████████████████████████████████████████████████████████████████| 938/938 [00:07<00:00, 121.43it/s]\n",
      "100%|████████████████████████████████████████████████████████████████████████████| 313/313 [00:00<00:00, 320.56it/s]\n",
      "  1%|▉                                                                            | 12/938 [00:00<00:08, 112.45it/s]"
     ]
    },
    {
     "name": "stdout",
     "output_type": "stream",
     "text": [
      "Epoch = 99\tSum of Training loss = 2228.1894810199738\tCorrect Validation Examples = 9870\n"
     ]
    },
    {
     "name": "stderr",
     "output_type": "stream",
     "text": [
      "100%|████████████████████████████████████████████████████████████████████████████| 938/938 [00:07<00:00, 122.24it/s]\n",
      "100%|████████████████████████████████████████████████████████████████████████████| 313/313 [00:00<00:00, 322.54it/s]\n"
     ]
    },
    {
     "name": "stdout",
     "output_type": "stream",
     "text": [
      "Epoch = 100\tSum of Training loss = 2219.0919147729874\tCorrect Validation Examples = 9881\n"
     ]
    },
    {
     "data": {
      "text/plain": [
       "<Figure size 1152x360 with 0 Axes>"
      ]
     },
     "metadata": {},
     "output_type": "display_data"
    }
   ],
   "source": [
    "model=CNN(dropout=False).to(device)\n",
    "optimizer = optim.SGD(model.parameters(), lr=1e-4, weight_decay=0.2)\n",
    "train_loss_array=[]\n",
    "valid_acc_array=[]\n",
    "for epoch in range(epochs):\n",
    "    #Traning \n",
    "    train_loss=0\n",
    "    for data in tqdm(trainloader):\n",
    "        images,labels=data\n",
    "        images=images.to(device)\n",
    "        labels=labels.to(device)\n",
    "        optimizer.zero_grad()\n",
    "        output=model(images)\n",
    "        loss = criterion(output, labels)\n",
    "        loss.backward()\n",
    "        optimizer.step()\n",
    "        train_loss += loss.item()\n",
    "    train_loss_array.append(train_loss)\n",
    "    #validation\n",
    "    correct=0\n",
    "    model.eval()\n",
    "    with torch.no_grad():\n",
    "        for data in tqdm(testloader):\n",
    "            images,labels=data\n",
    "            images=images.to(device)\n",
    "            labels=labels.to(device)\n",
    "            output=model(images)\n",
    "            _,pred=torch.max(output.data,1)\n",
    "            correct+=(pred == labels).sum().item()\n",
    "    valid_acc_array.append(correct)\n",
    "    model.train()\n",
    "    print(f\"Epoch = {epoch+1}\\tSum of Training loss = {train_loss}\\tCorrect Validation Examples = {correct}\")\n",
    "    \n",
    "fig,ax=plt.subplots(1,2,figsize=(16,5))\n",
    "ax[0].plot(np.arange(1,epochs+1),train_loss_array)\n",
    "ax[0].set(ylabel=\"Summed Training loss\",xlabel=\"Epochs\")\n",
    "ax[1].plot(np.arange(1,epochs+1),np.array(valid_acc_array)/len(testset)*100)\n",
    "ax[1].set(ylabel=\"Validation Accuracy\",xlabel=\"Epochs\")\n",
    "plt.savefig(\"SGD_regularization.png\",dpi=500)\n",
    "plt.clf()"
   ]
  },
  {
   "cell_type": "code",
   "execution_count": 12,
   "id": "reasonable-study",
   "metadata": {},
   "outputs": [
    {
     "name": "stdout",
     "output_type": "stream",
     "text": [
      "Maximum Accuracy achieved = 98.91\n"
     ]
    }
   ],
   "source": [
    "print(f'Maximum Accuracy achieved = {max(valid_acc_array)/len(testset)*100}')\n",
    "all_losses.append(train_loss_array)"
   ]
  },
  {
   "cell_type": "markdown",
   "id": "straight-giving",
   "metadata": {},
   "source": [
    "## SGD with Regularization and with Dropout"
   ]
  },
  {
   "cell_type": "code",
   "execution_count": 13,
   "id": "stable-alaska",
   "metadata": {},
   "outputs": [
    {
     "name": "stderr",
     "output_type": "stream",
     "text": [
      "100%|████████████████████████████████████████████████████████████████████████████| 938/938 [00:07<00:00, 121.20it/s]\n",
      "100%|████████████████████████████████████████████████████████████████████████████| 313/313 [00:01<00:00, 308.59it/s]\n",
      "  2%|█▉                                                                           | 23/938 [00:00<00:08, 109.93it/s]"
     ]
    },
    {
     "name": "stdout",
     "output_type": "stream",
     "text": [
      "Epoch = 1\tSum of Training loss = 78269.18190860748\tCorrect Validation Examples = 8864\n"
     ]
    },
    {
     "name": "stderr",
     "output_type": "stream",
     "text": [
      "100%|████████████████████████████████████████████████████████████████████████████| 938/938 [00:07<00:00, 121.53it/s]\n",
      "100%|████████████████████████████████████████████████████████████████████████████| 313/313 [00:00<00:00, 318.84it/s]\n",
      "  2%|█▊                                                                           | 22/938 [00:00<00:08, 108.74it/s]"
     ]
    },
    {
     "name": "stdout",
     "output_type": "stream",
     "text": [
      "Epoch = 2\tSum of Training loss = 21559.877737522125\tCorrect Validation Examples = 9227\n"
     ]
    },
    {
     "name": "stderr",
     "output_type": "stream",
     "text": [
      "100%|████████████████████████████████████████████████████████████████████████████| 938/938 [00:07<00:00, 122.16it/s]\n",
      "100%|████████████████████████████████████████████████████████████████████████████| 313/313 [00:01<00:00, 311.96it/s]\n",
      "  1%|▊                                                                             | 10/938 [00:00<00:09, 95.49it/s]"
     ]
    },
    {
     "name": "stdout",
     "output_type": "stream",
     "text": [
      "Epoch = 3\tSum of Training loss = 15472.270243644714\tCorrect Validation Examples = 9397\n"
     ]
    },
    {
     "name": "stderr",
     "output_type": "stream",
     "text": [
      "100%|████████████████████████████████████████████████████████████████████████████| 938/938 [00:07<00:00, 121.72it/s]\n",
      "100%|████████████████████████████████████████████████████████████████████████████| 313/313 [00:00<00:00, 319.14it/s]\n",
      "  1%|▉                                                                            | 11/938 [00:00<00:08, 106.05it/s]"
     ]
    },
    {
     "name": "stdout",
     "output_type": "stream",
     "text": [
      "Epoch = 4\tSum of Training loss = 12213.450312614441\tCorrect Validation Examples = 9532\n"
     ]
    },
    {
     "name": "stderr",
     "output_type": "stream",
     "text": [
      "100%|████████████████████████████████████████████████████████████████████████████| 938/938 [00:07<00:00, 122.48it/s]\n",
      "100%|████████████████████████████████████████████████████████████████████████████| 313/313 [00:00<00:00, 318.93it/s]\n",
      "  1%|▉                                                                            | 12/938 [00:00<00:08, 112.42it/s]"
     ]
    },
    {
     "name": "stdout",
     "output_type": "stream",
     "text": [
      "Epoch = 5\tSum of Training loss = 10004.53355395794\tCorrect Validation Examples = 9627\n"
     ]
    },
    {
     "name": "stderr",
     "output_type": "stream",
     "text": [
      "100%|████████████████████████████████████████████████████████████████████████████| 938/938 [00:07<00:00, 122.09it/s]\n",
      "100%|████████████████████████████████████████████████████████████████████████████| 313/313 [00:00<00:00, 317.52it/s]\n",
      "  1%|▉                                                                            | 11/938 [00:00<00:08, 106.05it/s]"
     ]
    },
    {
     "name": "stdout",
     "output_type": "stream",
     "text": [
      "Epoch = 6\tSum of Training loss = 8637.401219964027\tCorrect Validation Examples = 9657\n"
     ]
    },
    {
     "name": "stderr",
     "output_type": "stream",
     "text": [
      "100%|████████████████████████████████████████████████████████████████████████████| 938/938 [00:07<00:00, 122.33it/s]\n",
      "100%|████████████████████████████████████████████████████████████████████████████| 313/313 [00:00<00:00, 318.61it/s]\n",
      "  1%|▉                                                                            | 11/938 [00:00<00:08, 108.10it/s]"
     ]
    },
    {
     "name": "stdout",
     "output_type": "stream",
     "text": [
      "Epoch = 7\tSum of Training loss = 7663.587797880173\tCorrect Validation Examples = 9711\n"
     ]
    },
    {
     "name": "stderr",
     "output_type": "stream",
     "text": [
      "100%|████████████████████████████████████████████████████████████████████████████| 938/938 [00:07<00:00, 122.00it/s]\n",
      "100%|████████████████████████████████████████████████████████████████████████████| 313/313 [00:00<00:00, 318.93it/s]\n",
      "  1%|▉                                                                            | 11/938 [00:00<00:08, 109.19it/s]"
     ]
    },
    {
     "name": "stdout",
     "output_type": "stream",
     "text": [
      "Epoch = 8\tSum of Training loss = 6957.853867292404\tCorrect Validation Examples = 9741\n"
     ]
    },
    {
     "name": "stderr",
     "output_type": "stream",
     "text": [
      "100%|████████████████████████████████████████████████████████████████████████████| 938/938 [00:07<00:00, 123.61it/s]\n",
      "100%|████████████████████████████████████████████████████████████████████████████| 313/313 [00:01<00:00, 311.96it/s]\n",
      "  1%|▉                                                                            | 11/938 [00:00<00:08, 105.04it/s]"
     ]
    },
    {
     "name": "stdout",
     "output_type": "stream",
     "text": [
      "Epoch = 9\tSum of Training loss = 6378.868283390999\tCorrect Validation Examples = 9749\n"
     ]
    },
    {
     "name": "stderr",
     "output_type": "stream",
     "text": [
      "100%|████████████████████████████████████████████████████████████████████████████| 938/938 [00:07<00:00, 122.55it/s]\n",
      "100%|████████████████████████████████████████████████████████████████████████████| 313/313 [00:00<00:00, 319.03it/s]\n",
      "  1%|▊                                                                             | 10/938 [00:00<00:09, 97.35it/s]"
     ]
    },
    {
     "name": "stdout",
     "output_type": "stream",
     "text": [
      "Epoch = 10\tSum of Training loss = 5953.308372616768\tCorrect Validation Examples = 9762\n"
     ]
    },
    {
     "name": "stderr",
     "output_type": "stream",
     "text": [
      "100%|████████████████████████████████████████████████████████████████████████████| 938/938 [00:07<00:00, 122.20it/s]\n",
      "100%|████████████████████████████████████████████████████████████████████████████| 313/313 [00:01<00:00, 312.81it/s]\n",
      "  1%|▉                                                                            | 11/938 [00:00<00:08, 105.04it/s]"
     ]
    },
    {
     "name": "stdout",
     "output_type": "stream",
     "text": [
      "Epoch = 11\tSum of Training loss = 5589.702095508575\tCorrect Validation Examples = 9781\n"
     ]
    },
    {
     "name": "stderr",
     "output_type": "stream",
     "text": [
      "100%|████████████████████████████████████████████████████████████████████████████| 938/938 [00:07<00:00, 122.57it/s]\n",
      "100%|████████████████████████████████████████████████████████████████████████████| 313/313 [00:00<00:00, 319.58it/s]\n",
      "  1%|▉                                                                            | 11/938 [00:00<00:08, 107.04it/s]"
     ]
    },
    {
     "name": "stdout",
     "output_type": "stream",
     "text": [
      "Epoch = 12\tSum of Training loss = 5266.340911030769\tCorrect Validation Examples = 9766\n"
     ]
    },
    {
     "name": "stderr",
     "output_type": "stream",
     "text": [
      "100%|████████████████████████████████████████████████████████████████████████████| 938/938 [00:07<00:00, 121.93it/s]\n",
      "100%|████████████████████████████████████████████████████████████████████████████| 313/313 [00:00<00:00, 320.96it/s]\n",
      "  1%|▉                                                                            | 11/938 [00:00<00:08, 107.08it/s]"
     ]
    },
    {
     "name": "stdout",
     "output_type": "stream",
     "text": [
      "Epoch = 13\tSum of Training loss = 5055.708025753498\tCorrect Validation Examples = 9787\n"
     ]
    },
    {
     "name": "stderr",
     "output_type": "stream",
     "text": [
      "100%|████████████████████████████████████████████████████████████████████████████| 938/938 [00:07<00:00, 121.69it/s]\n",
      "100%|████████████████████████████████████████████████████████████████████████████| 313/313 [00:00<00:00, 321.33it/s]\n",
      "  1%|▉                                                                            | 12/938 [00:00<00:08, 111.37it/s]"
     ]
    },
    {
     "name": "stdout",
     "output_type": "stream",
     "text": [
      "Epoch = 14\tSum of Training loss = 4853.499018013477\tCorrect Validation Examples = 9800\n"
     ]
    },
    {
     "name": "stderr",
     "output_type": "stream",
     "text": [
      "100%|████████████████████████████████████████████████████████████████████████████| 938/938 [00:07<00:00, 122.59it/s]\n",
      "100%|████████████████████████████████████████████████████████████████████████████| 313/313 [00:01<00:00, 311.03it/s]\n",
      "  1%|▉                                                                            | 11/938 [00:00<00:09, 102.14it/s]"
     ]
    },
    {
     "name": "stdout",
     "output_type": "stream",
     "text": [
      "Epoch = 15\tSum of Training loss = 4617.685367226601\tCorrect Validation Examples = 9802\n"
     ]
    },
    {
     "name": "stderr",
     "output_type": "stream",
     "text": [
      "100%|████████████████████████████████████████████████████████████████████████████| 938/938 [00:07<00:00, 123.15it/s]\n",
      "100%|████████████████████████████████████████████████████████████████████████████| 313/313 [00:00<00:00, 317.01it/s]\n",
      "  1%|▉                                                                            | 11/938 [00:00<00:08, 107.08it/s]"
     ]
    },
    {
     "name": "stdout",
     "output_type": "stream",
     "text": [
      "Epoch = 16\tSum of Training loss = 4457.436732053757\tCorrect Validation Examples = 9806\n"
     ]
    },
    {
     "name": "stderr",
     "output_type": "stream",
     "text": [
      "100%|████████████████████████████████████████████████████████████████████████████| 938/938 [00:07<00:00, 122.13it/s]\n",
      "100%|████████████████████████████████████████████████████████████████████████████| 313/313 [00:00<00:00, 318.31it/s]\n",
      "  1%|▉                                                                            | 11/938 [00:00<00:08, 105.04it/s]"
     ]
    },
    {
     "name": "stdout",
     "output_type": "stream",
     "text": [
      "Epoch = 17\tSum of Training loss = 4290.129288583994\tCorrect Validation Examples = 9817\n"
     ]
    },
    {
     "name": "stderr",
     "output_type": "stream",
     "text": [
      "100%|████████████████████████████████████████████████████████████████████████████| 938/938 [00:07<00:00, 121.86it/s]\n",
      "100%|████████████████████████████████████████████████████████████████████████████| 313/313 [00:00<00:00, 317.97it/s]\n",
      "  1%|▉                                                                            | 12/938 [00:00<00:08, 110.39it/s]"
     ]
    },
    {
     "name": "stdout",
     "output_type": "stream",
     "text": [
      "Epoch = 18\tSum of Training loss = 4220.46044203639\tCorrect Validation Examples = 9831\n"
     ]
    },
    {
     "name": "stderr",
     "output_type": "stream",
     "text": [
      "100%|████████████████████████████████████████████████████████████████████████████| 938/938 [00:07<00:00, 122.09it/s]\n",
      "100%|████████████████████████████████████████████████████████████████████████████| 313/313 [00:01<00:00, 310.41it/s]\n",
      "  2%|█▊                                                                           | 22/938 [00:00<00:08, 108.32it/s]"
     ]
    },
    {
     "name": "stdout",
     "output_type": "stream",
     "text": [
      "Epoch = 19\tSum of Training loss = 4080.0001368820667\tCorrect Validation Examples = 9800\n"
     ]
    },
    {
     "name": "stderr",
     "output_type": "stream",
     "text": [
      "100%|████████████████████████████████████████████████████████████████████████████| 938/938 [00:07<00:00, 121.80it/s]\n",
      "100%|████████████████████████████████████████████████████████████████████████████| 313/313 [00:00<00:00, 320.24it/s]\n",
      "  1%|▉                                                                            | 11/938 [00:00<00:08, 108.13it/s]"
     ]
    },
    {
     "name": "stdout",
     "output_type": "stream",
     "text": [
      "Epoch = 20\tSum of Training loss = 4005.0006725490093\tCorrect Validation Examples = 9817\n"
     ]
    },
    {
     "name": "stderr",
     "output_type": "stream",
     "text": [
      "100%|████████████████████████████████████████████████████████████████████████████| 938/938 [00:07<00:00, 122.36it/s]\n",
      "100%|████████████████████████████████████████████████████████████████████████████| 313/313 [00:01<00:00, 312.27it/s]\n",
      "  1%|▉                                                                            | 12/938 [00:00<00:08, 111.41it/s]"
     ]
    },
    {
     "name": "stdout",
     "output_type": "stream",
     "text": [
      "Epoch = 21\tSum of Training loss = 3828.009032666683\tCorrect Validation Examples = 9825\n"
     ]
    },
    {
     "name": "stderr",
     "output_type": "stream",
     "text": [
      "100%|████████████████████████████████████████████████████████████████████████████| 938/938 [00:07<00:00, 121.65it/s]\n",
      "100%|████████████████████████████████████████████████████████████████████████████| 313/313 [00:00<00:00, 324.88it/s]\n",
      "  1%|▉                                                                            | 11/938 [00:00<00:08, 105.04it/s]"
     ]
    },
    {
     "name": "stdout",
     "output_type": "stream",
     "text": [
      "Epoch = 22\tSum of Training loss = 3798.5351596474648\tCorrect Validation Examples = 9832\n"
     ]
    },
    {
     "name": "stderr",
     "output_type": "stream",
     "text": [
      "100%|████████████████████████████████████████████████████████████████████████████| 938/938 [00:07<00:00, 122.14it/s]\n",
      "100%|████████████████████████████████████████████████████████████████████████████| 313/313 [00:00<00:00, 316.36it/s]\n",
      "  1%|▉                                                                            | 12/938 [00:00<00:08, 109.38it/s]"
     ]
    },
    {
     "name": "stdout",
     "output_type": "stream",
     "text": [
      "Epoch = 23\tSum of Training loss = 3716.918177574873\tCorrect Validation Examples = 9841\n"
     ]
    },
    {
     "name": "stderr",
     "output_type": "stream",
     "text": [
      "100%|████████████████████████████████████████████████████████████████████████████| 938/938 [00:07<00:00, 122.05it/s]\n",
      "100%|████████████████████████████████████████████████████████████████████████████| 313/313 [00:00<00:00, 319.25it/s]\n",
      "  1%|▉                                                                            | 12/938 [00:00<00:08, 111.43it/s]"
     ]
    },
    {
     "name": "stdout",
     "output_type": "stream",
     "text": [
      "Epoch = 24\tSum of Training loss = 3645.5239513218403\tCorrect Validation Examples = 9848\n"
     ]
    },
    {
     "name": "stderr",
     "output_type": "stream",
     "text": [
      "100%|████████████████████████████████████████████████████████████████████████████| 938/938 [00:07<00:00, 122.47it/s]\n",
      "100%|████████████████████████████████████████████████████████████████████████████| 313/313 [00:00<00:00, 321.21it/s]\n",
      "  1%|▉                                                                            | 12/938 [00:00<00:08, 111.41it/s]"
     ]
    },
    {
     "name": "stdout",
     "output_type": "stream",
     "text": [
      "Epoch = 25\tSum of Training loss = 3534.1660446822643\tCorrect Validation Examples = 9837\n"
     ]
    },
    {
     "name": "stderr",
     "output_type": "stream",
     "text": [
      "100%|████████████████████████████████████████████████████████████████████████████| 938/938 [00:07<00:00, 122.13it/s]\n",
      "100%|████████████████████████████████████████████████████████████████████████████| 313/313 [00:00<00:00, 319.61it/s]\n",
      "  1%|▉                                                                            | 12/938 [00:00<00:08, 115.69it/s]"
     ]
    },
    {
     "name": "stdout",
     "output_type": "stream",
     "text": [
      "Epoch = 26\tSum of Training loss = 3494.557022958994\tCorrect Validation Examples = 9852\n"
     ]
    },
    {
     "name": "stderr",
     "output_type": "stream",
     "text": [
      "100%|████████████████████████████████████████████████████████████████████████████| 938/938 [00:07<00:00, 123.05it/s]\n",
      "100%|████████████████████████████████████████████████████████████████████████████| 313/313 [00:01<00:00, 310.61it/s]\n",
      "  1%|▉                                                                            | 12/938 [00:00<00:08, 111.41it/s]"
     ]
    },
    {
     "name": "stdout",
     "output_type": "stream",
     "text": [
      "Epoch = 27\tSum of Training loss = 3479.2542318105698\tCorrect Validation Examples = 9857\n"
     ]
    },
    {
     "name": "stderr",
     "output_type": "stream",
     "text": [
      "100%|████████████████████████████████████████████████████████████████████████████| 938/938 [00:07<00:00, 122.48it/s]\n",
      "100%|████████████████████████████████████████████████████████████████████████████| 313/313 [00:00<00:00, 316.36it/s]\n",
      "  1%|▉                                                                            | 11/938 [00:00<00:08, 104.05it/s]"
     ]
    },
    {
     "name": "stdout",
     "output_type": "stream",
     "text": [
      "Epoch = 28\tSum of Training loss = 3430.8143061995506\tCorrect Validation Examples = 9846\n"
     ]
    },
    {
     "name": "stderr",
     "output_type": "stream",
     "text": [
      "100%|████████████████████████████████████████████████████████████████████████████| 938/938 [00:07<00:00, 121.34it/s]\n",
      "100%|████████████████████████████████████████████████████████████████████████████| 313/313 [00:00<00:00, 316.36it/s]\n",
      "  1%|▉                                                                            | 12/938 [00:00<00:08, 110.39it/s]"
     ]
    },
    {
     "name": "stdout",
     "output_type": "stream",
     "text": [
      "Epoch = 29\tSum of Training loss = 3331.2350304722786\tCorrect Validation Examples = 9848\n"
     ]
    },
    {
     "name": "stderr",
     "output_type": "stream",
     "text": [
      "100%|████████████████████████████████████████████████████████████████████████████| 938/938 [00:07<00:00, 122.26it/s]\n",
      "100%|████████████████████████████████████████████████████████████████████████████| 313/313 [00:00<00:00, 321.98it/s]\n",
      "  1%|▉                                                                            | 11/938 [00:00<00:08, 108.17it/s]"
     ]
    },
    {
     "name": "stdout",
     "output_type": "stream",
     "text": [
      "Epoch = 30\tSum of Training loss = 3270.1925161778927\tCorrect Validation Examples = 9858\n"
     ]
    },
    {
     "name": "stderr",
     "output_type": "stream",
     "text": [
      "100%|████████████████████████████████████████████████████████████████████████████| 938/938 [00:07<00:00, 121.96it/s]\n",
      "100%|████████████████████████████████████████████████████████████████████████████| 313/313 [00:00<00:00, 319.25it/s]\n",
      "  1%|▉                                                                            | 11/938 [00:00<00:08, 103.09it/s]"
     ]
    },
    {
     "name": "stdout",
     "output_type": "stream",
     "text": [
      "Epoch = 31\tSum of Training loss = 3248.781946718693\tCorrect Validation Examples = 9859\n"
     ]
    },
    {
     "name": "stderr",
     "output_type": "stream",
     "text": [
      "100%|████████████████████████████████████████████████████████████████████████████| 938/938 [00:07<00:00, 121.76it/s]\n",
      "100%|████████████████████████████████████████████████████████████████████████████| 313/313 [00:00<00:00, 318.93it/s]\n",
      "  3%|█▉                                                                           | 24/938 [00:00<00:08, 113.20it/s]"
     ]
    },
    {
     "name": "stdout",
     "output_type": "stream",
     "text": [
      "Epoch = 32\tSum of Training loss = 3218.1992968916893\tCorrect Validation Examples = 9846\n"
     ]
    },
    {
     "name": "stderr",
     "output_type": "stream",
     "text": [
      "100%|████████████████████████████████████████████████████████████████████████████| 938/938 [00:07<00:00, 122.09it/s]\n",
      "100%|████████████████████████████████████████████████████████████████████████████| 313/313 [00:01<00:00, 311.34it/s]\n",
      "  1%|▉                                                                            | 11/938 [00:00<00:08, 105.04it/s]"
     ]
    },
    {
     "name": "stdout",
     "output_type": "stream",
     "text": [
      "Epoch = 33\tSum of Training loss = 3176.4991395175457\tCorrect Validation Examples = 9860\n"
     ]
    },
    {
     "name": "stderr",
     "output_type": "stream",
     "text": [
      "100%|████████████████████████████████████████████████████████████████████████████| 938/938 [00:08<00:00, 110.19it/s]\n",
      "100%|████████████████████████████████████████████████████████████████████████████| 313/313 [00:01<00:00, 285.56it/s]\n",
      "  2%|█▋                                                                            | 20/938 [00:00<00:09, 97.74it/s]"
     ]
    },
    {
     "name": "stdout",
     "output_type": "stream",
     "text": [
      "Epoch = 34\tSum of Training loss = 3111.0096410810947\tCorrect Validation Examples = 9864\n"
     ]
    },
    {
     "name": "stderr",
     "output_type": "stream",
     "text": [
      "100%|████████████████████████████████████████████████████████████████████████████| 938/938 [00:08<00:00, 109.83it/s]\n",
      "100%|████████████████████████████████████████████████████████████████████████████| 313/313 [00:01<00:00, 296.35it/s]\n",
      "  1%|▉                                                                            | 11/938 [00:00<00:08, 107.08it/s]"
     ]
    },
    {
     "name": "stdout",
     "output_type": "stream",
     "text": [
      "Epoch = 35\tSum of Training loss = 3066.31537014246\tCorrect Validation Examples = 9862\n"
     ]
    },
    {
     "name": "stderr",
     "output_type": "stream",
     "text": [
      "100%|████████████████████████████████████████████████████████████████████████████| 938/938 [00:08<00:00, 113.86it/s]\n",
      "100%|████████████████████████████████████████████████████████████████████████████| 313/313 [00:01<00:00, 297.76it/s]\n",
      "  1%|▉                                                                            | 11/938 [00:00<00:08, 108.10it/s]"
     ]
    },
    {
     "name": "stdout",
     "output_type": "stream",
     "text": [
      "Epoch = 36\tSum of Training loss = 3063.307684123516\tCorrect Validation Examples = 9841\n"
     ]
    },
    {
     "name": "stderr",
     "output_type": "stream",
     "text": [
      "100%|████████████████████████████████████████████████████████████████████████████| 938/938 [00:08<00:00, 113.44it/s]\n",
      "100%|████████████████████████████████████████████████████████████████████████████| 313/313 [00:01<00:00, 291.79it/s]\n",
      "  1%|▉                                                                            | 11/938 [00:00<00:08, 105.04it/s]"
     ]
    },
    {
     "name": "stdout",
     "output_type": "stream",
     "text": [
      "Epoch = 37\tSum of Training loss = 3043.387363165617\tCorrect Validation Examples = 9861\n"
     ]
    },
    {
     "name": "stderr",
     "output_type": "stream",
     "text": [
      "100%|████████████████████████████████████████████████████████████████████████████| 938/938 [00:08<00:00, 110.44it/s]\n",
      "100%|████████████████████████████████████████████████████████████████████████████| 313/313 [00:01<00:00, 285.99it/s]\n",
      "  2%|█▊                                                                           | 22/938 [00:00<00:08, 109.66it/s]"
     ]
    },
    {
     "name": "stdout",
     "output_type": "stream",
     "text": [
      "Epoch = 38\tSum of Training loss = 2989.206341445446\tCorrect Validation Examples = 9852\n"
     ]
    },
    {
     "name": "stderr",
     "output_type": "stream",
     "text": [
      "100%|████████████████████████████████████████████████████████████████████████████| 938/938 [00:08<00:00, 108.38it/s]\n",
      "100%|████████████████████████████████████████████████████████████████████████████| 313/313 [00:01<00:00, 279.61it/s]\n",
      "  1%|▊                                                                             | 10/938 [00:00<00:09, 96.41it/s]"
     ]
    },
    {
     "name": "stdout",
     "output_type": "stream",
     "text": [
      "Epoch = 39\tSum of Training loss = 2949.039047896862\tCorrect Validation Examples = 9865\n"
     ]
    },
    {
     "name": "stderr",
     "output_type": "stream",
     "text": [
      "100%|████████████████████████████████████████████████████████████████████████████| 938/938 [00:08<00:00, 106.29it/s]\n",
      "100%|████████████████████████████████████████████████████████████████████████████| 313/313 [00:01<00:00, 274.74it/s]\n",
      "  1%|▉                                                                            | 11/938 [00:00<00:09, 102.12it/s]"
     ]
    },
    {
     "name": "stdout",
     "output_type": "stream",
     "text": [
      "Epoch = 40\tSum of Training loss = 2925.3412898778915\tCorrect Validation Examples = 9860\n"
     ]
    },
    {
     "name": "stderr",
     "output_type": "stream",
     "text": [
      "100%|████████████████████████████████████████████████████████████████████████████| 938/938 [00:08<00:00, 109.18it/s]\n",
      "100%|████████████████████████████████████████████████████████████████████████████| 313/313 [00:01<00:00, 303.28it/s]\n",
      "  2%|█▊                                                                           | 22/938 [00:00<00:08, 105.16it/s]"
     ]
    },
    {
     "name": "stdout",
     "output_type": "stream",
     "text": [
      "Epoch = 41\tSum of Training loss = 2903.3893671929836\tCorrect Validation Examples = 9865\n"
     ]
    },
    {
     "name": "stderr",
     "output_type": "stream",
     "text": [
      "100%|████████████████████████████████████████████████████████████████████████████| 938/938 [00:08<00:00, 110.22it/s]\n",
      "100%|████████████████████████████████████████████████████████████████████████████| 313/313 [00:01<00:00, 292.35it/s]\n",
      "  1%|▉                                                                            | 11/938 [00:00<00:08, 103.08it/s]"
     ]
    },
    {
     "name": "stdout",
     "output_type": "stream",
     "text": [
      "Epoch = 42\tSum of Training loss = 2837.8575594723225\tCorrect Validation Examples = 9875\n"
     ]
    },
    {
     "name": "stderr",
     "output_type": "stream",
     "text": [
      "100%|████████████████████████████████████████████████████████████████████████████| 938/938 [00:08<00:00, 112.03it/s]\n",
      "100%|████████████████████████████████████████████████████████████████████████████| 313/313 [00:01<00:00, 286.96it/s]\n",
      "  2%|█▊                                                                           | 22/938 [00:00<00:08, 104.05it/s]"
     ]
    },
    {
     "name": "stdout",
     "output_type": "stream",
     "text": [
      "Epoch = 43\tSum of Training loss = 2848.5569716989994\tCorrect Validation Examples = 9873\n"
     ]
    },
    {
     "name": "stderr",
     "output_type": "stream",
     "text": [
      "100%|████████████████████████████████████████████████████████████████████████████| 938/938 [00:08<00:00, 113.10it/s]\n",
      "100%|████████████████████████████████████████████████████████████████████████████| 313/313 [00:01<00:00, 302.32it/s]\n",
      "  1%|▉                                                                            | 11/938 [00:00<00:08, 105.59it/s]"
     ]
    },
    {
     "name": "stdout",
     "output_type": "stream",
     "text": [
      "Epoch = 44\tSum of Training loss = 2821.3732631504536\tCorrect Validation Examples = 9879\n"
     ]
    },
    {
     "name": "stderr",
     "output_type": "stream",
     "text": [
      "100%|████████████████████████████████████████████████████████████████████████████| 938/938 [00:08<00:00, 111.55it/s]\n",
      "100%|████████████████████████████████████████████████████████████████████████████| 313/313 [00:01<00:00, 286.45it/s]\n",
      "  2%|█▊                                                                           | 22/938 [00:00<00:08, 107.00it/s]"
     ]
    },
    {
     "name": "stdout",
     "output_type": "stream",
     "text": [
      "Epoch = 45\tSum of Training loss = 2808.655430793762\tCorrect Validation Examples = 9873\n"
     ]
    },
    {
     "name": "stderr",
     "output_type": "stream",
     "text": [
      "100%|████████████████████████████████████████████████████████████████████████████| 938/938 [00:08<00:00, 113.43it/s]\n",
      "100%|████████████████████████████████████████████████████████████████████████████| 313/313 [00:01<00:00, 292.14it/s]\n",
      "  1%|▊                                                                             | 10/938 [00:00<00:09, 98.30it/s]"
     ]
    },
    {
     "name": "stdout",
     "output_type": "stream",
     "text": [
      "Epoch = 46\tSum of Training loss = 2768.0933191478252\tCorrect Validation Examples = 9870\n"
     ]
    },
    {
     "name": "stderr",
     "output_type": "stream",
     "text": [
      "100%|████████████████████████████████████████████████████████████████████████████| 938/938 [00:08<00:00, 111.79it/s]\n",
      "100%|████████████████████████████████████████████████████████████████████████████| 313/313 [00:01<00:00, 287.40it/s]\n",
      "  2%|█▉                                                                           | 23/938 [00:00<00:08, 109.86it/s]"
     ]
    },
    {
     "name": "stdout",
     "output_type": "stream",
     "text": [
      "Epoch = 47\tSum of Training loss = 2794.743374943733\tCorrect Validation Examples = 9874\n"
     ]
    },
    {
     "name": "stderr",
     "output_type": "stream",
     "text": [
      "100%|████████████████████████████████████████████████████████████████████████████| 938/938 [00:07<00:00, 118.18it/s]\n",
      "100%|████████████████████████████████████████████████████████████████████████████| 313/313 [00:01<00:00, 302.35it/s]\n",
      "  1%|▊                                                                             | 10/938 [00:00<00:09, 99.26it/s]"
     ]
    },
    {
     "name": "stdout",
     "output_type": "stream",
     "text": [
      "Epoch = 48\tSum of Training loss = 2756.989467769861\tCorrect Validation Examples = 9878\n"
     ]
    },
    {
     "name": "stderr",
     "output_type": "stream",
     "text": [
      "100%|████████████████████████████████████████████████████████████████████████████| 938/938 [00:08<00:00, 115.69it/s]\n",
      "100%|████████████████████████████████████████████████████████████████████████████| 313/313 [00:01<00:00, 288.19it/s]\n",
      "  1%|▉                                                                            | 11/938 [00:00<00:09, 100.24it/s]"
     ]
    },
    {
     "name": "stdout",
     "output_type": "stream",
     "text": [
      "Epoch = 49\tSum of Training loss = 2729.8273327201605\tCorrect Validation Examples = 9869\n"
     ]
    },
    {
     "name": "stderr",
     "output_type": "stream",
     "text": [
      "100%|████████████████████████████████████████████████████████████████████████████| 938/938 [00:08<00:00, 113.25it/s]\n",
      "100%|████████████████████████████████████████████████████████████████████████████| 313/313 [00:00<00:00, 323.53it/s]\n",
      "  1%|▉                                                                            | 11/938 [00:00<00:08, 106.05it/s]"
     ]
    },
    {
     "name": "stdout",
     "output_type": "stream",
     "text": [
      "Epoch = 50\tSum of Training loss = 2693.3819462955\tCorrect Validation Examples = 9861\n"
     ]
    },
    {
     "name": "stderr",
     "output_type": "stream",
     "text": [
      "100%|████████████████████████████████████████████████████████████████████████████| 938/938 [00:07<00:00, 120.91it/s]\n",
      "100%|████████████████████████████████████████████████████████████████████████████| 313/313 [00:00<00:00, 318.35it/s]\n",
      "  1%|▉                                                                            | 11/938 [00:00<00:08, 108.15it/s]"
     ]
    },
    {
     "name": "stdout",
     "output_type": "stream",
     "text": [
      "Epoch = 51\tSum of Training loss = 2698.7371865808964\tCorrect Validation Examples = 9879\n"
     ]
    },
    {
     "name": "stderr",
     "output_type": "stream",
     "text": [
      "100%|████████████████████████████████████████████████████████████████████████████| 938/938 [00:07<00:00, 122.74it/s]\n",
      "100%|████████████████████████████████████████████████████████████████████████████| 313/313 [00:00<00:00, 323.54it/s]\n",
      "  2%|█▊                                                                           | 22/938 [00:00<00:08, 107.88it/s]"
     ]
    },
    {
     "name": "stdout",
     "output_type": "stream",
     "text": [
      "Epoch = 52\tSum of Training loss = 2644.0295316129923\tCorrect Validation Examples = 9869\n"
     ]
    },
    {
     "name": "stderr",
     "output_type": "stream",
     "text": [
      "100%|████████████████████████████████████████████████████████████████████████████| 938/938 [00:07<00:00, 123.52it/s]\n",
      "100%|████████████████████████████████████████████████████████████████████████████| 313/313 [00:00<00:00, 322.54it/s]\n",
      "  1%|▉                                                                            | 12/938 [00:00<00:08, 111.41it/s]"
     ]
    },
    {
     "name": "stdout",
     "output_type": "stream",
     "text": [
      "Epoch = 53\tSum of Training loss = 2628.815168812871\tCorrect Validation Examples = 9879\n"
     ]
    },
    {
     "name": "stderr",
     "output_type": "stream",
     "text": [
      "100%|████████████████████████████████████████████████████████████████████████████| 938/938 [00:07<00:00, 123.20it/s]\n",
      "100%|████████████████████████████████████████████████████████████████████████████| 313/313 [00:00<00:00, 321.54it/s]\n",
      "  1%|▉                                                                            | 12/938 [00:00<00:08, 110.39it/s]"
     ]
    },
    {
     "name": "stdout",
     "output_type": "stream",
     "text": [
      "Epoch = 54\tSum of Training loss = 2615.751317471266\tCorrect Validation Examples = 9861\n"
     ]
    },
    {
     "name": "stderr",
     "output_type": "stream",
     "text": [
      "100%|████████████████████████████████████████████████████████████████████████████| 938/938 [00:07<00:00, 123.25it/s]\n",
      "100%|████████████████████████████████████████████████████████████████████████████| 313/313 [00:00<00:00, 316.68it/s]\n",
      "  1%|▉                                                                            | 11/938 [00:00<00:08, 105.04it/s]"
     ]
    },
    {
     "name": "stdout",
     "output_type": "stream",
     "text": [
      "Epoch = 55\tSum of Training loss = 2638.7631867080927\tCorrect Validation Examples = 9878\n"
     ]
    },
    {
     "name": "stderr",
     "output_type": "stream",
     "text": [
      "100%|████████████████████████████████████████████████████████████████████████████| 938/938 [00:07<00:00, 121.77it/s]\n",
      "100%|████████████████████████████████████████████████████████████████████████████| 313/313 [00:01<00:00, 292.75it/s]\n",
      "  1%|▊                                                                              | 9/938 [00:00<00:10, 89.35it/s]"
     ]
    },
    {
     "name": "stdout",
     "output_type": "stream",
     "text": [
      "Epoch = 56\tSum of Training loss = 2630.4138024896383\tCorrect Validation Examples = 9883\n"
     ]
    },
    {
     "name": "stderr",
     "output_type": "stream",
     "text": [
      "100%|████████████████████████████████████████████████████████████████████████████| 938/938 [00:08<00:00, 114.54it/s]\n",
      "100%|████████████████████████████████████████████████████████████████████████████| 313/313 [00:01<00:00, 293.86it/s]\n",
      "  1%|▉                                                                             | 11/938 [00:00<00:09, 99.37it/s]"
     ]
    },
    {
     "name": "stdout",
     "output_type": "stream",
     "text": [
      "Epoch = 57\tSum of Training loss = 2607.5290792882442\tCorrect Validation Examples = 9888\n"
     ]
    },
    {
     "name": "stderr",
     "output_type": "stream",
     "text": [
      "100%|████████████████████████████████████████████████████████████████████████████| 938/938 [00:09<00:00, 103.26it/s]\n",
      "100%|████████████████████████████████████████████████████████████████████████████| 313/313 [00:01<00:00, 275.91it/s]\n",
      "  1%|▊                                                                             | 10/938 [00:00<00:10, 91.99it/s]"
     ]
    },
    {
     "name": "stdout",
     "output_type": "stream",
     "text": [
      "Epoch = 58\tSum of Training loss = 2543.2418720573187\tCorrect Validation Examples = 9878\n"
     ]
    },
    {
     "name": "stderr",
     "output_type": "stream",
     "text": [
      "100%|████████████████████████████████████████████████████████████████████████████| 938/938 [00:08<00:00, 110.38it/s]\n",
      "100%|████████████████████████████████████████████████████████████████████████████| 313/313 [00:01<00:00, 297.32it/s]\n",
      "  1%|▊                                                                             | 10/938 [00:00<00:09, 93.27it/s]"
     ]
    },
    {
     "name": "stdout",
     "output_type": "stream",
     "text": [
      "Epoch = 59\tSum of Training loss = 2554.1683482825756\tCorrect Validation Examples = 9876\n"
     ]
    },
    {
     "name": "stderr",
     "output_type": "stream",
     "text": [
      "100%|████████████████████████████████████████████████████████████████████████████| 938/938 [00:08<00:00, 112.66it/s]\n",
      "100%|████████████████████████████████████████████████████████████████████████████| 313/313 [00:01<00:00, 295.29it/s]\n",
      "  1%|▉                                                                            | 11/938 [00:00<00:09, 102.12it/s]"
     ]
    },
    {
     "name": "stdout",
     "output_type": "stream",
     "text": [
      "Epoch = 60\tSum of Training loss = 2585.5362253189087\tCorrect Validation Examples = 9887\n"
     ]
    },
    {
     "name": "stderr",
     "output_type": "stream",
     "text": [
      "100%|████████████████████████████████████████████████████████████████████████████| 938/938 [00:08<00:00, 107.47it/s]\n",
      "100%|████████████████████████████████████████████████████████████████████████████| 313/313 [00:01<00:00, 292.16it/s]\n",
      "  1%|▊                                                                             | 10/938 [00:00<00:09, 99.84it/s]"
     ]
    },
    {
     "name": "stdout",
     "output_type": "stream",
     "text": [
      "Epoch = 61\tSum of Training loss = 2562.1939397007227\tCorrect Validation Examples = 9877\n"
     ]
    },
    {
     "name": "stderr",
     "output_type": "stream",
     "text": [
      "100%|████████████████████████████████████████████████████████████████████████████| 938/938 [00:08<00:00, 113.49it/s]\n",
      "100%|████████████████████████████████████████████████████████████████████████████| 313/313 [00:01<00:00, 301.61it/s]\n",
      "  1%|▊                                                                             | 10/938 [00:00<00:09, 92.84it/s]"
     ]
    },
    {
     "name": "stdout",
     "output_type": "stream",
     "text": [
      "Epoch = 62\tSum of Training loss = 2528.3315542042255\tCorrect Validation Examples = 9876\n"
     ]
    },
    {
     "name": "stderr",
     "output_type": "stream",
     "text": [
      "100%|████████████████████████████████████████████████████████████████████████████| 938/938 [00:08<00:00, 113.78it/s]\n",
      "100%|████████████████████████████████████████████████████████████████████████████| 313/313 [00:01<00:00, 305.43it/s]\n",
      "  2%|█▊                                                                           | 22/938 [00:00<00:08, 107.17it/s]"
     ]
    },
    {
     "name": "stdout",
     "output_type": "stream",
     "text": [
      "Epoch = 63\tSum of Training loss = 2507.284504979849\tCorrect Validation Examples = 9887\n"
     ]
    },
    {
     "name": "stderr",
     "output_type": "stream",
     "text": [
      "100%|████████████████████████████████████████████████████████████████████████████| 938/938 [00:08<00:00, 115.99it/s]\n",
      "100%|████████████████████████████████████████████████████████████████████████████| 313/313 [00:01<00:00, 303.51it/s]\n",
      "  1%|▉                                                                            | 11/938 [00:00<00:08, 103.08it/s]"
     ]
    },
    {
     "name": "stdout",
     "output_type": "stream",
     "text": [
      "Epoch = 64\tSum of Training loss = 2474.635744780302\tCorrect Validation Examples = 9873\n"
     ]
    },
    {
     "name": "stderr",
     "output_type": "stream",
     "text": [
      "100%|████████████████████████████████████████████████████████████████████████████| 938/938 [00:08<00:00, 114.54it/s]\n",
      "100%|████████████████████████████████████████████████████████████████████████████| 313/313 [00:01<00:00, 290.42it/s]\n",
      "  1%|▊                                                                             | 10/938 [00:00<00:09, 94.11it/s]"
     ]
    },
    {
     "name": "stdout",
     "output_type": "stream",
     "text": [
      "Epoch = 65\tSum of Training loss = 2511.415292814374\tCorrect Validation Examples = 9872\n"
     ]
    },
    {
     "name": "stderr",
     "output_type": "stream",
     "text": [
      "100%|████████████████████████████████████████████████████████████████████████████| 938/938 [00:08<00:00, 114.62it/s]\n",
      "100%|████████████████████████████████████████████████████████████████████████████| 313/313 [00:01<00:00, 285.41it/s]\n",
      "  1%|▉                                                                            | 11/938 [00:00<00:09, 100.27it/s]"
     ]
    },
    {
     "name": "stdout",
     "output_type": "stream",
     "text": [
      "Epoch = 66\tSum of Training loss = 2489.405755698681\tCorrect Validation Examples = 9875\n"
     ]
    },
    {
     "name": "stderr",
     "output_type": "stream",
     "text": [
      "100%|████████████████████████████████████████████████████████████████████████████| 938/938 [00:08<00:00, 113.29it/s]\n",
      "100%|████████████████████████████████████████████████████████████████████████████| 313/313 [00:01<00:00, 298.11it/s]\n",
      "  1%|▉                                                                            | 11/938 [00:00<00:08, 108.13it/s]"
     ]
    },
    {
     "name": "stdout",
     "output_type": "stream",
     "text": [
      "Epoch = 67\tSum of Training loss = 2467.7723110616207\tCorrect Validation Examples = 9886\n"
     ]
    },
    {
     "name": "stderr",
     "output_type": "stream",
     "text": [
      "100%|████████████████████████████████████████████████████████████████████████████| 938/938 [00:08<00:00, 105.60it/s]\n",
      "100%|████████████████████████████████████████████████████████████████████████████| 313/313 [00:01<00:00, 308.28it/s]\n",
      "  1%|▉                                                                            | 11/938 [00:00<00:08, 103.08it/s]"
     ]
    },
    {
     "name": "stdout",
     "output_type": "stream",
     "text": [
      "Epoch = 68\tSum of Training loss = 2438.177765145898\tCorrect Validation Examples = 9882\n"
     ]
    },
    {
     "name": "stderr",
     "output_type": "stream",
     "text": [
      "100%|████████████████████████████████████████████████████████████████████████████| 938/938 [00:08<00:00, 116.97it/s]\n",
      "100%|████████████████████████████████████████████████████████████████████████████| 313/313 [00:01<00:00, 310.39it/s]\n",
      "  1%|▉                                                                            | 11/938 [00:00<00:08, 108.15it/s]"
     ]
    },
    {
     "name": "stdout",
     "output_type": "stream",
     "text": [
      "Epoch = 69\tSum of Training loss = 2439.4419799894094\tCorrect Validation Examples = 9883\n"
     ]
    },
    {
     "name": "stderr",
     "output_type": "stream",
     "text": [
      "100%|████████████████████████████████████████████████████████████████████████████| 938/938 [00:07<00:00, 117.91it/s]\n",
      "100%|████████████████████████████████████████████████████████████████████████████| 313/313 [00:01<00:00, 309.50it/s]\n",
      "  1%|▉                                                                            | 11/938 [00:00<00:08, 104.05it/s]"
     ]
    },
    {
     "name": "stdout",
     "output_type": "stream",
     "text": [
      "Epoch = 70\tSum of Training loss = 2439.0546720921993\tCorrect Validation Examples = 9877\n"
     ]
    },
    {
     "name": "stderr",
     "output_type": "stream",
     "text": [
      "100%|████████████████████████████████████████████████████████████████████████████| 938/938 [00:08<00:00, 115.63it/s]\n",
      "100%|████████████████████████████████████████████████████████████████████████████| 313/313 [00:01<00:00, 282.11it/s]\n",
      "  1%|▊                                                                             | 10/938 [00:00<00:10, 90.33it/s]"
     ]
    },
    {
     "name": "stdout",
     "output_type": "stream",
     "text": [
      "Epoch = 71\tSum of Training loss = 2431.0332584679127\tCorrect Validation Examples = 9889\n"
     ]
    },
    {
     "name": "stderr",
     "output_type": "stream",
     "text": [
      "100%|████████████████████████████████████████████████████████████████████████████| 938/938 [00:08<00:00, 109.52it/s]\n",
      "100%|████████████████████████████████████████████████████████████████████████████| 313/313 [00:01<00:00, 294.70it/s]\n",
      "  1%|▉                                                                            | 11/938 [00:00<00:08, 108.13it/s]"
     ]
    },
    {
     "name": "stdout",
     "output_type": "stream",
     "text": [
      "Epoch = 72\tSum of Training loss = 2422.5360074043274\tCorrect Validation Examples = 9879\n"
     ]
    },
    {
     "name": "stderr",
     "output_type": "stream",
     "text": [
      "100%|████████████████████████████████████████████████████████████████████████████| 938/938 [00:08<00:00, 111.93it/s]\n",
      "100%|████████████████████████████████████████████████████████████████████████████| 313/313 [00:01<00:00, 286.66it/s]\n",
      "  1%|▊                                                                              | 9/938 [00:00<00:10, 88.04it/s]"
     ]
    },
    {
     "name": "stdout",
     "output_type": "stream",
     "text": [
      "Epoch = 73\tSum of Training loss = 2427.149451673031\tCorrect Validation Examples = 9883\n"
     ]
    },
    {
     "name": "stderr",
     "output_type": "stream",
     "text": [
      "100%|████████████████████████████████████████████████████████████████████████████| 938/938 [00:08<00:00, 112.81it/s]\n",
      "100%|████████████████████████████████████████████████████████████████████████████| 313/313 [00:01<00:00, 298.18it/s]\n",
      "  1%|▊                                                                             | 10/938 [00:00<00:09, 96.92it/s]"
     ]
    },
    {
     "name": "stdout",
     "output_type": "stream",
     "text": [
      "Epoch = 74\tSum of Training loss = 2415.914418846369\tCorrect Validation Examples = 9885\n"
     ]
    },
    {
     "name": "stderr",
     "output_type": "stream",
     "text": [
      "100%|████████████████████████████████████████████████████████████████████████████| 938/938 [00:08<00:00, 114.57it/s]\n",
      "100%|████████████████████████████████████████████████████████████████████████████| 313/313 [00:01<00:00, 299.32it/s]\n",
      "  1%|▉                                                                            | 11/938 [00:00<00:08, 103.05it/s]"
     ]
    },
    {
     "name": "stdout",
     "output_type": "stream",
     "text": [
      "Epoch = 75\tSum of Training loss = 2368.8930347561836\tCorrect Validation Examples = 9876\n"
     ]
    },
    {
     "name": "stderr",
     "output_type": "stream",
     "text": [
      "100%|████████████████████████████████████████████████████████████████████████████| 938/938 [00:08<00:00, 108.19it/s]\n",
      "100%|████████████████████████████████████████████████████████████████████████████| 313/313 [00:01<00:00, 291.80it/s]\n",
      "  2%|█▋                                                                           | 21/938 [00:00<00:08, 102.49it/s]"
     ]
    },
    {
     "name": "stdout",
     "output_type": "stream",
     "text": [
      "Epoch = 76\tSum of Training loss = 2356.3865464627743\tCorrect Validation Examples = 9887\n"
     ]
    },
    {
     "name": "stderr",
     "output_type": "stream",
     "text": [
      "100%|████████████████████████████████████████████████████████████████████████████| 938/938 [00:08<00:00, 107.45it/s]\n",
      "100%|████████████████████████████████████████████████████████████████████████████| 313/313 [00:01<00:00, 288.19it/s]\n",
      "  1%|▊                                                                             | 10/938 [00:00<00:09, 98.30it/s]"
     ]
    },
    {
     "name": "stdout",
     "output_type": "stream",
     "text": [
      "Epoch = 77\tSum of Training loss = 2387.912200510502\tCorrect Validation Examples = 9891\n"
     ]
    },
    {
     "name": "stderr",
     "output_type": "stream",
     "text": [
      "100%|████████████████████████████████████████████████████████████████████████████| 938/938 [00:08<00:00, 105.02it/s]\n",
      "100%|████████████████████████████████████████████████████████████████████████████| 313/313 [00:01<00:00, 280.19it/s]\n",
      "  2%|█▌                                                                            | 19/938 [00:00<00:10, 91.71it/s]"
     ]
    },
    {
     "name": "stdout",
     "output_type": "stream",
     "text": [
      "Epoch = 78\tSum of Training loss = 2353.9257308244705\tCorrect Validation Examples = 9892\n"
     ]
    },
    {
     "name": "stderr",
     "output_type": "stream",
     "text": [
      "100%|████████████████████████████████████████████████████████████████████████████| 938/938 [00:08<00:00, 109.87it/s]\n",
      "100%|████████████████████████████████████████████████████████████████████████████| 313/313 [00:01<00:00, 297.05it/s]\n",
      "  1%|▉                                                                            | 11/938 [00:00<00:08, 107.08it/s]"
     ]
    },
    {
     "name": "stdout",
     "output_type": "stream",
     "text": [
      "Epoch = 79\tSum of Training loss = 2351.541440114379\tCorrect Validation Examples = 9888\n"
     ]
    },
    {
     "name": "stderr",
     "output_type": "stream",
     "text": [
      "100%|████████████████████████████████████████████████████████████████████████████| 938/938 [00:08<00:00, 112.92it/s]\n",
      "100%|████████████████████████████████████████████████████████████████████████████| 313/313 [00:01<00:00, 302.37it/s]\n",
      "  1%|▉                                                                            | 11/938 [00:00<00:09, 100.72it/s]"
     ]
    },
    {
     "name": "stdout",
     "output_type": "stream",
     "text": [
      "Epoch = 80\tSum of Training loss = 2351.2284969091415\tCorrect Validation Examples = 9886\n"
     ]
    },
    {
     "name": "stderr",
     "output_type": "stream",
     "text": [
      "100%|████████████████████████████████████████████████████████████████████████████| 938/938 [00:08<00:00, 110.45it/s]\n",
      "100%|████████████████████████████████████████████████████████████████████████████| 313/313 [00:01<00:00, 284.32it/s]\n",
      "  1%|▊                                                                             | 10/938 [00:00<00:09, 95.03it/s]"
     ]
    },
    {
     "name": "stdout",
     "output_type": "stream",
     "text": [
      "Epoch = 81\tSum of Training loss = 2367.085081115365\tCorrect Validation Examples = 9887\n"
     ]
    },
    {
     "name": "stderr",
     "output_type": "stream",
     "text": [
      "100%|████████████████████████████████████████████████████████████████████████████| 938/938 [00:08<00:00, 112.94it/s]\n",
      "100%|████████████████████████████████████████████████████████████████████████████| 313/313 [00:01<00:00, 293.77it/s]\n",
      "  1%|▉                                                                            | 11/938 [00:00<00:09, 101.84it/s]"
     ]
    },
    {
     "name": "stdout",
     "output_type": "stream",
     "text": [
      "Epoch = 82\tSum of Training loss = 2340.542915120721\tCorrect Validation Examples = 9889\n"
     ]
    },
    {
     "name": "stderr",
     "output_type": "stream",
     "text": [
      "100%|████████████████████████████████████████████████████████████████████████████| 938/938 [00:08<00:00, 114.52it/s]\n",
      "100%|████████████████████████████████████████████████████████████████████████████| 313/313 [00:01<00:00, 303.52it/s]\n",
      "  1%|▉                                                                            | 11/938 [00:00<00:08, 106.25it/s]"
     ]
    },
    {
     "name": "stdout",
     "output_type": "stream",
     "text": [
      "Epoch = 83\tSum of Training loss = 2341.604056030512\tCorrect Validation Examples = 9876\n"
     ]
    },
    {
     "name": "stderr",
     "output_type": "stream",
     "text": [
      "100%|████████████████████████████████████████████████████████████████████████████| 938/938 [00:08<00:00, 113.69it/s]\n",
      "100%|████████████████████████████████████████████████████████████████████████████| 313/313 [00:01<00:00, 302.17it/s]\n",
      "  1%|▉                                                                            | 11/938 [00:00<00:08, 103.56it/s]"
     ]
    },
    {
     "name": "stdout",
     "output_type": "stream",
     "text": [
      "Epoch = 84\tSum of Training loss = 2342.142831683159\tCorrect Validation Examples = 9886\n"
     ]
    },
    {
     "name": "stderr",
     "output_type": "stream",
     "text": [
      "100%|████████████████████████████████████████████████████████████████████████████| 938/938 [00:08<00:00, 113.83it/s]\n",
      "100%|████████████████████████████████████████████████████████████████████████████| 313/313 [00:01<00:00, 302.29it/s]\n",
      "  1%|▉                                                                            | 11/938 [00:00<00:08, 107.08it/s]"
     ]
    },
    {
     "name": "stdout",
     "output_type": "stream",
     "text": [
      "Epoch = 85\tSum of Training loss = 2311.516275525093\tCorrect Validation Examples = 9887\n"
     ]
    },
    {
     "name": "stderr",
     "output_type": "stream",
     "text": [
      "100%|████████████████████████████████████████████████████████████████████████████| 938/938 [00:08<00:00, 113.45it/s]\n",
      "100%|████████████████████████████████████████████████████████████████████████████| 313/313 [00:01<00:00, 305.42it/s]\n",
      "  2%|█▊                                                                           | 22/938 [00:00<00:08, 107.24it/s]"
     ]
    },
    {
     "name": "stdout",
     "output_type": "stream",
     "text": [
      "Epoch = 86\tSum of Training loss = 2310.775103032589\tCorrect Validation Examples = 9893\n"
     ]
    },
    {
     "name": "stderr",
     "output_type": "stream",
     "text": [
      "100%|████████████████████████████████████████████████████████████████████████████| 938/938 [00:08<00:00, 113.45it/s]\n",
      "100%|████████████████████████████████████████████████████████████████████████████| 313/313 [00:01<00:00, 300.47it/s]\n",
      "  1%|▉                                                                            | 11/938 [00:00<00:09, 102.12it/s]"
     ]
    },
    {
     "name": "stdout",
     "output_type": "stream",
     "text": [
      "Epoch = 87\tSum of Training loss = 2284.158346861601\tCorrect Validation Examples = 9888\n"
     ]
    },
    {
     "name": "stderr",
     "output_type": "stream",
     "text": [
      "100%|████████████████████████████████████████████████████████████████████████████| 938/938 [00:08<00:00, 112.71it/s]\n",
      "100%|████████████████████████████████████████████████████████████████████████████| 313/313 [00:01<00:00, 298.63it/s]\n",
      "  1%|▉                                                                            | 11/938 [00:00<00:08, 103.08it/s]"
     ]
    },
    {
     "name": "stdout",
     "output_type": "stream",
     "text": [
      "Epoch = 88\tSum of Training loss = 2358.1371336728334\tCorrect Validation Examples = 9885\n"
     ]
    },
    {
     "name": "stderr",
     "output_type": "stream",
     "text": [
      "100%|████████████████████████████████████████████████████████████████████████████| 938/938 [00:08<00:00, 113.12it/s]\n",
      "100%|████████████████████████████████████████████████████████████████████████████| 313/313 [00:01<00:00, 301.47it/s]\n",
      "  1%|▉                                                                            | 11/938 [00:00<00:08, 103.56it/s]"
     ]
    },
    {
     "name": "stdout",
     "output_type": "stream",
     "text": [
      "Epoch = 89\tSum of Training loss = 2292.3287138193846\tCorrect Validation Examples = 9883\n"
     ]
    },
    {
     "name": "stderr",
     "output_type": "stream",
     "text": [
      "100%|████████████████████████████████████████████████████████████████████████████| 938/938 [00:08<00:00, 112.58it/s]\n",
      "100%|████████████████████████████████████████████████████████████████████████████| 313/313 [00:01<00:00, 300.82it/s]\n",
      "  1%|▉                                                                            | 11/938 [00:00<00:09, 102.59it/s]"
     ]
    },
    {
     "name": "stdout",
     "output_type": "stream",
     "text": [
      "Epoch = 90\tSum of Training loss = 2268.5932924747467\tCorrect Validation Examples = 9889\n"
     ]
    },
    {
     "name": "stderr",
     "output_type": "stream",
     "text": [
      "100%|████████████████████████████████████████████████████████████████████████████| 938/938 [00:08<00:00, 112.91it/s]\n",
      "100%|████████████████████████████████████████████████████████████████████████████| 313/313 [00:01<00:00, 302.01it/s]\n",
      "  1%|▉                                                                            | 11/938 [00:00<00:08, 106.05it/s]"
     ]
    },
    {
     "name": "stdout",
     "output_type": "stream",
     "text": [
      "Epoch = 91\tSum of Training loss = 2303.3569061905146\tCorrect Validation Examples = 9883\n"
     ]
    },
    {
     "name": "stderr",
     "output_type": "stream",
     "text": [
      "100%|████████████████████████████████████████████████████████████████████████████| 938/938 [00:08<00:00, 113.95it/s]\n",
      "100%|████████████████████████████████████████████████████████████████████████████| 313/313 [00:01<00:00, 297.05it/s]\n",
      "  1%|▉                                                                            | 11/938 [00:00<00:09, 102.13it/s]"
     ]
    },
    {
     "name": "stdout",
     "output_type": "stream",
     "text": [
      "Epoch = 92\tSum of Training loss = 2304.3838815540075\tCorrect Validation Examples = 9887\n"
     ]
    },
    {
     "name": "stderr",
     "output_type": "stream",
     "text": [
      "100%|████████████████████████████████████████████████████████████████████████████| 938/938 [00:08<00:00, 113.07it/s]\n",
      "100%|████████████████████████████████████████████████████████████████████████████| 313/313 [00:01<00:00, 298.86it/s]\n",
      "  1%|▉                                                                            | 11/938 [00:00<00:09, 101.65it/s]"
     ]
    },
    {
     "name": "stdout",
     "output_type": "stream",
     "text": [
      "Epoch = 93\tSum of Training loss = 2276.912158936262\tCorrect Validation Examples = 9891\n"
     ]
    },
    {
     "name": "stderr",
     "output_type": "stream",
     "text": [
      "100%|████████████████████████████████████████████████████████████████████████████| 938/938 [00:08<00:00, 112.76it/s]\n",
      "100%|████████████████████████████████████████████████████████████████████████████| 313/313 [00:01<00:00, 301.66it/s]\n",
      "  2%|█▊                                                                           | 22/938 [00:00<00:08, 106.66it/s]"
     ]
    },
    {
     "name": "stdout",
     "output_type": "stream",
     "text": [
      "Epoch = 94\tSum of Training loss = 2262.636515393853\tCorrect Validation Examples = 9882\n"
     ]
    },
    {
     "name": "stderr",
     "output_type": "stream",
     "text": [
      "100%|████████████████████████████████████████████████████████████████████████████| 938/938 [00:08<00:00, 113.46it/s]\n",
      "100%|████████████████████████████████████████████████████████████████████████████| 313/313 [00:01<00:00, 298.19it/s]\n",
      "  1%|▉                                                                            | 11/938 [00:00<00:08, 105.01it/s]"
     ]
    },
    {
     "name": "stdout",
     "output_type": "stream",
     "text": [
      "Epoch = 95\tSum of Training loss = 2264.9325188845396\tCorrect Validation Examples = 9888\n"
     ]
    },
    {
     "name": "stderr",
     "output_type": "stream",
     "text": [
      "100%|████████████████████████████████████████████████████████████████████████████| 938/938 [00:08<00:00, 112.85it/s]\n",
      "100%|████████████████████████████████████████████████████████████████████████████| 313/313 [00:01<00:00, 300.03it/s]\n",
      "  1%|▉                                                                            | 11/938 [00:00<00:08, 104.02it/s]"
     ]
    },
    {
     "name": "stdout",
     "output_type": "stream",
     "text": [
      "Epoch = 96\tSum of Training loss = 2235.958100244403\tCorrect Validation Examples = 9896\n"
     ]
    },
    {
     "name": "stderr",
     "output_type": "stream",
     "text": [
      "100%|████████████████████████████████████████████████████████████████████████████| 938/938 [00:08<00:00, 113.82it/s]\n",
      "100%|████████████████████████████████████████████████████████████████████████████| 313/313 [00:01<00:00, 303.36it/s]\n",
      "  1%|▉                                                                            | 11/938 [00:00<00:09, 101.62it/s]"
     ]
    },
    {
     "name": "stdout",
     "output_type": "stream",
     "text": [
      "Epoch = 97\tSum of Training loss = 2241.8461199700832\tCorrect Validation Examples = 9878\n"
     ]
    },
    {
     "name": "stderr",
     "output_type": "stream",
     "text": [
      "100%|████████████████████████████████████████████████████████████████████████████| 938/938 [00:08<00:00, 113.43it/s]\n",
      "100%|████████████████████████████████████████████████████████████████████████████| 313/313 [00:01<00:00, 301.46it/s]\n",
      "  1%|▉                                                                            | 11/938 [00:00<00:09, 101.65it/s]"
     ]
    },
    {
     "name": "stdout",
     "output_type": "stream",
     "text": [
      "Epoch = 98\tSum of Training loss = 2241.6552597284317\tCorrect Validation Examples = 9894\n"
     ]
    },
    {
     "name": "stderr",
     "output_type": "stream",
     "text": [
      "100%|████████████████████████████████████████████████████████████████████████████| 938/938 [00:08<00:00, 113.24it/s]\n",
      "100%|████████████████████████████████████████████████████████████████████████████| 313/313 [00:01<00:00, 299.45it/s]\n",
      "  1%|▉                                                                            | 11/938 [00:00<00:08, 107.08it/s]"
     ]
    },
    {
     "name": "stdout",
     "output_type": "stream",
     "text": [
      "Epoch = 99\tSum of Training loss = 2243.774956971407\tCorrect Validation Examples = 9887\n"
     ]
    },
    {
     "name": "stderr",
     "output_type": "stream",
     "text": [
      "100%|████████████████████████████████████████████████████████████████████████████| 938/938 [00:08<00:00, 113.70it/s]\n",
      "100%|████████████████████████████████████████████████████████████████████████████| 313/313 [00:01<00:00, 298.30it/s]\n"
     ]
    },
    {
     "name": "stdout",
     "output_type": "stream",
     "text": [
      "Epoch = 100\tSum of Training loss = 2229.0767874121666\tCorrect Validation Examples = 9894\n"
     ]
    },
    {
     "data": {
      "text/plain": [
       "<Figure size 1152x360 with 0 Axes>"
      ]
     },
     "metadata": {},
     "output_type": "display_data"
    }
   ],
   "source": [
    "model=CNN(dropout=True).to(device)\n",
    "optimizer = optim.SGD(model.parameters(), lr=1e-4,weight_decay=0.2)\n",
    "train_loss_array=[]\n",
    "valid_acc_array=[]\n",
    "for epoch in range(epochs):\n",
    "    #Traning \n",
    "    train_loss=0\n",
    "    for data in tqdm(trainloader):\n",
    "        images,labels=data\n",
    "        images=images.to(device)\n",
    "        labels=labels.to(device)\n",
    "        optimizer.zero_grad()\n",
    "        output=model(images)\n",
    "        loss = criterion(output, labels)\n",
    "        loss.backward()\n",
    "        optimizer.step()\n",
    "        train_loss += loss.item()\n",
    "    train_loss_array.append(train_loss)\n",
    "    #validation\n",
    "    correct=0\n",
    "    model.eval()\n",
    "    with torch.no_grad():\n",
    "        for data in tqdm(testloader):\n",
    "            images,labels=data\n",
    "            images=images.to(device)\n",
    "            labels=labels.to(device)\n",
    "            output=model(images)\n",
    "            _,pred=torch.max(output.data,1)\n",
    "            correct+=(pred == labels).sum().item()\n",
    "    valid_acc_array.append(correct)\n",
    "    model.train()\n",
    "    print(f\"Epoch = {epoch+1}\\tSum of Training loss = {train_loss}\\tCorrect Validation Examples = {correct}\")\n",
    "    \n",
    "fig,ax=plt.subplots(1,2,figsize=(16,5))\n",
    "ax[0].plot(np.arange(1,epochs+1),train_loss_array)\n",
    "ax[0].set(ylabel=\"Summed Training loss\",xlabel=\"Epochs\")\n",
    "ax[1].plot(np.arange(1,epochs+1),np.array(valid_acc_array)/len(testset)*100)\n",
    "ax[1].set(ylabel=\"Validation Accuracy\",xlabel=\"Epochs\")\n",
    "plt.savefig(\"SGD_regularization_droput.png\",dpi=500)\n",
    "plt.clf()"
   ]
  },
  {
   "cell_type": "code",
   "execution_count": 14,
   "id": "urban-johns",
   "metadata": {},
   "outputs": [
    {
     "name": "stdout",
     "output_type": "stream",
     "text": [
      "Maximum Accuracy achieved = 98.96000000000001\n"
     ]
    }
   ],
   "source": [
    "print(f'Maximum Accuracy achieved = {max(valid_acc_array)/len(testset)*100}')\n",
    "all_losses.append(train_loss_array)"
   ]
  },
  {
   "cell_type": "markdown",
   "id": "heated-sphere",
   "metadata": {},
   "source": [
    "## Adam without Regularization and without Dropout"
   ]
  },
  {
   "cell_type": "code",
   "execution_count": 15,
   "id": "steady-certification",
   "metadata": {},
   "outputs": [
    {
     "name": "stderr",
     "output_type": "stream",
     "text": [
      "100%|████████████████████████████████████████████████████████████████████████████| 938/938 [00:08<00:00, 110.61it/s]\n",
      "100%|████████████████████████████████████████████████████████████████████████████| 313/313 [00:01<00:00, 297.88it/s]\n",
      "  2%|█▋                                                                           | 21/938 [00:00<00:08, 102.12it/s]"
     ]
    },
    {
     "name": "stdout",
     "output_type": "stream",
     "text": [
      "Epoch = 1\tSum of Training loss = 28637.39568924904\tCorrect Validation Examples = 9577\n"
     ]
    },
    {
     "name": "stderr",
     "output_type": "stream",
     "text": [
      "100%|████████████████████████████████████████████████████████████████████████████| 938/938 [00:08<00:00, 111.08it/s]\n",
      "100%|████████████████████████████████████████████████████████████████████████████| 313/313 [00:01<00:00, 300.23it/s]\n",
      "  1%|▊                                                                             | 10/938 [00:00<00:09, 99.68it/s]"
     ]
    },
    {
     "name": "stdout",
     "output_type": "stream",
     "text": [
      "Epoch = 2\tSum of Training loss = 7552.2219178676605\tCorrect Validation Examples = 9760\n"
     ]
    },
    {
     "name": "stderr",
     "output_type": "stream",
     "text": [
      "100%|████████████████████████████████████████████████████████████████████████████| 938/938 [00:08<00:00, 110.75it/s]\n",
      "100%|████████████████████████████████████████████████████████████████████████████| 313/313 [00:01<00:00, 294.38it/s]\n",
      "  1%|▉                                                                            | 11/938 [00:00<00:09, 101.49it/s]"
     ]
    },
    {
     "name": "stdout",
     "output_type": "stream",
     "text": [
      "Epoch = 3\tSum of Training loss = 5040.136957466602\tCorrect Validation Examples = 9820\n"
     ]
    },
    {
     "name": "stderr",
     "output_type": "stream",
     "text": [
      "100%|████████████████████████████████████████████████████████████████████████████| 938/938 [00:08<00:00, 111.44it/s]\n",
      "100%|████████████████████████████████████████████████████████████████████████████| 313/313 [00:01<00:00, 298.02it/s]\n",
      "  1%|▉                                                                            | 11/938 [00:00<00:09, 101.15it/s]"
     ]
    },
    {
     "name": "stdout",
     "output_type": "stream",
     "text": [
      "Epoch = 4\tSum of Training loss = 3937.1904268562794\tCorrect Validation Examples = 9836\n"
     ]
    },
    {
     "name": "stderr",
     "output_type": "stream",
     "text": [
      "100%|████████████████████████████████████████████████████████████████████████████| 938/938 [00:08<00:00, 111.03it/s]\n",
      "100%|████████████████████████████████████████████████████████████████████████████| 313/313 [00:01<00:00, 298.18it/s]\n",
      "  1%|▊                                                                             | 10/938 [00:00<00:09, 97.71it/s]"
     ]
    },
    {
     "name": "stdout",
     "output_type": "stream",
     "text": [
      "Epoch = 5\tSum of Training loss = 3266.60926489532\tCorrect Validation Examples = 9869\n"
     ]
    },
    {
     "name": "stderr",
     "output_type": "stream",
     "text": [
      "100%|████████████████████████████████████████████████████████████████████████████| 938/938 [00:08<00:00, 112.51it/s]\n",
      "100%|████████████████████████████████████████████████████████████████████████████| 313/313 [00:01<00:00, 297.46it/s]\n",
      "  1%|▉                                                                            | 11/938 [00:00<00:08, 104.05it/s]"
     ]
    },
    {
     "name": "stdout",
     "output_type": "stream",
     "text": [
      "Epoch = 6\tSum of Training loss = 2776.188226081431\tCorrect Validation Examples = 9870\n"
     ]
    },
    {
     "name": "stderr",
     "output_type": "stream",
     "text": [
      "100%|████████████████████████████████████████████████████████████████████████████| 938/938 [00:08<00:00, 111.76it/s]\n",
      "100%|████████████████████████████████████████████████████████████████████████████| 313/313 [00:01<00:00, 296.79it/s]\n",
      "  1%|▉                                                                            | 11/938 [00:00<00:09, 100.27it/s]"
     ]
    },
    {
     "name": "stdout",
     "output_type": "stream",
     "text": [
      "Epoch = 7\tSum of Training loss = 2402.3317498266697\tCorrect Validation Examples = 9885\n"
     ]
    },
    {
     "name": "stderr",
     "output_type": "stream",
     "text": [
      "100%|████████████████████████████████████████████████████████████████████████████| 938/938 [00:08<00:00, 110.70it/s]\n",
      "100%|████████████████████████████████████████████████████████████████████████████| 313/313 [00:01<00:00, 296.13it/s]\n",
      "  1%|▊                                                                             | 10/938 [00:00<00:09, 98.10it/s]"
     ]
    },
    {
     "name": "stdout",
     "output_type": "stream",
     "text": [
      "Epoch = 8\tSum of Training loss = 2147.703843459487\tCorrect Validation Examples = 9889\n"
     ]
    },
    {
     "name": "stderr",
     "output_type": "stream",
     "text": [
      "100%|████████████████████████████████████████████████████████████████████████████| 938/938 [00:08<00:00, 111.50it/s]\n",
      "100%|████████████████████████████████████████████████████████████████████████████| 313/313 [00:01<00:00, 299.89it/s]\n",
      "  1%|▉                                                                            | 11/938 [00:00<00:08, 103.08it/s]"
     ]
    },
    {
     "name": "stdout",
     "output_type": "stream",
     "text": [
      "Epoch = 9\tSum of Training loss = 1874.6429755352437\tCorrect Validation Examples = 9893\n"
     ]
    },
    {
     "name": "stderr",
     "output_type": "stream",
     "text": [
      "100%|████████████████████████████████████████████████████████████████████████████| 938/938 [00:08<00:00, 111.14it/s]\n",
      "100%|████████████████████████████████████████████████████████████████████████████| 313/313 [00:01<00:00, 298.68it/s]\n",
      "  1%|▉                                                                            | 11/938 [00:00<00:08, 103.05it/s]"
     ]
    },
    {
     "name": "stdout",
     "output_type": "stream",
     "text": [
      "Epoch = 10\tSum of Training loss = 1668.1247141510248\tCorrect Validation Examples = 9895\n"
     ]
    },
    {
     "name": "stderr",
     "output_type": "stream",
     "text": [
      "100%|████████████████████████████████████████████████████████████████████████████| 938/938 [00:08<00:00, 111.34it/s]\n",
      "100%|████████████████████████████████████████████████████████████████████████████| 313/313 [00:01<00:00, 298.18it/s]\n",
      "  1%|▊                                                                             | 10/938 [00:00<00:09, 97.35it/s]"
     ]
    },
    {
     "name": "stdout",
     "output_type": "stream",
     "text": [
      "Epoch = 11\tSum of Training loss = 1508.2494892980903\tCorrect Validation Examples = 9914\n"
     ]
    },
    {
     "name": "stderr",
     "output_type": "stream",
     "text": [
      "100%|████████████████████████████████████████████████████████████████████████████| 938/938 [00:08<00:00, 110.80it/s]\n",
      "100%|████████████████████████████████████████████████████████████████████████████| 313/313 [00:01<00:00, 297.68it/s]\n",
      "  1%|▊                                                                             | 10/938 [00:00<00:09, 97.35it/s]"
     ]
    },
    {
     "name": "stdout",
     "output_type": "stream",
     "text": [
      "Epoch = 12\tSum of Training loss = 1332.5149042978883\tCorrect Validation Examples = 9912\n"
     ]
    },
    {
     "name": "stderr",
     "output_type": "stream",
     "text": [
      "100%|████████████████████████████████████████████████████████████████████████████| 938/938 [00:08<00:00, 111.78it/s]\n",
      "100%|████████████████████████████████████████████████████████████████████████████| 313/313 [00:01<00:00, 298.60it/s]\n",
      "  2%|█▊                                                                           | 22/938 [00:00<00:08, 103.99it/s]"
     ]
    },
    {
     "name": "stdout",
     "output_type": "stream",
     "text": [
      "Epoch = 13\tSum of Training loss = 1184.393163625151\tCorrect Validation Examples = 9908\n"
     ]
    },
    {
     "name": "stderr",
     "output_type": "stream",
     "text": [
      "100%|████████████████████████████████████████████████████████████████████████████| 938/938 [00:08<00:00, 111.85it/s]\n",
      "100%|████████████████████████████████████████████████████████████████████████████| 313/313 [00:01<00:00, 292.75it/s]\n",
      "  1%|▉                                                                            | 11/938 [00:00<00:09, 102.12it/s]"
     ]
    },
    {
     "name": "stdout",
     "output_type": "stream",
     "text": [
      "Epoch = 14\tSum of Training loss = 1084.3594831600785\tCorrect Validation Examples = 9917\n"
     ]
    },
    {
     "name": "stderr",
     "output_type": "stream",
     "text": [
      "100%|████████████████████████████████████████████████████████████████████████████| 938/938 [00:08<00:00, 112.38it/s]\n",
      "100%|████████████████████████████████████████████████████████████████████████████| 313/313 [00:01<00:00, 301.37it/s]\n",
      "  1%|▉                                                                            | 11/938 [00:00<00:09, 101.19it/s]"
     ]
    },
    {
     "name": "stdout",
     "output_type": "stream",
     "text": [
      "Epoch = 15\tSum of Training loss = 1021.5356051456183\tCorrect Validation Examples = 9918\n"
     ]
    },
    {
     "name": "stderr",
     "output_type": "stream",
     "text": [
      "100%|████████████████████████████████████████████████████████████████████████████| 938/938 [00:08<00:00, 111.54it/s]\n",
      "100%|████████████████████████████████████████████████████████████████████████████| 313/313 [00:01<00:00, 301.76it/s]\n",
      "  1%|▉                                                                            | 11/938 [00:00<00:09, 102.12it/s]"
     ]
    },
    {
     "name": "stdout",
     "output_type": "stream",
     "text": [
      "Epoch = 16\tSum of Training loss = 869.1144752893597\tCorrect Validation Examples = 9910\n"
     ]
    },
    {
     "name": "stderr",
     "output_type": "stream",
     "text": [
      "100%|████████████████████████████████████████████████████████████████████████████| 938/938 [00:08<00:00, 111.45it/s]\n",
      "100%|████████████████████████████████████████████████████████████████████████████| 313/313 [00:01<00:00, 297.13it/s]\n",
      "  1%|▉                                                                            | 11/938 [00:00<00:08, 103.56it/s]"
     ]
    },
    {
     "name": "stdout",
     "output_type": "stream",
     "text": [
      "Epoch = 17\tSum of Training loss = 799.8379881177098\tCorrect Validation Examples = 9917\n"
     ]
    },
    {
     "name": "stderr",
     "output_type": "stream",
     "text": [
      "100%|████████████████████████████████████████████████████████████████████████████| 938/938 [00:08<00:00, 110.74it/s]\n",
      "100%|████████████████████████████████████████████████████████████████████████████| 313/313 [00:01<00:00, 300.03it/s]\n",
      "  1%|▉                                                                            | 11/938 [00:00<00:08, 103.05it/s]"
     ]
    },
    {
     "name": "stdout",
     "output_type": "stream",
     "text": [
      "Epoch = 18\tSum of Training loss = 739.273921944201\tCorrect Validation Examples = 9910\n"
     ]
    },
    {
     "name": "stderr",
     "output_type": "stream",
     "text": [
      "100%|████████████████████████████████████████████████████████████████████████████| 938/938 [00:08<00:00, 111.18it/s]\n",
      "100%|████████████████████████████████████████████████████████████████████████████| 313/313 [00:01<00:00, 298.68it/s]\n",
      "  1%|▉                                                                            | 11/938 [00:00<00:09, 100.27it/s]"
     ]
    },
    {
     "name": "stdout",
     "output_type": "stream",
     "text": [
      "Epoch = 19\tSum of Training loss = 702.0568182608113\tCorrect Validation Examples = 9919\n"
     ]
    },
    {
     "name": "stderr",
     "output_type": "stream",
     "text": [
      "100%|████████████████████████████████████████████████████████████████████████████| 938/938 [00:08<00:00, 111.29it/s]\n",
      "100%|████████████████████████████████████████████████████████████████████████████| 313/313 [00:01<00:00, 299.74it/s]\n",
      "  1%|▊                                                                             | 10/938 [00:00<00:09, 99.76it/s]"
     ]
    },
    {
     "name": "stdout",
     "output_type": "stream",
     "text": [
      "Epoch = 20\tSum of Training loss = 576.9071635580622\tCorrect Validation Examples = 9920\n"
     ]
    },
    {
     "name": "stderr",
     "output_type": "stream",
     "text": [
      "100%|████████████████████████████████████████████████████████████████████████████| 938/938 [00:08<00:00, 111.81it/s]\n",
      "100%|████████████████████████████████████████████████████████████████████████████| 313/313 [00:01<00:00, 303.45it/s]\n",
      "  1%|▉                                                                            | 11/938 [00:00<00:09, 101.19it/s]"
     ]
    },
    {
     "name": "stdout",
     "output_type": "stream",
     "text": [
      "Epoch = 21\tSum of Training loss = 513.8979153155815\tCorrect Validation Examples = 9909\n"
     ]
    },
    {
     "name": "stderr",
     "output_type": "stream",
     "text": [
      "100%|████████████████████████████████████████████████████████████████████████████| 938/938 [00:08<00:00, 111.61it/s]\n",
      "100%|████████████████████████████████████████████████████████████████████████████| 313/313 [00:01<00:00, 296.85it/s]\n",
      "  2%|█▋                                                                           | 21/938 [00:00<00:08, 102.70it/s]"
     ]
    },
    {
     "name": "stdout",
     "output_type": "stream",
     "text": [
      "Epoch = 22\tSum of Training loss = 497.3990574183408\tCorrect Validation Examples = 9921\n"
     ]
    },
    {
     "name": "stderr",
     "output_type": "stream",
     "text": [
      "100%|████████████████████████████████████████████████████████████████████████████| 938/938 [00:08<00:00, 110.45it/s]\n",
      "100%|████████████████████████████████████████████████████████████████████████████| 313/313 [00:01<00:00, 300.46it/s]\n",
      "  1%|▉                                                                            | 11/938 [00:00<00:08, 104.05it/s]"
     ]
    },
    {
     "name": "stdout",
     "output_type": "stream",
     "text": [
      "Epoch = 23\tSum of Training loss = 453.5206977047492\tCorrect Validation Examples = 9916\n"
     ]
    },
    {
     "name": "stderr",
     "output_type": "stream",
     "text": [
      "100%|████████████████████████████████████████████████████████████████████████████| 938/938 [00:08<00:00, 111.56it/s]\n",
      "100%|████████████████████████████████████████████████████████████████████████████| 313/313 [00:01<00:00, 304.23it/s]\n",
      "  1%|▉                                                                            | 11/938 [00:00<00:09, 102.12it/s]"
     ]
    },
    {
     "name": "stdout",
     "output_type": "stream",
     "text": [
      "Epoch = 24\tSum of Training loss = 386.0887693448458\tCorrect Validation Examples = 9921\n"
     ]
    },
    {
     "name": "stderr",
     "output_type": "stream",
     "text": [
      "100%|████████████████████████████████████████████████████████████████████████████| 938/938 [00:08<00:00, 111.41it/s]\n",
      "100%|████████████████████████████████████████████████████████████████████████████| 313/313 [00:01<00:00, 295.91it/s]\n",
      "  1%|▊                                                                             | 10/938 [00:00<00:09, 96.41it/s]"
     ]
    },
    {
     "name": "stdout",
     "output_type": "stream",
     "text": [
      "Epoch = 25\tSum of Training loss = 398.6859260771889\tCorrect Validation Examples = 9911\n"
     ]
    },
    {
     "name": "stderr",
     "output_type": "stream",
     "text": [
      "100%|████████████████████████████████████████████████████████████████████████████| 938/938 [00:08<00:00, 111.34it/s]\n",
      "100%|████████████████████████████████████████████████████████████████████████████| 313/313 [00:01<00:00, 300.65it/s]\n",
      "  1%|▉                                                                            | 11/938 [00:00<00:08, 104.54it/s]"
     ]
    },
    {
     "name": "stdout",
     "output_type": "stream",
     "text": [
      "Epoch = 26\tSum of Training loss = 336.90134555019904\tCorrect Validation Examples = 9915\n"
     ]
    },
    {
     "name": "stderr",
     "output_type": "stream",
     "text": [
      "100%|████████████████████████████████████████████████████████████████████████████| 938/938 [00:08<00:00, 111.68it/s]\n",
      "100%|████████████████████████████████████████████████████████████████████████████| 313/313 [00:01<00:00, 299.61it/s]\n",
      "  1%|▊                                                                             | 10/938 [00:00<00:09, 98.94it/s]"
     ]
    },
    {
     "name": "stdout",
     "output_type": "stream",
     "text": [
      "Epoch = 27\tSum of Training loss = 323.5131210288964\tCorrect Validation Examples = 9920\n"
     ]
    },
    {
     "name": "stderr",
     "output_type": "stream",
     "text": [
      "100%|████████████████████████████████████████████████████████████████████████████| 938/938 [00:08<00:00, 111.65it/s]\n",
      "100%|████████████████████████████████████████████████████████████████████████████| 313/313 [00:01<00:00, 307.37it/s]\n",
      "  1%|▉                                                                            | 11/938 [00:00<00:09, 101.19it/s]"
     ]
    },
    {
     "name": "stdout",
     "output_type": "stream",
     "text": [
      "Epoch = 28\tSum of Training loss = 308.3108407066902\tCorrect Validation Examples = 9919\n"
     ]
    },
    {
     "name": "stderr",
     "output_type": "stream",
     "text": [
      "100%|████████████████████████████████████████████████████████████████████████████| 938/938 [00:08<00:00, 111.96it/s]\n",
      "100%|████████████████████████████████████████████████████████████████████████████| 313/313 [00:01<00:00, 297.17it/s]\n",
      "  1%|▉                                                                            | 11/938 [00:00<00:09, 100.27it/s]"
     ]
    },
    {
     "name": "stdout",
     "output_type": "stream",
     "text": [
      "Epoch = 29\tSum of Training loss = 250.36857154185418\tCorrect Validation Examples = 9927\n"
     ]
    },
    {
     "name": "stderr",
     "output_type": "stream",
     "text": [
      "100%|████████████████████████████████████████████████████████████████████████████| 938/938 [00:08<00:00, 111.04it/s]\n",
      "100%|████████████████████████████████████████████████████████████████████████████| 313/313 [00:01<00:00, 299.93it/s]\n",
      "  1%|▉                                                                            | 11/938 [00:00<00:09, 102.13it/s]"
     ]
    },
    {
     "name": "stdout",
     "output_type": "stream",
     "text": [
      "Epoch = 30\tSum of Training loss = 247.47534060117323\tCorrect Validation Examples = 9923\n"
     ]
    },
    {
     "name": "stderr",
     "output_type": "stream",
     "text": [
      "100%|████████████████████████████████████████████████████████████████████████████| 938/938 [00:08<00:00, 111.71it/s]\n",
      "100%|████████████████████████████████████████████████████████████████████████████| 313/313 [00:01<00:00, 298.28it/s]\n",
      "  1%|▉                                                                            | 11/938 [00:00<00:09, 100.27it/s]"
     ]
    },
    {
     "name": "stdout",
     "output_type": "stream",
     "text": [
      "Epoch = 31\tSum of Training loss = 240.04853453458054\tCorrect Validation Examples = 9920\n"
     ]
    },
    {
     "name": "stderr",
     "output_type": "stream",
     "text": [
      "100%|████████████████████████████████████████████████████████████████████████████| 938/938 [00:08<00:00, 110.73it/s]\n",
      "100%|████████████████████████████████████████████████████████████████████████████| 313/313 [00:01<00:00, 297.88it/s]\n",
      "  1%|▉                                                                            | 11/938 [00:00<00:09, 101.19it/s]"
     ]
    },
    {
     "name": "stdout",
     "output_type": "stream",
     "text": [
      "Epoch = 32\tSum of Training loss = 192.04370902288065\tCorrect Validation Examples = 9930\n"
     ]
    },
    {
     "name": "stderr",
     "output_type": "stream",
     "text": [
      "100%|████████████████████████████████████████████████████████████████████████████| 938/938 [00:08<00:00, 111.46it/s]\n",
      "100%|████████████████████████████████████████████████████████████████████████████| 313/313 [00:01<00:00, 297.90it/s]\n",
      "  1%|▉                                                                            | 11/938 [00:00<00:08, 104.05it/s]"
     ]
    },
    {
     "name": "stdout",
     "output_type": "stream",
     "text": [
      "Epoch = 33\tSum of Training loss = 200.8483213200816\tCorrect Validation Examples = 9926\n"
     ]
    },
    {
     "name": "stderr",
     "output_type": "stream",
     "text": [
      "100%|████████████████████████████████████████████████████████████████████████████| 938/938 [00:08<00:00, 111.46it/s]\n",
      "100%|████████████████████████████████████████████████████████████████████████████| 313/313 [00:01<00:00, 300.16it/s]\n",
      "  2%|█▊                                                                           | 22/938 [00:00<00:08, 102.85it/s]"
     ]
    },
    {
     "name": "stdout",
     "output_type": "stream",
     "text": [
      "Epoch = 34\tSum of Training loss = 190.63201695217867\tCorrect Validation Examples = 9913\n"
     ]
    },
    {
     "name": "stderr",
     "output_type": "stream",
     "text": [
      "100%|████████████████████████████████████████████████████████████████████████████| 938/938 [00:08<00:00, 111.49it/s]\n",
      "100%|████████████████████████████████████████████████████████████████████████████| 313/313 [00:01<00:00, 301.46it/s]\n",
      "  1%|▊                                                                             | 10/938 [00:00<00:09, 97.81it/s]"
     ]
    },
    {
     "name": "stdout",
     "output_type": "stream",
     "text": [
      "Epoch = 35\tSum of Training loss = 196.0353586387355\tCorrect Validation Examples = 9926\n"
     ]
    },
    {
     "name": "stderr",
     "output_type": "stream",
     "text": [
      "100%|████████████████████████████████████████████████████████████████████████████| 938/938 [00:08<00:00, 113.16it/s]\n",
      "100%|████████████████████████████████████████████████████████████████████████████| 313/313 [00:01<00:00, 289.20it/s]\n",
      "  1%|▉                                                                            | 11/938 [00:00<00:08, 104.05it/s]"
     ]
    },
    {
     "name": "stdout",
     "output_type": "stream",
     "text": [
      "Epoch = 36\tSum of Training loss = 187.05538599529245\tCorrect Validation Examples = 9919\n"
     ]
    },
    {
     "name": "stderr",
     "output_type": "stream",
     "text": [
      "100%|████████████████████████████████████████████████████████████████████████████| 938/938 [00:08<00:00, 112.77it/s]\n",
      "100%|████████████████████████████████████████████████████████████████████████████| 313/313 [00:01<00:00, 303.51it/s]\n",
      "  2%|█▊                                                                           | 22/938 [00:00<00:08, 105.59it/s]"
     ]
    },
    {
     "name": "stdout",
     "output_type": "stream",
     "text": [
      "Epoch = 37\tSum of Training loss = 136.08156052707636\tCorrect Validation Examples = 9916\n"
     ]
    },
    {
     "name": "stderr",
     "output_type": "stream",
     "text": [
      "100%|████████████████████████████████████████████████████████████████████████████| 938/938 [00:08<00:00, 113.47it/s]\n",
      "100%|████████████████████████████████████████████████████████████████████████████| 313/313 [00:01<00:00, 304.83it/s]\n",
      "  1%|▉                                                                            | 11/938 [00:00<00:08, 106.56it/s]"
     ]
    },
    {
     "name": "stdout",
     "output_type": "stream",
     "text": [
      "Epoch = 38\tSum of Training loss = 147.04377854045015\tCorrect Validation Examples = 9916\n"
     ]
    },
    {
     "name": "stderr",
     "output_type": "stream",
     "text": [
      "100%|████████████████████████████████████████████████████████████████████████████| 938/938 [00:08<00:00, 111.44it/s]\n",
      "100%|████████████████████████████████████████████████████████████████████████████| 313/313 [00:01<00:00, 298.78it/s]\n",
      "  1%|▊                                                                             | 10/938 [00:00<00:09, 97.35it/s]"
     ]
    },
    {
     "name": "stdout",
     "output_type": "stream",
     "text": [
      "Epoch = 39\tSum of Training loss = 159.44358815287706\tCorrect Validation Examples = 9926\n"
     ]
    },
    {
     "name": "stderr",
     "output_type": "stream",
     "text": [
      "100%|████████████████████████████████████████████████████████████████████████████| 938/938 [00:08<00:00, 111.49it/s]\n",
      "100%|████████████████████████████████████████████████████████████████████████████| 313/313 [00:01<00:00, 300.31it/s]\n",
      "  1%|▉                                                                            | 11/938 [00:00<00:08, 104.05it/s]"
     ]
    },
    {
     "name": "stdout",
     "output_type": "stream",
     "text": [
      "Epoch = 40\tSum of Training loss = 117.12901885453903\tCorrect Validation Examples = 9919\n"
     ]
    },
    {
     "name": "stderr",
     "output_type": "stream",
     "text": [
      "100%|████████████████████████████████████████████████████████████████████████████| 938/938 [00:08<00:00, 111.96it/s]\n",
      "100%|████████████████████████████████████████████████████████████████████████████| 313/313 [00:01<00:00, 297.75it/s]\n",
      "  1%|▊                                                                             | 10/938 [00:00<00:09, 99.27it/s]"
     ]
    },
    {
     "name": "stdout",
     "output_type": "stream",
     "text": [
      "Epoch = 41\tSum of Training loss = 142.30470416553362\tCorrect Validation Examples = 9925\n"
     ]
    },
    {
     "name": "stderr",
     "output_type": "stream",
     "text": [
      "100%|████████████████████████████████████████████████████████████████████████████| 938/938 [00:08<00:00, 111.48it/s]\n",
      "100%|████████████████████████████████████████████████████████████████████████████| 313/313 [00:01<00:00, 301.04it/s]\n",
      "  1%|▉                                                                            | 11/938 [00:00<00:09, 102.12it/s]"
     ]
    },
    {
     "name": "stdout",
     "output_type": "stream",
     "text": [
      "Epoch = 42\tSum of Training loss = 140.43929943562398\tCorrect Validation Examples = 9924\n"
     ]
    },
    {
     "name": "stderr",
     "output_type": "stream",
     "text": [
      "100%|████████████████████████████████████████████████████████████████████████████| 938/938 [00:08<00:00, 114.65it/s]\n",
      "100%|████████████████████████████████████████████████████████████████████████████| 313/313 [00:01<00:00, 311.76it/s]\n",
      "  1%|▉                                                                            | 11/938 [00:00<00:09, 101.19it/s]"
     ]
    },
    {
     "name": "stdout",
     "output_type": "stream",
     "text": [
      "Epoch = 43\tSum of Training loss = 114.80802361479437\tCorrect Validation Examples = 9915\n"
     ]
    },
    {
     "name": "stderr",
     "output_type": "stream",
     "text": [
      "100%|████████████████████████████████████████████████████████████████████████████| 938/938 [00:08<00:00, 113.73it/s]\n",
      "100%|████████████████████████████████████████████████████████████████████████████| 313/313 [00:01<00:00, 301.35it/s]\n",
      "  1%|▉                                                                            | 11/938 [00:00<00:08, 103.56it/s]"
     ]
    },
    {
     "name": "stdout",
     "output_type": "stream",
     "text": [
      "Epoch = 44\tSum of Training loss = 99.61898452236346\tCorrect Validation Examples = 9922\n"
     ]
    },
    {
     "name": "stderr",
     "output_type": "stream",
     "text": [
      "100%|████████████████████████████████████████████████████████████████████████████| 938/938 [00:08<00:00, 112.82it/s]\n",
      "100%|████████████████████████████████████████████████████████████████████████████| 313/313 [00:01<00:00, 298.41it/s]\n",
      "  2%|█▋                                                                           | 21/938 [00:00<00:09, 100.47it/s]"
     ]
    },
    {
     "name": "stdout",
     "output_type": "stream",
     "text": [
      "Epoch = 45\tSum of Training loss = 150.27409564546542\tCorrect Validation Examples = 9926\n"
     ]
    },
    {
     "name": "stderr",
     "output_type": "stream",
     "text": [
      "100%|████████████████████████████████████████████████████████████████████████████| 938/938 [00:08<00:00, 111.64it/s]\n",
      "100%|████████████████████████████████████████████████████████████████████████████| 313/313 [00:01<00:00, 295.25it/s]\n",
      "  1%|▉                                                                            | 11/938 [00:00<00:09, 100.27it/s]"
     ]
    },
    {
     "name": "stdout",
     "output_type": "stream",
     "text": [
      "Epoch = 46\tSum of Training loss = 100.34787748483359\tCorrect Validation Examples = 9922\n"
     ]
    },
    {
     "name": "stderr",
     "output_type": "stream",
     "text": [
      "100%|████████████████████████████████████████████████████████████████████████████| 938/938 [00:08<00:00, 112.22it/s]\n",
      "100%|████████████████████████████████████████████████████████████████████████████| 313/313 [00:01<00:00, 295.79it/s]\n",
      "  1%|▊                                                                             | 10/938 [00:00<00:09, 96.41it/s]"
     ]
    },
    {
     "name": "stdout",
     "output_type": "stream",
     "text": [
      "Epoch = 47\tSum of Training loss = 84.78543077302675\tCorrect Validation Examples = 9918\n"
     ]
    },
    {
     "name": "stderr",
     "output_type": "stream",
     "text": [
      "100%|████████████████████████████████████████████████████████████████████████████| 938/938 [00:08<00:00, 110.72it/s]\n",
      "100%|████████████████████████████████████████████████████████████████████████████| 313/313 [00:01<00:00, 301.01it/s]\n",
      "  1%|▉                                                                            | 11/938 [00:00<00:09, 102.02it/s]"
     ]
    },
    {
     "name": "stdout",
     "output_type": "stream",
     "text": [
      "Epoch = 48\tSum of Training loss = 113.97218686153792\tCorrect Validation Examples = 9917\n"
     ]
    },
    {
     "name": "stderr",
     "output_type": "stream",
     "text": [
      "100%|████████████████████████████████████████████████████████████████████████████| 938/938 [00:08<00:00, 113.63it/s]\n",
      "100%|████████████████████████████████████████████████████████████████████████████| 313/313 [00:01<00:00, 301.81it/s]\n",
      "  1%|▊                                                                             | 10/938 [00:00<00:09, 99.27it/s]"
     ]
    },
    {
     "name": "stdout",
     "output_type": "stream",
     "text": [
      "Epoch = 49\tSum of Training loss = 68.12065223005447\tCorrect Validation Examples = 9924\n"
     ]
    },
    {
     "name": "stderr",
     "output_type": "stream",
     "text": [
      "100%|████████████████████████████████████████████████████████████████████████████| 938/938 [00:08<00:00, 105.65it/s]\n",
      "100%|████████████████████████████████████████████████████████████████████████████| 313/313 [00:01<00:00, 287.66it/s]\n",
      "  1%|▊                                                                             | 10/938 [00:00<00:09, 95.49it/s]"
     ]
    },
    {
     "name": "stdout",
     "output_type": "stream",
     "text": [
      "Epoch = 50\tSum of Training loss = 70.72571837996293\tCorrect Validation Examples = 9925\n"
     ]
    },
    {
     "name": "stderr",
     "output_type": "stream",
     "text": [
      "100%|████████████████████████████████████████████████████████████████████████████| 938/938 [00:08<00:00, 110.62it/s]\n",
      "100%|████████████████████████████████████████████████████████████████████████████| 313/313 [00:01<00:00, 309.78it/s]\n",
      "  1%|▉                                                                            | 11/938 [00:00<00:09, 101.16it/s]"
     ]
    },
    {
     "name": "stdout",
     "output_type": "stream",
     "text": [
      "Epoch = 51\tSum of Training loss = 100.7259894309691\tCorrect Validation Examples = 9918\n"
     ]
    },
    {
     "name": "stderr",
     "output_type": "stream",
     "text": [
      "100%|████████████████████████████████████████████████████████████████████████████| 938/938 [00:08<00:00, 110.29it/s]\n",
      "100%|████████████████████████████████████████████████████████████████████████████| 313/313 [00:01<00:00, 311.51it/s]\n",
      "  1%|▊                                                                             | 10/938 [00:00<00:09, 99.28it/s]"
     ]
    },
    {
     "name": "stdout",
     "output_type": "stream",
     "text": [
      "Epoch = 52\tSum of Training loss = 74.83159540441375\tCorrect Validation Examples = 9916\n"
     ]
    },
    {
     "name": "stderr",
     "output_type": "stream",
     "text": [
      "100%|████████████████████████████████████████████████████████████████████████████| 938/938 [00:08<00:00, 112.89it/s]\n",
      "100%|████████████████████████████████████████████████████████████████████████████| 313/313 [00:01<00:00, 300.61it/s]\n",
      "  2%|█▋                                                                           | 21/938 [00:00<00:08, 102.90it/s]"
     ]
    },
    {
     "name": "stdout",
     "output_type": "stream",
     "text": [
      "Epoch = 53\tSum of Training loss = 90.63772921955388\tCorrect Validation Examples = 9923\n"
     ]
    },
    {
     "name": "stderr",
     "output_type": "stream",
     "text": [
      "100%|████████████████████████████████████████████████████████████████████████████| 938/938 [00:08<00:00, 112.41it/s]\n",
      "100%|████████████████████████████████████████████████████████████████████████████| 313/313 [00:01<00:00, 302.31it/s]\n",
      "  1%|▉                                                                            | 11/938 [00:00<00:09, 101.65it/s]"
     ]
    },
    {
     "name": "stdout",
     "output_type": "stream",
     "text": [
      "Epoch = 54\tSum of Training loss = 111.29249948048891\tCorrect Validation Examples = 9928\n"
     ]
    },
    {
     "name": "stderr",
     "output_type": "stream",
     "text": [
      "100%|████████████████████████████████████████████████████████████████████████████| 938/938 [00:08<00:00, 112.36it/s]\n",
      "100%|████████████████████████████████████████████████████████████████████████████| 313/313 [00:01<00:00, 300.67it/s]\n",
      "  1%|▉                                                                            | 11/938 [00:00<00:08, 106.05it/s]"
     ]
    },
    {
     "name": "stdout",
     "output_type": "stream",
     "text": [
      "Epoch = 55\tSum of Training loss = 82.1924720644929\tCorrect Validation Examples = 9907\n"
     ]
    },
    {
     "name": "stderr",
     "output_type": "stream",
     "text": [
      "100%|████████████████████████████████████████████████████████████████████████████| 938/938 [00:08<00:00, 114.11it/s]\n",
      "100%|████████████████████████████████████████████████████████████████████████████| 313/313 [00:01<00:00, 302.48it/s]\n",
      "  1%|▉                                                                            | 11/938 [00:00<00:08, 105.04it/s]"
     ]
    },
    {
     "name": "stdout",
     "output_type": "stream",
     "text": [
      "Epoch = 56\tSum of Training loss = 95.93314895619187\tCorrect Validation Examples = 9920\n"
     ]
    },
    {
     "name": "stderr",
     "output_type": "stream",
     "text": [
      "100%|████████████████████████████████████████████████████████████████████████████| 938/938 [00:08<00:00, 111.86it/s]\n",
      "100%|████████████████████████████████████████████████████████████████████████████| 313/313 [00:01<00:00, 299.14it/s]\n",
      "  1%|▉                                                                            | 11/938 [00:00<00:08, 103.08it/s]"
     ]
    },
    {
     "name": "stdout",
     "output_type": "stream",
     "text": [
      "Epoch = 57\tSum of Training loss = 87.26527216239901\tCorrect Validation Examples = 9928\n"
     ]
    },
    {
     "name": "stderr",
     "output_type": "stream",
     "text": [
      "100%|████████████████████████████████████████████████████████████████████████████| 938/938 [00:08<00:00, 114.86it/s]\n",
      "100%|████████████████████████████████████████████████████████████████████████████| 313/313 [00:01<00:00, 306.57it/s]\n",
      "  1%|▉                                                                            | 11/938 [00:00<00:09, 102.12it/s]"
     ]
    },
    {
     "name": "stdout",
     "output_type": "stream",
     "text": [
      "Epoch = 58\tSum of Training loss = 76.09862205430363\tCorrect Validation Examples = 9915\n"
     ]
    },
    {
     "name": "stderr",
     "output_type": "stream",
     "text": [
      "100%|████████████████████████████████████████████████████████████████████████████| 938/938 [00:08<00:00, 112.03it/s]\n",
      "100%|████████████████████████████████████████████████████████████████████████████| 313/313 [00:01<00:00, 302.61it/s]\n",
      "  1%|▉                                                                            | 11/938 [00:00<00:08, 105.51it/s]"
     ]
    },
    {
     "name": "stdout",
     "output_type": "stream",
     "text": [
      "Epoch = 59\tSum of Training loss = 76.88535427501301\tCorrect Validation Examples = 9920\n"
     ]
    },
    {
     "name": "stderr",
     "output_type": "stream",
     "text": [
      "100%|████████████████████████████████████████████████████████████████████████████| 938/938 [00:08<00:00, 112.09it/s]\n",
      "100%|████████████████████████████████████████████████████████████████████████████| 313/313 [00:01<00:00, 301.93it/s]\n",
      "  1%|▉                                                                            | 11/938 [00:00<00:08, 103.09it/s]"
     ]
    },
    {
     "name": "stdout",
     "output_type": "stream",
     "text": [
      "Epoch = 60\tSum of Training loss = 51.00971357082926\tCorrect Validation Examples = 9920\n"
     ]
    },
    {
     "name": "stderr",
     "output_type": "stream",
     "text": [
      "100%|████████████████████████████████████████████████████████████████████████████| 938/938 [00:08<00:00, 112.25it/s]\n",
      "100%|████████████████████████████████████████████████████████████████████████████| 313/313 [00:01<00:00, 307.83it/s]\n",
      "  1%|▉                                                                            | 11/938 [00:00<00:09, 100.27it/s]"
     ]
    },
    {
     "name": "stdout",
     "output_type": "stream",
     "text": [
      "Epoch = 61\tSum of Training loss = 67.92703009281058\tCorrect Validation Examples = 9923\n"
     ]
    },
    {
     "name": "stderr",
     "output_type": "stream",
     "text": [
      "100%|████████████████████████████████████████████████████████████████████████████| 938/938 [00:08<00:00, 112.65it/s]\n",
      "100%|████████████████████████████████████████████████████████████████████████████| 313/313 [00:01<00:00, 300.51it/s]\n",
      "  1%|▉                                                                            | 11/938 [00:00<00:09, 101.64it/s]"
     ]
    },
    {
     "name": "stdout",
     "output_type": "stream",
     "text": [
      "Epoch = 62\tSum of Training loss = 63.41855498160885\tCorrect Validation Examples = 9922\n"
     ]
    },
    {
     "name": "stderr",
     "output_type": "stream",
     "text": [
      "100%|████████████████████████████████████████████████████████████████████████████| 938/938 [00:08<00:00, 112.64it/s]\n",
      "100%|████████████████████████████████████████████████████████████████████████████| 313/313 [00:01<00:00, 296.35it/s]\n",
      "  1%|▉                                                                            | 11/938 [00:00<00:08, 103.08it/s]"
     ]
    },
    {
     "name": "stdout",
     "output_type": "stream",
     "text": [
      "Epoch = 63\tSum of Training loss = 66.80584900768099\tCorrect Validation Examples = 9918\n"
     ]
    },
    {
     "name": "stderr",
     "output_type": "stream",
     "text": [
      "100%|████████████████████████████████████████████████████████████████████████████| 938/938 [00:08<00:00, 113.14it/s]\n",
      "100%|████████████████████████████████████████████████████████████████████████████| 313/313 [00:01<00:00, 302.76it/s]\n",
      "  1%|▉                                                                            | 11/938 [00:00<00:08, 104.41it/s]"
     ]
    },
    {
     "name": "stdout",
     "output_type": "stream",
     "text": [
      "Epoch = 64\tSum of Training loss = 68.98726320705737\tCorrect Validation Examples = 9921\n"
     ]
    },
    {
     "name": "stderr",
     "output_type": "stream",
     "text": [
      "100%|████████████████████████████████████████████████████████████████████████████| 938/938 [00:08<00:00, 114.74it/s]\n",
      "100%|████████████████████████████████████████████████████████████████████████████| 313/313 [00:01<00:00, 308.36it/s]\n",
      "  1%|▉                                                                            | 11/938 [00:00<00:09, 102.12it/s]"
     ]
    },
    {
     "name": "stdout",
     "output_type": "stream",
     "text": [
      "Epoch = 65\tSum of Training loss = 66.69635733927407\tCorrect Validation Examples = 9922\n"
     ]
    },
    {
     "name": "stderr",
     "output_type": "stream",
     "text": [
      "100%|████████████████████████████████████████████████████████████████████████████| 938/938 [00:08<00:00, 114.73it/s]\n",
      "100%|████████████████████████████████████████████████████████████████████████████| 313/313 [00:01<00:00, 300.90it/s]\n",
      "  1%|▉                                                                            | 11/938 [00:00<00:08, 105.04it/s]"
     ]
    },
    {
     "name": "stdout",
     "output_type": "stream",
     "text": [
      "Epoch = 66\tSum of Training loss = 58.3057453710976\tCorrect Validation Examples = 9910\n"
     ]
    },
    {
     "name": "stderr",
     "output_type": "stream",
     "text": [
      "100%|████████████████████████████████████████████████████████████████████████████| 938/938 [00:08<00:00, 113.03it/s]\n",
      "100%|████████████████████████████████████████████████████████████████████████████| 313/313 [00:01<00:00, 301.04it/s]\n",
      "  2%|█▋                                                                            | 20/938 [00:00<00:09, 97.68it/s]"
     ]
    },
    {
     "name": "stdout",
     "output_type": "stream",
     "text": [
      "Epoch = 67\tSum of Training loss = 96.74973825392794\tCorrect Validation Examples = 9918\n"
     ]
    },
    {
     "name": "stderr",
     "output_type": "stream",
     "text": [
      "100%|████████████████████████████████████████████████████████████████████████████| 938/938 [00:08<00:00, 113.03it/s]\n",
      "100%|████████████████████████████████████████████████████████████████████████████| 313/313 [00:01<00:00, 300.03it/s]\n",
      "  1%|▉                                                                            | 11/938 [00:00<00:08, 103.08it/s]"
     ]
    },
    {
     "name": "stdout",
     "output_type": "stream",
     "text": [
      "Epoch = 68\tSum of Training loss = 53.34204792385094\tCorrect Validation Examples = 9929\n"
     ]
    },
    {
     "name": "stderr",
     "output_type": "stream",
     "text": [
      "100%|████████████████████████████████████████████████████████████████████████████| 938/938 [00:08<00:00, 112.55it/s]\n",
      "100%|████████████████████████████████████████████████████████████████████████████| 313/313 [00:01<00:00, 280.12it/s]\n",
      "  1%|▊                                                                              | 9/938 [00:00<00:10, 85.94it/s]"
     ]
    },
    {
     "name": "stdout",
     "output_type": "stream",
     "text": [
      "Epoch = 69\tSum of Training loss = 34.14939016510084\tCorrect Validation Examples = 9912\n"
     ]
    },
    {
     "name": "stderr",
     "output_type": "stream",
     "text": [
      "100%|████████████████████████████████████████████████████████████████████████████| 938/938 [00:08<00:00, 107.84it/s]\n",
      "100%|████████████████████████████████████████████████████████████████████████████| 313/313 [00:01<00:00, 302.91it/s]\n",
      "  1%|▉                                                                            | 11/938 [00:00<00:09, 101.19it/s]"
     ]
    },
    {
     "name": "stdout",
     "output_type": "stream",
     "text": [
      "Epoch = 70\tSum of Training loss = 53.8271557923058\tCorrect Validation Examples = 9921\n"
     ]
    },
    {
     "name": "stderr",
     "output_type": "stream",
     "text": [
      "100%|████████████████████████████████████████████████████████████████████████████| 938/938 [00:08<00:00, 115.53it/s]\n",
      "100%|████████████████████████████████████████████████████████████████████████████| 313/313 [00:00<00:00, 315.07it/s]\n",
      "  1%|▉                                                                            | 11/938 [00:00<00:09, 101.19it/s]"
     ]
    },
    {
     "name": "stdout",
     "output_type": "stream",
     "text": [
      "Epoch = 71\tSum of Training loss = 68.66848204805206\tCorrect Validation Examples = 9928\n"
     ]
    },
    {
     "name": "stderr",
     "output_type": "stream",
     "text": [
      "100%|████████████████████████████████████████████████████████████████████████████| 938/938 [00:08<00:00, 115.06it/s]\n",
      "100%|████████████████████████████████████████████████████████████████████████████| 313/313 [00:01<00:00, 311.02it/s]\n",
      "  1%|▉                                                                            | 11/938 [00:00<00:09, 100.28it/s]"
     ]
    },
    {
     "name": "stdout",
     "output_type": "stream",
     "text": [
      "Epoch = 72\tSum of Training loss = 49.342160012513546\tCorrect Validation Examples = 9930\n"
     ]
    },
    {
     "name": "stderr",
     "output_type": "stream",
     "text": [
      "100%|████████████████████████████████████████████████████████████████████████████| 938/938 [00:08<00:00, 115.57it/s]\n",
      "100%|████████████████████████████████████████████████████████████████████████████| 313/313 [00:00<00:00, 313.54it/s]\n",
      "  2%|█▊                                                                           | 22/938 [00:00<00:08, 108.58it/s]"
     ]
    },
    {
     "name": "stdout",
     "output_type": "stream",
     "text": [
      "Epoch = 73\tSum of Training loss = 74.06518871673353\tCorrect Validation Examples = 9923\n"
     ]
    },
    {
     "name": "stderr",
     "output_type": "stream",
     "text": [
      "100%|████████████████████████████████████████████████████████████████████████████| 938/938 [00:08<00:00, 115.43it/s]\n",
      "100%|████████████████████████████████████████████████████████████████████████████| 313/313 [00:01<00:00, 304.21it/s]\n",
      "  1%|▉                                                                            | 11/938 [00:00<00:08, 104.04it/s]"
     ]
    },
    {
     "name": "stdout",
     "output_type": "stream",
     "text": [
      "Epoch = 74\tSum of Training loss = 53.329189223078174\tCorrect Validation Examples = 9924\n"
     ]
    },
    {
     "name": "stderr",
     "output_type": "stream",
     "text": [
      "100%|████████████████████████████████████████████████████████████████████████████| 938/938 [00:08<00:00, 114.62it/s]\n",
      "100%|████████████████████████████████████████████████████████████████████████████| 313/313 [00:01<00:00, 305.26it/s]\n",
      "  1%|▉                                                                            | 11/938 [00:00<00:09, 102.13it/s]"
     ]
    },
    {
     "name": "stdout",
     "output_type": "stream",
     "text": [
      "Epoch = 75\tSum of Training loss = 17.449083533412022\tCorrect Validation Examples = 9926\n"
     ]
    },
    {
     "name": "stderr",
     "output_type": "stream",
     "text": [
      "100%|████████████████████████████████████████████████████████████████████████████| 938/938 [00:08<00:00, 113.45it/s]\n",
      "100%|████████████████████████████████████████████████████████████████████████████| 313/313 [00:01<00:00, 300.70it/s]\n",
      "  1%|▉                                                                            | 11/938 [00:00<00:08, 104.03it/s]"
     ]
    },
    {
     "name": "stdout",
     "output_type": "stream",
     "text": [
      "Epoch = 76\tSum of Training loss = 88.88408516282084\tCorrect Validation Examples = 9922\n"
     ]
    },
    {
     "name": "stderr",
     "output_type": "stream",
     "text": [
      "100%|████████████████████████████████████████████████████████████████████████████| 938/938 [00:08<00:00, 115.31it/s]\n",
      "100%|████████████████████████████████████████████████████████████████████████████| 313/313 [00:01<00:00, 304.95it/s]\n",
      "  2%|█▊                                                                           | 22/938 [00:00<00:08, 106.59it/s]"
     ]
    },
    {
     "name": "stdout",
     "output_type": "stream",
     "text": [
      "Epoch = 77\tSum of Training loss = 41.993745070481964\tCorrect Validation Examples = 9919\n"
     ]
    },
    {
     "name": "stderr",
     "output_type": "stream",
     "text": [
      "100%|████████████████████████████████████████████████████████████████████████████| 938/938 [00:08<00:00, 113.66it/s]\n",
      "100%|████████████████████████████████████████████████████████████████████████████| 313/313 [00:01<00:00, 307.53it/s]\n",
      "  1%|▉                                                                            | 11/938 [00:00<00:09, 101.19it/s]"
     ]
    },
    {
     "name": "stdout",
     "output_type": "stream",
     "text": [
      "Epoch = 78\tSum of Training loss = 34.163457159737156\tCorrect Validation Examples = 9926\n"
     ]
    },
    {
     "name": "stderr",
     "output_type": "stream",
     "text": [
      "100%|████████████████████████████████████████████████████████████████████████████| 938/938 [00:08<00:00, 111.30it/s]\n",
      "100%|████████████████████████████████████████████████████████████████████████████| 313/313 [00:01<00:00, 290.72it/s]\n",
      "  1%|▊                                                                             | 10/938 [00:00<00:09, 98.78it/s]"
     ]
    },
    {
     "name": "stdout",
     "output_type": "stream",
     "text": [
      "Epoch = 79\tSum of Training loss = 72.26066936811867\tCorrect Validation Examples = 9932\n"
     ]
    },
    {
     "name": "stderr",
     "output_type": "stream",
     "text": [
      "100%|████████████████████████████████████████████████████████████████████████████| 938/938 [00:08<00:00, 114.55it/s]\n",
      "100%|████████████████████████████████████████████████████████████████████████████| 313/313 [00:00<00:00, 313.25it/s]\n",
      "  2%|█▊                                                                           | 22/938 [00:00<00:08, 107.99it/s]"
     ]
    },
    {
     "name": "stdout",
     "output_type": "stream",
     "text": [
      "Epoch = 80\tSum of Training loss = 61.27708313986204\tCorrect Validation Examples = 9919\n"
     ]
    },
    {
     "name": "stderr",
     "output_type": "stream",
     "text": [
      "100%|████████████████████████████████████████████████████████████████████████████| 938/938 [00:08<00:00, 116.67it/s]\n",
      "100%|████████████████████████████████████████████████████████████████████████████| 313/313 [00:01<00:00, 311.81it/s]\n",
      "  1%|▊                                                                             | 10/938 [00:00<00:09, 97.35it/s]"
     ]
    },
    {
     "name": "stdout",
     "output_type": "stream",
     "text": [
      "Epoch = 81\tSum of Training loss = 24.394473737950847\tCorrect Validation Examples = 9915\n"
     ]
    },
    {
     "name": "stderr",
     "output_type": "stream",
     "text": [
      "100%|████████████████████████████████████████████████████████████████████████████| 938/938 [00:08<00:00, 115.39it/s]\n",
      "100%|████████████████████████████████████████████████████████████████████████████| 313/313 [00:01<00:00, 310.88it/s]\n",
      "  1%|▉                                                                            | 11/938 [00:00<00:08, 106.10it/s]"
     ]
    },
    {
     "name": "stdout",
     "output_type": "stream",
     "text": [
      "Epoch = 82\tSum of Training loss = 18.895367122882305\tCorrect Validation Examples = 9922\n"
     ]
    },
    {
     "name": "stderr",
     "output_type": "stream",
     "text": [
      "100%|████████████████████████████████████████████████████████████████████████████| 938/938 [00:08<00:00, 114.94it/s]\n",
      "100%|████████████████████████████████████████████████████████████████████████████| 313/313 [00:00<00:00, 317.61it/s]\n",
      "  1%|▉                                                                            | 11/938 [00:00<00:09, 101.19it/s]"
     ]
    },
    {
     "name": "stdout",
     "output_type": "stream",
     "text": [
      "Epoch = 83\tSum of Training loss = 55.08385914776372\tCorrect Validation Examples = 9913\n"
     ]
    },
    {
     "name": "stderr",
     "output_type": "stream",
     "text": [
      "100%|████████████████████████████████████████████████████████████████████████████| 938/938 [00:08<00:00, 114.89it/s]\n",
      "100%|████████████████████████████████████████████████████████████████████████████| 313/313 [00:01<00:00, 304.43it/s]\n",
      "  1%|▉                                                                            | 11/938 [00:00<00:09, 102.12it/s]"
     ]
    },
    {
     "name": "stdout",
     "output_type": "stream",
     "text": [
      "Epoch = 84\tSum of Training loss = 38.33116382124149\tCorrect Validation Examples = 9914\n"
     ]
    },
    {
     "name": "stderr",
     "output_type": "stream",
     "text": [
      "100%|████████████████████████████████████████████████████████████████████████████| 938/938 [00:08<00:00, 114.84it/s]\n",
      "100%|████████████████████████████████████████████████████████████████████████████| 313/313 [00:01<00:00, 308.17it/s]\n",
      "  2%|█▋                                                                            | 20/938 [00:00<00:09, 96.53it/s]"
     ]
    },
    {
     "name": "stdout",
     "output_type": "stream",
     "text": [
      "Epoch = 85\tSum of Training loss = 39.84382585785234\tCorrect Validation Examples = 9924\n"
     ]
    },
    {
     "name": "stderr",
     "output_type": "stream",
     "text": [
      "100%|████████████████████████████████████████████████████████████████████████████| 938/938 [00:08<00:00, 114.52it/s]\n",
      "100%|████████████████████████████████████████████████████████████████████████████| 313/313 [00:01<00:00, 309.13it/s]\n",
      "  2%|█▊                                                                           | 22/938 [00:00<00:08, 104.22it/s]"
     ]
    },
    {
     "name": "stdout",
     "output_type": "stream",
     "text": [
      "Epoch = 86\tSum of Training loss = 48.1196227165554\tCorrect Validation Examples = 9918\n"
     ]
    },
    {
     "name": "stderr",
     "output_type": "stream",
     "text": [
      "100%|████████████████████████████████████████████████████████████████████████████| 938/938 [00:08<00:00, 114.15it/s]\n",
      "100%|████████████████████████████████████████████████████████████████████████████| 313/313 [00:01<00:00, 305.28it/s]\n",
      "  1%|▉                                                                            | 11/938 [00:00<00:08, 103.09it/s]"
     ]
    },
    {
     "name": "stdout",
     "output_type": "stream",
     "text": [
      "Epoch = 87\tSum of Training loss = 40.14873023950349\tCorrect Validation Examples = 9925\n"
     ]
    },
    {
     "name": "stderr",
     "output_type": "stream",
     "text": [
      "100%|████████████████████████████████████████████████████████████████████████████| 938/938 [00:08<00:00, 114.82it/s]\n",
      "100%|████████████████████████████████████████████████████████████████████████████| 313/313 [00:01<00:00, 306.75it/s]\n",
      "  1%|▉                                                                            | 11/938 [00:00<00:08, 103.08it/s]"
     ]
    },
    {
     "name": "stdout",
     "output_type": "stream",
     "text": [
      "Epoch = 88\tSum of Training loss = 17.12600689198561\tCorrect Validation Examples = 9927\n"
     ]
    },
    {
     "name": "stderr",
     "output_type": "stream",
     "text": [
      "100%|████████████████████████████████████████████████████████████████████████████| 938/938 [00:08<00:00, 114.74it/s]\n",
      "100%|████████████████████████████████████████████████████████████████████████████| 313/313 [00:01<00:00, 311.73it/s]\n",
      "  1%|▉                                                                            | 11/938 [00:00<00:09, 102.12it/s]"
     ]
    },
    {
     "name": "stdout",
     "output_type": "stream",
     "text": [
      "Epoch = 89\tSum of Training loss = 34.86603059947834\tCorrect Validation Examples = 9928\n"
     ]
    },
    {
     "name": "stderr",
     "output_type": "stream",
     "text": [
      "100%|████████████████████████████████████████████████████████████████████████████| 938/938 [00:08<00:00, 114.04it/s]\n",
      "100%|████████████████████████████████████████████████████████████████████████████| 313/313 [00:01<00:00, 303.92it/s]\n",
      "  1%|▊                                                                             | 10/938 [00:00<00:09, 98.30it/s]"
     ]
    },
    {
     "name": "stdout",
     "output_type": "stream",
     "text": [
      "Epoch = 90\tSum of Training loss = 46.50627078597677\tCorrect Validation Examples = 9922\n"
     ]
    },
    {
     "name": "stderr",
     "output_type": "stream",
     "text": [
      "100%|████████████████████████████████████████████████████████████████████████████| 938/938 [00:08<00:00, 114.01it/s]\n",
      "100%|████████████████████████████████████████████████████████████████████████████| 313/313 [00:01<00:00, 311.34it/s]\n",
      "  1%|▊                                                                             | 10/938 [00:00<00:09, 98.30it/s]"
     ]
    },
    {
     "name": "stdout",
     "output_type": "stream",
     "text": [
      "Epoch = 91\tSum of Training loss = 10.287063524424894\tCorrect Validation Examples = 9928\n"
     ]
    },
    {
     "name": "stderr",
     "output_type": "stream",
     "text": [
      "100%|████████████████████████████████████████████████████████████████████████████| 938/938 [00:08<00:00, 114.39it/s]\n",
      "100%|████████████████████████████████████████████████████████████████████████████| 313/313 [00:01<00:00, 308.51it/s]\n",
      "  1%|▉                                                                            | 11/938 [00:00<00:09, 102.12it/s]"
     ]
    },
    {
     "name": "stdout",
     "output_type": "stream",
     "text": [
      "Epoch = 92\tSum of Training loss = 58.5207363474708\tCorrect Validation Examples = 9920\n"
     ]
    },
    {
     "name": "stderr",
     "output_type": "stream",
     "text": [
      "100%|████████████████████████████████████████████████████████████████████████████| 938/938 [00:08<00:00, 113.72it/s]\n",
      "100%|████████████████████████████████████████████████████████████████████████████| 313/313 [00:01<00:00, 304.96it/s]\n",
      "  1%|▉                                                                            | 11/938 [00:00<00:09, 101.19it/s]"
     ]
    },
    {
     "name": "stdout",
     "output_type": "stream",
     "text": [
      "Epoch = 93\tSum of Training loss = 45.934709486676404\tCorrect Validation Examples = 9923\n"
     ]
    },
    {
     "name": "stderr",
     "output_type": "stream",
     "text": [
      "100%|████████████████████████████████████████████████████████████████████████████| 938/938 [00:08<00:00, 114.04it/s]\n",
      "100%|████████████████████████████████████████████████████████████████████████████| 313/313 [00:01<00:00, 304.87it/s]\n",
      "  1%|▉                                                                            | 11/938 [00:00<00:09, 101.19it/s]"
     ]
    },
    {
     "name": "stdout",
     "output_type": "stream",
     "text": [
      "Epoch = 94\tSum of Training loss = 18.95696576384188\tCorrect Validation Examples = 9931\n"
     ]
    },
    {
     "name": "stderr",
     "output_type": "stream",
     "text": [
      "100%|████████████████████████████████████████████████████████████████████████████| 938/938 [00:08<00:00, 113.23it/s]\n",
      "100%|████████████████████████████████████████████████████████████████████████████| 313/313 [00:00<00:00, 315.20it/s]\n",
      "  1%|▉                                                                            | 11/938 [00:00<00:08, 104.05it/s]"
     ]
    },
    {
     "name": "stdout",
     "output_type": "stream",
     "text": [
      "Epoch = 95\tSum of Training loss = 36.29017670219447\tCorrect Validation Examples = 9916\n"
     ]
    },
    {
     "name": "stderr",
     "output_type": "stream",
     "text": [
      "100%|████████████████████████████████████████████████████████████████████████████| 938/938 [00:08<00:00, 113.79it/s]\n",
      "100%|████████████████████████████████████████████████████████████████████████████| 313/313 [00:01<00:00, 305.76it/s]\n",
      "  1%|▉                                                                            | 11/938 [00:00<00:08, 104.05it/s]"
     ]
    },
    {
     "name": "stdout",
     "output_type": "stream",
     "text": [
      "Epoch = 96\tSum of Training loss = 39.25787975880877\tCorrect Validation Examples = 9915\n"
     ]
    },
    {
     "name": "stderr",
     "output_type": "stream",
     "text": [
      "100%|████████████████████████████████████████████████████████████████████████████| 938/938 [00:08<00:00, 114.01it/s]\n",
      "100%|████████████████████████████████████████████████████████████████████████████| 313/313 [00:01<00:00, 303.84it/s]\n",
      "  2%|█▊                                                                           | 22/938 [00:00<00:08, 104.17it/s]"
     ]
    },
    {
     "name": "stdout",
     "output_type": "stream",
     "text": [
      "Epoch = 97\tSum of Training loss = 40.8506487778464\tCorrect Validation Examples = 9917\n"
     ]
    },
    {
     "name": "stderr",
     "output_type": "stream",
     "text": [
      "100%|████████████████████████████████████████████████████████████████████████████| 938/938 [00:08<00:00, 114.31it/s]\n",
      "100%|████████████████████████████████████████████████████████████████████████████| 313/313 [00:01<00:00, 302.04it/s]\n",
      "  1%|▉                                                                            | 11/938 [00:00<00:09, 101.19it/s]"
     ]
    },
    {
     "name": "stdout",
     "output_type": "stream",
     "text": [
      "Epoch = 98\tSum of Training loss = 46.53318375604247\tCorrect Validation Examples = 9922\n"
     ]
    },
    {
     "name": "stderr",
     "output_type": "stream",
     "text": [
      "100%|████████████████████████████████████████████████████████████████████████████| 938/938 [00:08<00:00, 113.24it/s]\n",
      "100%|████████████████████████████████████████████████████████████████████████████| 313/313 [00:01<00:00, 301.91it/s]\n",
      "  2%|█▊                                                                           | 22/938 [00:00<00:08, 105.87it/s]"
     ]
    },
    {
     "name": "stdout",
     "output_type": "stream",
     "text": [
      "Epoch = 99\tSum of Training loss = 27.11791973605\tCorrect Validation Examples = 9922\n"
     ]
    },
    {
     "name": "stderr",
     "output_type": "stream",
     "text": [
      "100%|████████████████████████████████████████████████████████████████████████████| 938/938 [00:08<00:00, 113.88it/s]\n",
      "100%|████████████████████████████████████████████████████████████████████████████| 313/313 [00:01<00:00, 304.85it/s]\n"
     ]
    },
    {
     "name": "stdout",
     "output_type": "stream",
     "text": [
      "Epoch = 100\tSum of Training loss = 28.23759792058948\tCorrect Validation Examples = 9920\n"
     ]
    },
    {
     "data": {
      "text/plain": [
       "<Figure size 1152x360 with 0 Axes>"
      ]
     },
     "metadata": {},
     "output_type": "display_data"
    }
   ],
   "source": [
    "model=CNN(dropout=False).to(device)\n",
    "optimizer = optim.Adam(model.parameters(), lr=1e-4)\n",
    "train_loss_array=[]\n",
    "valid_acc_array=[]\n",
    "for epoch in range(epochs):\n",
    "    #Traning \n",
    "    train_loss=0\n",
    "    for data in tqdm(trainloader):\n",
    "        images,labels=data\n",
    "        images=images.to(device)\n",
    "        labels=labels.to(device)\n",
    "        optimizer.zero_grad()\n",
    "        output=model(images)\n",
    "        loss = criterion(output, labels)\n",
    "        loss.backward()\n",
    "        optimizer.step()\n",
    "        train_loss += loss.item()\n",
    "    train_loss_array.append(train_loss)\n",
    "    #validation\n",
    "    correct=0\n",
    "    model.eval()\n",
    "    with torch.no_grad():\n",
    "        for data in tqdm(testloader):\n",
    "            images,labels=data\n",
    "            images=images.to(device)\n",
    "            labels=labels.to(device)\n",
    "            output=model(images)\n",
    "            _,pred=torch.max(output.data,1)\n",
    "            correct+=(pred == labels).sum().item()\n",
    "    valid_acc_array.append(correct)\n",
    "    model.train()\n",
    "    print(f\"Epoch = {epoch+1}\\tSum of Training loss = {train_loss}\\tCorrect Validation Examples = {correct}\")\n",
    "    \n",
    "fig,ax=plt.subplots(1,2,figsize=(16,5))\n",
    "ax[0].plot(np.arange(1,epochs+1),train_loss_array)\n",
    "ax[0].set(ylabel=\"Summed Training loss\",xlabel=\"Epochs\")\n",
    "ax[1].plot(np.arange(1,epochs+1),np.array(valid_acc_array)/len(testset)*100)\n",
    "ax[1].set(ylabel=\"Validation Accuracy\",xlabel=\"Epochs\")\n",
    "plt.savefig(\"Adam.png\",dpi=500)\n",
    "plt.clf()"
   ]
  },
  {
   "cell_type": "code",
   "execution_count": 16,
   "id": "annual-schedule",
   "metadata": {},
   "outputs": [
    {
     "name": "stdout",
     "output_type": "stream",
     "text": [
      "Maximum Accuracy achieved = 99.32\n"
     ]
    }
   ],
   "source": [
    "print(f'Maximum Accuracy achieved = {max(valid_acc_array)/len(testset)*100}')\n",
    "all_losses.append(train_loss_array)"
   ]
  },
  {
   "cell_type": "markdown",
   "id": "documentary-traffic",
   "metadata": {},
   "source": [
    "## Adam without Regularization and with Dropout"
   ]
  },
  {
   "cell_type": "code",
   "execution_count": 17,
   "id": "bored-archive",
   "metadata": {},
   "outputs": [
    {
     "name": "stderr",
     "output_type": "stream",
     "text": [
      "100%|████████████████████████████████████████████████████████████████████████████| 938/938 [00:08<00:00, 112.46it/s]\n",
      "100%|████████████████████████████████████████████████████████████████████████████| 313/313 [00:01<00:00, 306.38it/s]\n",
      "  1%|▉                                                                            | 11/938 [00:00<00:08, 107.05it/s]"
     ]
    },
    {
     "name": "stdout",
     "output_type": "stream",
     "text": [
      "Epoch = 1\tSum of Training loss = 26918.20462346077\tCorrect Validation Examples = 9579\n"
     ]
    },
    {
     "name": "stderr",
     "output_type": "stream",
     "text": [
      "100%|████████████████████████████████████████████████████████████████████████████| 938/938 [00:08<00:00, 114.26it/s]\n",
      "100%|████████████████████████████████████████████████████████████████████████████| 313/313 [00:01<00:00, 299.30it/s]\n",
      "  1%|▉                                                                            | 11/938 [00:00<00:09, 102.59it/s]"
     ]
    },
    {
     "name": "stdout",
     "output_type": "stream",
     "text": [
      "Epoch = 2\tSum of Training loss = 7369.3410539627075\tCorrect Validation Examples = 9754\n"
     ]
    },
    {
     "name": "stderr",
     "output_type": "stream",
     "text": [
      "100%|████████████████████████████████████████████████████████████████████████████| 938/938 [00:08<00:00, 112.98it/s]\n",
      "100%|████████████████████████████████████████████████████████████████████████████| 313/313 [00:01<00:00, 296.30it/s]\n",
      "  1%|▉                                                                            | 11/938 [00:00<00:08, 104.05it/s]"
     ]
    },
    {
     "name": "stdout",
     "output_type": "stream",
     "text": [
      "Epoch = 3\tSum of Training loss = 5078.790185987949\tCorrect Validation Examples = 9807\n"
     ]
    },
    {
     "name": "stderr",
     "output_type": "stream",
     "text": [
      "100%|████████████████████████████████████████████████████████████████████████████| 938/938 [00:08<00:00, 113.54it/s]\n",
      "100%|████████████████████████████████████████████████████████████████████████████| 313/313 [00:01<00:00, 293.42it/s]\n",
      "  1%|▊                                                                              | 9/938 [00:00<00:11, 84.31it/s]"
     ]
    },
    {
     "name": "stdout",
     "output_type": "stream",
     "text": [
      "Epoch = 4\tSum of Training loss = 3969.7367189228535\tCorrect Validation Examples = 9823\n"
     ]
    },
    {
     "name": "stderr",
     "output_type": "stream",
     "text": [
      "100%|████████████████████████████████████████████████████████████████████████████| 938/938 [00:08<00:00, 112.87it/s]\n",
      "100%|████████████████████████████████████████████████████████████████████████████| 313/313 [00:01<00:00, 308.28it/s]\n",
      "  1%|▊                                                                             | 10/938 [00:00<00:09, 98.30it/s]"
     ]
    },
    {
     "name": "stdout",
     "output_type": "stream",
     "text": [
      "Epoch = 5\tSum of Training loss = 3297.5725272148848\tCorrect Validation Examples = 9853\n"
     ]
    },
    {
     "name": "stderr",
     "output_type": "stream",
     "text": [
      "100%|████████████████████████████████████████████████████████████████████████████| 938/938 [00:08<00:00, 112.96it/s]\n",
      "100%|████████████████████████████████████████████████████████████████████████████| 313/313 [00:01<00:00, 305.84it/s]\n",
      "  1%|▉                                                                            | 11/938 [00:00<00:08, 106.02it/s]"
     ]
    },
    {
     "name": "stdout",
     "output_type": "stream",
     "text": [
      "Epoch = 6\tSum of Training loss = 2772.7042967528105\tCorrect Validation Examples = 9858\n"
     ]
    },
    {
     "name": "stderr",
     "output_type": "stream",
     "text": [
      "100%|████████████████████████████████████████████████████████████████████████████| 938/938 [00:08<00:00, 114.38it/s]\n",
      "100%|████████████████████████████████████████████████████████████████████████████| 313/313 [00:01<00:00, 306.48it/s]\n",
      "  1%|▊                                                                             | 10/938 [00:00<00:09, 98.30it/s]"
     ]
    },
    {
     "name": "stdout",
     "output_type": "stream",
     "text": [
      "Epoch = 7\tSum of Training loss = 2418.4693578630686\tCorrect Validation Examples = 9884\n"
     ]
    },
    {
     "name": "stderr",
     "output_type": "stream",
     "text": [
      "100%|████████████████████████████████████████████████████████████████████████████| 938/938 [00:08<00:00, 113.71it/s]\n",
      "100%|████████████████████████████████████████████████████████████████████████████| 313/313 [00:01<00:00, 308.55it/s]\n",
      "  1%|▊                                                                             | 10/938 [00:00<00:09, 99.28it/s]"
     ]
    },
    {
     "name": "stdout",
     "output_type": "stream",
     "text": [
      "Epoch = 8\tSum of Training loss = 2124.526554055512\tCorrect Validation Examples = 9894\n"
     ]
    },
    {
     "name": "stderr",
     "output_type": "stream",
     "text": [
      "100%|████████████████████████████████████████████████████████████████████████████| 938/938 [00:08<00:00, 112.69it/s]\n",
      "100%|████████████████████████████████████████████████████████████████████████████| 313/313 [00:01<00:00, 301.61it/s]\n",
      "  1%|▉                                                                            | 11/938 [00:00<00:09, 102.12it/s]"
     ]
    },
    {
     "name": "stdout",
     "output_type": "stream",
     "text": [
      "Epoch = 9\tSum of Training loss = 1903.492178350687\tCorrect Validation Examples = 9890\n"
     ]
    },
    {
     "name": "stderr",
     "output_type": "stream",
     "text": [
      "100%|████████████████████████████████████████████████████████████████████████████| 938/938 [00:08<00:00, 113.26it/s]\n",
      "100%|████████████████████████████████████████████████████████████████████████████| 313/313 [00:01<00:00, 302.92it/s]\n",
      "  1%|▉                                                                            | 11/938 [00:00<00:09, 100.27it/s]"
     ]
    },
    {
     "name": "stdout",
     "output_type": "stream",
     "text": [
      "Epoch = 10\tSum of Training loss = 1674.3935074806213\tCorrect Validation Examples = 9894\n"
     ]
    },
    {
     "name": "stderr",
     "output_type": "stream",
     "text": [
      "100%|████████████████████████████████████████████████████████████████████████████| 938/938 [00:08<00:00, 114.21it/s]\n",
      "100%|████████████████████████████████████████████████████████████████████████████| 313/313 [00:01<00:00, 300.17it/s]\n",
      "  1%|▉                                                                            | 11/938 [00:00<00:08, 103.56it/s]"
     ]
    },
    {
     "name": "stdout",
     "output_type": "stream",
     "text": [
      "Epoch = 11\tSum of Training loss = 1507.8615903966129\tCorrect Validation Examples = 9903\n"
     ]
    },
    {
     "name": "stderr",
     "output_type": "stream",
     "text": [
      "100%|████████████████████████████████████████████████████████████████████████████| 938/938 [00:08<00:00, 113.94it/s]\n",
      "100%|████████████████████████████████████████████████████████████████████████████| 313/313 [00:01<00:00, 299.30it/s]\n",
      "  1%|▉                                                                            | 11/938 [00:00<00:08, 104.05it/s]"
     ]
    },
    {
     "name": "stdout",
     "output_type": "stream",
     "text": [
      "Epoch = 12\tSum of Training loss = 1362.8034547157586\tCorrect Validation Examples = 9901\n"
     ]
    },
    {
     "name": "stderr",
     "output_type": "stream",
     "text": [
      "100%|████████████████████████████████████████████████████████████████████████████| 938/938 [00:08<00:00, 114.10it/s]\n",
      "100%|████████████████████████████████████████████████████████████████████████████| 313/313 [00:01<00:00, 297.65it/s]\n",
      "  1%|▉                                                                            | 11/938 [00:00<00:08, 103.54it/s]"
     ]
    },
    {
     "name": "stdout",
     "output_type": "stream",
     "text": [
      "Epoch = 13\tSum of Training loss = 1274.5702952854335\tCorrect Validation Examples = 9911\n"
     ]
    },
    {
     "name": "stderr",
     "output_type": "stream",
     "text": [
      "100%|████████████████████████████████████████████████████████████████████████████| 938/938 [00:08<00:00, 114.71it/s]\n",
      "100%|████████████████████████████████████████████████████████████████████████████| 313/313 [00:01<00:00, 311.51it/s]\n",
      "  2%|█▊                                                                           | 22/938 [00:00<00:08, 105.19it/s]"
     ]
    },
    {
     "name": "stdout",
     "output_type": "stream",
     "text": [
      "Epoch = 14\tSum of Training loss = 1112.4410852491856\tCorrect Validation Examples = 9894\n"
     ]
    },
    {
     "name": "stderr",
     "output_type": "stream",
     "text": [
      "100%|████████████████████████████████████████████████████████████████████████████| 938/938 [00:08<00:00, 113.23it/s]\n",
      "100%|████████████████████████████████████████████████████████████████████████████| 313/313 [00:01<00:00, 305.57it/s]\n",
      "  2%|█▊                                                                           | 22/938 [00:00<00:08, 105.20it/s]"
     ]
    },
    {
     "name": "stdout",
     "output_type": "stream",
     "text": [
      "Epoch = 15\tSum of Training loss = 993.7693744264543\tCorrect Validation Examples = 9906\n"
     ]
    },
    {
     "name": "stderr",
     "output_type": "stream",
     "text": [
      "100%|████████████████████████████████████████████████████████████████████████████| 938/938 [00:08<00:00, 113.17it/s]\n",
      "100%|████████████████████████████████████████████████████████████████████████████| 313/313 [00:01<00:00, 306.00it/s]\n",
      "  2%|█▋                                                                           | 21/938 [00:00<00:08, 103.33it/s]"
     ]
    },
    {
     "name": "stdout",
     "output_type": "stream",
     "text": [
      "Epoch = 16\tSum of Training loss = 903.1856735320762\tCorrect Validation Examples = 9909\n"
     ]
    },
    {
     "name": "stderr",
     "output_type": "stream",
     "text": [
      "100%|████████████████████████████████████████████████████████████████████████████| 938/938 [00:08<00:00, 113.43it/s]\n",
      "100%|████████████████████████████████████████████████████████████████████████████| 313/313 [00:01<00:00, 307.68it/s]\n",
      "  1%|▉                                                                            | 11/938 [00:00<00:08, 104.05it/s]"
     ]
    },
    {
     "name": "stdout",
     "output_type": "stream",
     "text": [
      "Epoch = 17\tSum of Training loss = 812.2486093989573\tCorrect Validation Examples = 9906\n"
     ]
    },
    {
     "name": "stderr",
     "output_type": "stream",
     "text": [
      "100%|████████████████████████████████████████████████████████████████████████████| 938/938 [00:08<00:00, 111.84it/s]\n",
      "100%|████████████████████████████████████████████████████████████████████████████| 313/313 [00:01<00:00, 304.08it/s]\n",
      "  1%|▉                                                                            | 11/938 [00:00<00:09, 100.27it/s]"
     ]
    },
    {
     "name": "stdout",
     "output_type": "stream",
     "text": [
      "Epoch = 18\tSum of Training loss = 731.4717302666977\tCorrect Validation Examples = 9912\n"
     ]
    },
    {
     "name": "stderr",
     "output_type": "stream",
     "text": [
      "100%|████████████████████████████████████████████████████████████████████████████| 938/938 [00:08<00:00, 112.65it/s]\n",
      "100%|████████████████████████████████████████████████████████████████████████████| 313/313 [00:01<00:00, 300.60it/s]\n",
      "  1%|▉                                                                            | 11/938 [00:00<00:09, 102.12it/s]"
     ]
    },
    {
     "name": "stdout",
     "output_type": "stream",
     "text": [
      "Epoch = 19\tSum of Training loss = 705.1749142305925\tCorrect Validation Examples = 9897\n"
     ]
    },
    {
     "name": "stderr",
     "output_type": "stream",
     "text": [
      "100%|████████████████████████████████████████████████████████████████████████████| 938/938 [00:08<00:00, 112.49it/s]\n",
      "100%|████████████████████████████████████████████████████████████████████████████| 313/313 [00:01<00:00, 301.89it/s]\n",
      "  2%|█▋                                                                           | 21/938 [00:00<00:08, 102.70it/s]"
     ]
    },
    {
     "name": "stdout",
     "output_type": "stream",
     "text": [
      "Epoch = 20\tSum of Training loss = 630.471409563208\tCorrect Validation Examples = 9915\n"
     ]
    },
    {
     "name": "stderr",
     "output_type": "stream",
     "text": [
      "100%|████████████████████████████████████████████████████████████████████████████| 938/938 [00:08<00:00, 112.19it/s]\n",
      "100%|████████████████████████████████████████████████████████████████████████████| 313/313 [00:01<00:00, 298.64it/s]\n",
      "  1%|▉                                                                            | 11/938 [00:00<00:09, 101.17it/s]"
     ]
    },
    {
     "name": "stdout",
     "output_type": "stream",
     "text": [
      "Epoch = 21\tSum of Training loss = 560.8576596560888\tCorrect Validation Examples = 9910\n"
     ]
    },
    {
     "name": "stderr",
     "output_type": "stream",
     "text": [
      "100%|████████████████████████████████████████████████████████████████████████████| 938/938 [00:08<00:00, 111.55it/s]\n",
      "100%|████████████████████████████████████████████████████████████████████████████| 313/313 [00:01<00:00, 299.32it/s]\n",
      "  1%|▉                                                                            | 11/938 [00:00<00:09, 101.19it/s]"
     ]
    },
    {
     "name": "stdout",
     "output_type": "stream",
     "text": [
      "Epoch = 22\tSum of Training loss = 513.5821059020236\tCorrect Validation Examples = 9913\n"
     ]
    },
    {
     "name": "stderr",
     "output_type": "stream",
     "text": [
      "100%|████████████████████████████████████████████████████████████████████████████| 938/938 [00:08<00:00, 112.86it/s]\n",
      "100%|████████████████████████████████████████████████████████████████████████████| 313/313 [00:01<00:00, 296.33it/s]\n",
      "  1%|▉                                                                            | 11/938 [00:00<00:09, 101.28it/s]"
     ]
    },
    {
     "name": "stdout",
     "output_type": "stream",
     "text": [
      "Epoch = 23\tSum of Training loss = 503.26565473899245\tCorrect Validation Examples = 9909\n"
     ]
    },
    {
     "name": "stderr",
     "output_type": "stream",
     "text": [
      "100%|████████████████████████████████████████████████████████████████████████████| 938/938 [00:08<00:00, 113.86it/s]\n",
      "100%|████████████████████████████████████████████████████████████████████████████| 313/313 [00:01<00:00, 304.40it/s]\n",
      "  1%|▉                                                                            | 11/938 [00:00<00:09, 101.19it/s]"
     ]
    },
    {
     "name": "stdout",
     "output_type": "stream",
     "text": [
      "Epoch = 24\tSum of Training loss = 443.78340814472176\tCorrect Validation Examples = 9906\n"
     ]
    },
    {
     "name": "stderr",
     "output_type": "stream",
     "text": [
      "100%|████████████████████████████████████████████████████████████████████████████| 938/938 [00:08<00:00, 112.10it/s]\n",
      "100%|████████████████████████████████████████████████████████████████████████████| 313/313 [00:01<00:00, 299.03it/s]\n",
      "  1%|▊                                                                             | 10/938 [00:00<00:09, 97.37it/s]"
     ]
    },
    {
     "name": "stdout",
     "output_type": "stream",
     "text": [
      "Epoch = 25\tSum of Training loss = 432.9917238196358\tCorrect Validation Examples = 9909\n"
     ]
    },
    {
     "name": "stderr",
     "output_type": "stream",
     "text": [
      "100%|████████████████████████████████████████████████████████████████████████████| 938/938 [00:08<00:00, 109.36it/s]\n",
      "100%|████████████████████████████████████████████████████████████████████████████| 313/313 [00:01<00:00, 291.73it/s]\n",
      "  1%|▊                                                                             | 10/938 [00:00<00:09, 95.50it/s]"
     ]
    },
    {
     "name": "stdout",
     "output_type": "stream",
     "text": [
      "Epoch = 26\tSum of Training loss = 351.758739819983\tCorrect Validation Examples = 9919\n"
     ]
    },
    {
     "name": "stderr",
     "output_type": "stream",
     "text": [
      "100%|████████████████████████████████████████████████████████████████████████████| 938/938 [00:08<00:00, 109.35it/s]\n",
      "100%|████████████████████████████████████████████████████████████████████████████| 313/313 [00:01<00:00, 301.81it/s]\n",
      "  1%|▊                                                                             | 10/938 [00:00<00:09, 98.78it/s]"
     ]
    },
    {
     "name": "stdout",
     "output_type": "stream",
     "text": [
      "Epoch = 27\tSum of Training loss = 329.58735568850534\tCorrect Validation Examples = 9915\n"
     ]
    },
    {
     "name": "stderr",
     "output_type": "stream",
     "text": [
      "100%|████████████████████████████████████████████████████████████████████████████| 938/938 [00:08<00:00, 108.60it/s]\n",
      "100%|████████████████████████████████████████████████████████████████████████████| 313/313 [00:01<00:00, 291.66it/s]\n",
      "  1%|▉                                                                            | 11/938 [00:00<00:09, 100.70it/s]"
     ]
    },
    {
     "name": "stdout",
     "output_type": "stream",
     "text": [
      "Epoch = 28\tSum of Training loss = 315.51231510791695\tCorrect Validation Examples = 9901\n"
     ]
    },
    {
     "name": "stderr",
     "output_type": "stream",
     "text": [
      "100%|████████████████████████████████████████████████████████████████████████████| 938/938 [00:08<00:00, 107.75it/s]\n",
      "100%|████████████████████████████████████████████████████████████████████████████| 313/313 [00:01<00:00, 277.05it/s]\n",
      "  1%|▊                                                                              | 9/938 [00:00<00:10, 84.67it/s]"
     ]
    },
    {
     "name": "stdout",
     "output_type": "stream",
     "text": [
      "Epoch = 29\tSum of Training loss = 296.0791651304462\tCorrect Validation Examples = 9918\n"
     ]
    },
    {
     "name": "stderr",
     "output_type": "stream",
     "text": [
      "100%|████████████████████████████████████████████████████████████████████████████| 938/938 [00:08<00:00, 107.54it/s]\n",
      "100%|████████████████████████████████████████████████████████████████████████████| 313/313 [00:01<00:00, 296.03it/s]\n",
      "  1%|▊                                                                             | 10/938 [00:00<00:09, 95.49it/s]"
     ]
    },
    {
     "name": "stdout",
     "output_type": "stream",
     "text": [
      "Epoch = 30\tSum of Training loss = 283.3328638270614\tCorrect Validation Examples = 9904\n"
     ]
    },
    {
     "name": "stderr",
     "output_type": "stream",
     "text": [
      "100%|████████████████████████████████████████████████████████████████████████████| 938/938 [00:08<00:00, 106.94it/s]\n",
      "100%|████████████████████████████████████████████████████████████████████████████| 313/313 [00:01<00:00, 280.20it/s]\n",
      "  1%|▊                                                                             | 10/938 [00:00<00:09, 93.71it/s]"
     ]
    },
    {
     "name": "stdout",
     "output_type": "stream",
     "text": [
      "Epoch = 31\tSum of Training loss = 291.8570858525345\tCorrect Validation Examples = 9924\n"
     ]
    },
    {
     "name": "stderr",
     "output_type": "stream",
     "text": [
      "100%|████████████████████████████████████████████████████████████████████████████| 938/938 [00:08<00:00, 110.44it/s]\n",
      "100%|████████████████████████████████████████████████████████████████████████████| 313/313 [00:01<00:00, 267.77it/s]\n",
      "  1%|▉                                                                            | 11/938 [00:00<00:09, 101.50it/s]"
     ]
    },
    {
     "name": "stdout",
     "output_type": "stream",
     "text": [
      "Epoch = 32\tSum of Training loss = 202.8594941694173\tCorrect Validation Examples = 9922\n"
     ]
    },
    {
     "name": "stderr",
     "output_type": "stream",
     "text": [
      "100%|████████████████████████████████████████████████████████████████████████████| 938/938 [00:08<00:00, 107.66it/s]\n",
      "100%|████████████████████████████████████████████████████████████████████████████| 313/313 [00:01<00:00, 299.76it/s]\n",
      "  1%|▉                                                                            | 11/938 [00:00<00:08, 103.08it/s]"
     ]
    },
    {
     "name": "stdout",
     "output_type": "stream",
     "text": [
      "Epoch = 33\tSum of Training loss = 232.989639389707\tCorrect Validation Examples = 9908\n"
     ]
    },
    {
     "name": "stderr",
     "output_type": "stream",
     "text": [
      "100%|████████████████████████████████████████████████████████████████████████████| 938/938 [00:08<00:00, 110.08it/s]\n",
      "100%|████████████████████████████████████████████████████████████████████████████| 313/313 [00:01<00:00, 302.64it/s]\n",
      "  1%|▉                                                                            | 11/938 [00:00<00:08, 108.66it/s]"
     ]
    },
    {
     "name": "stdout",
     "output_type": "stream",
     "text": [
      "Epoch = 34\tSum of Training loss = 182.56358853682468\tCorrect Validation Examples = 9916\n"
     ]
    },
    {
     "name": "stderr",
     "output_type": "stream",
     "text": [
      "100%|████████████████████████████████████████████████████████████████████████████| 938/938 [00:08<00:00, 113.43it/s]\n",
      "100%|████████████████████████████████████████████████████████████████████████████| 313/313 [00:01<00:00, 296.11it/s]\n",
      "  1%|▉                                                                            | 11/938 [00:00<00:09, 102.14it/s]"
     ]
    },
    {
     "name": "stdout",
     "output_type": "stream",
     "text": [
      "Epoch = 35\tSum of Training loss = 211.6084048290213\tCorrect Validation Examples = 9907\n"
     ]
    },
    {
     "name": "stderr",
     "output_type": "stream",
     "text": [
      "100%|████████████████████████████████████████████████████████████████████████████| 938/938 [00:08<00:00, 114.11it/s]\n",
      "100%|████████████████████████████████████████████████████████████████████████████| 313/313 [00:01<00:00, 295.39it/s]\n",
      "  1%|▊                                                                              | 9/938 [00:00<00:11, 81.92it/s]"
     ]
    },
    {
     "name": "stdout",
     "output_type": "stream",
     "text": [
      "Epoch = 36\tSum of Training loss = 188.78542277109227\tCorrect Validation Examples = 9913\n"
     ]
    },
    {
     "name": "stderr",
     "output_type": "stream",
     "text": [
      "100%|████████████████████████████████████████████████████████████████████████████| 938/938 [00:08<00:00, 113.55it/s]\n",
      "100%|████████████████████████████████████████████████████████████████████████████| 313/313 [00:01<00:00, 305.62it/s]\n",
      "  2%|█▊                                                                           | 22/938 [00:00<00:08, 105.31it/s]"
     ]
    },
    {
     "name": "stdout",
     "output_type": "stream",
     "text": [
      "Epoch = 37\tSum of Training loss = 179.03017784013355\tCorrect Validation Examples = 9907\n"
     ]
    },
    {
     "name": "stderr",
     "output_type": "stream",
     "text": [
      "100%|████████████████████████████████████████████████████████████████████████████| 938/938 [00:08<00:00, 112.90it/s]\n",
      "100%|████████████████████████████████████████████████████████████████████████████| 313/313 [00:01<00:00, 300.31it/s]\n",
      "  2%|█▋                                                                           | 21/938 [00:00<00:08, 102.72it/s]"
     ]
    },
    {
     "name": "stdout",
     "output_type": "stream",
     "text": [
      "Epoch = 38\tSum of Training loss = 157.7316787126474\tCorrect Validation Examples = 9912\n"
     ]
    },
    {
     "name": "stderr",
     "output_type": "stream",
     "text": [
      "100%|████████████████████████████████████████████████████████████████████████████| 938/938 [00:08<00:00, 113.73it/s]\n",
      "100%|████████████████████████████████████████████████████████████████████████████| 313/313 [00:01<00:00, 300.87it/s]\n",
      "  1%|▉                                                                            | 11/938 [00:00<00:08, 103.56it/s]"
     ]
    },
    {
     "name": "stdout",
     "output_type": "stream",
     "text": [
      "Epoch = 39\tSum of Training loss = 191.46847749601875\tCorrect Validation Examples = 9910\n"
     ]
    },
    {
     "name": "stderr",
     "output_type": "stream",
     "text": [
      "100%|████████████████████████████████████████████████████████████████████████████| 938/938 [00:08<00:00, 111.64it/s]\n",
      "100%|████████████████████████████████████████████████████████████████████████████| 313/313 [00:01<00:00, 302.30it/s]\n",
      "  1%|▊                                                                             | 10/938 [00:00<00:09, 95.49it/s]"
     ]
    },
    {
     "name": "stdout",
     "output_type": "stream",
     "text": [
      "Epoch = 40\tSum of Training loss = 105.5034074653122\tCorrect Validation Examples = 9912\n"
     ]
    },
    {
     "name": "stderr",
     "output_type": "stream",
     "text": [
      "100%|████████████████████████████████████████████████████████████████████████████| 938/938 [00:08<00:00, 109.25it/s]\n",
      "100%|████████████████████████████████████████████████████████████████████████████| 313/313 [00:01<00:00, 297.73it/s]\n",
      "  1%|▊                                                                             | 10/938 [00:00<00:09, 92.86it/s]"
     ]
    },
    {
     "name": "stdout",
     "output_type": "stream",
     "text": [
      "Epoch = 41\tSum of Training loss = 135.1115358045863\tCorrect Validation Examples = 9911\n"
     ]
    },
    {
     "name": "stderr",
     "output_type": "stream",
     "text": [
      "100%|████████████████████████████████████████████████████████████████████████████| 938/938 [00:08<00:00, 111.42it/s]\n",
      "100%|████████████████████████████████████████████████████████████████████████████| 313/313 [00:01<00:00, 298.34it/s]\n",
      "  1%|▉                                                                            | 11/938 [00:00<00:09, 102.12it/s]"
     ]
    },
    {
     "name": "stdout",
     "output_type": "stream",
     "text": [
      "Epoch = 42\tSum of Training loss = 176.53385627290845\tCorrect Validation Examples = 9910\n"
     ]
    },
    {
     "name": "stderr",
     "output_type": "stream",
     "text": [
      "100%|████████████████████████████████████████████████████████████████████████████| 938/938 [00:08<00:00, 114.32it/s]\n",
      "100%|████████████████████████████████████████████████████████████████████████████| 313/313 [00:01<00:00, 302.47it/s]\n",
      "  1%|▉                                                                            | 11/938 [00:00<00:09, 100.71it/s]"
     ]
    },
    {
     "name": "stdout",
     "output_type": "stream",
     "text": [
      "Epoch = 43\tSum of Training loss = 167.45777905719297\tCorrect Validation Examples = 9919\n"
     ]
    },
    {
     "name": "stderr",
     "output_type": "stream",
     "text": [
      "100%|████████████████████████████████████████████████████████████████████████████| 938/938 [00:08<00:00, 112.03it/s]\n",
      "100%|████████████████████████████████████████████████████████████████████████████| 313/313 [00:01<00:00, 301.83it/s]\n",
      "  1%|▉                                                                            | 11/938 [00:00<00:09, 100.48it/s]"
     ]
    },
    {
     "name": "stdout",
     "output_type": "stream",
     "text": [
      "Epoch = 44\tSum of Training loss = 131.12026668312683\tCorrect Validation Examples = 9914\n"
     ]
    },
    {
     "name": "stderr",
     "output_type": "stream",
     "text": [
      "100%|████████████████████████████████████████████████████████████████████████████| 938/938 [00:08<00:00, 112.36it/s]\n",
      "100%|████████████████████████████████████████████████████████████████████████████| 313/313 [00:01<00:00, 300.27it/s]\n",
      "  1%|▊                                                                             | 10/938 [00:00<00:09, 99.27it/s]"
     ]
    },
    {
     "name": "stdout",
     "output_type": "stream",
     "text": [
      "Epoch = 45\tSum of Training loss = 132.48838178790902\tCorrect Validation Examples = 9909\n"
     ]
    },
    {
     "name": "stderr",
     "output_type": "stream",
     "text": [
      "100%|████████████████████████████████████████████████████████████████████████████| 938/938 [00:08<00:00, 113.15it/s]\n",
      "100%|████████████████████████████████████████████████████████████████████████████| 313/313 [00:01<00:00, 293.22it/s]\n",
      "  1%|▉                                                                            | 11/938 [00:00<00:09, 101.26it/s]"
     ]
    },
    {
     "name": "stdout",
     "output_type": "stream",
     "text": [
      "Epoch = 46\tSum of Training loss = 100.17827296534233\tCorrect Validation Examples = 9916\n"
     ]
    },
    {
     "name": "stderr",
     "output_type": "stream",
     "text": [
      "100%|████████████████████████████████████████████████████████████████████████████| 938/938 [00:08<00:00, 114.20it/s]\n",
      "100%|████████████████████████████████████████████████████████████████████████████| 313/313 [00:01<00:00, 305.86it/s]\n",
      "  2%|█▊                                                                           | 22/938 [00:00<00:08, 106.05it/s]"
     ]
    },
    {
     "name": "stdout",
     "output_type": "stream",
     "text": [
      "Epoch = 47\tSum of Training loss = 116.02070689418906\tCorrect Validation Examples = 9912\n"
     ]
    },
    {
     "name": "stderr",
     "output_type": "stream",
     "text": [
      "100%|████████████████████████████████████████████████████████████████████████████| 938/938 [00:08<00:00, 112.47it/s]\n",
      "100%|████████████████████████████████████████████████████████████████████████████| 313/313 [00:01<00:00, 301.33it/s]\n",
      "  1%|▉                                                                             | 11/938 [00:00<00:09, 99.37it/s]"
     ]
    },
    {
     "name": "stdout",
     "output_type": "stream",
     "text": [
      "Epoch = 48\tSum of Training loss = 104.31971185976727\tCorrect Validation Examples = 9910\n"
     ]
    },
    {
     "name": "stderr",
     "output_type": "stream",
     "text": [
      "100%|████████████████████████████████████████████████████████████████████████████| 938/938 [00:08<00:00, 113.08it/s]\n",
      "100%|████████████████████████████████████████████████████████████████████████████| 313/313 [00:01<00:00, 299.29it/s]\n",
      "  1%|▉                                                                            | 11/938 [00:00<00:08, 103.08it/s]"
     ]
    },
    {
     "name": "stdout",
     "output_type": "stream",
     "text": [
      "Epoch = 49\tSum of Training loss = 121.29487125634478\tCorrect Validation Examples = 9918\n"
     ]
    },
    {
     "name": "stderr",
     "output_type": "stream",
     "text": [
      "100%|████████████████████████████████████████████████████████████████████████████| 938/938 [00:08<00:00, 112.79it/s]\n",
      "100%|████████████████████████████████████████████████████████████████████████████| 313/313 [00:01<00:00, 304.39it/s]\n",
      "  2%|█▋                                                                           | 21/938 [00:00<00:08, 104.28it/s]"
     ]
    },
    {
     "name": "stdout",
     "output_type": "stream",
     "text": [
      "Epoch = 50\tSum of Training loss = 97.07166025067636\tCorrect Validation Examples = 9905\n"
     ]
    },
    {
     "name": "stderr",
     "output_type": "stream",
     "text": [
      "100%|████████████████████████████████████████████████████████████████████████████| 938/938 [00:08<00:00, 112.65it/s]\n",
      "100%|████████████████████████████████████████████████████████████████████████████| 313/313 [00:01<00:00, 302.92it/s]\n",
      "  1%|▉                                                                            | 11/938 [00:00<00:09, 102.12it/s]"
     ]
    },
    {
     "name": "stdout",
     "output_type": "stream",
     "text": [
      "Epoch = 51\tSum of Training loss = 78.91388209594697\tCorrect Validation Examples = 9919\n"
     ]
    },
    {
     "name": "stderr",
     "output_type": "stream",
     "text": [
      "100%|████████████████████████████████████████████████████████████████████████████| 938/938 [00:08<00:00, 112.82it/s]\n",
      "100%|████████████████████████████████████████████████████████████████████████████| 313/313 [00:01<00:00, 310.26it/s]\n",
      "  1%|▉                                                                            | 11/938 [00:00<00:08, 105.04it/s]"
     ]
    },
    {
     "name": "stdout",
     "output_type": "stream",
     "text": [
      "Epoch = 52\tSum of Training loss = 88.24080396536169\tCorrect Validation Examples = 9910\n"
     ]
    },
    {
     "name": "stderr",
     "output_type": "stream",
     "text": [
      "100%|████████████████████████████████████████████████████████████████████████████| 938/938 [00:08<00:00, 113.48it/s]\n",
      "100%|████████████████████████████████████████████████████████████████████████████| 313/313 [00:01<00:00, 302.57it/s]\n",
      "  1%|▉                                                                            | 11/938 [00:00<00:09, 102.12it/s]"
     ]
    },
    {
     "name": "stdout",
     "output_type": "stream",
     "text": [
      "Epoch = 53\tSum of Training loss = 125.60574678800367\tCorrect Validation Examples = 9919\n"
     ]
    },
    {
     "name": "stderr",
     "output_type": "stream",
     "text": [
      "100%|████████████████████████████████████████████████████████████████████████████| 938/938 [00:08<00:00, 113.38it/s]\n",
      "100%|████████████████████████████████████████████████████████████████████████████| 313/313 [00:01<00:00, 303.06it/s]\n",
      "  1%|▉                                                                            | 11/938 [00:00<00:09, 100.64it/s]"
     ]
    },
    {
     "name": "stdout",
     "output_type": "stream",
     "text": [
      "Epoch = 54\tSum of Training loss = 96.87474406538422\tCorrect Validation Examples = 9927\n"
     ]
    },
    {
     "name": "stderr",
     "output_type": "stream",
     "text": [
      "100%|████████████████████████████████████████████████████████████████████████████| 938/938 [00:08<00:00, 114.93it/s]\n",
      "100%|████████████████████████████████████████████████████████████████████████████| 313/313 [00:01<00:00, 300.05it/s]\n",
      "  2%|█▊                                                                           | 22/938 [00:00<00:08, 103.82it/s]"
     ]
    },
    {
     "name": "stdout",
     "output_type": "stream",
     "text": [
      "Epoch = 55\tSum of Training loss = 71.00844373952987\tCorrect Validation Examples = 9910\n"
     ]
    },
    {
     "name": "stderr",
     "output_type": "stream",
     "text": [
      "100%|████████████████████████████████████████████████████████████████████████████| 938/938 [00:08<00:00, 113.00it/s]\n",
      "100%|████████████████████████████████████████████████████████████████████████████| 313/313 [00:01<00:00, 299.35it/s]\n",
      "  1%|▊                                                                             | 10/938 [00:00<00:10, 92.27it/s]"
     ]
    },
    {
     "name": "stdout",
     "output_type": "stream",
     "text": [
      "Epoch = 56\tSum of Training loss = 94.86201113718562\tCorrect Validation Examples = 9919\n"
     ]
    },
    {
     "name": "stderr",
     "output_type": "stream",
     "text": [
      "100%|████████████████████████████████████████████████████████████████████████████| 938/938 [00:08<00:00, 111.10it/s]\n",
      "100%|████████████████████████████████████████████████████████████████████████████| 313/313 [00:01<00:00, 294.75it/s]\n",
      "  1%|▊                                                                             | 10/938 [00:00<00:09, 99.29it/s]"
     ]
    },
    {
     "name": "stdout",
     "output_type": "stream",
     "text": [
      "Epoch = 57\tSum of Training loss = 50.26119384046342\tCorrect Validation Examples = 9917\n"
     ]
    },
    {
     "name": "stderr",
     "output_type": "stream",
     "text": [
      "100%|████████████████████████████████████████████████████████████████████████████| 938/938 [00:08<00:00, 110.88it/s]\n",
      "100%|████████████████████████████████████████████████████████████████████████████| 313/313 [00:01<00:00, 298.03it/s]\n",
      "  1%|▊                                                                             | 10/938 [00:00<00:09, 94.59it/s]"
     ]
    },
    {
     "name": "stdout",
     "output_type": "stream",
     "text": [
      "Epoch = 58\tSum of Training loss = 132.0061051982666\tCorrect Validation Examples = 9912\n"
     ]
    },
    {
     "name": "stderr",
     "output_type": "stream",
     "text": [
      "100%|████████████████████████████████████████████████████████████████████████████| 938/938 [00:08<00:00, 111.47it/s]\n",
      "100%|████████████████████████████████████████████████████████████████████████████| 313/313 [00:01<00:00, 301.01it/s]\n",
      "  1%|▉                                                                            | 11/938 [00:00<00:09, 102.59it/s]"
     ]
    },
    {
     "name": "stdout",
     "output_type": "stream",
     "text": [
      "Epoch = 59\tSum of Training loss = 68.08299373077443\tCorrect Validation Examples = 9906\n"
     ]
    },
    {
     "name": "stderr",
     "output_type": "stream",
     "text": [
      "100%|████████████████████████████████████████████████████████████████████████████| 938/938 [00:08<00:00, 110.79it/s]\n",
      "100%|████████████████████████████████████████████████████████████████████████████| 313/313 [00:01<00:00, 305.71it/s]\n",
      "  1%|▉                                                                            | 11/938 [00:00<00:08, 103.58it/s]"
     ]
    },
    {
     "name": "stdout",
     "output_type": "stream",
     "text": [
      "Epoch = 60\tSum of Training loss = 59.55907336560358\tCorrect Validation Examples = 9917\n"
     ]
    },
    {
     "name": "stderr",
     "output_type": "stream",
     "text": [
      "100%|████████████████████████████████████████████████████████████████████████████| 938/938 [00:08<00:00, 110.66it/s]\n",
      "100%|████████████████████████████████████████████████████████████████████████████| 313/313 [00:01<00:00, 301.76it/s]\n",
      "  1%|▉                                                                            | 11/938 [00:00<00:08, 103.12it/s]"
     ]
    },
    {
     "name": "stdout",
     "output_type": "stream",
     "text": [
      "Epoch = 61\tSum of Training loss = 39.09041247766572\tCorrect Validation Examples = 9911\n"
     ]
    },
    {
     "name": "stderr",
     "output_type": "stream",
     "text": [
      "100%|████████████████████████████████████████████████████████████████████████████| 938/938 [00:08<00:00, 111.28it/s]\n",
      "100%|████████████████████████████████████████████████████████████████████████████| 313/313 [00:01<00:00, 292.62it/s]\n",
      "  1%|▊                                                                             | 10/938 [00:00<00:10, 91.56it/s]"
     ]
    },
    {
     "name": "stdout",
     "output_type": "stream",
     "text": [
      "Epoch = 62\tSum of Training loss = 135.49253390712875\tCorrect Validation Examples = 9922\n"
     ]
    },
    {
     "name": "stderr",
     "output_type": "stream",
     "text": [
      "100%|████████████████████████████████████████████████████████████████████████████| 938/938 [00:08<00:00, 110.51it/s]\n",
      "100%|████████████████████████████████████████████████████████████████████████████| 313/313 [00:01<00:00, 299.17it/s]\n",
      "  1%|▉                                                                             | 11/938 [00:00<00:09, 99.81it/s]"
     ]
    },
    {
     "name": "stdout",
     "output_type": "stream",
     "text": [
      "Epoch = 63\tSum of Training loss = 45.48282097301126\tCorrect Validation Examples = 9910\n"
     ]
    },
    {
     "name": "stderr",
     "output_type": "stream",
     "text": [
      "100%|████████████████████████████████████████████████████████████████████████████| 938/938 [00:08<00:00, 111.15it/s]\n",
      "100%|████████████████████████████████████████████████████████████████████████████| 313/313 [00:01<00:00, 300.04it/s]\n",
      "  2%|█▊                                                                           | 22/938 [00:00<00:08, 105.38it/s]"
     ]
    },
    {
     "name": "stdout",
     "output_type": "stream",
     "text": [
      "Epoch = 64\tSum of Training loss = 42.20679266734709\tCorrect Validation Examples = 9914\n"
     ]
    },
    {
     "name": "stderr",
     "output_type": "stream",
     "text": [
      "100%|████████████████████████████████████████████████████████████████████████████| 938/938 [00:08<00:00, 113.29it/s]\n",
      "100%|████████████████████████████████████████████████████████████████████████████| 313/313 [00:01<00:00, 300.17it/s]\n",
      "  1%|▉                                                                            | 11/938 [00:00<00:09, 101.65it/s]"
     ]
    },
    {
     "name": "stdout",
     "output_type": "stream",
     "text": [
      "Epoch = 65\tSum of Training loss = 98.89423290274681\tCorrect Validation Examples = 9913\n"
     ]
    },
    {
     "name": "stderr",
     "output_type": "stream",
     "text": [
      "100%|████████████████████████████████████████████████████████████████████████████| 938/938 [00:08<00:00, 113.21it/s]\n",
      "100%|████████████████████████████████████████████████████████████████████████████| 313/313 [00:01<00:00, 296.77it/s]\n",
      "  1%|▉                                                                            | 11/938 [00:00<00:08, 107.08it/s]"
     ]
    },
    {
     "name": "stdout",
     "output_type": "stream",
     "text": [
      "Epoch = 66\tSum of Training loss = 62.08064009821828\tCorrect Validation Examples = 9917\n"
     ]
    },
    {
     "name": "stderr",
     "output_type": "stream",
     "text": [
      "100%|████████████████████████████████████████████████████████████████████████████| 938/938 [00:08<00:00, 112.35it/s]\n",
      "100%|████████████████████████████████████████████████████████████████████████████| 313/313 [00:01<00:00, 299.30it/s]\n",
      "  1%|▉                                                                            | 11/938 [00:00<00:09, 100.91it/s]"
     ]
    },
    {
     "name": "stdout",
     "output_type": "stream",
     "text": [
      "Epoch = 67\tSum of Training loss = 48.12864670063982\tCorrect Validation Examples = 9911\n"
     ]
    },
    {
     "name": "stderr",
     "output_type": "stream",
     "text": [
      "100%|████████████████████████████████████████████████████████████████████████████| 938/938 [00:08<00:00, 112.28it/s]\n",
      "100%|████████████████████████████████████████████████████████████████████████████| 313/313 [00:01<00:00, 303.81it/s]\n",
      "  1%|▉                                                                            | 11/938 [00:00<00:09, 102.50it/s]"
     ]
    },
    {
     "name": "stdout",
     "output_type": "stream",
     "text": [
      "Epoch = 68\tSum of Training loss = 54.69428010899264\tCorrect Validation Examples = 9912\n"
     ]
    },
    {
     "name": "stderr",
     "output_type": "stream",
     "text": [
      "100%|████████████████████████████████████████████████████████████████████████████| 938/938 [00:08<00:00, 111.28it/s]\n",
      "100%|████████████████████████████████████████████████████████████████████████████| 313/313 [00:01<00:00, 299.18it/s]\n",
      "  1%|▉                                                                            | 11/938 [00:00<00:08, 103.08it/s]"
     ]
    },
    {
     "name": "stdout",
     "output_type": "stream",
     "text": [
      "Epoch = 69\tSum of Training loss = 50.791101743707685\tCorrect Validation Examples = 9916\n"
     ]
    },
    {
     "name": "stderr",
     "output_type": "stream",
     "text": [
      "100%|████████████████████████████████████████████████████████████████████████████| 938/938 [00:08<00:00, 115.24it/s]\n",
      "100%|████████████████████████████████████████████████████████████████████████████| 313/313 [00:01<00:00, 277.98it/s]\n",
      "  1%|▊                                                                             | 10/938 [00:00<00:09, 95.49it/s]"
     ]
    },
    {
     "name": "stdout",
     "output_type": "stream",
     "text": [
      "Epoch = 70\tSum of Training loss = 65.858373751508\tCorrect Validation Examples = 9917\n"
     ]
    },
    {
     "name": "stderr",
     "output_type": "stream",
     "text": [
      "100%|████████████████████████████████████████████████████████████████████████████| 938/938 [00:08<00:00, 111.91it/s]\n",
      "100%|████████████████████████████████████████████████████████████████████████████| 313/313 [00:00<00:00, 315.10it/s]\n",
      "  1%|▉                                                                            | 11/938 [00:00<00:09, 102.15it/s]"
     ]
    },
    {
     "name": "stdout",
     "output_type": "stream",
     "text": [
      "Epoch = 71\tSum of Training loss = 58.18201428027089\tCorrect Validation Examples = 9925\n"
     ]
    },
    {
     "name": "stderr",
     "output_type": "stream",
     "text": [
      "100%|████████████████████████████████████████████████████████████████████████████| 938/938 [00:07<00:00, 118.35it/s]\n",
      "100%|████████████████████████████████████████████████████████████████████████████| 313/313 [00:00<00:00, 314.46it/s]\n",
      "  1%|▉                                                                            | 11/938 [00:00<00:08, 105.04it/s]"
     ]
    },
    {
     "name": "stdout",
     "output_type": "stream",
     "text": [
      "Epoch = 72\tSum of Training loss = 90.56850520270518\tCorrect Validation Examples = 9917\n"
     ]
    },
    {
     "name": "stderr",
     "output_type": "stream",
     "text": [
      "100%|████████████████████████████████████████████████████████████████████████████| 938/938 [00:07<00:00, 118.48it/s]\n",
      "100%|████████████████████████████████████████████████████████████████████████████| 313/313 [00:00<00:00, 316.37it/s]\n",
      "  1%|▊                                                                             | 10/938 [00:00<00:09, 99.27it/s]"
     ]
    },
    {
     "name": "stdout",
     "output_type": "stream",
     "text": [
      "Epoch = 73\tSum of Training loss = 43.17934093410736\tCorrect Validation Examples = 9918\n"
     ]
    },
    {
     "name": "stderr",
     "output_type": "stream",
     "text": [
      "100%|████████████████████████████████████████████████████████████████████████████| 938/938 [00:07<00:00, 117.91it/s]\n",
      "100%|████████████████████████████████████████████████████████████████████████████| 313/313 [00:00<00:00, 313.52it/s]\n",
      "  1%|▊                                                                              | 9/938 [00:00<00:11, 81.30it/s]"
     ]
    },
    {
     "name": "stdout",
     "output_type": "stream",
     "text": [
      "Epoch = 74\tSum of Training loss = 50.578290766284965\tCorrect Validation Examples = 9925\n"
     ]
    },
    {
     "name": "stderr",
     "output_type": "stream",
     "text": [
      "100%|████████████████████████████████████████████████████████████████████████████| 938/938 [00:07<00:00, 117.53it/s]\n",
      "100%|████████████████████████████████████████████████████████████████████████████| 313/313 [00:01<00:00, 311.03it/s]\n",
      "  1%|▉                                                                            | 11/938 [00:00<00:09, 102.13it/s]"
     ]
    },
    {
     "name": "stdout",
     "output_type": "stream",
     "text": [
      "Epoch = 75\tSum of Training loss = 25.451087333360192\tCorrect Validation Examples = 9917\n"
     ]
    },
    {
     "name": "stderr",
     "output_type": "stream",
     "text": [
      "100%|████████████████████████████████████████████████████████████████████████████| 938/938 [00:08<00:00, 116.38it/s]\n",
      "100%|████████████████████████████████████████████████████████████████████████████| 313/313 [00:01<00:00, 312.32it/s]\n",
      "  1%|▉                                                                            | 12/938 [00:00<00:08, 110.38it/s]"
     ]
    },
    {
     "name": "stdout",
     "output_type": "stream",
     "text": [
      "Epoch = 76\tSum of Training loss = 81.975167538204\tCorrect Validation Examples = 9920\n"
     ]
    },
    {
     "name": "stderr",
     "output_type": "stream",
     "text": [
      "100%|████████████████████████████████████████████████████████████████████████████| 938/938 [00:08<00:00, 115.26it/s]\n",
      "100%|████████████████████████████████████████████████████████████████████████████| 313/313 [00:00<00:00, 316.69it/s]\n",
      "  1%|▉                                                                            | 11/938 [00:00<00:08, 109.20it/s]"
     ]
    },
    {
     "name": "stdout",
     "output_type": "stream",
     "text": [
      "Epoch = 77\tSum of Training loss = 71.09852739749385\tCorrect Validation Examples = 9913\n"
     ]
    },
    {
     "name": "stderr",
     "output_type": "stream",
     "text": [
      "100%|████████████████████████████████████████████████████████████████████████████| 938/938 [00:07<00:00, 119.31it/s]\n",
      "100%|████████████████████████████████████████████████████████████████████████████| 313/313 [00:00<00:00, 315.91it/s]\n",
      "  1%|▉                                                                            | 11/938 [00:00<00:08, 106.05it/s]"
     ]
    },
    {
     "name": "stdout",
     "output_type": "stream",
     "text": [
      "Epoch = 78\tSum of Training loss = 35.98602001293534\tCorrect Validation Examples = 9918\n"
     ]
    },
    {
     "name": "stderr",
     "output_type": "stream",
     "text": [
      "100%|████████████████████████████████████████████████████████████████████████████| 938/938 [00:07<00:00, 119.34it/s]\n",
      "100%|████████████████████████████████████████████████████████████████████████████| 313/313 [00:00<00:00, 315.30it/s]\n",
      "  1%|▉                                                                            | 11/938 [00:00<00:08, 108.13it/s]"
     ]
    },
    {
     "name": "stdout",
     "output_type": "stream",
     "text": [
      "Epoch = 79\tSum of Training loss = 28.355854278372135\tCorrect Validation Examples = 9918\n"
     ]
    },
    {
     "name": "stderr",
     "output_type": "stream",
     "text": [
      "100%|████████████████████████████████████████████████████████████████████████████| 938/938 [00:07<00:00, 120.52it/s]\n",
      "100%|████████████████████████████████████████████████████████████████████████████| 313/313 [00:00<00:00, 316.04it/s]\n",
      "  1%|▉                                                                            | 11/938 [00:00<00:08, 107.08it/s]"
     ]
    },
    {
     "name": "stdout",
     "output_type": "stream",
     "text": [
      "Epoch = 80\tSum of Training loss = 102.4730836699041\tCorrect Validation Examples = 9923\n"
     ]
    },
    {
     "name": "stderr",
     "output_type": "stream",
     "text": [
      "100%|████████████████████████████████████████████████████████████████████████████| 938/938 [00:07<00:00, 120.20it/s]\n",
      "100%|████████████████████████████████████████████████████████████████████████████| 313/313 [00:00<00:00, 315.40it/s]\n",
      "  2%|█▊                                                                           | 22/938 [00:00<00:08, 104.93it/s]"
     ]
    },
    {
     "name": "stdout",
     "output_type": "stream",
     "text": [
      "Epoch = 81\tSum of Training loss = 19.234313369007396\tCorrect Validation Examples = 9925\n"
     ]
    },
    {
     "name": "stderr",
     "output_type": "stream",
     "text": [
      "100%|████████████████████████████████████████████████████████████████████████████| 938/938 [00:07<00:00, 120.30it/s]\n",
      "100%|████████████████████████████████████████████████████████████████████████████| 313/313 [00:00<00:00, 313.21it/s]\n",
      "  1%|▉                                                                            | 11/938 [00:00<00:08, 104.05it/s]"
     ]
    },
    {
     "name": "stdout",
     "output_type": "stream",
     "text": [
      "Epoch = 82\tSum of Training loss = 42.00139830568196\tCorrect Validation Examples = 9915\n"
     ]
    },
    {
     "name": "stderr",
     "output_type": "stream",
     "text": [
      "100%|████████████████████████████████████████████████████████████████████████████| 938/938 [00:07<00:00, 120.50it/s]\n",
      "100%|████████████████████████████████████████████████████████████████████████████| 313/313 [00:00<00:00, 321.55it/s]\n",
      "  1%|▉                                                                            | 12/938 [00:00<00:08, 110.41it/s]"
     ]
    },
    {
     "name": "stdout",
     "output_type": "stream",
     "text": [
      "Epoch = 83\tSum of Training loss = 35.089597359549145\tCorrect Validation Examples = 9902\n"
     ]
    },
    {
     "name": "stderr",
     "output_type": "stream",
     "text": [
      "100%|████████████████████████████████████████████████████████████████████████████| 938/938 [00:07<00:00, 121.39it/s]\n",
      "100%|████████████████████████████████████████████████████████████████████████████| 313/313 [00:00<00:00, 317.65it/s]\n",
      "  1%|▉                                                                            | 11/938 [00:00<00:08, 106.05it/s]"
     ]
    },
    {
     "name": "stdout",
     "output_type": "stream",
     "text": [
      "Epoch = 84\tSum of Training loss = 50.40632110856404\tCorrect Validation Examples = 9915\n"
     ]
    },
    {
     "name": "stderr",
     "output_type": "stream",
     "text": [
      "100%|████████████████████████████████████████████████████████████████████████████| 938/938 [00:07<00:00, 119.70it/s]\n",
      "100%|████████████████████████████████████████████████████████████████████████████| 313/313 [00:00<00:00, 320.23it/s]\n",
      "  1%|▉                                                                            | 11/938 [00:00<00:08, 103.08it/s]"
     ]
    },
    {
     "name": "stdout",
     "output_type": "stream",
     "text": [
      "Epoch = 85\tSum of Training loss = 30.98669221866561\tCorrect Validation Examples = 9922\n"
     ]
    },
    {
     "name": "stderr",
     "output_type": "stream",
     "text": [
      "100%|████████████████████████████████████████████████████████████████████████████| 938/938 [00:07<00:00, 119.97it/s]\n",
      "100%|████████████████████████████████████████████████████████████████████████████| 313/313 [00:00<00:00, 318.28it/s]\n",
      "  1%|▉                                                                            | 11/938 [00:00<00:08, 109.19it/s]"
     ]
    },
    {
     "name": "stdout",
     "output_type": "stream",
     "text": [
      "Epoch = 86\tSum of Training loss = 43.77360254563607\tCorrect Validation Examples = 9926\n"
     ]
    },
    {
     "name": "stderr",
     "output_type": "stream",
     "text": [
      "100%|████████████████████████████████████████████████████████████████████████████| 938/938 [00:07<00:00, 120.20it/s]\n",
      "100%|████████████████████████████████████████████████████████████████████████████| 313/313 [00:00<00:00, 319.92it/s]\n",
      "  1%|▉                                                                            | 11/938 [00:00<00:08, 107.10it/s]"
     ]
    },
    {
     "name": "stdout",
     "output_type": "stream",
     "text": [
      "Epoch = 87\tSum of Training loss = 80.86707587653686\tCorrect Validation Examples = 9932\n"
     ]
    },
    {
     "name": "stderr",
     "output_type": "stream",
     "text": [
      "100%|████████████████████████████████████████████████████████████████████████████| 938/938 [00:07<00:00, 119.64it/s]\n",
      "100%|████████████████████████████████████████████████████████████████████████████| 313/313 [00:00<00:00, 318.28it/s]\n",
      "  2%|█▊                                                                           | 22/938 [00:00<00:08, 107.38it/s]"
     ]
    },
    {
     "name": "stdout",
     "output_type": "stream",
     "text": [
      "Epoch = 88\tSum of Training loss = 52.277207727695554\tCorrect Validation Examples = 9908\n"
     ]
    },
    {
     "name": "stderr",
     "output_type": "stream",
     "text": [
      "100%|████████████████████████████████████████████████████████████████████████████| 938/938 [00:07<00:00, 120.96it/s]\n",
      "100%|████████████████████████████████████████████████████████████████████████████| 313/313 [00:00<00:00, 319.51it/s]\n",
      "  1%|▉                                                                            | 11/938 [00:00<00:08, 105.04it/s]"
     ]
    },
    {
     "name": "stdout",
     "output_type": "stream",
     "text": [
      "Epoch = 89\tSum of Training loss = 24.792971552376798\tCorrect Validation Examples = 9921\n"
     ]
    },
    {
     "name": "stderr",
     "output_type": "stream",
     "text": [
      "100%|████████████████████████████████████████████████████████████████████████████| 938/938 [00:07<00:00, 119.45it/s]\n",
      "100%|████████████████████████████████████████████████████████████████████████████| 313/313 [00:00<00:00, 322.87it/s]\n",
      "  1%|▉                                                                            | 11/938 [00:00<00:08, 105.04it/s]"
     ]
    },
    {
     "name": "stdout",
     "output_type": "stream",
     "text": [
      "Epoch = 90\tSum of Training loss = 26.095219066549753\tCorrect Validation Examples = 9912\n"
     ]
    },
    {
     "name": "stderr",
     "output_type": "stream",
     "text": [
      "100%|████████████████████████████████████████████████████████████████████████████| 938/938 [00:07<00:00, 119.85it/s]\n",
      "100%|████████████████████████████████████████████████████████████████████████████| 313/313 [00:00<00:00, 321.87it/s]\n",
      "  2%|█▊                                                                           | 22/938 [00:00<00:08, 107.12it/s]"
     ]
    },
    {
     "name": "stdout",
     "output_type": "stream",
     "text": [
      "Epoch = 91\tSum of Training loss = 21.971649118503336\tCorrect Validation Examples = 9916\n"
     ]
    },
    {
     "name": "stderr",
     "output_type": "stream",
     "text": [
      "100%|████████████████████████████████████████████████████████████████████████████| 938/938 [00:07<00:00, 120.68it/s]\n",
      "100%|████████████████████████████████████████████████████████████████████████████| 313/313 [00:00<00:00, 319.90it/s]\n",
      "  1%|▉                                                                            | 11/938 [00:00<00:08, 106.09it/s]"
     ]
    },
    {
     "name": "stdout",
     "output_type": "stream",
     "text": [
      "Epoch = 92\tSum of Training loss = 49.20149379937816\tCorrect Validation Examples = 9917\n"
     ]
    },
    {
     "name": "stderr",
     "output_type": "stream",
     "text": [
      "100%|████████████████████████████████████████████████████████████████████████████| 938/938 [00:07<00:00, 119.62it/s]\n",
      "100%|████████████████████████████████████████████████████████████████████████████| 313/313 [00:00<00:00, 323.53it/s]\n",
      "  1%|▉                                                                            | 11/938 [00:00<00:08, 109.20it/s]"
     ]
    },
    {
     "name": "stdout",
     "output_type": "stream",
     "text": [
      "Epoch = 93\tSum of Training loss = 41.8862976028407\tCorrect Validation Examples = 9914\n"
     ]
    },
    {
     "name": "stderr",
     "output_type": "stream",
     "text": [
      "100%|████████████████████████████████████████████████████████████████████████████| 938/938 [00:07<00:00, 119.96it/s]\n",
      "100%|████████████████████████████████████████████████████████████████████████████| 313/313 [00:00<00:00, 323.55it/s]\n",
      "  1%|▉                                                                            | 12/938 [00:00<00:08, 110.39it/s]"
     ]
    },
    {
     "name": "stdout",
     "output_type": "stream",
     "text": [
      "Epoch = 94\tSum of Training loss = 27.980287587915143\tCorrect Validation Examples = 9911\n"
     ]
    },
    {
     "name": "stderr",
     "output_type": "stream",
     "text": [
      "100%|████████████████████████████████████████████████████████████████████████████| 938/938 [00:07<00:00, 121.17it/s]\n",
      "100%|████████████████████████████████████████████████████████████████████████████| 313/313 [00:00<00:00, 313.20it/s]\n",
      "  1%|▉                                                                            | 11/938 [00:00<00:08, 106.05it/s]"
     ]
    },
    {
     "name": "stdout",
     "output_type": "stream",
     "text": [
      "Epoch = 95\tSum of Training loss = 61.28082719580956\tCorrect Validation Examples = 9917\n"
     ]
    },
    {
     "name": "stderr",
     "output_type": "stream",
     "text": [
      "100%|████████████████████████████████████████████████████████████████████████████| 938/938 [00:07<00:00, 120.40it/s]\n",
      "100%|████████████████████████████████████████████████████████████████████████████| 313/313 [00:00<00:00, 317.02it/s]\n",
      "  2%|█▊                                                                           | 22/938 [00:00<00:08, 109.18it/s]"
     ]
    },
    {
     "name": "stdout",
     "output_type": "stream",
     "text": [
      "Epoch = 96\tSum of Training loss = 24.94954003267773\tCorrect Validation Examples = 9919\n"
     ]
    },
    {
     "name": "stderr",
     "output_type": "stream",
     "text": [
      "100%|████████████████████████████████████████████████████████████████████████████| 938/938 [00:07<00:00, 120.40it/s]\n",
      "100%|████████████████████████████████████████████████████████████████████████████| 313/313 [00:00<00:00, 319.91it/s]\n",
      "  1%|▉                                                                            | 11/938 [00:00<00:08, 104.05it/s]"
     ]
    },
    {
     "name": "stdout",
     "output_type": "stream",
     "text": [
      "Epoch = 97\tSum of Training loss = 34.643324634500004\tCorrect Validation Examples = 9916\n"
     ]
    },
    {
     "name": "stderr",
     "output_type": "stream",
     "text": [
      "100%|████████████████████████████████████████████████████████████████████████████| 938/938 [00:07<00:00, 120.34it/s]\n",
      "100%|████████████████████████████████████████████████████████████████████████████| 313/313 [00:00<00:00, 317.64it/s]\n",
      "  1%|▉                                                                            | 11/938 [00:00<00:08, 108.13it/s]"
     ]
    },
    {
     "name": "stdout",
     "output_type": "stream",
     "text": [
      "Epoch = 98\tSum of Training loss = 56.919418532838336\tCorrect Validation Examples = 9922\n"
     ]
    },
    {
     "name": "stderr",
     "output_type": "stream",
     "text": [
      "100%|████████████████████████████████████████████████████████████████████████████| 938/938 [00:07<00:00, 120.20it/s]\n",
      "100%|████████████████████████████████████████████████████████████████████████████| 313/313 [00:00<00:00, 322.24it/s]\n",
      "  1%|▉                                                                            | 11/938 [00:00<00:08, 108.13it/s]"
     ]
    },
    {
     "name": "stdout",
     "output_type": "stream",
     "text": [
      "Epoch = 99\tSum of Training loss = 45.67445508418128\tCorrect Validation Examples = 9925\n"
     ]
    },
    {
     "name": "stderr",
     "output_type": "stream",
     "text": [
      "100%|████████████████████████████████████████████████████████████████████████████| 938/938 [00:07<00:00, 120.88it/s]\n",
      "100%|████████████████████████████████████████████████████████████████████████████| 313/313 [00:00<00:00, 319.58it/s]\n"
     ]
    },
    {
     "name": "stdout",
     "output_type": "stream",
     "text": [
      "Epoch = 100\tSum of Training loss = 11.072530914075742\tCorrect Validation Examples = 9922\n"
     ]
    },
    {
     "data": {
      "text/plain": [
       "<Figure size 1152x360 with 0 Axes>"
      ]
     },
     "metadata": {},
     "output_type": "display_data"
    }
   ],
   "source": [
    "model=CNN(dropout=True).to(device)\n",
    "optimizer = optim.Adam(model.parameters(), lr=1e-4)\n",
    "train_loss_array=[]\n",
    "valid_acc_array=[]\n",
    "for epoch in range(epochs):\n",
    "    #Traning \n",
    "    train_loss=0\n",
    "    for data in tqdm(trainloader):\n",
    "        images,labels=data\n",
    "        images=images.to(device)\n",
    "        labels=labels.to(device)\n",
    "        optimizer.zero_grad()\n",
    "        output=model(images)\n",
    "        loss = criterion(output, labels)\n",
    "        loss.backward()\n",
    "        optimizer.step()\n",
    "        train_loss += loss.item()\n",
    "    train_loss_array.append(train_loss)\n",
    "    #validation\n",
    "    correct=0\n",
    "    model.eval()\n",
    "    with torch.no_grad():\n",
    "        for data in tqdm(testloader):\n",
    "            images,labels=data\n",
    "            images=images.to(device)\n",
    "            labels=labels.to(device)\n",
    "            output=model(images)\n",
    "            _,pred=torch.max(output.data,1)\n",
    "            correct+=(pred == labels).sum().item()\n",
    "    valid_acc_array.append(correct)\n",
    "    model.train()\n",
    "    print(f\"Epoch = {epoch+1}\\tSum of Training loss = {train_loss}\\tCorrect Validation Examples = {correct}\")\n",
    "    \n",
    "fig,ax=plt.subplots(1,2,figsize=(16,5))\n",
    "ax[0].plot(np.arange(1,epochs+1),train_loss_array)\n",
    "ax[0].set(ylabel=\"Summed Training loss\",xlabel=\"Epochs\")\n",
    "ax[1].plot(np.arange(1,epochs+1),np.array(valid_acc_array)/len(testset)*100)\n",
    "ax[1].set(ylabel=\"Validation Accuracy\",xlabel=\"Epochs\")\n",
    "plt.savefig(\"Adam_dropout.png\",dpi=500)\n",
    "plt.clf()"
   ]
  },
  {
   "cell_type": "code",
   "execution_count": 18,
   "id": "alone-commercial",
   "metadata": {},
   "outputs": [
    {
     "name": "stdout",
     "output_type": "stream",
     "text": [
      "Maximum Accuracy achieved = 99.32\n"
     ]
    }
   ],
   "source": [
    "print(f'Maximum Accuracy achieved = {max(valid_acc_array)/len(testset)*100}')\n",
    "all_losses.append(train_loss_array)"
   ]
  },
  {
   "cell_type": "markdown",
   "id": "julian-maria",
   "metadata": {},
   "source": [
    "## Adam with Regularization and without Dropout"
   ]
  },
  {
   "cell_type": "code",
   "execution_count": 19,
   "id": "eleven-debut",
   "metadata": {},
   "outputs": [
    {
     "name": "stderr",
     "output_type": "stream",
     "text": [
      "100%|████████████████████████████████████████████████████████████████████████████| 938/938 [00:07<00:00, 119.85it/s]\n",
      "100%|████████████████████████████████████████████████████████████████████████████| 313/313 [00:00<00:00, 318.93it/s]\n",
      "  1%|▉                                                                            | 11/938 [00:00<00:08, 105.04it/s]"
     ]
    },
    {
     "name": "stdout",
     "output_type": "stream",
     "text": [
      "Epoch = 1\tSum of Training loss = 26936.256699323654\tCorrect Validation Examples = 9608\n"
     ]
    },
    {
     "name": "stderr",
     "output_type": "stream",
     "text": [
      "100%|████████████████████████████████████████████████████████████████████████████| 938/938 [00:07<00:00, 120.07it/s]\n",
      "100%|████████████████████████████████████████████████████████████████████████████| 313/313 [00:01<00:00, 310.98it/s]\n",
      "  1%|▉                                                                            | 11/938 [00:00<00:08, 105.04it/s]"
     ]
    },
    {
     "name": "stdout",
     "output_type": "stream",
     "text": [
      "Epoch = 2\tSum of Training loss = 7922.296985268593\tCorrect Validation Examples = 9724\n"
     ]
    },
    {
     "name": "stderr",
     "output_type": "stream",
     "text": [
      "100%|████████████████████████████████████████████████████████████████████████████| 938/938 [00:07<00:00, 120.16it/s]\n",
      "100%|████████████████████████████████████████████████████████████████████████████| 313/313 [00:00<00:00, 318.93it/s]\n",
      "  1%|▉                                                                            | 11/938 [00:00<00:08, 107.11it/s]"
     ]
    },
    {
     "name": "stdout",
     "output_type": "stream",
     "text": [
      "Epoch = 3\tSum of Training loss = 6029.283312380314\tCorrect Validation Examples = 9777\n"
     ]
    },
    {
     "name": "stderr",
     "output_type": "stream",
     "text": [
      "100%|████████████████████████████████████████████████████████████████████████████| 938/938 [00:07<00:00, 118.97it/s]\n",
      "100%|████████████████████████████████████████████████████████████████████████████| 313/313 [00:00<00:00, 318.94it/s]\n",
      "  1%|▉                                                                            | 11/938 [00:00<00:09, 102.09it/s]"
     ]
    },
    {
     "name": "stdout",
     "output_type": "stream",
     "text": [
      "Epoch = 4\tSum of Training loss = 5103.768154621124\tCorrect Validation Examples = 9797\n"
     ]
    },
    {
     "name": "stderr",
     "output_type": "stream",
     "text": [
      "100%|████████████████████████████████████████████████████████████████████████████| 938/938 [00:08<00:00, 114.84it/s]\n",
      "100%|████████████████████████████████████████████████████████████████████████████| 313/313 [00:00<00:00, 316.68it/s]\n",
      "  1%|▉                                                                            | 11/938 [00:00<00:09, 101.19it/s]"
     ]
    },
    {
     "name": "stdout",
     "output_type": "stream",
     "text": [
      "Epoch = 5\tSum of Training loss = 4465.6548526883125\tCorrect Validation Examples = 9824\n"
     ]
    },
    {
     "name": "stderr",
     "output_type": "stream",
     "text": [
      "100%|████████████████████████████████████████████████████████████████████████████| 938/938 [00:07<00:00, 119.94it/s]\n",
      "100%|████████████████████████████████████████████████████████████████████████████| 313/313 [00:00<00:00, 320.23it/s]\n",
      "  1%|▊                                                                             | 10/938 [00:00<00:09, 99.28it/s]"
     ]
    },
    {
     "name": "stdout",
     "output_type": "stream",
     "text": [
      "Epoch = 6\tSum of Training loss = 4168.321648389101\tCorrect Validation Examples = 9832\n"
     ]
    },
    {
     "name": "stderr",
     "output_type": "stream",
     "text": [
      "100%|████████████████████████████████████████████████████████████████████████████| 938/938 [00:08<00:00, 115.95it/s]\n",
      "100%|████████████████████████████████████████████████████████████████████████████| 313/313 [00:00<00:00, 317.31it/s]\n",
      "  1%|▉                                                                            | 12/938 [00:00<00:08, 112.97it/s]"
     ]
    },
    {
     "name": "stdout",
     "output_type": "stream",
     "text": [
      "Epoch = 7\tSum of Training loss = 3925.3058737814426\tCorrect Validation Examples = 9841\n"
     ]
    },
    {
     "name": "stderr",
     "output_type": "stream",
     "text": [
      "100%|████████████████████████████████████████████████████████████████████████████| 938/938 [00:07<00:00, 119.78it/s]\n",
      "100%|████████████████████████████████████████████████████████████████████████████| 313/313 [00:00<00:00, 320.89it/s]\n",
      "  1%|▉                                                                            | 11/938 [00:00<00:08, 103.08it/s]"
     ]
    },
    {
     "name": "stdout",
     "output_type": "stream",
     "text": [
      "Epoch = 8\tSum of Training loss = 3696.485402047634\tCorrect Validation Examples = 9844\n"
     ]
    },
    {
     "name": "stderr",
     "output_type": "stream",
     "text": [
      "100%|████████████████████████████████████████████████████████████████████████████| 938/938 [00:07<00:00, 120.58it/s]\n",
      "100%|████████████████████████████████████████████████████████████████████████████| 313/313 [00:00<00:00, 313.83it/s]\n",
      "  1%|▉                                                                            | 11/938 [00:00<00:08, 104.05it/s]"
     ]
    },
    {
     "name": "stdout",
     "output_type": "stream",
     "text": [
      "Epoch = 9\tSum of Training loss = 3535.133632391691\tCorrect Validation Examples = 9855\n"
     ]
    },
    {
     "name": "stderr",
     "output_type": "stream",
     "text": [
      "100%|████████████████████████████████████████████████████████████████████████████| 938/938 [00:07<00:00, 119.90it/s]\n",
      "100%|████████████████████████████████████████████████████████████████████████████| 313/313 [00:00<00:00, 320.90it/s]\n",
      "  1%|▉                                                                            | 11/938 [00:00<00:09, 101.19it/s]"
     ]
    },
    {
     "name": "stdout",
     "output_type": "stream",
     "text": [
      "Epoch = 10\tSum of Training loss = 3427.9799232780933\tCorrect Validation Examples = 9834\n"
     ]
    },
    {
     "name": "stderr",
     "output_type": "stream",
     "text": [
      "100%|████████████████████████████████████████████████████████████████████████████| 938/938 [00:07<00:00, 120.20it/s]\n",
      "100%|████████████████████████████████████████████████████████████████████████████| 313/313 [00:00<00:00, 317.65it/s]\n",
      "  2%|█▊                                                                           | 22/938 [00:00<00:08, 106.21it/s]"
     ]
    },
    {
     "name": "stdout",
     "output_type": "stream",
     "text": [
      "Epoch = 11\tSum of Training loss = 3384.3508150577545\tCorrect Validation Examples = 9848\n"
     ]
    },
    {
     "name": "stderr",
     "output_type": "stream",
     "text": [
      "100%|████████████████████████████████████████████████████████████████████████████| 938/938 [00:07<00:00, 119.94it/s]\n",
      "100%|████████████████████████████████████████████████████████████████████████████| 313/313 [00:00<00:00, 319.59it/s]\n",
      "  1%|▉                                                                            | 11/938 [00:00<00:08, 105.04it/s]"
     ]
    },
    {
     "name": "stdout",
     "output_type": "stream",
     "text": [
      "Epoch = 12\tSum of Training loss = 3274.830535814166\tCorrect Validation Examples = 9871\n"
     ]
    },
    {
     "name": "stderr",
     "output_type": "stream",
     "text": [
      "100%|████████████████████████████████████████████████████████████████████████████| 938/938 [00:07<00:00, 120.65it/s]\n",
      "100%|████████████████████████████████████████████████████████████████████████████| 313/313 [00:00<00:00, 318.87it/s]\n",
      "  1%|▉                                                                            | 11/938 [00:00<00:08, 103.07it/s]"
     ]
    },
    {
     "name": "stdout",
     "output_type": "stream",
     "text": [
      "Epoch = 13\tSum of Training loss = 3188.8156223595142\tCorrect Validation Examples = 9863\n"
     ]
    },
    {
     "name": "stderr",
     "output_type": "stream",
     "text": [
      "100%|████████████████████████████████████████████████████████████████████████████| 938/938 [00:07<00:00, 119.93it/s]\n",
      "100%|████████████████████████████████████████████████████████████████████████████| 313/313 [00:00<00:00, 317.00it/s]\n",
      "  1%|▉                                                                            | 11/938 [00:00<00:08, 103.05it/s]"
     ]
    },
    {
     "name": "stdout",
     "output_type": "stream",
     "text": [
      "Epoch = 14\tSum of Training loss = 3085.7812618613243\tCorrect Validation Examples = 9866\n"
     ]
    },
    {
     "name": "stderr",
     "output_type": "stream",
     "text": [
      "100%|████████████████████████████████████████████████████████████████████████████| 938/938 [00:07<00:00, 120.02it/s]\n",
      "100%|████████████████████████████████████████████████████████████████████████████| 313/313 [00:00<00:00, 323.53it/s]\n",
      "  1%|▉                                                                            | 11/938 [00:00<00:08, 105.04it/s]"
     ]
    },
    {
     "name": "stdout",
     "output_type": "stream",
     "text": [
      "Epoch = 15\tSum of Training loss = 3060.3459746837616\tCorrect Validation Examples = 9855\n"
     ]
    },
    {
     "name": "stderr",
     "output_type": "stream",
     "text": [
      "100%|████████████████████████████████████████████████████████████████████████████| 938/938 [00:07<00:00, 120.64it/s]\n",
      "100%|████████████████████████████████████████████████████████████████████████████| 313/313 [00:00<00:00, 321.21it/s]\n",
      "  1%|▉                                                                            | 11/938 [00:00<00:08, 103.08it/s]"
     ]
    },
    {
     "name": "stdout",
     "output_type": "stream",
     "text": [
      "Epoch = 16\tSum of Training loss = 2952.033958286047\tCorrect Validation Examples = 9865\n"
     ]
    },
    {
     "name": "stderr",
     "output_type": "stream",
     "text": [
      "100%|████████████████████████████████████████████████████████████████████████████| 938/938 [00:07<00:00, 119.41it/s]\n",
      "100%|████████████████████████████████████████████████████████████████████████████| 313/313 [00:00<00:00, 316.63it/s]\n",
      "  1%|▉                                                                            | 11/938 [00:00<00:08, 107.08it/s]"
     ]
    },
    {
     "name": "stdout",
     "output_type": "stream",
     "text": [
      "Epoch = 17\tSum of Training loss = 3002.5719447135925\tCorrect Validation Examples = 9885\n"
     ]
    },
    {
     "name": "stderr",
     "output_type": "stream",
     "text": [
      "100%|████████████████████████████████████████████████████████████████████████████| 938/938 [00:07<00:00, 120.25it/s]\n",
      "100%|████████████████████████████████████████████████████████████████████████████| 313/313 [00:00<00:00, 316.95it/s]\n",
      "  1%|▉                                                                            | 11/938 [00:00<00:08, 104.05it/s]"
     ]
    },
    {
     "name": "stdout",
     "output_type": "stream",
     "text": [
      "Epoch = 18\tSum of Training loss = 2922.097874134779\tCorrect Validation Examples = 9882\n"
     ]
    },
    {
     "name": "stderr",
     "output_type": "stream",
     "text": [
      "100%|████████████████████████████████████████████████████████████████████████████| 938/938 [00:07<00:00, 120.13it/s]\n",
      "100%|████████████████████████████████████████████████████████████████████████████| 313/313 [00:00<00:00, 320.65it/s]\n",
      "  1%|▉                                                                            | 11/938 [00:00<00:09, 100.27it/s]"
     ]
    },
    {
     "name": "stdout",
     "output_type": "stream",
     "text": [
      "Epoch = 19\tSum of Training loss = 2863.757246494293\tCorrect Validation Examples = 9887\n"
     ]
    },
    {
     "name": "stderr",
     "output_type": "stream",
     "text": [
      "100%|████████████████████████████████████████████████████████████████████████████| 938/938 [00:07<00:00, 119.85it/s]\n",
      "100%|████████████████████████████████████████████████████████████████████████████| 313/313 [00:00<00:00, 318.62it/s]\n",
      "  1%|▉                                                                            | 11/938 [00:00<00:08, 109.22it/s]"
     ]
    },
    {
     "name": "stdout",
     "output_type": "stream",
     "text": [
      "Epoch = 20\tSum of Training loss = 2822.978960260749\tCorrect Validation Examples = 9872\n"
     ]
    },
    {
     "name": "stderr",
     "output_type": "stream",
     "text": [
      "100%|████████████████████████████████████████████████████████████████████████████| 938/938 [00:07<00:00, 120.58it/s]\n",
      "100%|████████████████████████████████████████████████████████████████████████████| 313/313 [00:00<00:00, 321.87it/s]\n",
      "  1%|▉                                                                            | 11/938 [00:00<00:08, 108.09it/s]"
     ]
    },
    {
     "name": "stdout",
     "output_type": "stream",
     "text": [
      "Epoch = 21\tSum of Training loss = 2821.5196551680565\tCorrect Validation Examples = 9876\n"
     ]
    },
    {
     "name": "stderr",
     "output_type": "stream",
     "text": [
      "100%|████████████████████████████████████████████████████████████████████████████| 938/938 [00:07<00:00, 121.33it/s]\n",
      "100%|████████████████████████████████████████████████████████████████████████████| 313/313 [00:00<00:00, 313.20it/s]\n",
      "  1%|▉                                                                            | 11/938 [00:00<00:08, 104.05it/s]"
     ]
    },
    {
     "name": "stdout",
     "output_type": "stream",
     "text": [
      "Epoch = 22\tSum of Training loss = 2755.179002970457\tCorrect Validation Examples = 9857\n"
     ]
    },
    {
     "name": "stderr",
     "output_type": "stream",
     "text": [
      "100%|████████████████████████████████████████████████████████████████████████████| 938/938 [00:07<00:00, 120.67it/s]\n",
      "100%|████████████████████████████████████████████████████████████████████████████| 313/313 [00:00<00:00, 319.18it/s]\n",
      "  1%|▉                                                                            | 11/938 [00:00<00:09, 102.12it/s]"
     ]
    },
    {
     "name": "stdout",
     "output_type": "stream",
     "text": [
      "Epoch = 23\tSum of Training loss = 2769.383129656315\tCorrect Validation Examples = 9878\n"
     ]
    },
    {
     "name": "stderr",
     "output_type": "stream",
     "text": [
      "100%|████████████████████████████████████████████████████████████████████████████| 938/938 [00:07<00:00, 119.66it/s]\n",
      "100%|████████████████████████████████████████████████████████████████████████████| 313/313 [00:00<00:00, 318.94it/s]\n",
      "  1%|▉                                                                            | 12/938 [00:00<00:08, 110.39it/s]"
     ]
    },
    {
     "name": "stdout",
     "output_type": "stream",
     "text": [
      "Epoch = 24\tSum of Training loss = 2751.1845225691795\tCorrect Validation Examples = 9888\n"
     ]
    },
    {
     "name": "stderr",
     "output_type": "stream",
     "text": [
      "100%|████████████████████████████████████████████████████████████████████████████| 938/938 [00:07<00:00, 120.06it/s]\n",
      "100%|████████████████████████████████████████████████████████████████████████████| 313/313 [00:00<00:00, 321.87it/s]\n",
      "  1%|▉                                                                            | 11/938 [00:00<00:08, 107.08it/s]"
     ]
    },
    {
     "name": "stdout",
     "output_type": "stream",
     "text": [
      "Epoch = 25\tSum of Training loss = 2716.5089839845896\tCorrect Validation Examples = 9877\n"
     ]
    },
    {
     "name": "stderr",
     "output_type": "stream",
     "text": [
      "100%|████████████████████████████████████████████████████████████████████████████| 938/938 [00:07<00:00, 119.78it/s]\n",
      "100%|████████████████████████████████████████████████████████████████████████████| 313/313 [00:00<00:00, 320.90it/s]\n",
      "  1%|▉                                                                            | 11/938 [00:00<00:08, 105.03it/s]"
     ]
    },
    {
     "name": "stdout",
     "output_type": "stream",
     "text": [
      "Epoch = 26\tSum of Training loss = 2740.5592832565308\tCorrect Validation Examples = 9874\n"
     ]
    },
    {
     "name": "stderr",
     "output_type": "stream",
     "text": [
      "100%|████████████████████████████████████████████████████████████████████████████| 938/938 [00:07<00:00, 119.29it/s]\n",
      "100%|████████████████████████████████████████████████████████████████████████████| 313/313 [00:00<00:00, 321.87it/s]\n",
      "  1%|▉                                                                            | 11/938 [00:00<00:08, 107.05it/s]"
     ]
    },
    {
     "name": "stdout",
     "output_type": "stream",
     "text": [
      "Epoch = 27\tSum of Training loss = 2687.865358054638\tCorrect Validation Examples = 9884\n"
     ]
    },
    {
     "name": "stderr",
     "output_type": "stream",
     "text": [
      "100%|████████████████████████████████████████████████████████████████████████████| 938/938 [00:07<00:00, 119.76it/s]\n",
      "100%|████████████████████████████████████████████████████████████████████████████| 313/313 [00:00<00:00, 316.68it/s]\n",
      "  1%|▉                                                                            | 11/938 [00:00<00:08, 108.13it/s]"
     ]
    },
    {
     "name": "stdout",
     "output_type": "stream",
     "text": [
      "Epoch = 28\tSum of Training loss = 2644.314737588167\tCorrect Validation Examples = 9895\n"
     ]
    },
    {
     "name": "stderr",
     "output_type": "stream",
     "text": [
      "100%|████████████████████████████████████████████████████████████████████████████| 938/938 [00:07<00:00, 119.97it/s]\n",
      "100%|████████████████████████████████████████████████████████████████████████████| 313/313 [00:00<00:00, 314.59it/s]\n",
      "  1%|▊                                                                             | 10/938 [00:00<00:09, 99.27it/s]"
     ]
    },
    {
     "name": "stdout",
     "output_type": "stream",
     "text": [
      "Epoch = 29\tSum of Training loss = 2624.4605937302113\tCorrect Validation Examples = 9861\n"
     ]
    },
    {
     "name": "stderr",
     "output_type": "stream",
     "text": [
      "100%|████████████████████████████████████████████████████████████████████████████| 938/938 [00:07<00:00, 119.80it/s]\n",
      "100%|████████████████████████████████████████████████████████████████████████████| 313/313 [00:00<00:00, 325.55it/s]\n",
      "  1%|▉                                                                            | 11/938 [00:00<00:08, 109.20it/s]"
     ]
    },
    {
     "name": "stdout",
     "output_type": "stream",
     "text": [
      "Epoch = 30\tSum of Training loss = 2613.6731413006783\tCorrect Validation Examples = 9878\n"
     ]
    },
    {
     "name": "stderr",
     "output_type": "stream",
     "text": [
      "100%|████████████████████████████████████████████████████████████████████████████| 938/938 [00:07<00:00, 120.44it/s]\n",
      "100%|████████████████████████████████████████████████████████████████████████████| 313/313 [00:00<00:00, 318.61it/s]\n",
      "  1%|▉                                                                            | 11/938 [00:00<00:08, 105.04it/s]"
     ]
    },
    {
     "name": "stdout",
     "output_type": "stream",
     "text": [
      "Epoch = 31\tSum of Training loss = 2618.7330169975758\tCorrect Validation Examples = 9879\n"
     ]
    },
    {
     "name": "stderr",
     "output_type": "stream",
     "text": [
      "100%|████████████████████████████████████████████████████████████████████████████| 938/938 [00:07<00:00, 119.49it/s]\n",
      "100%|████████████████████████████████████████████████████████████████████████████| 313/313 [00:00<00:00, 323.41it/s]\n",
      "  1%|▉                                                                            | 11/938 [00:00<00:08, 104.05it/s]"
     ]
    },
    {
     "name": "stdout",
     "output_type": "stream",
     "text": [
      "Epoch = 32\tSum of Training loss = 2644.8604642748833\tCorrect Validation Examples = 9854\n"
     ]
    },
    {
     "name": "stderr",
     "output_type": "stream",
     "text": [
      "100%|████████████████████████████████████████████████████████████████████████████| 938/938 [00:07<00:00, 119.69it/s]\n",
      "100%|████████████████████████████████████████████████████████████████████████████| 313/313 [00:00<00:00, 320.57it/s]\n",
      "  1%|▉                                                                            | 11/938 [00:00<00:08, 104.05it/s]"
     ]
    },
    {
     "name": "stdout",
     "output_type": "stream",
     "text": [
      "Epoch = 33\tSum of Training loss = 2556.740390330553\tCorrect Validation Examples = 9872\n"
     ]
    },
    {
     "name": "stderr",
     "output_type": "stream",
     "text": [
      "100%|████████████████████████████████████████████████████████████████████████████| 938/938 [00:07<00:00, 119.68it/s]\n",
      "100%|████████████████████████████████████████████████████████████████████████████| 313/313 [00:00<00:00, 324.87it/s]\n",
      "  1%|▉                                                                            | 12/938 [00:00<00:08, 110.39it/s]"
     ]
    },
    {
     "name": "stdout",
     "output_type": "stream",
     "text": [
      "Epoch = 34\tSum of Training loss = 2575.5226040035486\tCorrect Validation Examples = 9901\n"
     ]
    },
    {
     "name": "stderr",
     "output_type": "stream",
     "text": [
      "100%|████████████████████████████████████████████████████████████████████████████| 938/938 [00:07<00:00, 120.15it/s]\n",
      "100%|████████████████████████████████████████████████████████████████████████████| 313/313 [00:00<00:00, 319.59it/s]\n",
      "  1%|▉                                                                            | 12/938 [00:00<00:08, 110.38it/s]"
     ]
    },
    {
     "name": "stdout",
     "output_type": "stream",
     "text": [
      "Epoch = 35\tSum of Training loss = 2542.360972702503\tCorrect Validation Examples = 9876\n"
     ]
    },
    {
     "name": "stderr",
     "output_type": "stream",
     "text": [
      "100%|████████████████████████████████████████████████████████████████████████████| 938/938 [00:07<00:00, 121.66it/s]\n",
      "100%|████████████████████████████████████████████████████████████████████████████| 313/313 [00:00<00:00, 315.65it/s]\n",
      "  1%|▊                                                                             | 10/938 [00:00<00:09, 98.30it/s]"
     ]
    },
    {
     "name": "stdout",
     "output_type": "stream",
     "text": [
      "Epoch = 36\tSum of Training loss = 2550.5620354264975\tCorrect Validation Examples = 9887\n"
     ]
    },
    {
     "name": "stderr",
     "output_type": "stream",
     "text": [
      "100%|████████████████████████████████████████████████████████████████████████████| 938/938 [00:07<00:00, 120.58it/s]\n",
      "100%|████████████████████████████████████████████████████████████████████████████| 313/313 [00:00<00:00, 322.54it/s]\n",
      "  1%|▉                                                                            | 11/938 [00:00<00:08, 106.08it/s]"
     ]
    },
    {
     "name": "stdout",
     "output_type": "stream",
     "text": [
      "Epoch = 37\tSum of Training loss = 2551.2280354201794\tCorrect Validation Examples = 9826\n"
     ]
    },
    {
     "name": "stderr",
     "output_type": "stream",
     "text": [
      "100%|████████████████████████████████████████████████████████████████████████████| 938/938 [00:07<00:00, 120.15it/s]\n",
      "100%|████████████████████████████████████████████████████████████████████████████| 313/313 [00:00<00:00, 320.57it/s]\n",
      "  1%|▉                                                                            | 11/938 [00:00<00:08, 105.01it/s]"
     ]
    },
    {
     "name": "stdout",
     "output_type": "stream",
     "text": [
      "Epoch = 38\tSum of Training loss = 2569.590248286724\tCorrect Validation Examples = 9886\n"
     ]
    },
    {
     "name": "stderr",
     "output_type": "stream",
     "text": [
      "100%|████████████████████████████████████████████████████████████████████████████| 938/938 [00:07<00:00, 119.97it/s]\n",
      "100%|████████████████████████████████████████████████████████████████████████████| 313/313 [00:00<00:00, 320.15it/s]\n",
      "  1%|▉                                                                            | 11/938 [00:00<00:09, 102.12it/s]"
     ]
    },
    {
     "name": "stdout",
     "output_type": "stream",
     "text": [
      "Epoch = 39\tSum of Training loss = 2518.0310706943274\tCorrect Validation Examples = 9850\n"
     ]
    },
    {
     "name": "stderr",
     "output_type": "stream",
     "text": [
      "100%|████████████████████████████████████████████████████████████████████████████| 938/938 [00:07<00:00, 120.24it/s]\n",
      "100%|████████████████████████████████████████████████████████████████████████████| 313/313 [00:00<00:00, 319.90it/s]\n",
      "  1%|▉                                                                            | 11/938 [00:00<00:09, 100.27it/s]"
     ]
    },
    {
     "name": "stdout",
     "output_type": "stream",
     "text": [
      "Epoch = 40\tSum of Training loss = 2506.74601405859\tCorrect Validation Examples = 9876\n"
     ]
    },
    {
     "name": "stderr",
     "output_type": "stream",
     "text": [
      "100%|████████████████████████████████████████████████████████████████████████████| 938/938 [00:07<00:00, 119.67it/s]\n",
      "100%|████████████████████████████████████████████████████████████████████████████| 313/313 [00:00<00:00, 321.79it/s]\n",
      "  1%|▉                                                                            | 12/938 [00:00<00:08, 111.40it/s]"
     ]
    },
    {
     "name": "stdout",
     "output_type": "stream",
     "text": [
      "Epoch = 41\tSum of Training loss = 2515.909974053502\tCorrect Validation Examples = 9877\n"
     ]
    },
    {
     "name": "stderr",
     "output_type": "stream",
     "text": [
      "100%|████████████████████████████████████████████████████████████████████████████| 938/938 [00:07<00:00, 121.31it/s]\n",
      "100%|████████████████████████████████████████████████████████████████████████████| 313/313 [00:00<00:00, 317.97it/s]\n",
      "  1%|▊                                                                              | 9/938 [00:00<00:10, 88.47it/s]"
     ]
    },
    {
     "name": "stdout",
     "output_type": "stream",
     "text": [
      "Epoch = 42\tSum of Training loss = 2506.9708791077137\tCorrect Validation Examples = 9866\n"
     ]
    },
    {
     "name": "stderr",
     "output_type": "stream",
     "text": [
      "100%|████████████████████████████████████████████████████████████████████████████| 938/938 [00:07<00:00, 119.63it/s]\n",
      "100%|████████████████████████████████████████████████████████████████████████████| 313/313 [00:00<00:00, 318.94it/s]\n",
      "  1%|▉                                                                            | 11/938 [00:00<00:08, 107.09it/s]"
     ]
    },
    {
     "name": "stdout",
     "output_type": "stream",
     "text": [
      "Epoch = 43\tSum of Training loss = 2515.3313549160957\tCorrect Validation Examples = 9872\n"
     ]
    },
    {
     "name": "stderr",
     "output_type": "stream",
     "text": [
      "100%|████████████████████████████████████████████████████████████████████████████| 938/938 [00:07<00:00, 119.29it/s]\n",
      "100%|████████████████████████████████████████████████████████████████████████████| 313/313 [00:00<00:00, 320.23it/s]\n",
      "  1%|▉                                                                            | 12/938 [00:00<00:08, 109.38it/s]"
     ]
    },
    {
     "name": "stdout",
     "output_type": "stream",
     "text": [
      "Epoch = 44\tSum of Training loss = 2527.377762377262\tCorrect Validation Examples = 9888\n"
     ]
    },
    {
     "name": "stderr",
     "output_type": "stream",
     "text": [
      "100%|████████████████████████████████████████████████████████████████████████████| 938/938 [00:07<00:00, 120.48it/s]\n",
      "100%|████████████████████████████████████████████████████████████████████████████| 313/313 [00:00<00:00, 322.69it/s]\n",
      "  1%|▉                                                                            | 11/938 [00:00<00:08, 109.20it/s]"
     ]
    },
    {
     "name": "stdout",
     "output_type": "stream",
     "text": [
      "Epoch = 45\tSum of Training loss = 2469.461545191705\tCorrect Validation Examples = 9883\n"
     ]
    },
    {
     "name": "stderr",
     "output_type": "stream",
     "text": [
      "100%|████████████████████████████████████████████████████████████████████████████| 938/938 [00:07<00:00, 120.61it/s]\n",
      "100%|████████████████████████████████████████████████████████████████████████████| 313/313 [00:00<00:00, 318.93it/s]\n",
      "  2%|█▊                                                                           | 22/938 [00:00<00:08, 107.67it/s]"
     ]
    },
    {
     "name": "stdout",
     "output_type": "stream",
     "text": [
      "Epoch = 46\tSum of Training loss = 2501.1902619302273\tCorrect Validation Examples = 9878\n"
     ]
    },
    {
     "name": "stderr",
     "output_type": "stream",
     "text": [
      "100%|████████████████████████████████████████████████████████████████████████████| 938/938 [00:07<00:00, 120.21it/s]\n",
      "100%|████████████████████████████████████████████████████████████████████████████| 313/313 [00:00<00:00, 323.49it/s]\n",
      "  1%|▉                                                                            | 11/938 [00:00<00:08, 104.05it/s]"
     ]
    },
    {
     "name": "stdout",
     "output_type": "stream",
     "text": [
      "Epoch = 47\tSum of Training loss = 2528.6500187814236\tCorrect Validation Examples = 9892\n"
     ]
    },
    {
     "name": "stderr",
     "output_type": "stream",
     "text": [
      "100%|████████████████████████████████████████████████████████████████████████████| 938/938 [00:07<00:00, 119.22it/s]\n",
      "100%|████████████████████████████████████████████████████████████████████████████| 313/313 [00:00<00:00, 313.21it/s]\n",
      "  1%|▉                                                                            | 11/938 [00:00<00:09, 102.09it/s]"
     ]
    },
    {
     "name": "stdout",
     "output_type": "stream",
     "text": [
      "Epoch = 48\tSum of Training loss = 2497.4720153808594\tCorrect Validation Examples = 9884\n"
     ]
    },
    {
     "name": "stderr",
     "output_type": "stream",
     "text": [
      "100%|████████████████████████████████████████████████████████████████████████████| 938/938 [00:07<00:00, 121.00it/s]\n",
      "100%|████████████████████████████████████████████████████████████████████████████| 313/313 [00:00<00:00, 322.22it/s]\n",
      "  1%|▉                                                                            | 11/938 [00:00<00:09, 102.12it/s]"
     ]
    },
    {
     "name": "stdout",
     "output_type": "stream",
     "text": [
      "Epoch = 49\tSum of Training loss = 2466.3444740325212\tCorrect Validation Examples = 9874\n"
     ]
    },
    {
     "name": "stderr",
     "output_type": "stream",
     "text": [
      "100%|████████████████████████████████████████████████████████████████████████████| 938/938 [00:07<00:00, 119.66it/s]\n",
      "100%|████████████████████████████████████████████████████████████████████████████| 313/313 [00:00<00:00, 321.87it/s]\n",
      "  1%|▉                                                                            | 11/938 [00:00<00:08, 104.05it/s]"
     ]
    },
    {
     "name": "stdout",
     "output_type": "stream",
     "text": [
      "Epoch = 50\tSum of Training loss = 2438.783218026161\tCorrect Validation Examples = 9883\n"
     ]
    },
    {
     "name": "stderr",
     "output_type": "stream",
     "text": [
      "100%|████████████████████████████████████████████████████████████████████████████| 938/938 [00:07<00:00, 120.59it/s]\n",
      "100%|████████████████████████████████████████████████████████████████████████████| 313/313 [00:00<00:00, 318.61it/s]\n",
      "  1%|▉                                                                            | 11/938 [00:00<00:08, 106.05it/s]"
     ]
    },
    {
     "name": "stdout",
     "output_type": "stream",
     "text": [
      "Epoch = 51\tSum of Training loss = 2476.743634611368\tCorrect Validation Examples = 9880\n"
     ]
    },
    {
     "name": "stderr",
     "output_type": "stream",
     "text": [
      "100%|████████████████████████████████████████████████████████████████████████████| 938/938 [00:07<00:00, 118.45it/s]\n",
      "100%|████████████████████████████████████████████████████████████████████████████| 313/313 [00:01<00:00, 297.43it/s]\n",
      "  1%|▊                                                                             | 10/938 [00:00<00:09, 98.30it/s]"
     ]
    },
    {
     "name": "stdout",
     "output_type": "stream",
     "text": [
      "Epoch = 52\tSum of Training loss = 2447.304386034608\tCorrect Validation Examples = 9878\n"
     ]
    },
    {
     "name": "stderr",
     "output_type": "stream",
     "text": [
      "100%|████████████████████████████████████████████████████████████████████████████| 938/938 [00:07<00:00, 117.31it/s]\n",
      "100%|████████████████████████████████████████████████████████████████████████████| 313/313 [00:00<00:00, 318.93it/s]\n",
      "  1%|▉                                                                            | 11/938 [00:00<00:08, 108.13it/s]"
     ]
    },
    {
     "name": "stdout",
     "output_type": "stream",
     "text": [
      "Epoch = 53\tSum of Training loss = 2430.1538858413696\tCorrect Validation Examples = 9878\n"
     ]
    },
    {
     "name": "stderr",
     "output_type": "stream",
     "text": [
      "100%|████████████████████████████████████████████████████████████████████████████| 938/938 [00:07<00:00, 120.56it/s]\n",
      "100%|████████████████████████████████████████████████████████████████████████████| 313/313 [00:00<00:00, 315.97it/s]\n",
      "  1%|▉                                                                            | 11/938 [00:00<00:08, 107.08it/s]"
     ]
    },
    {
     "name": "stdout",
     "output_type": "stream",
     "text": [
      "Epoch = 54\tSum of Training loss = 2438.1779510974884\tCorrect Validation Examples = 9888\n"
     ]
    },
    {
     "name": "stderr",
     "output_type": "stream",
     "text": [
      "100%|████████████████████████████████████████████████████████████████████████████| 938/938 [00:07<00:00, 120.76it/s]\n",
      "100%|████████████████████████████████████████████████████████████████████████████| 313/313 [00:01<00:00, 312.89it/s]\n",
      "  2%|█▊                                                                           | 22/938 [00:00<00:08, 109.18it/s]"
     ]
    },
    {
     "name": "stdout",
     "output_type": "stream",
     "text": [
      "Epoch = 55\tSum of Training loss = 2424.8693690896034\tCorrect Validation Examples = 9893\n"
     ]
    },
    {
     "name": "stderr",
     "output_type": "stream",
     "text": [
      "100%|████████████████████████████████████████████████████████████████████████████| 938/938 [00:07<00:00, 120.17it/s]\n",
      "100%|████████████████████████████████████████████████████████████████████████████| 313/313 [00:00<00:00, 321.88it/s]\n",
      "  1%|▉                                                                            | 11/938 [00:00<00:08, 106.05it/s]"
     ]
    },
    {
     "name": "stdout",
     "output_type": "stream",
     "text": [
      "Epoch = 56\tSum of Training loss = 2425.81216186285\tCorrect Validation Examples = 9880\n"
     ]
    },
    {
     "name": "stderr",
     "output_type": "stream",
     "text": [
      "100%|████████████████████████████████████████████████████████████████████████████| 938/938 [00:07<00:00, 120.16it/s]\n",
      "100%|████████████████████████████████████████████████████████████████████████████| 313/313 [00:00<00:00, 321.21it/s]\n",
      "  2%|█▊                                                                           | 22/938 [00:00<00:08, 108.13it/s]"
     ]
    },
    {
     "name": "stdout",
     "output_type": "stream",
     "text": [
      "Epoch = 57\tSum of Training loss = 2440.0228262245655\tCorrect Validation Examples = 9885\n"
     ]
    },
    {
     "name": "stderr",
     "output_type": "stream",
     "text": [
      "100%|████████████████████████████████████████████████████████████████████████████| 938/938 [00:07<00:00, 119.69it/s]\n",
      "100%|████████████████████████████████████████████████████████████████████████████| 313/313 [00:00<00:00, 319.20it/s]\n",
      "  1%|▉                                                                            | 11/938 [00:00<00:08, 106.05it/s]"
     ]
    },
    {
     "name": "stdout",
     "output_type": "stream",
     "text": [
      "Epoch = 58\tSum of Training loss = 2380.6400127261877\tCorrect Validation Examples = 9868\n"
     ]
    },
    {
     "name": "stderr",
     "output_type": "stream",
     "text": [
      "100%|████████████████████████████████████████████████████████████████████████████| 938/938 [00:07<00:00, 120.23it/s]\n",
      "100%|████████████████████████████████████████████████████████████████████████████| 313/313 [00:00<00:00, 317.01it/s]\n",
      "  2%|█▊                                                                           | 22/938 [00:00<00:08, 107.33it/s]"
     ]
    },
    {
     "name": "stdout",
     "output_type": "stream",
     "text": [
      "Epoch = 59\tSum of Training loss = 2432.7517916560173\tCorrect Validation Examples = 9875\n"
     ]
    },
    {
     "name": "stderr",
     "output_type": "stream",
     "text": [
      "100%|████████████████████████████████████████████████████████████████████████████| 938/938 [00:07<00:00, 120.37it/s]\n",
      "100%|████████████████████████████████████████████████████████████████████████████| 313/313 [00:00<00:00, 326.57it/s]\n",
      "  1%|▉                                                                            | 11/938 [00:00<00:08, 107.08it/s]"
     ]
    },
    {
     "name": "stdout",
     "output_type": "stream",
     "text": [
      "Epoch = 60\tSum of Training loss = 2451.7570146024227\tCorrect Validation Examples = 9881\n"
     ]
    },
    {
     "name": "stderr",
     "output_type": "stream",
     "text": [
      "100%|████████████████████████████████████████████████████████████████████████████| 938/938 [00:07<00:00, 120.22it/s]\n",
      "100%|████████████████████████████████████████████████████████████████████████████| 313/313 [00:00<00:00, 322.88it/s]\n",
      "  1%|▉                                                                            | 11/938 [00:00<00:08, 104.06it/s]"
     ]
    },
    {
     "name": "stdout",
     "output_type": "stream",
     "text": [
      "Epoch = 61\tSum of Training loss = 2421.9424573481083\tCorrect Validation Examples = 9877\n"
     ]
    },
    {
     "name": "stderr",
     "output_type": "stream",
     "text": [
      "100%|████████████████████████████████████████████████████████████████████████████| 938/938 [00:07<00:00, 121.09it/s]\n",
      "100%|████████████████████████████████████████████████████████████████████████████| 313/313 [00:01<00:00, 306.38it/s]\n",
      "  1%|▊                                                                             | 10/938 [00:00<00:09, 95.51it/s]"
     ]
    },
    {
     "name": "stdout",
     "output_type": "stream",
     "text": [
      "Epoch = 62\tSum of Training loss = 2392.408308804035\tCorrect Validation Examples = 9875\n"
     ]
    },
    {
     "name": "stderr",
     "output_type": "stream",
     "text": [
      "100%|████████████████████████████████████████████████████████████████████████████| 938/938 [00:08<00:00, 116.68it/s]\n",
      "100%|████████████████████████████████████████████████████████████████████████████| 313/313 [00:00<00:00, 317.37it/s]\n",
      "  2%|█▊                                                                           | 22/938 [00:00<00:08, 106.04it/s]"
     ]
    },
    {
     "name": "stdout",
     "output_type": "stream",
     "text": [
      "Epoch = 63\tSum of Training loss = 2380.757680296898\tCorrect Validation Examples = 9887\n"
     ]
    },
    {
     "name": "stderr",
     "output_type": "stream",
     "text": [
      "100%|████████████████████████████████████████████████████████████████████████████| 938/938 [00:07<00:00, 117.91it/s]\n",
      "100%|████████████████████████████████████████████████████████████████████████████| 313/313 [00:00<00:00, 323.07it/s]\n",
      "  1%|▉                                                                            | 12/938 [00:00<00:08, 112.45it/s]"
     ]
    },
    {
     "name": "stdout",
     "output_type": "stream",
     "text": [
      "Epoch = 64\tSum of Training loss = 2387.2918261885643\tCorrect Validation Examples = 9895\n"
     ]
    },
    {
     "name": "stderr",
     "output_type": "stream",
     "text": [
      "100%|████████████████████████████████████████████████████████████████████████████| 938/938 [00:07<00:00, 120.07it/s]\n",
      "100%|████████████████████████████████████████████████████████████████████████████| 313/313 [00:00<00:00, 318.62it/s]\n",
      "  1%|▉                                                                            | 11/938 [00:00<00:08, 105.01it/s]"
     ]
    },
    {
     "name": "stdout",
     "output_type": "stream",
     "text": [
      "Epoch = 65\tSum of Training loss = 2396.716519102454\tCorrect Validation Examples = 9888\n"
     ]
    },
    {
     "name": "stderr",
     "output_type": "stream",
     "text": [
      "100%|████████████████████████████████████████████████████████████████████████████| 938/938 [00:07<00:00, 117.92it/s]\n",
      "100%|████████████████████████████████████████████████████████████████████████████| 313/313 [00:01<00:00, 312.53it/s]\n",
      "  1%|▉                                                                            | 11/938 [00:00<00:08, 109.20it/s]"
     ]
    },
    {
     "name": "stdout",
     "output_type": "stream",
     "text": [
      "Epoch = 66\tSum of Training loss = 2389.8183867633343\tCorrect Validation Examples = 9873\n"
     ]
    },
    {
     "name": "stderr",
     "output_type": "stream",
     "text": [
      "100%|████████████████████████████████████████████████████████████████████████████| 938/938 [00:07<00:00, 118.97it/s]\n",
      "100%|████████████████████████████████████████████████████████████████████████████| 313/313 [00:00<00:00, 313.83it/s]\n",
      "  1%|▉                                                                            | 11/938 [00:00<00:08, 103.10it/s]"
     ]
    },
    {
     "name": "stdout",
     "output_type": "stream",
     "text": [
      "Epoch = 67\tSum of Training loss = 2377.818622544408\tCorrect Validation Examples = 9889\n"
     ]
    },
    {
     "name": "stderr",
     "output_type": "stream",
     "text": [
      "100%|████████████████████████████████████████████████████████████████████████████| 938/938 [00:07<00:00, 120.31it/s]\n",
      "100%|████████████████████████████████████████████████████████████████████████████| 313/313 [00:00<00:00, 317.33it/s]\n",
      "  1%|▉                                                                            | 11/938 [00:00<00:08, 107.07it/s]"
     ]
    },
    {
     "name": "stdout",
     "output_type": "stream",
     "text": [
      "Epoch = 68\tSum of Training loss = 2388.7601947039366\tCorrect Validation Examples = 9889\n"
     ]
    },
    {
     "name": "stderr",
     "output_type": "stream",
     "text": [
      "100%|████████████████████████████████████████████████████████████████████████████| 938/938 [00:07<00:00, 120.64it/s]\n",
      "100%|████████████████████████████████████████████████████████████████████████████| 313/313 [00:00<00:00, 322.73it/s]\n",
      "  1%|▉                                                                            | 11/938 [00:00<00:08, 106.12it/s]"
     ]
    },
    {
     "name": "stdout",
     "output_type": "stream",
     "text": [
      "Epoch = 69\tSum of Training loss = 2376.2620791494846\tCorrect Validation Examples = 9888\n"
     ]
    },
    {
     "name": "stderr",
     "output_type": "stream",
     "text": [
      "100%|████████████████████████████████████████████████████████████████████████████| 938/938 [00:07<00:00, 120.09it/s]\n",
      "100%|████████████████████████████████████████████████████████████████████████████| 313/313 [00:00<00:00, 319.25it/s]\n",
      "  1%|▉                                                                            | 11/938 [00:00<00:08, 107.08it/s]"
     ]
    },
    {
     "name": "stdout",
     "output_type": "stream",
     "text": [
      "Epoch = 70\tSum of Training loss = 2347.315188974142\tCorrect Validation Examples = 9874\n"
     ]
    },
    {
     "name": "stderr",
     "output_type": "stream",
     "text": [
      "100%|████████████████████████████████████████████████████████████████████████████| 938/938 [00:07<00:00, 120.09it/s]\n",
      "100%|████████████████████████████████████████████████████████████████████████████| 313/313 [00:00<00:00, 319.26it/s]\n",
      "  1%|▉                                                                            | 11/938 [00:00<00:08, 103.08it/s]"
     ]
    },
    {
     "name": "stdout",
     "output_type": "stream",
     "text": [
      "Epoch = 71\tSum of Training loss = 2397.4700103998184\tCorrect Validation Examples = 9882\n"
     ]
    },
    {
     "name": "stderr",
     "output_type": "stream",
     "text": [
      "100%|████████████████████████████████████████████████████████████████████████████| 938/938 [00:07<00:00, 119.46it/s]\n",
      "100%|████████████████████████████████████████████████████████████████████████████| 313/313 [00:00<00:00, 318.61it/s]\n",
      "  1%|▊                                                                             | 10/938 [00:00<00:09, 98.34it/s]"
     ]
    },
    {
     "name": "stdout",
     "output_type": "stream",
     "text": [
      "Epoch = 72\tSum of Training loss = 2391.7970694452524\tCorrect Validation Examples = 9890\n"
     ]
    },
    {
     "name": "stderr",
     "output_type": "stream",
     "text": [
      "100%|████████████████████████████████████████████████████████████████████████████| 938/938 [00:07<00:00, 120.04it/s]\n",
      "100%|████████████████████████████████████████████████████████████████████████████| 313/313 [00:00<00:00, 319.59it/s]\n",
      "  2%|█▊                                                                           | 22/938 [00:00<00:08, 107.86it/s]"
     ]
    },
    {
     "name": "stdout",
     "output_type": "stream",
     "text": [
      "Epoch = 73\tSum of Training loss = 2373.1403807401657\tCorrect Validation Examples = 9884\n"
     ]
    },
    {
     "name": "stderr",
     "output_type": "stream",
     "text": [
      "100%|████████████████████████████████████████████████████████████████████████████| 938/938 [00:07<00:00, 119.58it/s]\n",
      "100%|████████████████████████████████████████████████████████████████████████████| 313/313 [00:00<00:00, 324.54it/s]\n",
      "  1%|▉                                                                            | 12/938 [00:00<00:08, 111.41it/s]"
     ]
    },
    {
     "name": "stdout",
     "output_type": "stream",
     "text": [
      "Epoch = 74\tSum of Training loss = 2388.0657320022583\tCorrect Validation Examples = 9886\n"
     ]
    },
    {
     "name": "stderr",
     "output_type": "stream",
     "text": [
      "100%|████████████████████████████████████████████████████████████████████████████| 938/938 [00:07<00:00, 121.35it/s]\n",
      "100%|████████████████████████████████████████████████████████████████████████████| 313/313 [00:01<00:00, 312.27it/s]\n",
      "  2%|█▋                                                                           | 21/938 [00:00<00:08, 103.29it/s]"
     ]
    },
    {
     "name": "stdout",
     "output_type": "stream",
     "text": [
      "Epoch = 75\tSum of Training loss = 2351.0733740329742\tCorrect Validation Examples = 9868\n"
     ]
    },
    {
     "name": "stderr",
     "output_type": "stream",
     "text": [
      "100%|████████████████████████████████████████████████████████████████████████████| 938/938 [00:07<00:00, 120.59it/s]\n",
      "100%|████████████████████████████████████████████████████████████████████████████| 313/313 [00:00<00:00, 318.93it/s]\n",
      "  1%|▉                                                                            | 11/938 [00:00<00:08, 108.10it/s]"
     ]
    },
    {
     "name": "stdout",
     "output_type": "stream",
     "text": [
      "Epoch = 76\tSum of Training loss = 2339.924384891987\tCorrect Validation Examples = 9897\n"
     ]
    },
    {
     "name": "stderr",
     "output_type": "stream",
     "text": [
      "100%|████████████████████████████████████████████████████████████████████████████| 938/938 [00:07<00:00, 119.80it/s]\n",
      "100%|████████████████████████████████████████████████████████████████████████████| 313/313 [00:00<00:00, 317.96it/s]\n",
      "  1%|▉                                                                            | 11/938 [00:00<00:08, 106.05it/s]"
     ]
    },
    {
     "name": "stdout",
     "output_type": "stream",
     "text": [
      "Epoch = 77\tSum of Training loss = 2313.29784104228\tCorrect Validation Examples = 9869\n"
     ]
    },
    {
     "name": "stderr",
     "output_type": "stream",
     "text": [
      "100%|████████████████████████████████████████████████████████████████████████████| 938/938 [00:07<00:00, 120.26it/s]\n",
      "100%|████████████████████████████████████████████████████████████████████████████| 313/313 [00:00<00:00, 321.76it/s]\n",
      "  1%|▉                                                                            | 11/938 [00:00<00:08, 103.08it/s]"
     ]
    },
    {
     "name": "stdout",
     "output_type": "stream",
     "text": [
      "Epoch = 78\tSum of Training loss = 2336.3706579208374\tCorrect Validation Examples = 9893\n"
     ]
    },
    {
     "name": "stderr",
     "output_type": "stream",
     "text": [
      "100%|████████████████████████████████████████████████████████████████████████████| 938/938 [00:07<00:00, 120.02it/s]\n",
      "100%|████████████████████████████████████████████████████████████████████████████| 313/313 [00:00<00:00, 320.89it/s]\n",
      "  1%|▉                                                                            | 11/938 [00:00<00:08, 105.54it/s]"
     ]
    },
    {
     "name": "stdout",
     "output_type": "stream",
     "text": [
      "Epoch = 79\tSum of Training loss = 2365.083349853754\tCorrect Validation Examples = 9890\n"
     ]
    },
    {
     "name": "stderr",
     "output_type": "stream",
     "text": [
      "100%|████████████████████████████████████████████████████████████████████████████| 938/938 [00:07<00:00, 119.93it/s]\n",
      "100%|████████████████████████████████████████████████████████████████████████████| 313/313 [00:00<00:00, 315.10it/s]\n",
      "  1%|▉                                                                            | 11/938 [00:00<00:09, 102.12it/s]"
     ]
    },
    {
     "name": "stdout",
     "output_type": "stream",
     "text": [
      "Epoch = 80\tSum of Training loss = 2346.549405604601\tCorrect Validation Examples = 9888\n"
     ]
    },
    {
     "name": "stderr",
     "output_type": "stream",
     "text": [
      "100%|████████████████████████████████████████████████████████████████████████████| 938/938 [00:07<00:00, 119.66it/s]\n",
      "100%|████████████████████████████████████████████████████████████████████████████| 313/313 [00:00<00:00, 317.71it/s]\n",
      "  1%|▉                                                                            | 11/938 [00:00<00:08, 103.08it/s]"
     ]
    },
    {
     "name": "stdout",
     "output_type": "stream",
     "text": [
      "Epoch = 81\tSum of Training loss = 2314.8059038966894\tCorrect Validation Examples = 9878\n"
     ]
    },
    {
     "name": "stderr",
     "output_type": "stream",
     "text": [
      "100%|████████████████████████████████████████████████████████████████████████████| 938/938 [00:07<00:00, 120.45it/s]\n",
      "100%|████████████████████████████████████████████████████████████████████████████| 313/313 [00:00<00:00, 320.84it/s]\n",
      "  1%|▉                                                                            | 11/938 [00:00<00:08, 103.08it/s]"
     ]
    },
    {
     "name": "stdout",
     "output_type": "stream",
     "text": [
      "Epoch = 82\tSum of Training loss = 2336.9707216620445\tCorrect Validation Examples = 9889\n"
     ]
    },
    {
     "name": "stderr",
     "output_type": "stream",
     "text": [
      "100%|████████████████████████████████████████████████████████████████████████████| 938/938 [00:07<00:00, 119.81it/s]\n",
      "100%|████████████████████████████████████████████████████████████████████████████| 313/313 [00:00<00:00, 324.54it/s]\n",
      "  1%|▉                                                                            | 12/938 [00:00<00:08, 112.45it/s]"
     ]
    },
    {
     "name": "stdout",
     "output_type": "stream",
     "text": [
      "Epoch = 83\tSum of Training loss = 2354.84141638875\tCorrect Validation Examples = 9881\n"
     ]
    },
    {
     "name": "stderr",
     "output_type": "stream",
     "text": [
      "100%|████████████████████████████████████████████████████████████████████████████| 938/938 [00:07<00:00, 120.59it/s]\n",
      "100%|████████████████████████████████████████████████████████████████████████████| 313/313 [00:00<00:00, 323.40it/s]\n",
      "  1%|▊                                                                             | 10/938 [00:00<00:09, 99.26it/s]"
     ]
    },
    {
     "name": "stdout",
     "output_type": "stream",
     "text": [
      "Epoch = 84\tSum of Training loss = 2341.2377803325653\tCorrect Validation Examples = 9896\n"
     ]
    },
    {
     "name": "stderr",
     "output_type": "stream",
     "text": [
      "100%|████████████████████████████████████████████████████████████████████████████| 938/938 [00:07<00:00, 119.95it/s]\n",
      "100%|████████████████████████████████████████████████████████████████████████████| 313/313 [00:00<00:00, 314.32it/s]\n",
      "  2%|█▊                                                                           | 22/938 [00:00<00:08, 108.74it/s]"
     ]
    },
    {
     "name": "stdout",
     "output_type": "stream",
     "text": [
      "Epoch = 85\tSum of Training loss = 2314.0925165116787\tCorrect Validation Examples = 9894\n"
     ]
    },
    {
     "name": "stderr",
     "output_type": "stream",
     "text": [
      "100%|████████████████████████████████████████████████████████████████████████████| 938/938 [00:07<00:00, 120.26it/s]\n",
      "100%|████████████████████████████████████████████████████████████████████████████| 313/313 [00:00<00:00, 317.96it/s]\n",
      "  1%|▉                                                                            | 11/938 [00:00<00:08, 107.08it/s]"
     ]
    },
    {
     "name": "stdout",
     "output_type": "stream",
     "text": [
      "Epoch = 86\tSum of Training loss = 2339.292303442955\tCorrect Validation Examples = 9893\n"
     ]
    },
    {
     "name": "stderr",
     "output_type": "stream",
     "text": [
      "100%|████████████████████████████████████████████████████████████████████████████| 938/938 [00:07<00:00, 120.05it/s]\n",
      "100%|████████████████████████████████████████████████████████████████████████████| 313/313 [00:00<00:00, 317.75it/s]\n",
      "  1%|▉                                                                            | 11/938 [00:00<00:08, 107.08it/s]"
     ]
    },
    {
     "name": "stdout",
     "output_type": "stream",
     "text": [
      "Epoch = 87\tSum of Training loss = 2386.5762856304646\tCorrect Validation Examples = 9883\n"
     ]
    },
    {
     "name": "stderr",
     "output_type": "stream",
     "text": [
      "100%|████████████████████████████████████████████████████████████████████████████| 938/938 [00:07<00:00, 120.82it/s]\n",
      "100%|████████████████████████████████████████████████████████████████████████████| 313/313 [00:00<00:00, 313.78it/s]\n",
      "  2%|█▊                                                                           | 22/938 [00:00<00:08, 106.57it/s]"
     ]
    },
    {
     "name": "stdout",
     "output_type": "stream",
     "text": [
      "Epoch = 88\tSum of Training loss = 2345.2522958517075\tCorrect Validation Examples = 9889\n"
     ]
    },
    {
     "name": "stderr",
     "output_type": "stream",
     "text": [
      "100%|████████████████████████████████████████████████████████████████████████████| 938/938 [00:07<00:00, 120.57it/s]\n",
      "100%|████████████████████████████████████████████████████████████████████████████| 313/313 [00:00<00:00, 319.90it/s]\n",
      "  1%|▉                                                                            | 11/938 [00:00<00:08, 104.05it/s]"
     ]
    },
    {
     "name": "stdout",
     "output_type": "stream",
     "text": [
      "Epoch = 89\tSum of Training loss = 2376.8110641241074\tCorrect Validation Examples = 9877\n"
     ]
    },
    {
     "name": "stderr",
     "output_type": "stream",
     "text": [
      "100%|████████████████████████████████████████████████████████████████████████████| 938/938 [00:07<00:00, 119.91it/s]\n",
      "100%|████████████████████████████████████████████████████████████████████████████| 313/313 [00:00<00:00, 317.97it/s]\n",
      "  1%|▉                                                                            | 11/938 [00:00<00:08, 108.13it/s]"
     ]
    },
    {
     "name": "stdout",
     "output_type": "stream",
     "text": [
      "Epoch = 90\tSum of Training loss = 2320.0432938337326\tCorrect Validation Examples = 9883\n"
     ]
    },
    {
     "name": "stderr",
     "output_type": "stream",
     "text": [
      "100%|████████████████████████████████████████████████████████████████████████████| 938/938 [00:07<00:00, 119.59it/s]\n",
      "100%|████████████████████████████████████████████████████████████████████████████| 313/313 [00:00<00:00, 321.87it/s]\n",
      "  1%|▉                                                                            | 11/938 [00:00<00:08, 106.05it/s]"
     ]
    },
    {
     "name": "stdout",
     "output_type": "stream",
     "text": [
      "Epoch = 91\tSum of Training loss = 2297.234756529331\tCorrect Validation Examples = 9898\n"
     ]
    },
    {
     "name": "stderr",
     "output_type": "stream",
     "text": [
      "100%|████████████████████████████████████████████████████████████████████████████| 938/938 [00:07<00:00, 119.97it/s]\n",
      "100%|████████████████████████████████████████████████████████████████████████████| 313/313 [00:00<00:00, 319.25it/s]\n",
      "  1%|▉                                                                            | 11/938 [00:00<00:08, 103.10it/s]"
     ]
    },
    {
     "name": "stdout",
     "output_type": "stream",
     "text": [
      "Epoch = 92\tSum of Training loss = 2348.991222038865\tCorrect Validation Examples = 9878\n"
     ]
    },
    {
     "name": "stderr",
     "output_type": "stream",
     "text": [
      "100%|████████████████████████████████████████████████████████████████████████████| 938/938 [00:07<00:00, 120.00it/s]\n",
      "100%|████████████████████████████████████████████████████████████████████████████| 313/313 [00:01<00:00, 307.98it/s]\n",
      "  1%|▊                                                                             | 10/938 [00:00<00:09, 97.35it/s]"
     ]
    },
    {
     "name": "stdout",
     "output_type": "stream",
     "text": [
      "Epoch = 93\tSum of Training loss = 2301.0774399638176\tCorrect Validation Examples = 9882\n"
     ]
    },
    {
     "name": "stderr",
     "output_type": "stream",
     "text": [
      "100%|████████████████████████████████████████████████████████████████████████████| 938/938 [00:08<00:00, 115.81it/s]\n",
      "100%|████████████████████████████████████████████████████████████████████████████| 313/313 [00:00<00:00, 318.61it/s]\n",
      "  1%|▉                                                                            | 11/938 [00:00<00:08, 105.04it/s]"
     ]
    },
    {
     "name": "stdout",
     "output_type": "stream",
     "text": [
      "Epoch = 94\tSum of Training loss = 2345.375460654497\tCorrect Validation Examples = 9890\n"
     ]
    },
    {
     "name": "stderr",
     "output_type": "stream",
     "text": [
      "100%|████████████████████████████████████████████████████████████████████████████| 938/938 [00:07<00:00, 119.74it/s]\n",
      "100%|████████████████████████████████████████████████████████████████████████████| 313/313 [00:01<00:00, 312.58it/s]\n",
      "  1%|▉                                                                            | 11/938 [00:00<00:08, 106.05it/s]"
     ]
    },
    {
     "name": "stdout",
     "output_type": "stream",
     "text": [
      "Epoch = 95\tSum of Training loss = 2278.3051029741764\tCorrect Validation Examples = 9878\n"
     ]
    },
    {
     "name": "stderr",
     "output_type": "stream",
     "text": [
      "100%|████████████████████████████████████████████████████████████████████████████| 938/938 [00:07<00:00, 120.16it/s]\n",
      "100%|████████████████████████████████████████████████████████████████████████████| 313/313 [00:00<00:00, 320.56it/s]\n",
      "  1%|▉                                                                            | 11/938 [00:00<00:08, 109.20it/s]"
     ]
    },
    {
     "name": "stdout",
     "output_type": "stream",
     "text": [
      "Epoch = 96\tSum of Training loss = 2278.0393372178078\tCorrect Validation Examples = 9886\n"
     ]
    },
    {
     "name": "stderr",
     "output_type": "stream",
     "text": [
      "100%|████████████████████████████████████████████████████████████████████████████| 938/938 [00:07<00:00, 119.60it/s]\n",
      "100%|████████████████████████████████████████████████████████████████████████████| 313/313 [00:00<00:00, 320.90it/s]\n",
      "  1%|▉                                                                            | 11/938 [00:00<00:08, 105.04it/s]"
     ]
    },
    {
     "name": "stdout",
     "output_type": "stream",
     "text": [
      "Epoch = 97\tSum of Training loss = 2320.423579990864\tCorrect Validation Examples = 9893\n"
     ]
    },
    {
     "name": "stderr",
     "output_type": "stream",
     "text": [
      "100%|████████████████████████████████████████████████████████████████████████████| 938/938 [00:07<00:00, 120.13it/s]\n",
      "100%|████████████████████████████████████████████████████████████████████████████| 313/313 [00:00<00:00, 317.57it/s]\n",
      "  1%|▉                                                                            | 11/938 [00:00<00:08, 106.06it/s]"
     ]
    },
    {
     "name": "stdout",
     "output_type": "stream",
     "text": [
      "Epoch = 98\tSum of Training loss = 2289.5277648568153\tCorrect Validation Examples = 9865\n"
     ]
    },
    {
     "name": "stderr",
     "output_type": "stream",
     "text": [
      "100%|████████████████████████████████████████████████████████████████████████████| 938/938 [00:07<00:00, 119.03it/s]\n",
      "100%|████████████████████████████████████████████████████████████████████████████| 313/313 [00:00<00:00, 318.93it/s]\n",
      "  1%|▉                                                                            | 11/938 [00:00<00:08, 105.04it/s]"
     ]
    },
    {
     "name": "stdout",
     "output_type": "stream",
     "text": [
      "Epoch = 99\tSum of Training loss = 2308.0375143438578\tCorrect Validation Examples = 9886\n"
     ]
    },
    {
     "name": "stderr",
     "output_type": "stream",
     "text": [
      "100%|████████████████████████████████████████████████████████████████████████████| 938/938 [00:07<00:00, 119.77it/s]\n",
      "100%|████████████████████████████████████████████████████████████████████████████| 313/313 [00:00<00:00, 317.64it/s]\n"
     ]
    },
    {
     "name": "stdout",
     "output_type": "stream",
     "text": [
      "Epoch = 100\tSum of Training loss = 2298.8401795625687\tCorrect Validation Examples = 9860\n"
     ]
    },
    {
     "data": {
      "text/plain": [
       "<Figure size 1152x360 with 0 Axes>"
      ]
     },
     "metadata": {},
     "output_type": "display_data"
    }
   ],
   "source": [
    "model=CNN(dropout=False).to(device)\n",
    "optimizer = optim.Adam(model.parameters(), lr=1e-4, weight_decay=0.2)\n",
    "train_loss_array=[]\n",
    "valid_acc_array=[]\n",
    "for epoch in range(epochs):\n",
    "    #Traning \n",
    "    train_loss=0\n",
    "    for data in tqdm(trainloader):\n",
    "        images,labels=data\n",
    "        images=images.to(device)\n",
    "        labels=labels.to(device)\n",
    "        optimizer.zero_grad()\n",
    "        output=model(images)\n",
    "        loss = criterion(output, labels)\n",
    "        loss.backward()\n",
    "        optimizer.step()\n",
    "        train_loss += loss.item()\n",
    "    train_loss_array.append(train_loss)\n",
    "    #validation\n",
    "    correct=0\n",
    "    model.eval()\n",
    "    with torch.no_grad():\n",
    "        for data in tqdm(testloader):\n",
    "            images,labels=data\n",
    "            images=images.to(device)\n",
    "            labels=labels.to(device)\n",
    "            output=model(images)\n",
    "            _,pred=torch.max(output.data,1)\n",
    "            correct+=(pred == labels).sum().item()\n",
    "    valid_acc_array.append(correct)\n",
    "    model.train()\n",
    "    print(f\"Epoch = {epoch+1}\\tSum of Training loss = {train_loss}\\tCorrect Validation Examples = {correct}\")\n",
    "    \n",
    "fig,ax=plt.subplots(1,2,figsize=(16,5))\n",
    "ax[0].plot(np.arange(1,epochs+1),train_loss_array)\n",
    "ax[0].set(ylabel=\"Summed Training loss\",xlabel=\"Epochs\")\n",
    "ax[1].plot(np.arange(1,epochs+1),np.array(valid_acc_array)/len(testset)*100)\n",
    "ax[1].set(ylabel=\"Validation Accuracy\",xlabel=\"Epochs\")\n",
    "plt.savefig(\"Adam_Regularization.png\",dpi=500)\n",
    "plt.clf()"
   ]
  },
  {
   "cell_type": "code",
   "execution_count": 20,
   "id": "corresponding-saturn",
   "metadata": {},
   "outputs": [
    {
     "name": "stdout",
     "output_type": "stream",
     "text": [
      "Maximum Accuracy achieved = 99.00999999999999\n"
     ]
    }
   ],
   "source": [
    "print(f'Maximum Accuracy achieved = {max(valid_acc_array)/len(testset)*100}')\n",
    "all_losses.append(train_loss_array)"
   ]
  },
  {
   "cell_type": "markdown",
   "id": "functioning-fiction",
   "metadata": {},
   "source": [
    "## Adam with Regularization and with Dropout"
   ]
  },
  {
   "cell_type": "code",
   "execution_count": 21,
   "id": "mysterious-excitement",
   "metadata": {},
   "outputs": [
    {
     "name": "stderr",
     "output_type": "stream",
     "text": [
      "100%|████████████████████████████████████████████████████████████████████████████| 938/938 [00:07<00:00, 119.50it/s]\n",
      "100%|████████████████████████████████████████████████████████████████████████████| 313/313 [00:00<00:00, 317.01it/s]\n",
      "  1%|▉                                                                            | 11/938 [00:00<00:08, 103.08it/s]"
     ]
    },
    {
     "name": "stdout",
     "output_type": "stream",
     "text": [
      "Epoch = 1\tSum of Training loss = 27813.681656360626\tCorrect Validation Examples = 9537\n"
     ]
    },
    {
     "name": "stderr",
     "output_type": "stream",
     "text": [
      "100%|████████████████████████████████████████████████████████████████████████████| 938/938 [00:07<00:00, 119.60it/s]\n",
      "100%|████████████████████████████████████████████████████████████████████████████| 313/313 [00:01<00:00, 311.95it/s]\n",
      "  1%|▉                                                                            | 11/938 [00:00<00:08, 104.05it/s]"
     ]
    },
    {
     "name": "stdout",
     "output_type": "stream",
     "text": [
      "Epoch = 2\tSum of Training loss = 8669.060554742813\tCorrect Validation Examples = 9713\n"
     ]
    },
    {
     "name": "stderr",
     "output_type": "stream",
     "text": [
      "100%|████████████████████████████████████████████████████████████████████████████| 938/938 [00:07<00:00, 120.37it/s]\n",
      "100%|████████████████████████████████████████████████████████████████████████████| 313/313 [00:00<00:00, 320.57it/s]\n",
      "  1%|▉                                                                            | 11/938 [00:00<00:09, 101.19it/s]"
     ]
    },
    {
     "name": "stdout",
     "output_type": "stream",
     "text": [
      "Epoch = 3\tSum of Training loss = 6387.2013301849365\tCorrect Validation Examples = 9752\n"
     ]
    },
    {
     "name": "stderr",
     "output_type": "stream",
     "text": [
      "100%|████████████████████████████████████████████████████████████████████████████| 938/938 [00:07<00:00, 120.21it/s]\n",
      "100%|████████████████████████████████████████████████████████████████████████████| 313/313 [00:00<00:00, 320.23it/s]\n",
      "  1%|▉                                                                            | 11/938 [00:00<00:09, 102.15it/s]"
     ]
    },
    {
     "name": "stdout",
     "output_type": "stream",
     "text": [
      "Epoch = 4\tSum of Training loss = 5381.79949516058\tCorrect Validation Examples = 9788\n"
     ]
    },
    {
     "name": "stderr",
     "output_type": "stream",
     "text": [
      "100%|████████████████████████████████████████████████████████████████████████████| 938/938 [00:07<00:00, 120.06it/s]\n",
      "100%|████████████████████████████████████████████████████████████████████████████| 313/313 [00:00<00:00, 320.56it/s]\n",
      "  1%|▉                                                                            | 11/938 [00:00<00:08, 104.05it/s]"
     ]
    },
    {
     "name": "stdout",
     "output_type": "stream",
     "text": [
      "Epoch = 5\tSum of Training loss = 4795.093574464321\tCorrect Validation Examples = 9809\n"
     ]
    },
    {
     "name": "stderr",
     "output_type": "stream",
     "text": [
      "100%|████████████████████████████████████████████████████████████████████████████| 938/938 [00:07<00:00, 118.00it/s]\n",
      "100%|████████████████████████████████████████████████████████████████████████████| 313/313 [00:01<00:00, 312.05it/s]\n",
      "  1%|▉                                                                            | 11/938 [00:00<00:08, 103.84it/s]"
     ]
    },
    {
     "name": "stdout",
     "output_type": "stream",
     "text": [
      "Epoch = 6\tSum of Training loss = 4305.438768208027\tCorrect Validation Examples = 9825\n"
     ]
    },
    {
     "name": "stderr",
     "output_type": "stream",
     "text": [
      "100%|████████████████████████████████████████████████████████████████████████████| 938/938 [00:07<00:00, 118.42it/s]\n",
      "100%|████████████████████████████████████████████████████████████████████████████| 313/313 [00:00<00:00, 317.58it/s]\n",
      "  1%|▉                                                                            | 11/938 [00:00<00:09, 101.19it/s]"
     ]
    },
    {
     "name": "stdout",
     "output_type": "stream",
     "text": [
      "Epoch = 7\tSum of Training loss = 4028.7283756136894\tCorrect Validation Examples = 9836\n"
     ]
    },
    {
     "name": "stderr",
     "output_type": "stream",
     "text": [
      "100%|████████████████████████████████████████████████████████████████████████████| 938/938 [00:07<00:00, 119.73it/s]\n",
      "100%|████████████████████████████████████████████████████████████████████████████| 313/313 [00:01<00:00, 311.51it/s]\n",
      "  1%|▉                                                                            | 11/938 [00:00<00:08, 105.01it/s]"
     ]
    },
    {
     "name": "stdout",
     "output_type": "stream",
     "text": [
      "Epoch = 8\tSum of Training loss = 3814.8317790329456\tCorrect Validation Examples = 9831\n"
     ]
    },
    {
     "name": "stderr",
     "output_type": "stream",
     "text": [
      "100%|████████████████████████████████████████████████████████████████████████████| 938/938 [00:07<00:00, 120.74it/s]\n",
      "100%|████████████████████████████████████████████████████████████████████████████| 313/313 [00:00<00:00, 314.15it/s]\n",
      "  1%|▊                                                                             | 10/938 [00:00<00:09, 95.49it/s]"
     ]
    },
    {
     "name": "stdout",
     "output_type": "stream",
     "text": [
      "Epoch = 9\tSum of Training loss = 3707.0751633942127\tCorrect Validation Examples = 9837\n"
     ]
    },
    {
     "name": "stderr",
     "output_type": "stream",
     "text": [
      "100%|████████████████████████████████████████████████████████████████████████████| 938/938 [00:07<00:00, 120.03it/s]\n",
      "100%|████████████████████████████████████████████████████████████████████████████| 313/313 [00:00<00:00, 317.32it/s]\n",
      "  1%|▉                                                                            | 11/938 [00:00<00:08, 107.08it/s]"
     ]
    },
    {
     "name": "stdout",
     "output_type": "stream",
     "text": [
      "Epoch = 10\tSum of Training loss = 3521.5381765663624\tCorrect Validation Examples = 9840\n"
     ]
    },
    {
     "name": "stderr",
     "output_type": "stream",
     "text": [
      "100%|████████████████████████████████████████████████████████████████████████████| 938/938 [00:07<00:00, 120.49it/s]\n",
      "100%|████████████████████████████████████████████████████████████████████████████| 313/313 [00:00<00:00, 316.04it/s]\n",
      "  1%|▉                                                                            | 11/938 [00:00<00:08, 106.06it/s]"
     ]
    },
    {
     "name": "stdout",
     "output_type": "stream",
     "text": [
      "Epoch = 11\tSum of Training loss = 3417.831863939762\tCorrect Validation Examples = 9866\n"
     ]
    },
    {
     "name": "stderr",
     "output_type": "stream",
     "text": [
      "100%|████████████████████████████████████████████████████████████████████████████| 938/938 [00:07<00:00, 119.45it/s]\n",
      "100%|████████████████████████████████████████████████████████████████████████████| 313/313 [00:00<00:00, 313.51it/s]\n",
      "  1%|▉                                                                            | 11/938 [00:00<00:08, 103.09it/s]"
     ]
    },
    {
     "name": "stdout",
     "output_type": "stream",
     "text": [
      "Epoch = 12\tSum of Training loss = 3269.0665984749794\tCorrect Validation Examples = 9861\n"
     ]
    },
    {
     "name": "stderr",
     "output_type": "stream",
     "text": [
      "100%|████████████████████████████████████████████████████████████████████████████| 938/938 [00:07<00:00, 118.61it/s]\n",
      "100%|████████████████████████████████████████████████████████████████████████████| 313/313 [00:00<00:00, 319.25it/s]\n",
      "  1%|▉                                                                            | 12/938 [00:00<00:08, 110.41it/s]"
     ]
    },
    {
     "name": "stdout",
     "output_type": "stream",
     "text": [
      "Epoch = 13\tSum of Training loss = 3255.0340749025345\tCorrect Validation Examples = 9826\n"
     ]
    },
    {
     "name": "stderr",
     "output_type": "stream",
     "text": [
      "100%|████████████████████████████████████████████████████████████████████████████| 938/938 [00:07<00:00, 120.49it/s]\n",
      "100%|████████████████████████████████████████████████████████████████████████████| 313/313 [00:00<00:00, 322.78it/s]\n",
      "  1%|▉                                                                            | 11/938 [00:00<00:09, 102.13it/s]"
     ]
    },
    {
     "name": "stdout",
     "output_type": "stream",
     "text": [
      "Epoch = 14\tSum of Training loss = 3134.8384115695953\tCorrect Validation Examples = 9834\n"
     ]
    },
    {
     "name": "stderr",
     "output_type": "stream",
     "text": [
      "100%|████████████████████████████████████████████████████████████████████████████| 938/938 [00:07<00:00, 120.38it/s]\n",
      "100%|████████████████████████████████████████████████████████████████████████████| 313/313 [00:00<00:00, 316.04it/s]\n",
      "  1%|▊                                                                             | 10/938 [00:00<00:09, 97.35it/s]"
     ]
    },
    {
     "name": "stdout",
     "output_type": "stream",
     "text": [
      "Epoch = 15\tSum of Training loss = 3068.0736986398697\tCorrect Validation Examples = 9836\n"
     ]
    },
    {
     "name": "stderr",
     "output_type": "stream",
     "text": [
      "100%|████████████████████████████████████████████████████████████████████████████| 938/938 [00:07<00:00, 119.97it/s]\n",
      "100%|████████████████████████████████████████████████████████████████████████████| 313/313 [00:01<00:00, 291.94it/s]\n",
      "  1%|▊                                                                             | 10/938 [00:00<00:10, 91.15it/s]"
     ]
    },
    {
     "name": "stdout",
     "output_type": "stream",
     "text": [
      "Epoch = 16\tSum of Training loss = 3071.6096573770046\tCorrect Validation Examples = 9858\n"
     ]
    },
    {
     "name": "stderr",
     "output_type": "stream",
     "text": [
      "100%|████████████████████████████████████████████████████████████████████████████| 938/938 [00:08<00:00, 109.03it/s]\n",
      "100%|████████████████████████████████████████████████████████████████████████████| 313/313 [00:00<00:00, 316.36it/s]\n",
      "  1%|▉                                                                            | 11/938 [00:00<00:08, 106.05it/s]"
     ]
    },
    {
     "name": "stdout",
     "output_type": "stream",
     "text": [
      "Epoch = 17\tSum of Training loss = 2949.882956147194\tCorrect Validation Examples = 9874\n"
     ]
    },
    {
     "name": "stderr",
     "output_type": "stream",
     "text": [
      "100%|████████████████████████████████████████████████████████████████████████████| 938/938 [00:07<00:00, 120.41it/s]\n",
      "100%|████████████████████████████████████████████████████████████████████████████| 313/313 [00:00<00:00, 319.25it/s]\n",
      "  1%|▉                                                                            | 11/938 [00:00<00:09, 101.19it/s]"
     ]
    },
    {
     "name": "stdout",
     "output_type": "stream",
     "text": [
      "Epoch = 18\tSum of Training loss = 2891.193407893181\tCorrect Validation Examples = 9868\n"
     ]
    },
    {
     "name": "stderr",
     "output_type": "stream",
     "text": [
      "100%|████████████████████████████████████████████████████████████████████████████| 938/938 [00:07<00:00, 119.63it/s]\n",
      "100%|████████████████████████████████████████████████████████████████████████████| 313/313 [00:00<00:00, 318.20it/s]\n",
      "  1%|▉                                                                            | 11/938 [00:00<00:08, 104.09it/s]"
     ]
    },
    {
     "name": "stdout",
     "output_type": "stream",
     "text": [
      "Epoch = 19\tSum of Training loss = 2925.254197061062\tCorrect Validation Examples = 9875\n"
     ]
    },
    {
     "name": "stderr",
     "output_type": "stream",
     "text": [
      "100%|████████████████████████████████████████████████████████████████████████████| 938/938 [00:07<00:00, 120.62it/s]\n",
      "100%|████████████████████████████████████████████████████████████████████████████| 313/313 [00:00<00:00, 320.56it/s]\n",
      "  1%|▉                                                                            | 11/938 [00:00<00:08, 106.05it/s]"
     ]
    },
    {
     "name": "stdout",
     "output_type": "stream",
     "text": [
      "Epoch = 20\tSum of Training loss = 2907.7522301971912\tCorrect Validation Examples = 9862\n"
     ]
    },
    {
     "name": "stderr",
     "output_type": "stream",
     "text": [
      "100%|████████████████████████████████████████████████████████████████████████████| 938/938 [00:07<00:00, 119.09it/s]\n",
      "100%|████████████████████████████████████████████████████████████████████████████| 313/313 [00:00<00:00, 322.64it/s]\n",
      "  1%|▉                                                                            | 11/938 [00:00<00:09, 102.12it/s]"
     ]
    },
    {
     "name": "stdout",
     "output_type": "stream",
     "text": [
      "Epoch = 21\tSum of Training loss = 2838.006455540657\tCorrect Validation Examples = 9864\n"
     ]
    },
    {
     "name": "stderr",
     "output_type": "stream",
     "text": [
      "100%|████████████████████████████████████████████████████████████████████████████| 938/938 [00:07<00:00, 117.66it/s]\n",
      "100%|████████████████████████████████████████████████████████████████████████████| 313/313 [00:00<00:00, 313.81it/s]\n",
      "  1%|▉                                                                            | 11/938 [00:00<00:08, 105.54it/s]"
     ]
    },
    {
     "name": "stdout",
     "output_type": "stream",
     "text": [
      "Epoch = 22\tSum of Training loss = 2823.068187505007\tCorrect Validation Examples = 9876\n"
     ]
    },
    {
     "name": "stderr",
     "output_type": "stream",
     "text": [
      "100%|████████████████████████████████████████████████████████████████████████████| 938/938 [00:07<00:00, 120.08it/s]\n",
      "100%|████████████████████████████████████████████████████████████████████████████| 313/313 [00:00<00:00, 320.56it/s]\n",
      "  1%|▉                                                                            | 11/938 [00:00<00:08, 109.20it/s]"
     ]
    },
    {
     "name": "stdout",
     "output_type": "stream",
     "text": [
      "Epoch = 23\tSum of Training loss = 2806.536224067211\tCorrect Validation Examples = 9870\n"
     ]
    },
    {
     "name": "stderr",
     "output_type": "stream",
     "text": [
      "100%|████████████████████████████████████████████████████████████████████████████| 938/938 [00:07<00:00, 119.80it/s]\n",
      "100%|████████████████████████████████████████████████████████████████████████████| 313/313 [00:00<00:00, 316.69it/s]\n",
      "  1%|▉                                                                            | 11/938 [00:00<00:08, 109.20it/s]"
     ]
    },
    {
     "name": "stdout",
     "output_type": "stream",
     "text": [
      "Epoch = 24\tSum of Training loss = 2740.430383116007\tCorrect Validation Examples = 9854\n"
     ]
    },
    {
     "name": "stderr",
     "output_type": "stream",
     "text": [
      "100%|████████████████████████████████████████████████████████████████████████████| 938/938 [00:07<00:00, 120.53it/s]\n",
      "100%|████████████████████████████████████████████████████████████████████████████| 313/313 [00:00<00:00, 320.51it/s]\n",
      "  1%|▉                                                                            | 11/938 [00:00<00:08, 104.05it/s]"
     ]
    },
    {
     "name": "stdout",
     "output_type": "stream",
     "text": [
      "Epoch = 25\tSum of Training loss = 2736.2618421167135\tCorrect Validation Examples = 9879\n"
     ]
    },
    {
     "name": "stderr",
     "output_type": "stream",
     "text": [
      "100%|████████████████████████████████████████████████████████████████████████████| 938/938 [00:07<00:00, 118.56it/s]\n",
      "100%|████████████████████████████████████████████████████████████████████████████| 313/313 [00:00<00:00, 322.47it/s]\n",
      "  1%|▉                                                                            | 11/938 [00:00<00:08, 106.07it/s]"
     ]
    },
    {
     "name": "stdout",
     "output_type": "stream",
     "text": [
      "Epoch = 26\tSum of Training loss = 2694.545514136553\tCorrect Validation Examples = 9879\n"
     ]
    },
    {
     "name": "stderr",
     "output_type": "stream",
     "text": [
      "100%|████████████████████████████████████████████████████████████████████████████| 938/938 [00:07<00:00, 120.59it/s]\n",
      "100%|████████████████████████████████████████████████████████████████████████████| 313/313 [00:00<00:00, 320.16it/s]\n",
      "  1%|▉                                                                            | 11/938 [00:00<00:08, 108.12it/s]"
     ]
    },
    {
     "name": "stdout",
     "output_type": "stream",
     "text": [
      "Epoch = 27\tSum of Training loss = 2719.833239376545\tCorrect Validation Examples = 9878\n"
     ]
    },
    {
     "name": "stderr",
     "output_type": "stream",
     "text": [
      "100%|████████████████████████████████████████████████████████████████████████████| 938/938 [00:07<00:00, 120.85it/s]\n",
      "100%|████████████████████████████████████████████████████████████████████████████| 313/313 [00:00<00:00, 321.21it/s]\n",
      "  2%|█▊                                                                           | 22/938 [00:00<00:08, 108.11it/s]"
     ]
    },
    {
     "name": "stdout",
     "output_type": "stream",
     "text": [
      "Epoch = 28\tSum of Training loss = 2662.719820469618\tCorrect Validation Examples = 9880\n"
     ]
    },
    {
     "name": "stderr",
     "output_type": "stream",
     "text": [
      "100%|████████████████████████████████████████████████████████████████████████████| 938/938 [00:07<00:00, 119.69it/s]\n",
      "100%|████████████████████████████████████████████████████████████████████████████| 313/313 [00:01<00:00, 311.97it/s]\n",
      "  2%|█▊                                                                           | 22/938 [00:00<00:08, 107.43it/s]"
     ]
    },
    {
     "name": "stdout",
     "output_type": "stream",
     "text": [
      "Epoch = 29\tSum of Training loss = 2662.609475493431\tCorrect Validation Examples = 9889\n"
     ]
    },
    {
     "name": "stderr",
     "output_type": "stream",
     "text": [
      "100%|████████████████████████████████████████████████████████████████████████████| 938/938 [00:07<00:00, 120.09it/s]\n",
      "100%|████████████████████████████████████████████████████████████████████████████| 313/313 [00:00<00:00, 315.40it/s]\n",
      "  1%|▉                                                                            | 11/938 [00:00<00:08, 103.08it/s]"
     ]
    },
    {
     "name": "stdout",
     "output_type": "stream",
     "text": [
      "Epoch = 30\tSum of Training loss = 2683.9359091818333\tCorrect Validation Examples = 9871\n"
     ]
    },
    {
     "name": "stderr",
     "output_type": "stream",
     "text": [
      "100%|████████████████████████████████████████████████████████████████████████████| 938/938 [00:07<00:00, 120.45it/s]\n",
      "100%|████████████████████████████████████████████████████████████████████████████| 313/313 [00:00<00:00, 318.93it/s]\n",
      "  1%|▉                                                                            | 11/938 [00:00<00:08, 103.08it/s]"
     ]
    },
    {
     "name": "stdout",
     "output_type": "stream",
     "text": [
      "Epoch = 31\tSum of Training loss = 2595.0311743170023\tCorrect Validation Examples = 9868\n"
     ]
    },
    {
     "name": "stderr",
     "output_type": "stream",
     "text": [
      "100%|████████████████████████████████████████████████████████████████████████████| 938/938 [00:07<00:00, 120.54it/s]\n",
      "100%|████████████████████████████████████████████████████████████████████████████| 313/313 [00:00<00:00, 321.22it/s]\n",
      "  1%|▉                                                                            | 11/938 [00:00<00:08, 105.04it/s]"
     ]
    },
    {
     "name": "stdout",
     "output_type": "stream",
     "text": [
      "Epoch = 32\tSum of Training loss = 2631.9463528096676\tCorrect Validation Examples = 9876\n"
     ]
    },
    {
     "name": "stderr",
     "output_type": "stream",
     "text": [
      "100%|████████████████████████████████████████████████████████████████████████████| 938/938 [00:07<00:00, 121.08it/s]\n",
      "100%|████████████████████████████████████████████████████████████████████████████| 313/313 [00:00<00:00, 322.55it/s]\n",
      "  1%|▉                                                                            | 11/938 [00:00<00:08, 104.05it/s]"
     ]
    },
    {
     "name": "stdout",
     "output_type": "stream",
     "text": [
      "Epoch = 33\tSum of Training loss = 2632.589513927698\tCorrect Validation Examples = 9873\n"
     ]
    },
    {
     "name": "stderr",
     "output_type": "stream",
     "text": [
      "100%|████████████████████████████████████████████████████████████████████████████| 938/938 [00:07<00:00, 119.89it/s]\n",
      "100%|████████████████████████████████████████████████████████████████████████████| 313/313 [00:00<00:00, 320.78it/s]\n",
      "  2%|█▊                                                                           | 22/938 [00:00<00:08, 105.44it/s]"
     ]
    },
    {
     "name": "stdout",
     "output_type": "stream",
     "text": [
      "Epoch = 34\tSum of Training loss = 2603.5971588790417\tCorrect Validation Examples = 9865\n"
     ]
    },
    {
     "name": "stderr",
     "output_type": "stream",
     "text": [
      "100%|████████████████████████████████████████████████████████████████████████████| 938/938 [00:08<00:00, 115.78it/s]\n",
      "100%|████████████████████████████████████████████████████████████████████████████| 313/313 [00:01<00:00, 293.03it/s]\n",
      "  1%|▊                                                                             | 10/938 [00:00<00:10, 91.15it/s]"
     ]
    },
    {
     "name": "stdout",
     "output_type": "stream",
     "text": [
      "Epoch = 35\tSum of Training loss = 2559.0724387913942\tCorrect Validation Examples = 9864\n"
     ]
    },
    {
     "name": "stderr",
     "output_type": "stream",
     "text": [
      "100%|████████████████████████████████████████████████████████████████████████████| 938/938 [00:08<00:00, 113.21it/s]\n",
      "100%|████████████████████████████████████████████████████████████████████████████| 313/313 [00:01<00:00, 307.38it/s]\n",
      "  2%|█▉                                                                           | 23/938 [00:00<00:08, 110.46it/s]"
     ]
    },
    {
     "name": "stdout",
     "output_type": "stream",
     "text": [
      "Epoch = 36\tSum of Training loss = 2571.93759483099\tCorrect Validation Examples = 9857\n"
     ]
    },
    {
     "name": "stderr",
     "output_type": "stream",
     "text": [
      "100%|████████████████████████████████████████████████████████████████████████████| 938/938 [00:08<00:00, 113.90it/s]\n",
      "100%|████████████████████████████████████████████████████████████████████████████| 313/313 [00:01<00:00, 300.87it/s]\n",
      "  1%|▉                                                                            | 11/938 [00:00<00:08, 105.04it/s]"
     ]
    },
    {
     "name": "stdout",
     "output_type": "stream",
     "text": [
      "Epoch = 37\tSum of Training loss = 2582.543308928609\tCorrect Validation Examples = 9874\n"
     ]
    },
    {
     "name": "stderr",
     "output_type": "stream",
     "text": [
      "100%|████████████████████████████████████████████████████████████████████████████| 938/938 [00:08<00:00, 111.82it/s]\n",
      "100%|████████████████████████████████████████████████████████████████████████████| 313/313 [00:01<00:00, 303.79it/s]\n",
      "  2%|█▋                                                                           | 21/938 [00:00<00:08, 104.49it/s]"
     ]
    },
    {
     "name": "stdout",
     "output_type": "stream",
     "text": [
      "Epoch = 38\tSum of Training loss = 2550.0689426660538\tCorrect Validation Examples = 9856\n"
     ]
    },
    {
     "name": "stderr",
     "output_type": "stream",
     "text": [
      "100%|████████████████████████████████████████████████████████████████████████████| 938/938 [00:08<00:00, 115.21it/s]\n",
      "100%|████████████████████████████████████████████████████████████████████████████| 313/313 [00:01<00:00, 301.19it/s]\n",
      "  1%|▉                                                                            | 11/938 [00:00<00:09, 101.19it/s]"
     ]
    },
    {
     "name": "stdout",
     "output_type": "stream",
     "text": [
      "Epoch = 39\tSum of Training loss = 2486.4261929243803\tCorrect Validation Examples = 9886\n"
     ]
    },
    {
     "name": "stderr",
     "output_type": "stream",
     "text": [
      "100%|████████████████████████████████████████████████████████████████████████████| 938/938 [00:08<00:00, 109.16it/s]\n",
      "100%|████████████████████████████████████████████████████████████████████████████| 313/313 [00:01<00:00, 270.75it/s]\n",
      "  1%|▊                                                                             | 10/938 [00:00<00:09, 99.27it/s]"
     ]
    },
    {
     "name": "stdout",
     "output_type": "stream",
     "text": [
      "Epoch = 40\tSum of Training loss = 2520.3231315016747\tCorrect Validation Examples = 9881\n"
     ]
    },
    {
     "name": "stderr",
     "output_type": "stream",
     "text": [
      "100%|████████████████████████████████████████████████████████████████████████████| 938/938 [00:08<00:00, 107.63it/s]\n",
      "100%|████████████████████████████████████████████████████████████████████████████| 313/313 [00:01<00:00, 294.54it/s]\n",
      "  2%|█▊                                                                           | 22/938 [00:00<00:08, 104.46it/s]"
     ]
    },
    {
     "name": "stdout",
     "output_type": "stream",
     "text": [
      "Epoch = 41\tSum of Training loss = 2531.9951771199703\tCorrect Validation Examples = 9873\n"
     ]
    },
    {
     "name": "stderr",
     "output_type": "stream",
     "text": [
      "100%|████████████████████████████████████████████████████████████████████████████| 938/938 [00:08<00:00, 109.86it/s]\n",
      "100%|████████████████████████████████████████████████████████████████████████████| 313/313 [00:01<00:00, 294.96it/s]\n",
      "  2%|█▊                                                                           | 22/938 [00:00<00:08, 107.43it/s]"
     ]
    },
    {
     "name": "stdout",
     "output_type": "stream",
     "text": [
      "Epoch = 42\tSum of Training loss = 2569.155126273632\tCorrect Validation Examples = 9887\n"
     ]
    },
    {
     "name": "stderr",
     "output_type": "stream",
     "text": [
      "100%|████████████████████████████████████████████████████████████████████████████| 938/938 [00:08<00:00, 111.05it/s]\n",
      "100%|████████████████████████████████████████████████████████████████████████████| 313/313 [00:01<00:00, 290.59it/s]\n",
      "  1%|▉                                                                            | 11/938 [00:00<00:09, 102.12it/s]"
     ]
    },
    {
     "name": "stdout",
     "output_type": "stream",
     "text": [
      "Epoch = 43\tSum of Training loss = 2498.9110782146454\tCorrect Validation Examples = 9876\n"
     ]
    },
    {
     "name": "stderr",
     "output_type": "stream",
     "text": [
      "100%|████████████████████████████████████████████████████████████████████████████| 938/938 [00:08<00:00, 112.05it/s]\n",
      "100%|████████████████████████████████████████████████████████████████████████████| 313/313 [00:01<00:00, 304.33it/s]\n",
      "  2%|█▋                                                                            | 20/938 [00:00<00:09, 99.27it/s]"
     ]
    },
    {
     "name": "stdout",
     "output_type": "stream",
     "text": [
      "Epoch = 44\tSum of Training loss = 2491.153567507863\tCorrect Validation Examples = 9895\n"
     ]
    },
    {
     "name": "stderr",
     "output_type": "stream",
     "text": [
      "100%|████████████████████████████████████████████████████████████████████████████| 938/938 [00:08<00:00, 110.67it/s]\n",
      "100%|████████████████████████████████████████████████████████████████████████████| 313/313 [00:01<00:00, 290.41it/s]\n",
      "  1%|▉                                                                            | 11/938 [00:00<00:09, 101.19it/s]"
     ]
    },
    {
     "name": "stdout",
     "output_type": "stream",
     "text": [
      "Epoch = 45\tSum of Training loss = 2487.4362444877625\tCorrect Validation Examples = 9878\n"
     ]
    },
    {
     "name": "stderr",
     "output_type": "stream",
     "text": [
      "100%|████████████████████████████████████████████████████████████████████████████| 938/938 [00:08<00:00, 113.74it/s]\n",
      "100%|████████████████████████████████████████████████████████████████████████████| 313/313 [00:01<00:00, 302.59it/s]\n",
      "  1%|▉                                                                            | 11/938 [00:00<00:09, 101.19it/s]"
     ]
    },
    {
     "name": "stdout",
     "output_type": "stream",
     "text": [
      "Epoch = 46\tSum of Training loss = 2487.0017141997814\tCorrect Validation Examples = 9870\n"
     ]
    },
    {
     "name": "stderr",
     "output_type": "stream",
     "text": [
      "100%|████████████████████████████████████████████████████████████████████████████| 938/938 [00:08<00:00, 112.52it/s]\n",
      "100%|████████████████████████████████████████████████████████████████████████████| 313/313 [00:01<00:00, 303.22it/s]\n",
      "  1%|▉                                                                            | 12/938 [00:00<00:08, 110.37it/s]"
     ]
    },
    {
     "name": "stdout",
     "output_type": "stream",
     "text": [
      "Epoch = 47\tSum of Training loss = 2481.733129814267\tCorrect Validation Examples = 9881\n"
     ]
    },
    {
     "name": "stderr",
     "output_type": "stream",
     "text": [
      "100%|████████████████████████████████████████████████████████████████████████████| 938/938 [00:08<00:00, 114.93it/s]\n",
      "100%|████████████████████████████████████████████████████████████████████████████| 313/313 [00:01<00:00, 308.28it/s]\n",
      "  1%|▉                                                                            | 11/938 [00:00<00:08, 103.08it/s]"
     ]
    },
    {
     "name": "stdout",
     "output_type": "stream",
     "text": [
      "Epoch = 48\tSum of Training loss = 2512.1821696162224\tCorrect Validation Examples = 9877\n"
     ]
    },
    {
     "name": "stderr",
     "output_type": "stream",
     "text": [
      "100%|████████████████████████████████████████████████████████████████████████████| 938/938 [00:08<00:00, 107.85it/s]\n",
      "100%|████████████████████████████████████████████████████████████████████████████| 313/313 [00:01<00:00, 308.31it/s]\n",
      "  1%|▉                                                                            | 11/938 [00:00<00:08, 105.04it/s]"
     ]
    },
    {
     "name": "stdout",
     "output_type": "stream",
     "text": [
      "Epoch = 49\tSum of Training loss = 2459.162855014205\tCorrect Validation Examples = 9882\n"
     ]
    },
    {
     "name": "stderr",
     "output_type": "stream",
     "text": [
      "100%|████████████████████████████████████████████████████████████████████████████| 938/938 [00:08<00:00, 112.51it/s]\n",
      "100%|████████████████████████████████████████████████████████████████████████████| 313/313 [00:01<00:00, 280.46it/s]\n",
      "  1%|▉                                                                            | 11/938 [00:00<00:09, 100.27it/s]"
     ]
    },
    {
     "name": "stdout",
     "output_type": "stream",
     "text": [
      "Epoch = 50\tSum of Training loss = 2498.976349040866\tCorrect Validation Examples = 9880\n"
     ]
    },
    {
     "name": "stderr",
     "output_type": "stream",
     "text": [
      "100%|████████████████████████████████████████████████████████████████████████████| 938/938 [00:08<00:00, 113.12it/s]\n",
      "100%|████████████████████████████████████████████████████████████████████████████| 313/313 [00:01<00:00, 303.52it/s]\n",
      "  1%|▉                                                                            | 11/938 [00:00<00:09, 102.12it/s]"
     ]
    },
    {
     "name": "stdout",
     "output_type": "stream",
     "text": [
      "Epoch = 51\tSum of Training loss = 2410.7116741389036\tCorrect Validation Examples = 9882\n"
     ]
    },
    {
     "name": "stderr",
     "output_type": "stream",
     "text": [
      "100%|████████████████████████████████████████████████████████████████████████████| 938/938 [00:08<00:00, 111.71it/s]\n",
      "100%|████████████████████████████████████████████████████████████████████████████| 313/313 [00:01<00:00, 310.45it/s]\n",
      "  1%|▉                                                                            | 11/938 [00:00<00:08, 106.06it/s]"
     ]
    },
    {
     "name": "stdout",
     "output_type": "stream",
     "text": [
      "Epoch = 52\tSum of Training loss = 2470.88579377532\tCorrect Validation Examples = 9873\n"
     ]
    },
    {
     "name": "stderr",
     "output_type": "stream",
     "text": [
      "100%|████████████████████████████████████████████████████████████████████████████| 938/938 [00:08<00:00, 108.15it/s]\n",
      "100%|████████████████████████████████████████████████████████████████████████████| 313/313 [00:01<00:00, 295.06it/s]\n",
      "  1%|▊                                                                             | 10/938 [00:00<00:09, 92.84it/s]"
     ]
    },
    {
     "name": "stdout",
     "output_type": "stream",
     "text": [
      "Epoch = 53\tSum of Training loss = 2422.997642979026\tCorrect Validation Examples = 9888\n"
     ]
    },
    {
     "name": "stderr",
     "output_type": "stream",
     "text": [
      "100%|████████████████████████████████████████████████████████████████████████████| 938/938 [00:08<00:00, 110.57it/s]\n",
      "100%|████████████████████████████████████████████████████████████████████████████| 313/313 [00:01<00:00, 282.60it/s]\n",
      "  1%|▊                                                                             | 10/938 [00:00<00:09, 97.82it/s]"
     ]
    },
    {
     "name": "stdout",
     "output_type": "stream",
     "text": [
      "Epoch = 54\tSum of Training loss = 2417.0510880202055\tCorrect Validation Examples = 9881\n"
     ]
    },
    {
     "name": "stderr",
     "output_type": "stream",
     "text": [
      "100%|████████████████████████████████████████████████████████████████████████████| 938/938 [00:08<00:00, 111.90it/s]\n",
      "100%|████████████████████████████████████████████████████████████████████████████| 313/313 [00:01<00:00, 300.86it/s]\n",
      "  1%|▉                                                                            | 11/938 [00:00<00:08, 104.54it/s]"
     ]
    },
    {
     "name": "stdout",
     "output_type": "stream",
     "text": [
      "Epoch = 55\tSum of Training loss = 2409.6957357376814\tCorrect Validation Examples = 9874\n"
     ]
    },
    {
     "name": "stderr",
     "output_type": "stream",
     "text": [
      "100%|████████████████████████████████████████████████████████████████████████████| 938/938 [00:08<00:00, 111.06it/s]\n",
      "100%|████████████████████████████████████████████████████████████████████████████| 313/313 [00:01<00:00, 296.63it/s]\n",
      "  1%|▉                                                                            | 11/938 [00:00<00:08, 104.05it/s]"
     ]
    },
    {
     "name": "stdout",
     "output_type": "stream",
     "text": [
      "Epoch = 56\tSum of Training loss = 2413.340550377965\tCorrect Validation Examples = 9881\n"
     ]
    },
    {
     "name": "stderr",
     "output_type": "stream",
     "text": [
      "100%|████████████████████████████████████████████████████████████████████████████| 938/938 [00:08<00:00, 112.89it/s]\n",
      "100%|████████████████████████████████████████████████████████████████████████████| 313/313 [00:01<00:00, 280.71it/s]\n",
      "  1%|▉                                                                            | 11/938 [00:00<00:09, 101.19it/s]"
     ]
    },
    {
     "name": "stdout",
     "output_type": "stream",
     "text": [
      "Epoch = 57\tSum of Training loss = 2384.7156184464693\tCorrect Validation Examples = 9870\n"
     ]
    },
    {
     "name": "stderr",
     "output_type": "stream",
     "text": [
      "100%|████████████████████████████████████████████████████████████████████████████| 938/938 [00:08<00:00, 114.44it/s]\n",
      "100%|████████████████████████████████████████████████████████████████████████████| 313/313 [00:01<00:00, 290.32it/s]\n",
      "  1%|▊                                                                              | 9/938 [00:00<00:10, 88.47it/s]"
     ]
    },
    {
     "name": "stdout",
     "output_type": "stream",
     "text": [
      "Epoch = 58\tSum of Training loss = 2420.583670526743\tCorrect Validation Examples = 9884\n"
     ]
    },
    {
     "name": "stderr",
     "output_type": "stream",
     "text": [
      "100%|████████████████████████████████████████████████████████████████████████████| 938/938 [00:08<00:00, 110.76it/s]\n",
      "100%|████████████████████████████████████████████████████████████████████████████| 313/313 [00:01<00:00, 310.09it/s]\n",
      "  2%|█▊                                                                           | 22/938 [00:00<00:08, 107.46it/s]"
     ]
    },
    {
     "name": "stdout",
     "output_type": "stream",
     "text": [
      "Epoch = 59\tSum of Training loss = 2439.4586126357317\tCorrect Validation Examples = 9865\n"
     ]
    },
    {
     "name": "stderr",
     "output_type": "stream",
     "text": [
      "100%|████████████████████████████████████████████████████████████████████████████| 938/938 [00:08<00:00, 115.70it/s]\n",
      "100%|████████████████████████████████████████████████████████████████████████████| 313/313 [00:01<00:00, 308.59it/s]\n",
      "  2%|█▊                                                                           | 22/938 [00:00<00:08, 106.41it/s]"
     ]
    },
    {
     "name": "stdout",
     "output_type": "stream",
     "text": [
      "Epoch = 60\tSum of Training loss = 2440.28030949831\tCorrect Validation Examples = 9891\n"
     ]
    },
    {
     "name": "stderr",
     "output_type": "stream",
     "text": [
      "100%|████████████████████████████████████████████████████████████████████████████| 938/938 [00:08<00:00, 115.52it/s]\n",
      "100%|████████████████████████████████████████████████████████████████████████████| 313/313 [00:01<00:00, 309.50it/s]\n",
      "  1%|▉                                                                            | 11/938 [00:00<00:08, 105.04it/s]"
     ]
    },
    {
     "name": "stdout",
     "output_type": "stream",
     "text": [
      "Epoch = 61\tSum of Training loss = 2355.663742505014\tCorrect Validation Examples = 9882\n"
     ]
    },
    {
     "name": "stderr",
     "output_type": "stream",
     "text": [
      "100%|████████████████████████████████████████████████████████████████████████████| 938/938 [00:08<00:00, 115.39it/s]\n",
      "100%|████████████████████████████████████████████████████████████████████████████| 313/313 [00:01<00:00, 311.04it/s]\n",
      "  1%|▉                                                                            | 11/938 [00:00<00:08, 105.04it/s]"
     ]
    },
    {
     "name": "stdout",
     "output_type": "stream",
     "text": [
      "Epoch = 62\tSum of Training loss = 2404.2844016849995\tCorrect Validation Examples = 9894\n"
     ]
    },
    {
     "name": "stderr",
     "output_type": "stream",
     "text": [
      "100%|████████████████████████████████████████████████████████████████████████████| 938/938 [00:08<00:00, 115.65it/s]\n",
      "100%|████████████████████████████████████████████████████████████████████████████| 313/313 [00:01<00:00, 302.59it/s]\n",
      "  1%|▊                                                                             | 10/938 [00:00<00:10, 90.33it/s]"
     ]
    },
    {
     "name": "stdout",
     "output_type": "stream",
     "text": [
      "Epoch = 63\tSum of Training loss = 2374.390438377857\tCorrect Validation Examples = 9872\n"
     ]
    },
    {
     "name": "stderr",
     "output_type": "stream",
     "text": [
      "100%|████████████████████████████████████████████████████████████████████████████| 938/938 [00:08<00:00, 113.28it/s]\n",
      "100%|████████████████████████████████████████████████████████████████████████████| 313/313 [00:01<00:00, 303.22it/s]\n",
      "  1%|▉                                                                            | 11/938 [00:00<00:08, 105.01it/s]"
     ]
    },
    {
     "name": "stdout",
     "output_type": "stream",
     "text": [
      "Epoch = 64\tSum of Training loss = 2373.979938328266\tCorrect Validation Examples = 9879\n"
     ]
    },
    {
     "name": "stderr",
     "output_type": "stream",
     "text": [
      "100%|████████████████████████████████████████████████████████████████████████████| 938/938 [00:08<00:00, 116.49it/s]\n",
      "100%|████████████████████████████████████████████████████████████████████████████| 313/313 [00:01<00:00, 310.42it/s]\n",
      "  1%|▉                                                                            | 11/938 [00:00<00:08, 106.05it/s]"
     ]
    },
    {
     "name": "stdout",
     "output_type": "stream",
     "text": [
      "Epoch = 65\tSum of Training loss = 2402.210530281067\tCorrect Validation Examples = 9890\n"
     ]
    },
    {
     "name": "stderr",
     "output_type": "stream",
     "text": [
      "100%|████████████████████████████████████████████████████████████████████████████| 938/938 [00:07<00:00, 117.47it/s]\n",
      "100%|████████████████████████████████████████████████████████████████████████████| 313/313 [00:01<00:00, 301.19it/s]\n",
      "  2%|█▊                                                                           | 22/938 [00:00<00:08, 107.27it/s]"
     ]
    },
    {
     "name": "stdout",
     "output_type": "stream",
     "text": [
      "Epoch = 66\tSum of Training loss = 2420.2877779901028\tCorrect Validation Examples = 9879\n"
     ]
    },
    {
     "name": "stderr",
     "output_type": "stream",
     "text": [
      "100%|████████████████████████████████████████████████████████████████████████████| 938/938 [00:08<00:00, 113.28it/s]\n",
      "100%|████████████████████████████████████████████████████████████████████████████| 313/313 [00:01<00:00, 294.13it/s]\n",
      "  1%|▊                                                                             | 10/938 [00:00<00:09, 97.34it/s]"
     ]
    },
    {
     "name": "stdout",
     "output_type": "stream",
     "text": [
      "Epoch = 67\tSum of Training loss = 2348.549709394574\tCorrect Validation Examples = 9872\n"
     ]
    },
    {
     "name": "stderr",
     "output_type": "stream",
     "text": [
      "100%|████████████████████████████████████████████████████████████████████████████| 938/938 [00:08<00:00, 111.85it/s]\n",
      "100%|████████████████████████████████████████████████████████████████████████████| 313/313 [00:01<00:00, 304.11it/s]\n",
      "  1%|▉                                                                            | 11/938 [00:00<00:08, 103.09it/s]"
     ]
    },
    {
     "name": "stdout",
     "output_type": "stream",
     "text": [
      "Epoch = 68\tSum of Training loss = 2347.601634696126\tCorrect Validation Examples = 9890\n"
     ]
    },
    {
     "name": "stderr",
     "output_type": "stream",
     "text": [
      "100%|████████████████████████████████████████████████████████████████████████████| 938/938 [00:08<00:00, 112.70it/s]\n",
      "100%|████████████████████████████████████████████████████████████████████████████| 313/313 [00:01<00:00, 286.08it/s]\n",
      "  1%|▉                                                                            | 11/938 [00:00<00:08, 103.11it/s]"
     ]
    },
    {
     "name": "stdout",
     "output_type": "stream",
     "text": [
      "Epoch = 69\tSum of Training loss = 2379.3809711784124\tCorrect Validation Examples = 9867\n"
     ]
    },
    {
     "name": "stderr",
     "output_type": "stream",
     "text": [
      "100%|████████████████████████████████████████████████████████████████████████████| 938/938 [00:08<00:00, 110.06it/s]\n",
      "100%|████████████████████████████████████████████████████████████████████████████| 313/313 [00:01<00:00, 308.40it/s]\n",
      "  2%|█▉                                                                           | 23/938 [00:00<00:08, 110.17it/s]"
     ]
    },
    {
     "name": "stdout",
     "output_type": "stream",
     "text": [
      "Epoch = 70\tSum of Training loss = 2388.6748752892017\tCorrect Validation Examples = 9877\n"
     ]
    },
    {
     "name": "stderr",
     "output_type": "stream",
     "text": [
      "100%|████████████████████████████████████████████████████████████████████████████| 938/938 [00:07<00:00, 118.26it/s]\n",
      "100%|████████████████████████████████████████████████████████████████████████████| 313/313 [00:01<00:00, 305.59it/s]\n",
      "  1%|▊                                                                             | 10/938 [00:00<00:09, 99.27it/s]"
     ]
    },
    {
     "name": "stdout",
     "output_type": "stream",
     "text": [
      "Epoch = 71\tSum of Training loss = 2384.294669508934\tCorrect Validation Examples = 9894\n"
     ]
    },
    {
     "name": "stderr",
     "output_type": "stream",
     "text": [
      "100%|████████████████████████████████████████████████████████████████████████████| 938/938 [00:08<00:00, 111.11it/s]\n",
      "100%|████████████████████████████████████████████████████████████████████████████| 313/313 [00:01<00:00, 301.64it/s]\n",
      "  1%|▉                                                                            | 11/938 [00:00<00:08, 105.06it/s]"
     ]
    },
    {
     "name": "stdout",
     "output_type": "stream",
     "text": [
      "Epoch = 72\tSum of Training loss = 2384.980811908841\tCorrect Validation Examples = 9890\n"
     ]
    },
    {
     "name": "stderr",
     "output_type": "stream",
     "text": [
      "100%|████████████████████████████████████████████████████████████████████████████| 938/938 [00:08<00:00, 111.23it/s]\n",
      "100%|████████████████████████████████████████████████████████████████████████████| 313/313 [00:01<00:00, 301.03it/s]\n",
      "  1%|▉                                                                            | 11/938 [00:00<00:09, 101.19it/s]"
     ]
    },
    {
     "name": "stdout",
     "output_type": "stream",
     "text": [
      "Epoch = 73\tSum of Training loss = 2341.2321801632643\tCorrect Validation Examples = 9875\n"
     ]
    },
    {
     "name": "stderr",
     "output_type": "stream",
     "text": [
      "100%|████████████████████████████████████████████████████████████████████████████| 938/938 [00:08<00:00, 112.38it/s]\n",
      "100%|████████████████████████████████████████████████████████████████████████████| 313/313 [00:01<00:00, 310.53it/s]\n",
      "  1%|▉                                                                            | 11/938 [00:00<00:08, 109.21it/s]"
     ]
    },
    {
     "name": "stdout",
     "output_type": "stream",
     "text": [
      "Epoch = 74\tSum of Training loss = 2319.7066192030907\tCorrect Validation Examples = 9873\n"
     ]
    },
    {
     "name": "stderr",
     "output_type": "stream",
     "text": [
      "100%|████████████████████████████████████████████████████████████████████████████| 938/938 [00:07<00:00, 119.85it/s]\n",
      "100%|████████████████████████████████████████████████████████████████████████████| 313/313 [00:01<00:00, 290.86it/s]\n",
      "  1%|▊                                                                             | 10/938 [00:00<00:09, 92.84it/s]"
     ]
    },
    {
     "name": "stdout",
     "output_type": "stream",
     "text": [
      "Epoch = 75\tSum of Training loss = 2358.5527250766754\tCorrect Validation Examples = 9873\n"
     ]
    },
    {
     "name": "stderr",
     "output_type": "stream",
     "text": [
      "100%|████████████████████████████████████████████████████████████████████████████| 938/938 [00:08<00:00, 108.32it/s]\n",
      "100%|████████████████████████████████████████████████████████████████████████████| 313/313 [00:01<00:00, 299.84it/s]\n",
      "  1%|▉                                                                            | 11/938 [00:00<00:09, 102.11it/s]"
     ]
    },
    {
     "name": "stdout",
     "output_type": "stream",
     "text": [
      "Epoch = 76\tSum of Training loss = 2343.7279365956783\tCorrect Validation Examples = 9886\n"
     ]
    },
    {
     "name": "stderr",
     "output_type": "stream",
     "text": [
      "100%|████████████████████████████████████████████████████████████████████████████| 938/938 [00:08<00:00, 115.93it/s]\n",
      "100%|████████████████████████████████████████████████████████████████████████████| 313/313 [00:01<00:00, 301.09it/s]\n",
      "  1%|▊                                                                             | 10/938 [00:00<00:09, 95.49it/s]"
     ]
    },
    {
     "name": "stdout",
     "output_type": "stream",
     "text": [
      "Epoch = 77\tSum of Training loss = 2345.9922758340836\tCorrect Validation Examples = 9890\n"
     ]
    },
    {
     "name": "stderr",
     "output_type": "stream",
     "text": [
      "100%|████████████████████████████████████████████████████████████████████████████| 938/938 [00:08<00:00, 111.87it/s]\n",
      "100%|████████████████████████████████████████████████████████████████████████████| 313/313 [00:00<00:00, 317.32it/s]\n",
      "  2%|█▋                                                                            | 20/938 [00:00<00:09, 96.08it/s]"
     ]
    },
    {
     "name": "stdout",
     "output_type": "stream",
     "text": [
      "Epoch = 78\tSum of Training loss = 2330.6131820976734\tCorrect Validation Examples = 9888\n"
     ]
    },
    {
     "name": "stderr",
     "output_type": "stream",
     "text": [
      "100%|████████████████████████████████████████████████████████████████████████████| 938/938 [00:08<00:00, 112.50it/s]\n",
      "100%|████████████████████████████████████████████████████████████████████████████| 313/313 [00:00<00:00, 316.68it/s]\n",
      "  2%|█▉                                                                           | 23/938 [00:00<00:08, 109.84it/s]"
     ]
    },
    {
     "name": "stdout",
     "output_type": "stream",
     "text": [
      "Epoch = 79\tSum of Training loss = 2340.2582400143147\tCorrect Validation Examples = 9880\n"
     ]
    },
    {
     "name": "stderr",
     "output_type": "stream",
     "text": [
      "100%|████████████████████████████████████████████████████████████████████████████| 938/938 [00:08<00:00, 117.11it/s]\n",
      "100%|████████████████████████████████████████████████████████████████████████████| 313/313 [00:01<00:00, 305.42it/s]\n",
      "  1%|▉                                                                            | 11/938 [00:00<00:08, 107.08it/s]"
     ]
    },
    {
     "name": "stdout",
     "output_type": "stream",
     "text": [
      "Epoch = 80\tSum of Training loss = 2343.150615185499\tCorrect Validation Examples = 9886\n"
     ]
    },
    {
     "name": "stderr",
     "output_type": "stream",
     "text": [
      "100%|████████████████████████████████████████████████████████████████████████████| 938/938 [00:08<00:00, 112.96it/s]\n",
      "100%|████████████████████████████████████████████████████████████████████████████| 313/313 [00:01<00:00, 293.76it/s]\n",
      "  1%|▉                                                                            | 11/938 [00:00<00:09, 101.03it/s]"
     ]
    },
    {
     "name": "stdout",
     "output_type": "stream",
     "text": [
      "Epoch = 81\tSum of Training loss = 2382.00444509089\tCorrect Validation Examples = 9881\n"
     ]
    },
    {
     "name": "stderr",
     "output_type": "stream",
     "text": [
      "100%|████████████████████████████████████████████████████████████████████████████| 938/938 [00:08<00:00, 111.71it/s]\n",
      "100%|████████████████████████████████████████████████████████████████████████████| 313/313 [00:00<00:00, 324.73it/s]\n",
      "  1%|▉                                                                            | 12/938 [00:00<00:08, 113.51it/s]"
     ]
    },
    {
     "name": "stdout",
     "output_type": "stream",
     "text": [
      "Epoch = 82\tSum of Training loss = 2321.3144882768393\tCorrect Validation Examples = 9876\n"
     ]
    },
    {
     "name": "stderr",
     "output_type": "stream",
     "text": [
      "100%|████████████████████████████████████████████████████████████████████████████| 938/938 [00:08<00:00, 112.07it/s]\n",
      "100%|████████████████████████████████████████████████████████████████████████████| 313/313 [00:01<00:00, 311.35it/s]\n",
      "  1%|▊                                                                              | 9/938 [00:00<00:11, 82.79it/s]"
     ]
    },
    {
     "name": "stdout",
     "output_type": "stream",
     "text": [
      "Epoch = 83\tSum of Training loss = 2347.4186176508665\tCorrect Validation Examples = 9871\n"
     ]
    },
    {
     "name": "stderr",
     "output_type": "stream",
     "text": [
      "100%|████████████████████████████████████████████████████████████████████████████| 938/938 [00:08<00:00, 115.26it/s]\n",
      "100%|████████████████████████████████████████████████████████████████████████████| 313/313 [00:01<00:00, 310.73it/s]\n",
      "  1%|▉                                                                            | 11/938 [00:00<00:09, 101.19it/s]"
     ]
    },
    {
     "name": "stdout",
     "output_type": "stream",
     "text": [
      "Epoch = 84\tSum of Training loss = 2361.1279249489307\tCorrect Validation Examples = 9885\n"
     ]
    },
    {
     "name": "stderr",
     "output_type": "stream",
     "text": [
      "100%|████████████████████████████████████████████████████████████████████████████| 938/938 [00:08<00:00, 115.19it/s]\n",
      "100%|████████████████████████████████████████████████████████████████████████████| 313/313 [00:01<00:00, 288.18it/s]\n",
      "  1%|▉                                                                            | 11/938 [00:00<00:08, 105.04it/s]"
     ]
    },
    {
     "name": "stdout",
     "output_type": "stream",
     "text": [
      "Epoch = 85\tSum of Training loss = 2342.495272696018\tCorrect Validation Examples = 9887\n"
     ]
    },
    {
     "name": "stderr",
     "output_type": "stream",
     "text": [
      "100%|████████████████████████████████████████████████████████████████████████████| 938/938 [00:07<00:00, 121.22it/s]\n",
      "100%|████████████████████████████████████████████████████████████████████████████| 313/313 [00:01<00:00, 296.35it/s]\n",
      "  1%|▉                                                                            | 11/938 [00:00<00:08, 103.08it/s]"
     ]
    },
    {
     "name": "stdout",
     "output_type": "stream",
     "text": [
      "Epoch = 86\tSum of Training loss = 2326.338724344969\tCorrect Validation Examples = 9883\n"
     ]
    },
    {
     "name": "stderr",
     "output_type": "stream",
     "text": [
      "100%|████████████████████████████████████████████████████████████████████████████| 938/938 [00:08<00:00, 111.22it/s]\n",
      "100%|████████████████████████████████████████████████████████████████████████████| 313/313 [00:01<00:00, 311.92it/s]\n",
      "  2%|█▊                                                                           | 22/938 [00:00<00:08, 105.63it/s]"
     ]
    },
    {
     "name": "stdout",
     "output_type": "stream",
     "text": [
      "Epoch = 87\tSum of Training loss = 2285.2705807983875\tCorrect Validation Examples = 9889\n"
     ]
    },
    {
     "name": "stderr",
     "output_type": "stream",
     "text": [
      "100%|████████████████████████████████████████████████████████████████████████████| 938/938 [00:08<00:00, 110.27it/s]\n",
      "100%|████████████████████████████████████████████████████████████████████████████| 313/313 [00:01<00:00, 312.89it/s]\n",
      "  1%|▉                                                                            | 11/938 [00:00<00:08, 104.05it/s]"
     ]
    },
    {
     "name": "stdout",
     "output_type": "stream",
     "text": [
      "Epoch = 88\tSum of Training loss = 2310.5890130400658\tCorrect Validation Examples = 9894\n"
     ]
    },
    {
     "name": "stderr",
     "output_type": "stream",
     "text": [
      "100%|████████████████████████████████████████████████████████████████████████████| 938/938 [00:08<00:00, 114.07it/s]\n",
      "100%|████████████████████████████████████████████████████████████████████████████| 313/313 [00:01<00:00, 305.59it/s]\n",
      "  1%|▊                                                                             | 10/938 [00:00<00:09, 98.30it/s]"
     ]
    },
    {
     "name": "stdout",
     "output_type": "stream",
     "text": [
      "Epoch = 89\tSum of Training loss = 2318.255431652069\tCorrect Validation Examples = 9888\n"
     ]
    },
    {
     "name": "stderr",
     "output_type": "stream",
     "text": [
      "100%|████████████████████████████████████████████████████████████████████████████| 938/938 [00:08<00:00, 114.76it/s]\n",
      "100%|████████████████████████████████████████████████████████████████████████████| 313/313 [00:01<00:00, 293.26it/s]\n",
      "  1%|▊                                                                             | 10/938 [00:00<00:09, 94.59it/s]"
     ]
    },
    {
     "name": "stdout",
     "output_type": "stream",
     "text": [
      "Epoch = 90\tSum of Training loss = 2294.008856624365\tCorrect Validation Examples = 9885\n"
     ]
    },
    {
     "name": "stderr",
     "output_type": "stream",
     "text": [
      "100%|████████████████████████████████████████████████████████████████████████████| 938/938 [00:08<00:00, 109.84it/s]\n",
      "100%|████████████████████████████████████████████████████████████████████████████| 313/313 [00:01<00:00, 294.20it/s]\n",
      "  1%|▉                                                                            | 11/938 [00:00<00:09, 101.54it/s]"
     ]
    },
    {
     "name": "stdout",
     "output_type": "stream",
     "text": [
      "Epoch = 91\tSum of Training loss = 2297.149375408888\tCorrect Validation Examples = 9883\n"
     ]
    },
    {
     "name": "stderr",
     "output_type": "stream",
     "text": [
      "100%|████████████████████████████████████████████████████████████████████████████| 938/938 [00:08<00:00, 112.78it/s]\n",
      "100%|████████████████████████████████████████████████████████████████████████████| 313/313 [00:01<00:00, 309.49it/s]\n",
      "  1%|▉                                                                            | 11/938 [00:00<00:08, 103.56it/s]"
     ]
    },
    {
     "name": "stdout",
     "output_type": "stream",
     "text": [
      "Epoch = 92\tSum of Training loss = 2348.8522740006447\tCorrect Validation Examples = 9885\n"
     ]
    },
    {
     "name": "stderr",
     "output_type": "stream",
     "text": [
      "100%|████████████████████████████████████████████████████████████████████████████| 938/938 [00:08<00:00, 111.41it/s]\n",
      "100%|████████████████████████████████████████████████████████████████████████████| 313/313 [00:01<00:00, 304.40it/s]\n",
      "  1%|▉                                                                            | 11/938 [00:00<00:08, 106.05it/s]"
     ]
    },
    {
     "name": "stdout",
     "output_type": "stream",
     "text": [
      "Epoch = 93\tSum of Training loss = 2308.7364922761917\tCorrect Validation Examples = 9891\n"
     ]
    },
    {
     "name": "stderr",
     "output_type": "stream",
     "text": [
      "100%|████████████████████████████████████████████████████████████████████████████| 938/938 [00:08<00:00, 112.77it/s]\n",
      "100%|████████████████████████████████████████████████████████████████████████████| 313/313 [00:01<00:00, 309.20it/s]\n",
      "  2%|█▋                                                                            | 20/938 [00:00<00:09, 97.36it/s]"
     ]
    },
    {
     "name": "stdout",
     "output_type": "stream",
     "text": [
      "Epoch = 94\tSum of Training loss = 2296.808213889599\tCorrect Validation Examples = 9882\n"
     ]
    },
    {
     "name": "stderr",
     "output_type": "stream",
     "text": [
      "100%|████████████████████████████████████████████████████████████████████████████| 938/938 [00:08<00:00, 110.21it/s]\n",
      "100%|████████████████████████████████████████████████████████████████████████████| 313/313 [00:01<00:00, 266.32it/s]\n",
      "  1%|▋                                                                              | 8/938 [00:00<00:12, 77.13it/s]"
     ]
    },
    {
     "name": "stdout",
     "output_type": "stream",
     "text": [
      "Epoch = 95\tSum of Training loss = 2264.1575422137976\tCorrect Validation Examples = 9887\n"
     ]
    },
    {
     "name": "stderr",
     "output_type": "stream",
     "text": [
      "100%|████████████████████████████████████████████████████████████████████████████| 938/938 [00:08<00:00, 109.69it/s]\n",
      "100%|████████████████████████████████████████████████████████████████████████████| 313/313 [00:01<00:00, 304.29it/s]\n",
      "  2%|█▊                                                                           | 22/938 [00:00<00:08, 108.30it/s]"
     ]
    },
    {
     "name": "stdout",
     "output_type": "stream",
     "text": [
      "Epoch = 96\tSum of Training loss = 2302.6727724969387\tCorrect Validation Examples = 9887\n"
     ]
    },
    {
     "name": "stderr",
     "output_type": "stream",
     "text": [
      "100%|████████████████████████████████████████████████████████████████████████████| 938/938 [00:08<00:00, 111.39it/s]\n",
      "100%|████████████████████████████████████████████████████████████████████████████| 313/313 [00:01<00:00, 299.11it/s]\n",
      "  1%|▉                                                                            | 11/938 [00:00<00:08, 109.20it/s]"
     ]
    },
    {
     "name": "stdout",
     "output_type": "stream",
     "text": [
      "Epoch = 97\tSum of Training loss = 2294.718597084284\tCorrect Validation Examples = 9873\n"
     ]
    },
    {
     "name": "stderr",
     "output_type": "stream",
     "text": [
      "100%|████████████████████████████████████████████████████████████████████████████| 938/938 [00:08<00:00, 114.99it/s]\n",
      "100%|████████████████████████████████████████████████████████████████████████████| 313/313 [00:00<00:00, 321.81it/s]\n",
      "  1%|▉                                                                            | 11/938 [00:00<00:09, 102.14it/s]"
     ]
    },
    {
     "name": "stdout",
     "output_type": "stream",
     "text": [
      "Epoch = 98\tSum of Training loss = 2308.1806969344616\tCorrect Validation Examples = 9879\n"
     ]
    },
    {
     "name": "stderr",
     "output_type": "stream",
     "text": [
      "100%|████████████████████████████████████████████████████████████████████████████| 938/938 [00:08<00:00, 113.74it/s]\n",
      "100%|████████████████████████████████████████████████████████████████████████████| 313/313 [00:01<00:00, 281.22it/s]\n",
      "  1%|▉                                                                            | 12/938 [00:00<00:08, 111.41it/s]"
     ]
    },
    {
     "name": "stdout",
     "output_type": "stream",
     "text": [
      "Epoch = 99\tSum of Training loss = 2305.273868754506\tCorrect Validation Examples = 9874\n"
     ]
    },
    {
     "name": "stderr",
     "output_type": "stream",
     "text": [
      "100%|████████████████████████████████████████████████████████████████████████████| 938/938 [00:08<00:00, 112.40it/s]\n",
      "100%|████████████████████████████████████████████████████████████████████████████| 313/313 [00:01<00:00, 303.47it/s]\n"
     ]
    },
    {
     "name": "stdout",
     "output_type": "stream",
     "text": [
      "Epoch = 100\tSum of Training loss = 2325.406769245863\tCorrect Validation Examples = 9886\n"
     ]
    },
    {
     "data": {
      "text/plain": [
       "<Figure size 1152x360 with 0 Axes>"
      ]
     },
     "metadata": {},
     "output_type": "display_data"
    }
   ],
   "source": [
    "model=CNN(dropout=True).to(device)\n",
    "optimizer = optim.Adam(model.parameters(), lr=1e-4, weight_decay=0.2)\n",
    "train_loss_array=[]\n",
    "valid_acc_array=[]\n",
    "for epoch in range(epochs):\n",
    "    #Traning \n",
    "    train_loss=0\n",
    "    for data in tqdm(trainloader):\n",
    "        images,labels=data\n",
    "        images=images.to(device)\n",
    "        labels=labels.to(device)\n",
    "        optimizer.zero_grad()\n",
    "        output=model(images)\n",
    "        loss = criterion(output, labels)\n",
    "        loss.backward()\n",
    "        optimizer.step()\n",
    "        train_loss += loss.item()\n",
    "    train_loss_array.append(train_loss)\n",
    "    #validation\n",
    "    correct=0\n",
    "    model.eval()\n",
    "    with torch.no_grad():\n",
    "        for data in tqdm(testloader):\n",
    "            images,labels=data\n",
    "            images=images.to(device)\n",
    "            labels=labels.to(device)\n",
    "            output=model(images)\n",
    "            _,pred=torch.max(output.data,1)\n",
    "            correct+=(pred == labels).sum().item()\n",
    "    valid_acc_array.append(correct)\n",
    "    model.train()\n",
    "    print(f\"Epoch = {epoch+1}\\tSum of Training loss = {train_loss}\\tCorrect Validation Examples = {correct}\")\n",
    "    \n",
    "fig,ax=plt.subplots(1,2,figsize=(16,5))\n",
    "ax[0].plot(np.arange(1,epochs+1),train_loss_array)\n",
    "ax[0].set(ylabel=\"Summed Training loss\",xlabel=\"Epochs\")\n",
    "ax[1].plot(np.arange(1,epochs+1),np.array(valid_acc_array)/len(testset)*100)\n",
    "ax[1].set(ylabel=\"Validation Accuracy\",xlabel=\"Epochs\")\n",
    "plt.savefig(\"Adam_Regularization_dropout.png\",dpi=500)\n",
    "plt.clf()"
   ]
  },
  {
   "cell_type": "code",
   "execution_count": 22,
   "id": "opened-porcelain",
   "metadata": {},
   "outputs": [
    {
     "name": "stdout",
     "output_type": "stream",
     "text": [
      "Maximum Accuracy achieved = 98.95\n"
     ]
    }
   ],
   "source": [
    "print(f'Maximum Accuracy achieved = {max(valid_acc_array)/len(testset)*100}')\n",
    "all_losses.append(train_loss_array)"
   ]
  },
  {
   "cell_type": "markdown",
   "id": "authorized-calendar",
   "metadata": {},
   "source": [
    "## RMSprop without Regularization and without Dropout"
   ]
  },
  {
   "cell_type": "code",
   "execution_count": 23,
   "id": "blond-faith",
   "metadata": {},
   "outputs": [
    {
     "name": "stderr",
     "output_type": "stream",
     "text": [
      "100%|████████████████████████████████████████████████████████████████████████████| 938/938 [00:08<00:00, 112.58it/s]\n",
      "100%|████████████████████████████████████████████████████████████████████████████| 313/313 [00:01<00:00, 279.71it/s]\n",
      "  1%|▉                                                                            | 11/938 [00:00<00:08, 105.04it/s]"
     ]
    },
    {
     "name": "stdout",
     "output_type": "stream",
     "text": [
      "Epoch = 1\tSum of Training loss = 19690.01674413681\tCorrect Validation Examples = 9643\n"
     ]
    },
    {
     "name": "stderr",
     "output_type": "stream",
     "text": [
      "100%|████████████████████████████████████████████████████████████████████████████| 938/938 [00:08<00:00, 116.26it/s]\n",
      "100%|████████████████████████████████████████████████████████████████████████████| 313/313 [00:01<00:00, 311.74it/s]\n",
      "  1%|▉                                                                            | 12/938 [00:00<00:08, 113.51it/s]"
     ]
    },
    {
     "name": "stdout",
     "output_type": "stream",
     "text": [
      "Epoch = 2\tSum of Training loss = 6779.742224574089\tCorrect Validation Examples = 9768\n"
     ]
    },
    {
     "name": "stderr",
     "output_type": "stream",
     "text": [
      "100%|████████████████████████████████████████████████████████████████████████████| 938/938 [00:07<00:00, 119.71it/s]\n",
      "100%|████████████████████████████████████████████████████████████████████████████| 313/313 [00:01<00:00, 303.52it/s]\n",
      "  1%|▉                                                                            | 11/938 [00:00<00:08, 104.05it/s]"
     ]
    },
    {
     "name": "stdout",
     "output_type": "stream",
     "text": [
      "Epoch = 3\tSum of Training loss = 4719.926190406084\tCorrect Validation Examples = 9839\n"
     ]
    },
    {
     "name": "stderr",
     "output_type": "stream",
     "text": [
      "100%|████████████████████████████████████████████████████████████████████████████| 938/938 [00:07<00:00, 117.62it/s]\n",
      "100%|████████████████████████████████████████████████████████████████████████████| 313/313 [00:01<00:00, 308.29it/s]\n",
      "  1%|▉                                                                            | 11/938 [00:00<00:08, 103.08it/s]"
     ]
    },
    {
     "name": "stdout",
     "output_type": "stream",
     "text": [
      "Epoch = 4\tSum of Training loss = 3675.380163192749\tCorrect Validation Examples = 9855\n"
     ]
    },
    {
     "name": "stderr",
     "output_type": "stream",
     "text": [
      "100%|████████████████████████████████████████████████████████████████████████████| 938/938 [00:08<00:00, 116.82it/s]\n",
      "100%|████████████████████████████████████████████████████████████████████████████| 313/313 [00:01<00:00, 310.80it/s]\n",
      "  1%|▉                                                                            | 11/938 [00:00<00:08, 109.20it/s]"
     ]
    },
    {
     "name": "stdout",
     "output_type": "stream",
     "text": [
      "Epoch = 5\tSum of Training loss = 2987.808702170849\tCorrect Validation Examples = 9871\n"
     ]
    },
    {
     "name": "stderr",
     "output_type": "stream",
     "text": [
      "100%|████████████████████████████████████████████████████████████████████████████| 938/938 [00:07<00:00, 117.75it/s]\n",
      "100%|████████████████████████████████████████████████████████████████████████████| 313/313 [00:01<00:00, 304.72it/s]\n",
      "  2%|█▊                                                                           | 22/938 [00:00<00:08, 105.79it/s]"
     ]
    },
    {
     "name": "stdout",
     "output_type": "stream",
     "text": [
      "Epoch = 6\tSum of Training loss = 2553.8255186229944\tCorrect Validation Examples = 9889\n"
     ]
    },
    {
     "name": "stderr",
     "output_type": "stream",
     "text": [
      "100%|████████████████████████████████████████████████████████████████████████████| 938/938 [00:08<00:00, 116.47it/s]\n",
      "100%|████████████████████████████████████████████████████████████████████████████| 313/313 [00:01<00:00, 309.50it/s]\n",
      "  1%|▉                                                                            | 11/938 [00:00<00:09, 100.27it/s]"
     ]
    },
    {
     "name": "stdout",
     "output_type": "stream",
     "text": [
      "Epoch = 7\tSum of Training loss = 2212.485132779926\tCorrect Validation Examples = 9892\n"
     ]
    },
    {
     "name": "stderr",
     "output_type": "stream",
     "text": [
      "100%|████████████████████████████████████████████████████████████████████████████| 938/938 [00:08<00:00, 117.03it/s]\n",
      "100%|████████████████████████████████████████████████████████████████████████████| 313/313 [00:01<00:00, 302.75it/s]\n",
      "  2%|█▋                                                                           | 21/938 [00:00<00:08, 105.11it/s]"
     ]
    },
    {
     "name": "stdout",
     "output_type": "stream",
     "text": [
      "Epoch = 8\tSum of Training loss = 1950.34724207595\tCorrect Validation Examples = 9901\n"
     ]
    },
    {
     "name": "stderr",
     "output_type": "stream",
     "text": [
      "100%|████████████████████████████████████████████████████████████████████████████| 938/938 [00:08<00:00, 112.87it/s]\n",
      "100%|████████████████████████████████████████████████████████████████████████████| 313/313 [00:01<00:00, 305.88it/s]\n",
      "  2%|█▊                                                                           | 22/938 [00:00<00:08, 108.11it/s]"
     ]
    },
    {
     "name": "stdout",
     "output_type": "stream",
     "text": [
      "Epoch = 9\tSum of Training loss = 1682.546825248748\tCorrect Validation Examples = 9904\n"
     ]
    },
    {
     "name": "stderr",
     "output_type": "stream",
     "text": [
      "100%|████████████████████████████████████████████████████████████████████████████| 938/938 [00:08<00:00, 112.44it/s]\n",
      "100%|████████████████████████████████████████████████████████████████████████████| 313/313 [00:01<00:00, 305.86it/s]\n",
      "  2%|█▊                                                                           | 22/938 [00:00<00:08, 104.85it/s]"
     ]
    },
    {
     "name": "stdout",
     "output_type": "stream",
     "text": [
      "Epoch = 10\tSum of Training loss = 1555.5369812175632\tCorrect Validation Examples = 9908\n"
     ]
    },
    {
     "name": "stderr",
     "output_type": "stream",
     "text": [
      "100%|████████████████████████████████████████████████████████████████████████████| 938/938 [00:08<00:00, 116.35it/s]\n",
      "100%|████████████████████████████████████████████████████████████████████████████| 313/313 [00:00<00:00, 320.89it/s]\n",
      "  2%|█▊                                                                           | 22/938 [00:00<00:08, 107.87it/s]"
     ]
    },
    {
     "name": "stdout",
     "output_type": "stream",
     "text": [
      "Epoch = 11\tSum of Training loss = 1385.705202743411\tCorrect Validation Examples = 9902\n"
     ]
    },
    {
     "name": "stderr",
     "output_type": "stream",
     "text": [
      "100%|████████████████████████████████████████████████████████████████████████████| 938/938 [00:07<00:00, 118.07it/s]\n",
      "100%|████████████████████████████████████████████████████████████████████████████| 313/313 [00:01<00:00, 312.28it/s]\n",
      "  2%|█▉                                                                           | 23/938 [00:00<00:08, 110.28it/s]"
     ]
    },
    {
     "name": "stdout",
     "output_type": "stream",
     "text": [
      "Epoch = 12\tSum of Training loss = 1236.2307611312717\tCorrect Validation Examples = 9914\n"
     ]
    },
    {
     "name": "stderr",
     "output_type": "stream",
     "text": [
      "100%|████████████████████████████████████████████████████████████████████████████| 938/938 [00:08<00:00, 116.53it/s]\n",
      "100%|████████████████████████████████████████████████████████████████████████████| 313/313 [00:01<00:00, 303.52it/s]\n",
      "  1%|▊                                                                             | 10/938 [00:00<00:09, 98.30it/s]"
     ]
    },
    {
     "name": "stdout",
     "output_type": "stream",
     "text": [
      "Epoch = 13\tSum of Training loss = 1124.8646824397147\tCorrect Validation Examples = 9922\n"
     ]
    },
    {
     "name": "stderr",
     "output_type": "stream",
     "text": [
      "100%|████████████████████████████████████████████████████████████████████████████| 938/938 [00:08<00:00, 114.17it/s]\n",
      "100%|████████████████████████████████████████████████████████████████████████████| 313/313 [00:01<00:00, 288.46it/s]\n",
      "  1%|▉                                                                            | 11/938 [00:00<00:09, 101.19it/s]"
     ]
    },
    {
     "name": "stdout",
     "output_type": "stream",
     "text": [
      "Epoch = 14\tSum of Training loss = 1008.7134634517133\tCorrect Validation Examples = 9914\n"
     ]
    },
    {
     "name": "stderr",
     "output_type": "stream",
     "text": [
      "100%|████████████████████████████████████████████████████████████████████████████| 938/938 [00:08<00:00, 112.51it/s]\n",
      "100%|████████████████████████████████████████████████████████████████████████████| 313/313 [00:01<00:00, 283.50it/s]\n",
      "  2%|█▋                                                                           | 21/938 [00:00<00:08, 103.25it/s]"
     ]
    },
    {
     "name": "stdout",
     "output_type": "stream",
     "text": [
      "Epoch = 15\tSum of Training loss = 901.0228112749755\tCorrect Validation Examples = 9926\n"
     ]
    },
    {
     "name": "stderr",
     "output_type": "stream",
     "text": [
      "100%|████████████████████████████████████████████████████████████████████████████| 938/938 [00:08<00:00, 113.80it/s]\n",
      "100%|████████████████████████████████████████████████████████████████████████████| 313/313 [00:01<00:00, 294.68it/s]\n",
      "  1%|▉                                                                            | 11/938 [00:00<00:09, 101.19it/s]"
     ]
    },
    {
     "name": "stdout",
     "output_type": "stream",
     "text": [
      "Epoch = 16\tSum of Training loss = 798.939754688181\tCorrect Validation Examples = 9920\n"
     ]
    },
    {
     "name": "stderr",
     "output_type": "stream",
     "text": [
      "100%|████████████████████████████████████████████████████████████████████████████| 938/938 [00:08<00:00, 114.05it/s]\n",
      "100%|████████████████████████████████████████████████████████████████████████████| 313/313 [00:01<00:00, 301.87it/s]\n",
      "  1%|▉                                                                            | 11/938 [00:00<00:08, 103.08it/s]"
     ]
    },
    {
     "name": "stdout",
     "output_type": "stream",
     "text": [
      "Epoch = 17\tSum of Training loss = 736.4826621436514\tCorrect Validation Examples = 9931\n"
     ]
    },
    {
     "name": "stderr",
     "output_type": "stream",
     "text": [
      "100%|████████████████████████████████████████████████████████████████████████████| 938/938 [00:08<00:00, 114.45it/s]\n",
      "100%|████████████████████████████████████████████████████████████████████████████| 313/313 [00:00<00:00, 317.97it/s]\n",
      "  2%|█▊                                                                           | 22/938 [00:00<00:08, 106.45it/s]"
     ]
    },
    {
     "name": "stdout",
     "output_type": "stream",
     "text": [
      "Epoch = 18\tSum of Training loss = 668.2078576143831\tCorrect Validation Examples = 9926\n"
     ]
    },
    {
     "name": "stderr",
     "output_type": "stream",
     "text": [
      "100%|████████████████████████████████████████████████████████████████████████████| 938/938 [00:08<00:00, 114.10it/s]\n",
      "100%|████████████████████████████████████████████████████████████████████████████| 313/313 [00:01<00:00, 311.34it/s]\n",
      "  2%|█▉                                                                           | 23/938 [00:00<00:08, 111.09it/s]"
     ]
    },
    {
     "name": "stdout",
     "output_type": "stream",
     "text": [
      "Epoch = 19\tSum of Training loss = 636.0258996509947\tCorrect Validation Examples = 9928\n"
     ]
    },
    {
     "name": "stderr",
     "output_type": "stream",
     "text": [
      "100%|████████████████████████████████████████████████████████████████████████████| 938/938 [00:08<00:00, 115.78it/s]\n",
      "100%|████████████████████████████████████████████████████████████████████████████| 313/313 [00:01<00:00, 307.67it/s]\n",
      "  1%|▉                                                                            | 11/938 [00:00<00:08, 106.05it/s]"
     ]
    },
    {
     "name": "stdout",
     "output_type": "stream",
     "text": [
      "Epoch = 20\tSum of Training loss = 532.6947715966962\tCorrect Validation Examples = 9922\n"
     ]
    },
    {
     "name": "stderr",
     "output_type": "stream",
     "text": [
      "100%|████████████████████████████████████████████████████████████████████████████| 938/938 [00:08<00:00, 113.54it/s]\n",
      "100%|████████████████████████████████████████████████████████████████████████████| 313/313 [00:01<00:00, 286.61it/s]\n",
      "  1%|▊                                                                             | 10/938 [00:00<00:09, 95.49it/s]"
     ]
    },
    {
     "name": "stdout",
     "output_type": "stream",
     "text": [
      "Epoch = 21\tSum of Training loss = 493.98847273085266\tCorrect Validation Examples = 9936\n"
     ]
    },
    {
     "name": "stderr",
     "output_type": "stream",
     "text": [
      "100%|████████████████████████████████████████████████████████████████████████████| 938/938 [00:08<00:00, 111.36it/s]\n",
      "100%|████████████████████████████████████████████████████████████████████████████| 313/313 [00:01<00:00, 309.53it/s]\n",
      "  1%|▊                                                                             | 10/938 [00:00<00:09, 93.71it/s]"
     ]
    },
    {
     "name": "stdout",
     "output_type": "stream",
     "text": [
      "Epoch = 22\tSum of Training loss = 448.9934858113993\tCorrect Validation Examples = 9907\n"
     ]
    },
    {
     "name": "stderr",
     "output_type": "stream",
     "text": [
      "100%|████████████████████████████████████████████████████████████████████████████| 938/938 [00:08<00:00, 109.35it/s]\n",
      "100%|████████████████████████████████████████████████████████████████████████████| 313/313 [00:01<00:00, 309.53it/s]\n",
      "  1%|▉                                                                            | 11/938 [00:00<00:08, 105.04it/s]"
     ]
    },
    {
     "name": "stdout",
     "output_type": "stream",
     "text": [
      "Epoch = 23\tSum of Training loss = 415.8629774705041\tCorrect Validation Examples = 9921\n"
     ]
    },
    {
     "name": "stderr",
     "output_type": "stream",
     "text": [
      "100%|████████████████████████████████████████████████████████████████████████████| 938/938 [00:08<00:00, 113.24it/s]\n",
      "100%|████████████████████████████████████████████████████████████████████████████| 313/313 [00:01<00:00, 301.48it/s]\n",
      "  1%|▉                                                                            | 11/938 [00:00<00:09, 100.27it/s]"
     ]
    },
    {
     "name": "stdout",
     "output_type": "stream",
     "text": [
      "Epoch = 24\tSum of Training loss = 412.97133594891056\tCorrect Validation Examples = 9921\n"
     ]
    },
    {
     "name": "stderr",
     "output_type": "stream",
     "text": [
      "100%|████████████████████████████████████████████████████████████████████████████| 938/938 [00:08<00:00, 108.72it/s]\n",
      "100%|████████████████████████████████████████████████████████████████████████████| 313/313 [00:01<00:00, 269.85it/s]\n",
      "  2%|█▊                                                                           | 22/938 [00:00<00:08, 104.97it/s]"
     ]
    },
    {
     "name": "stdout",
     "output_type": "stream",
     "text": [
      "Epoch = 25\tSum of Training loss = 350.09987555618864\tCorrect Validation Examples = 9921\n"
     ]
    },
    {
     "name": "stderr",
     "output_type": "stream",
     "text": [
      "100%|████████████████████████████████████████████████████████████████████████████| 938/938 [00:08<00:00, 116.29it/s]\n",
      "100%|████████████████████████████████████████████████████████████████████████████| 313/313 [00:01<00:00, 304.70it/s]\n",
      "  1%|▉                                                                            | 11/938 [00:00<00:08, 106.05it/s]"
     ]
    },
    {
     "name": "stdout",
     "output_type": "stream",
     "text": [
      "Epoch = 26\tSum of Training loss = 362.2855511387752\tCorrect Validation Examples = 9925\n"
     ]
    },
    {
     "name": "stderr",
     "output_type": "stream",
     "text": [
      "100%|████████████████████████████████████████████████████████████████████████████| 938/938 [00:08<00:00, 115.53it/s]\n",
      "100%|████████████████████████████████████████████████████████████████████████████| 313/313 [00:00<00:00, 316.68it/s]\n",
      "  1%|▉                                                                            | 11/938 [00:00<00:08, 107.08it/s]"
     ]
    },
    {
     "name": "stdout",
     "output_type": "stream",
     "text": [
      "Epoch = 27\tSum of Training loss = 288.15228023723466\tCorrect Validation Examples = 9924\n"
     ]
    },
    {
     "name": "stderr",
     "output_type": "stream",
     "text": [
      "100%|████████████████████████████████████████████████████████████████████████████| 938/938 [00:07<00:00, 120.07it/s]\n",
      "100%|████████████████████████████████████████████████████████████████████████████| 313/313 [00:00<00:00, 317.65it/s]\n",
      "  1%|▉                                                                            | 11/938 [00:00<00:08, 106.05it/s]"
     ]
    },
    {
     "name": "stdout",
     "output_type": "stream",
     "text": [
      "Epoch = 28\tSum of Training loss = 261.04294912086334\tCorrect Validation Examples = 9926\n"
     ]
    },
    {
     "name": "stderr",
     "output_type": "stream",
     "text": [
      "100%|████████████████████████████████████████████████████████████████████████████| 938/938 [00:08<00:00, 116.99it/s]\n",
      "100%|████████████████████████████████████████████████████████████████████████████| 313/313 [00:01<00:00, 304.40it/s]\n",
      "  2%|█▋                                                                            | 20/938 [00:00<00:09, 98.30it/s]"
     ]
    },
    {
     "name": "stdout",
     "output_type": "stream",
     "text": [
      "Epoch = 29\tSum of Training loss = 271.08060588646913\tCorrect Validation Examples = 9932\n"
     ]
    },
    {
     "name": "stderr",
     "output_type": "stream",
     "text": [
      "100%|████████████████████████████████████████████████████████████████████████████| 938/938 [00:08<00:00, 110.37it/s]\n",
      "100%|████████████████████████████████████████████████████████████████████████████| 313/313 [00:01<00:00, 295.79it/s]\n",
      "  2%|█▊                                                                           | 22/938 [00:00<00:08, 106.42it/s]"
     ]
    },
    {
     "name": "stdout",
     "output_type": "stream",
     "text": [
      "Epoch = 30\tSum of Training loss = 237.31970871440717\tCorrect Validation Examples = 9924\n"
     ]
    },
    {
     "name": "stderr",
     "output_type": "stream",
     "text": [
      "100%|████████████████████████████████████████████████████████████████████████████| 938/938 [00:07<00:00, 119.38it/s]\n",
      "100%|████████████████████████████████████████████████████████████████████████████| 313/313 [00:01<00:00, 312.87it/s]\n",
      "  1%|▊                                                                             | 10/938 [00:00<00:09, 98.30it/s]"
     ]
    },
    {
     "name": "stdout",
     "output_type": "stream",
     "text": [
      "Epoch = 31\tSum of Training loss = 192.54553301817214\tCorrect Validation Examples = 9926\n"
     ]
    },
    {
     "name": "stderr",
     "output_type": "stream",
     "text": [
      "100%|████████████████████████████████████████████████████████████████████████████| 938/938 [00:08<00:00, 115.54it/s]\n",
      "100%|████████████████████████████████████████████████████████████████████████████| 313/313 [00:01<00:00, 282.01it/s]\n",
      "  1%|▉                                                                            | 11/938 [00:00<00:08, 105.04it/s]"
     ]
    },
    {
     "name": "stdout",
     "output_type": "stream",
     "text": [
      "Epoch = 32\tSum of Training loss = 239.8943108911044\tCorrect Validation Examples = 9929\n"
     ]
    },
    {
     "name": "stderr",
     "output_type": "stream",
     "text": [
      "100%|████████████████████████████████████████████████████████████████████████████| 938/938 [00:08<00:00, 111.32it/s]\n",
      "100%|████████████████████████████████████████████████████████████████████████████| 313/313 [00:01<00:00, 294.41it/s]\n",
      "  1%|▊                                                                             | 10/938 [00:00<00:09, 96.41it/s]"
     ]
    },
    {
     "name": "stdout",
     "output_type": "stream",
     "text": [
      "Epoch = 33\tSum of Training loss = 184.56017577150487\tCorrect Validation Examples = 9925\n"
     ]
    },
    {
     "name": "stderr",
     "output_type": "stream",
     "text": [
      "100%|████████████████████████████████████████████████████████████████████████████| 938/938 [00:08<00:00, 111.29it/s]\n",
      "100%|████████████████████████████████████████████████████████████████████████████| 313/313 [00:01<00:00, 295.79it/s]\n",
      "  1%|▉                                                                            | 11/938 [00:00<00:08, 107.08it/s]"
     ]
    },
    {
     "name": "stdout",
     "output_type": "stream",
     "text": [
      "Epoch = 34\tSum of Training loss = 174.9418004861218\tCorrect Validation Examples = 9924\n"
     ]
    },
    {
     "name": "stderr",
     "output_type": "stream",
     "text": [
      "100%|████████████████████████████████████████████████████████████████████████████| 938/938 [00:08<00:00, 113.07it/s]\n",
      "100%|████████████████████████████████████████████████████████████████████████████| 313/313 [00:01<00:00, 285.05it/s]\n",
      "  1%|▊                                                                             | 10/938 [00:00<00:09, 96.40it/s]"
     ]
    },
    {
     "name": "stdout",
     "output_type": "stream",
     "text": [
      "Epoch = 35\tSum of Training loss = 165.23092942543735\tCorrect Validation Examples = 9924\n"
     ]
    },
    {
     "name": "stderr",
     "output_type": "stream",
     "text": [
      "100%|████████████████████████████████████████████████████████████████████████████| 938/938 [00:08<00:00, 115.02it/s]\n",
      "100%|████████████████████████████████████████████████████████████████████████████| 313/313 [00:01<00:00, 305.97it/s]\n",
      "  2%|█▊                                                                           | 22/938 [00:00<00:08, 106.41it/s]"
     ]
    },
    {
     "name": "stdout",
     "output_type": "stream",
     "text": [
      "Epoch = 36\tSum of Training loss = 161.18699679980637\tCorrect Validation Examples = 9930\n"
     ]
    },
    {
     "name": "stderr",
     "output_type": "stream",
     "text": [
      "100%|████████████████████████████████████████████████████████████████████████████| 938/938 [00:08<00:00, 113.18it/s]\n",
      "100%|████████████████████████████████████████████████████████████████████████████| 313/313 [00:01<00:00, 304.11it/s]\n",
      "  1%|▉                                                                            | 11/938 [00:00<00:09, 102.12it/s]"
     ]
    },
    {
     "name": "stdout",
     "output_type": "stream",
     "text": [
      "Epoch = 37\tSum of Training loss = 131.1679088389792\tCorrect Validation Examples = 9926\n"
     ]
    },
    {
     "name": "stderr",
     "output_type": "stream",
     "text": [
      "100%|████████████████████████████████████████████████████████████████████████████| 938/938 [00:08<00:00, 111.57it/s]\n",
      "100%|████████████████████████████████████████████████████████████████████████████| 313/313 [00:01<00:00, 288.41it/s]\n",
      "  1%|▉                                                                            | 11/938 [00:00<00:09, 100.29it/s]"
     ]
    },
    {
     "name": "stdout",
     "output_type": "stream",
     "text": [
      "Epoch = 38\tSum of Training loss = 116.62415735613286\tCorrect Validation Examples = 9910\n"
     ]
    },
    {
     "name": "stderr",
     "output_type": "stream",
     "text": [
      "100%|████████████████████████████████████████████████████████████████████████████| 938/938 [00:08<00:00, 113.42it/s]\n",
      "100%|████████████████████████████████████████████████████████████████████████████| 313/313 [00:01<00:00, 269.57it/s]\n",
      "  2%|█▉                                                                           | 23/938 [00:00<00:08, 109.68it/s]"
     ]
    },
    {
     "name": "stdout",
     "output_type": "stream",
     "text": [
      "Epoch = 39\tSum of Training loss = 114.97339833567275\tCorrect Validation Examples = 9930\n"
     ]
    },
    {
     "name": "stderr",
     "output_type": "stream",
     "text": [
      "100%|████████████████████████████████████████████████████████████████████████████| 938/938 [00:07<00:00, 120.11it/s]\n",
      "100%|████████████████████████████████████████████████████████████████████████████| 313/313 [00:01<00:00, 312.26it/s]\n",
      "  1%|▉                                                                            | 11/938 [00:00<00:08, 104.05it/s]"
     ]
    },
    {
     "name": "stdout",
     "output_type": "stream",
     "text": [
      "Epoch = 40\tSum of Training loss = 116.00971777006635\tCorrect Validation Examples = 9928\n"
     ]
    },
    {
     "name": "stderr",
     "output_type": "stream",
     "text": [
      "100%|████████████████████████████████████████████████████████████████████████████| 938/938 [00:07<00:00, 118.12it/s]\n",
      "100%|████████████████████████████████████████████████████████████████████████████| 313/313 [00:00<00:00, 317.01it/s]\n",
      "  1%|▉                                                                            | 11/938 [00:00<00:08, 109.17it/s]"
     ]
    },
    {
     "name": "stdout",
     "output_type": "stream",
     "text": [
      "Epoch = 41\tSum of Training loss = 109.467249657715\tCorrect Validation Examples = 9927\n"
     ]
    },
    {
     "name": "stderr",
     "output_type": "stream",
     "text": [
      "100%|████████████████████████████████████████████████████████████████████████████| 938/938 [00:08<00:00, 114.22it/s]\n",
      "100%|████████████████████████████████████████████████████████████████████████████| 313/313 [00:01<00:00, 296.62it/s]\n",
      "  1%|▊                                                                             | 10/938 [00:00<00:09, 98.30it/s]"
     ]
    },
    {
     "name": "stdout",
     "output_type": "stream",
     "text": [
      "Epoch = 42\tSum of Training loss = 120.43056496034114\tCorrect Validation Examples = 9933\n"
     ]
    },
    {
     "name": "stderr",
     "output_type": "stream",
     "text": [
      "100%|████████████████████████████████████████████████████████████████████████████| 938/938 [00:08<00:00, 110.37it/s]\n",
      "100%|████████████████████████████████████████████████████████████████████████████| 313/313 [00:01<00:00, 310.41it/s]\n",
      "  1%|▉                                                                            | 11/938 [00:00<00:08, 106.05it/s]"
     ]
    },
    {
     "name": "stdout",
     "output_type": "stream",
     "text": [
      "Epoch = 43\tSum of Training loss = 87.11776478649153\tCorrect Validation Examples = 9920\n"
     ]
    },
    {
     "name": "stderr",
     "output_type": "stream",
     "text": [
      "100%|████████████████████████████████████████████████████████████████████████████| 938/938 [00:08<00:00, 111.95it/s]\n",
      "100%|████████████████████████████████████████████████████████████████████████████| 313/313 [00:01<00:00, 304.10it/s]\n",
      "  1%|▉                                                                            | 12/938 [00:00<00:08, 110.39it/s]"
     ]
    },
    {
     "name": "stdout",
     "output_type": "stream",
     "text": [
      "Epoch = 44\tSum of Training loss = 98.83856994972302\tCorrect Validation Examples = 9932\n"
     ]
    },
    {
     "name": "stderr",
     "output_type": "stream",
     "text": [
      "100%|████████████████████████████████████████████████████████████████████████████| 938/938 [00:08<00:00, 111.78it/s]\n",
      "100%|████████████████████████████████████████████████████████████████████████████| 313/313 [00:01<00:00, 311.65it/s]\n",
      "  1%|▉                                                                            | 11/938 [00:00<00:08, 109.20it/s]"
     ]
    },
    {
     "name": "stdout",
     "output_type": "stream",
     "text": [
      "Epoch = 45\tSum of Training loss = 91.42358083443469\tCorrect Validation Examples = 9933\n"
     ]
    },
    {
     "name": "stderr",
     "output_type": "stream",
     "text": [
      "100%|████████████████████████████████████████████████████████████████████████████| 938/938 [00:07<00:00, 117.47it/s]\n",
      "100%|████████████████████████████████████████████████████████████████████████████| 313/313 [00:00<00:00, 320.24it/s]\n",
      "  3%|█▉                                                                           | 24/938 [00:00<00:07, 116.73it/s]"
     ]
    },
    {
     "name": "stdout",
     "output_type": "stream",
     "text": [
      "Epoch = 46\tSum of Training loss = 84.19824002272617\tCorrect Validation Examples = 9927\n"
     ]
    },
    {
     "name": "stderr",
     "output_type": "stream",
     "text": [
      "100%|████████████████████████████████████████████████████████████████████████████| 938/938 [00:07<00:00, 121.46it/s]\n",
      "100%|████████████████████████████████████████████████████████████████████████████| 313/313 [00:01<00:00, 309.20it/s]\n",
      "  1%|▉                                                                            | 12/938 [00:00<00:08, 111.41it/s]"
     ]
    },
    {
     "name": "stdout",
     "output_type": "stream",
     "text": [
      "Epoch = 47\tSum of Training loss = 76.7114577925795\tCorrect Validation Examples = 9933\n"
     ]
    },
    {
     "name": "stderr",
     "output_type": "stream",
     "text": [
      "100%|████████████████████████████████████████████████████████████████████████████| 938/938 [00:08<00:00, 114.96it/s]\n",
      "100%|████████████████████████████████████████████████████████████████████████████| 313/313 [00:01<00:00, 300.60it/s]\n",
      "  1%|▉                                                                            | 11/938 [00:00<00:08, 106.05it/s]"
     ]
    },
    {
     "name": "stdout",
     "output_type": "stream",
     "text": [
      "Epoch = 48\tSum of Training loss = 103.22595309598182\tCorrect Validation Examples = 9927\n"
     ]
    },
    {
     "name": "stderr",
     "output_type": "stream",
     "text": [
      "100%|████████████████████████████████████████████████████████████████████████████| 938/938 [00:07<00:00, 117.65it/s]\n",
      "100%|████████████████████████████████████████████████████████████████████████████| 313/313 [00:01<00:00, 300.90it/s]\n",
      "  1%|▉                                                                            | 11/938 [00:00<00:08, 104.05it/s]"
     ]
    },
    {
     "name": "stdout",
     "output_type": "stream",
     "text": [
      "Epoch = 49\tSum of Training loss = 70.47413146789404\tCorrect Validation Examples = 9925\n"
     ]
    },
    {
     "name": "stderr",
     "output_type": "stream",
     "text": [
      "100%|████████████████████████████████████████████████████████████████████████████| 938/938 [00:08<00:00, 113.30it/s]\n",
      "100%|████████████████████████████████████████████████████████████████████████████| 313/313 [00:01<00:00, 303.52it/s]\n",
      "  1%|▉                                                                            | 11/938 [00:00<00:08, 109.20it/s]"
     ]
    },
    {
     "name": "stdout",
     "output_type": "stream",
     "text": [
      "Epoch = 50\tSum of Training loss = 60.45131259621485\tCorrect Validation Examples = 9929\n"
     ]
    },
    {
     "name": "stderr",
     "output_type": "stream",
     "text": [
      "100%|████████████████████████████████████████████████████████████████████████████| 938/938 [00:08<00:00, 114.72it/s]\n",
      "100%|████████████████████████████████████████████████████████████████████████████| 313/313 [00:01<00:00, 283.70it/s]\n",
      "  1%|▉                                                                            | 11/938 [00:00<00:08, 105.04it/s]"
     ]
    },
    {
     "name": "stdout",
     "output_type": "stream",
     "text": [
      "Epoch = 51\tSum of Training loss = 80.58280312005627\tCorrect Validation Examples = 9930\n"
     ]
    },
    {
     "name": "stderr",
     "output_type": "stream",
     "text": [
      "100%|████████████████████████████████████████████████████████████████████████████| 938/938 [00:08<00:00, 111.47it/s]\n",
      "100%|████████████████████████████████████████████████████████████████████████████| 313/313 [00:01<00:00, 309.20it/s]\n",
      "  1%|▉                                                                            | 11/938 [00:00<00:08, 108.13it/s]"
     ]
    },
    {
     "name": "stdout",
     "output_type": "stream",
     "text": [
      "Epoch = 52\tSum of Training loss = 74.0144418617283\tCorrect Validation Examples = 9927\n"
     ]
    },
    {
     "name": "stderr",
     "output_type": "stream",
     "text": [
      "100%|████████████████████████████████████████████████████████████████████████████| 938/938 [00:08<00:00, 107.44it/s]\n",
      "100%|████████████████████████████████████████████████████████████████████████████| 313/313 [00:01<00:00, 303.22it/s]\n",
      "  1%|▊                                                                             | 10/938 [00:00<00:09, 96.40it/s]"
     ]
    },
    {
     "name": "stdout",
     "output_type": "stream",
     "text": [
      "Epoch = 53\tSum of Training loss = 61.666576651889045\tCorrect Validation Examples = 9927\n"
     ]
    },
    {
     "name": "stderr",
     "output_type": "stream",
     "text": [
      "100%|████████████████████████████████████████████████████████████████████████████| 938/938 [00:08<00:00, 113.01it/s]\n",
      "100%|████████████████████████████████████████████████████████████████████████████| 313/313 [00:01<00:00, 286.61it/s]\n",
      "  1%|▊                                                                             | 10/938 [00:00<00:09, 98.30it/s]"
     ]
    },
    {
     "name": "stdout",
     "output_type": "stream",
     "text": [
      "Epoch = 54\tSum of Training loss = 53.01115053634271\tCorrect Validation Examples = 9926\n"
     ]
    },
    {
     "name": "stderr",
     "output_type": "stream",
     "text": [
      "100%|████████████████████████████████████████████████████████████████████████████| 938/938 [00:08<00:00, 114.57it/s]\n",
      "100%|████████████████████████████████████████████████████████████████████████████| 313/313 [00:01<00:00, 304.70it/s]\n",
      "  1%|▉                                                                            | 11/938 [00:00<00:09, 102.13it/s]"
     ]
    },
    {
     "name": "stdout",
     "output_type": "stream",
     "text": [
      "Epoch = 55\tSum of Training loss = 62.9038165187535\tCorrect Validation Examples = 9915\n"
     ]
    },
    {
     "name": "stderr",
     "output_type": "stream",
     "text": [
      "100%|████████████████████████████████████████████████████████████████████████████| 938/938 [00:08<00:00, 114.26it/s]\n",
      "100%|████████████████████████████████████████████████████████████████████████████| 313/313 [00:01<00:00, 273.38it/s]\n",
      "  1%|▉                                                                            | 11/938 [00:00<00:08, 104.07it/s]"
     ]
    },
    {
     "name": "stdout",
     "output_type": "stream",
     "text": [
      "Epoch = 56\tSum of Training loss = 62.07575577687197\tCorrect Validation Examples = 9925\n"
     ]
    },
    {
     "name": "stderr",
     "output_type": "stream",
     "text": [
      "100%|████████████████████████████████████████████████████████████████████████████| 938/938 [00:08<00:00, 111.55it/s]\n",
      "100%|████████████████████████████████████████████████████████████████████████████| 313/313 [00:01<00:00, 280.46it/s]\n",
      "  1%|▉                                                                            | 11/938 [00:00<00:08, 104.05it/s]"
     ]
    },
    {
     "name": "stdout",
     "output_type": "stream",
     "text": [
      "Epoch = 57\tSum of Training loss = 53.22706349625798\tCorrect Validation Examples = 9925\n"
     ]
    },
    {
     "name": "stderr",
     "output_type": "stream",
     "text": [
      "100%|████████████████████████████████████████████████████████████████████████████| 938/938 [00:09<00:00, 104.13it/s]\n",
      "100%|████████████████████████████████████████████████████████████████████████████| 313/313 [00:01<00:00, 268.01it/s]\n",
      "  1%|▉                                                                            | 11/938 [00:00<00:08, 106.05it/s]"
     ]
    },
    {
     "name": "stdout",
     "output_type": "stream",
     "text": [
      "Epoch = 58\tSum of Training loss = 48.804355511205586\tCorrect Validation Examples = 9924\n"
     ]
    },
    {
     "name": "stderr",
     "output_type": "stream",
     "text": [
      "100%|████████████████████████████████████████████████████████████████████████████| 938/938 [00:09<00:00, 102.47it/s]\n",
      "100%|████████████████████████████████████████████████████████████████████████████| 313/313 [00:01<00:00, 269.16it/s]\n",
      "  1%|▊                                                                             | 10/938 [00:00<00:09, 93.70it/s]"
     ]
    },
    {
     "name": "stdout",
     "output_type": "stream",
     "text": [
      "Epoch = 59\tSum of Training loss = 57.818336386303145\tCorrect Validation Examples = 9929\n"
     ]
    },
    {
     "name": "stderr",
     "output_type": "stream",
     "text": [
      "100%|████████████████████████████████████████████████████████████████████████████| 938/938 [00:08<00:00, 110.21it/s]\n",
      "100%|████████████████████████████████████████████████████████████████████████████| 313/313 [00:01<00:00, 296.35it/s]\n",
      "  1%|▉                                                                            | 11/938 [00:00<00:08, 108.13it/s]"
     ]
    },
    {
     "name": "stdout",
     "output_type": "stream",
     "text": [
      "Epoch = 60\tSum of Training loss = 43.161790515955545\tCorrect Validation Examples = 9925\n"
     ]
    },
    {
     "name": "stderr",
     "output_type": "stream",
     "text": [
      "100%|████████████████████████████████████████████████████████████████████████████| 938/938 [00:08<00:00, 115.69it/s]\n",
      "100%|████████████████████████████████████████████████████████████████████████████| 313/313 [00:01<00:00, 300.32it/s]\n",
      "  1%|▉                                                                            | 12/938 [00:00<00:08, 111.41it/s]"
     ]
    },
    {
     "name": "stdout",
     "output_type": "stream",
     "text": [
      "Epoch = 61\tSum of Training loss = 62.6674473936157\tCorrect Validation Examples = 9930\n"
     ]
    },
    {
     "name": "stderr",
     "output_type": "stream",
     "text": [
      "100%|████████████████████████████████████████████████████████████████████████████| 938/938 [00:08<00:00, 108.78it/s]\n",
      "100%|████████████████████████████████████████████████████████████████████████████| 313/313 [00:01<00:00, 285.71it/s]\n",
      "  1%|▉                                                                            | 11/938 [00:00<00:08, 106.02it/s]"
     ]
    },
    {
     "name": "stdout",
     "output_type": "stream",
     "text": [
      "Epoch = 62\tSum of Training loss = 31.521705935375394\tCorrect Validation Examples = 9934\n"
     ]
    },
    {
     "name": "stderr",
     "output_type": "stream",
     "text": [
      "100%|████████████████████████████████████████████████████████████████████████████| 938/938 [00:08<00:00, 105.56it/s]\n",
      "100%|████████████████████████████████████████████████████████████████████████████| 313/313 [00:01<00:00, 269.16it/s]\n",
      "  1%|▉                                                                            | 11/938 [00:00<00:09, 102.12it/s]"
     ]
    },
    {
     "name": "stdout",
     "output_type": "stream",
     "text": [
      "Epoch = 63\tSum of Training loss = 40.863754593039005\tCorrect Validation Examples = 9930\n"
     ]
    },
    {
     "name": "stderr",
     "output_type": "stream",
     "text": [
      "100%|████████████████████████████████████████████████████████████████████████████| 938/938 [00:08<00:00, 109.93it/s]\n",
      "100%|████████████████████████████████████████████████████████████████████████████| 313/313 [00:01<00:00, 300.90it/s]\n",
      "  1%|▉                                                                            | 11/938 [00:00<00:08, 108.13it/s]"
     ]
    },
    {
     "name": "stdout",
     "output_type": "stream",
     "text": [
      "Epoch = 64\tSum of Training loss = 43.42744683320245\tCorrect Validation Examples = 9928\n"
     ]
    },
    {
     "name": "stderr",
     "output_type": "stream",
     "text": [
      "100%|████████████████████████████████████████████████████████████████████████████| 938/938 [00:08<00:00, 113.51it/s]\n",
      "100%|████████████████████████████████████████████████████████████████████████████| 313/313 [00:01<00:00, 293.57it/s]\n",
      "  1%|▉                                                                            | 11/938 [00:00<00:08, 108.13it/s]"
     ]
    },
    {
     "name": "stdout",
     "output_type": "stream",
     "text": [
      "Epoch = 65\tSum of Training loss = 54.695757292210544\tCorrect Validation Examples = 9933\n"
     ]
    },
    {
     "name": "stderr",
     "output_type": "stream",
     "text": [
      "100%|████████████████████████████████████████████████████████████████████████████| 938/938 [00:08<00:00, 109.39it/s]\n",
      "100%|████████████████████████████████████████████████████████████████████████████| 313/313 [00:01<00:00, 300.61it/s]\n",
      "  1%|▉                                                                            | 11/938 [00:00<00:08, 109.20it/s]"
     ]
    },
    {
     "name": "stdout",
     "output_type": "stream",
     "text": [
      "Epoch = 66\tSum of Training loss = 32.05903909133281\tCorrect Validation Examples = 9917\n"
     ]
    },
    {
     "name": "stderr",
     "output_type": "stream",
     "text": [
      "100%|████████████████████████████████████████████████████████████████████████████| 938/938 [00:08<00:00, 115.90it/s]\n",
      "100%|████████████████████████████████████████████████████████████████████████████| 313/313 [00:01<00:00, 301.77it/s]\n",
      "  1%|▉                                                                            | 11/938 [00:00<00:08, 106.05it/s]"
     ]
    },
    {
     "name": "stdout",
     "output_type": "stream",
     "text": [
      "Epoch = 67\tSum of Training loss = 56.7368843295406\tCorrect Validation Examples = 9930\n"
     ]
    },
    {
     "name": "stderr",
     "output_type": "stream",
     "text": [
      "100%|████████████████████████████████████████████████████████████████████████████| 938/938 [00:08<00:00, 110.37it/s]\n",
      "100%|████████████████████████████████████████████████████████████████████████████| 313/313 [00:01<00:00, 277.24it/s]\n",
      "  1%|▉                                                                            | 11/938 [00:00<00:08, 104.05it/s]"
     ]
    },
    {
     "name": "stdout",
     "output_type": "stream",
     "text": [
      "Epoch = 68\tSum of Training loss = 38.12110506699119\tCorrect Validation Examples = 9928\n"
     ]
    },
    {
     "name": "stderr",
     "output_type": "stream",
     "text": [
      "100%|████████████████████████████████████████████████████████████████████████████| 938/938 [00:08<00:00, 110.16it/s]\n",
      "100%|████████████████████████████████████████████████████████████████████████████| 313/313 [00:01<00:00, 306.11it/s]\n",
      "  1%|▉                                                                            | 11/938 [00:00<00:08, 103.08it/s]"
     ]
    },
    {
     "name": "stdout",
     "output_type": "stream",
     "text": [
      "Epoch = 69\tSum of Training loss = 46.16364637313616\tCorrect Validation Examples = 9927\n"
     ]
    },
    {
     "name": "stderr",
     "output_type": "stream",
     "text": [
      "100%|████████████████████████████████████████████████████████████████████████████| 938/938 [00:08<00:00, 111.78it/s]\n",
      "100%|████████████████████████████████████████████████████████████████████████████| 313/313 [00:01<00:00, 272.73it/s]\n",
      "  1%|▊                                                                              | 9/938 [00:00<00:10, 85.13it/s]"
     ]
    },
    {
     "name": "stdout",
     "output_type": "stream",
     "text": [
      "Epoch = 70\tSum of Training loss = 35.62002445989043\tCorrect Validation Examples = 9927\n"
     ]
    },
    {
     "name": "stderr",
     "output_type": "stream",
     "text": [
      "100%|████████████████████████████████████████████████████████████████████████████| 938/938 [00:08<00:00, 104.88it/s]\n",
      "100%|████████████████████████████████████████████████████████████████████████████| 313/313 [00:01<00:00, 271.49it/s]\n",
      "  2%|█▋                                                                           | 21/938 [00:00<00:08, 102.90it/s]"
     ]
    },
    {
     "name": "stdout",
     "output_type": "stream",
     "text": [
      "Epoch = 71\tSum of Training loss = 54.37419741571371\tCorrect Validation Examples = 9926\n"
     ]
    },
    {
     "name": "stderr",
     "output_type": "stream",
     "text": [
      "100%|████████████████████████████████████████████████████████████████████████████| 938/938 [00:08<00:00, 107.53it/s]\n",
      "100%|████████████████████████████████████████████████████████████████████████████| 313/313 [00:01<00:00, 298.79it/s]\n",
      "  1%|▉                                                                            | 11/938 [00:00<00:09, 102.13it/s]"
     ]
    },
    {
     "name": "stdout",
     "output_type": "stream",
     "text": [
      "Epoch = 72\tSum of Training loss = 45.79396201223426\tCorrect Validation Examples = 9921\n"
     ]
    },
    {
     "name": "stderr",
     "output_type": "stream",
     "text": [
      "100%|████████████████████████████████████████████████████████████████████████████| 938/938 [00:08<00:00, 110.34it/s]\n",
      "100%|████████████████████████████████████████████████████████████████████████████| 313/313 [00:01<00:00, 304.21it/s]\n",
      "  1%|▉                                                                            | 11/938 [00:00<00:09, 100.27it/s]"
     ]
    },
    {
     "name": "stdout",
     "output_type": "stream",
     "text": [
      "Epoch = 73\tSum of Training loss = 28.5456711894236\tCorrect Validation Examples = 9929\n"
     ]
    },
    {
     "name": "stderr",
     "output_type": "stream",
     "text": [
      "100%|████████████████████████████████████████████████████████████████████████████| 938/938 [00:08<00:00, 111.48it/s]\n",
      "100%|████████████████████████████████████████████████████████████████████████████| 313/313 [00:01<00:00, 286.87it/s]\n",
      "  2%|█▋                                                                           | 21/938 [00:00<00:08, 102.14it/s]"
     ]
    },
    {
     "name": "stdout",
     "output_type": "stream",
     "text": [
      "Epoch = 74\tSum of Training loss = 32.990303501451706\tCorrect Validation Examples = 9928\n"
     ]
    },
    {
     "name": "stderr",
     "output_type": "stream",
     "text": [
      "100%|████████████████████████████████████████████████████████████████████████████| 938/938 [00:08<00:00, 116.08it/s]\n",
      "100%|████████████████████████████████████████████████████████████████████████████| 313/313 [00:01<00:00, 301.11it/s]\n",
      "  1%|▉                                                                            | 11/938 [00:00<00:08, 105.04it/s]"
     ]
    },
    {
     "name": "stdout",
     "output_type": "stream",
     "text": [
      "Epoch = 75\tSum of Training loss = 42.83970287255581\tCorrect Validation Examples = 9932\n"
     ]
    },
    {
     "name": "stderr",
     "output_type": "stream",
     "text": [
      "100%|████████████████████████████████████████████████████████████████████████████| 938/938 [00:08<00:00, 110.40it/s]\n",
      "100%|████████████████████████████████████████████████████████████████████████████| 313/313 [00:01<00:00, 309.81it/s]\n",
      "  1%|▉                                                                            | 11/938 [00:00<00:08, 109.20it/s]"
     ]
    },
    {
     "name": "stdout",
     "output_type": "stream",
     "text": [
      "Epoch = 76\tSum of Training loss = 32.58277518240982\tCorrect Validation Examples = 9930\n"
     ]
    },
    {
     "name": "stderr",
     "output_type": "stream",
     "text": [
      "100%|████████████████████████████████████████████████████████████████████████████| 938/938 [00:08<00:00, 115.23it/s]\n",
      "100%|████████████████████████████████████████████████████████████████████████████| 313/313 [00:01<00:00, 301.19it/s]\n",
      "  1%|▉                                                                            | 11/938 [00:00<00:08, 103.08it/s]"
     ]
    },
    {
     "name": "stdout",
     "output_type": "stream",
     "text": [
      "Epoch = 77\tSum of Training loss = 32.03991761936498\tCorrect Validation Examples = 9926\n"
     ]
    },
    {
     "name": "stderr",
     "output_type": "stream",
     "text": [
      "100%|████████████████████████████████████████████████████████████████████████████| 938/938 [00:08<00:00, 115.04it/s]\n",
      "100%|████████████████████████████████████████████████████████████████████████████| 313/313 [00:01<00:00, 300.61it/s]\n",
      "  2%|█▊                                                                           | 22/938 [00:00<00:08, 104.15it/s]"
     ]
    },
    {
     "name": "stdout",
     "output_type": "stream",
     "text": [
      "Epoch = 78\tSum of Training loss = 22.254804952015135\tCorrect Validation Examples = 9914\n"
     ]
    },
    {
     "name": "stderr",
     "output_type": "stream",
     "text": [
      "100%|████████████████████████████████████████████████████████████████████████████| 938/938 [00:08<00:00, 111.55it/s]\n",
      "100%|████████████████████████████████████████████████████████████████████████████| 313/313 [00:01<00:00, 302.22it/s]\n",
      "  1%|▊                                                                             | 10/938 [00:00<00:09, 99.27it/s]"
     ]
    },
    {
     "name": "stdout",
     "output_type": "stream",
     "text": [
      "Epoch = 79\tSum of Training loss = 26.36762898985468\tCorrect Validation Examples = 9928\n"
     ]
    },
    {
     "name": "stderr",
     "output_type": "stream",
     "text": [
      "100%|████████████████████████████████████████████████████████████████████████████| 938/938 [00:08<00:00, 109.61it/s]\n",
      "100%|████████████████████████████████████████████████████████████████████████████| 313/313 [00:01<00:00, 299.75it/s]\n",
      "  1%|▉                                                                            | 11/938 [00:00<00:08, 103.08it/s]"
     ]
    },
    {
     "name": "stdout",
     "output_type": "stream",
     "text": [
      "Epoch = 80\tSum of Training loss = 30.638923175570532\tCorrect Validation Examples = 9929\n"
     ]
    },
    {
     "name": "stderr",
     "output_type": "stream",
     "text": [
      "100%|████████████████████████████████████████████████████████████████████████████| 938/938 [00:08<00:00, 113.57it/s]\n",
      "100%|████████████████████████████████████████████████████████████████████████████| 313/313 [00:01<00:00, 299.70it/s]\n",
      "  1%|▊                                                                             | 10/938 [00:00<00:09, 98.30it/s]"
     ]
    },
    {
     "name": "stdout",
     "output_type": "stream",
     "text": [
      "Epoch = 81\tSum of Training loss = 25.630578360611814\tCorrect Validation Examples = 9934\n"
     ]
    },
    {
     "name": "stderr",
     "output_type": "stream",
     "text": [
      "100%|████████████████████████████████████████████████████████████████████████████| 938/938 [00:08<00:00, 111.91it/s]\n",
      "100%|████████████████████████████████████████████████████████████████████████████| 313/313 [00:01<00:00, 264.57it/s]\n",
      "  1%|▉                                                                            | 11/938 [00:00<00:08, 107.09it/s]"
     ]
    },
    {
     "name": "stdout",
     "output_type": "stream",
     "text": [
      "Epoch = 82\tSum of Training loss = 30.033360515314257\tCorrect Validation Examples = 9937\n"
     ]
    },
    {
     "name": "stderr",
     "output_type": "stream",
     "text": [
      "100%|████████████████████████████████████████████████████████████████████████████| 938/938 [00:08<00:00, 110.83it/s]\n",
      "100%|████████████████████████████████████████████████████████████████████████████| 313/313 [00:01<00:00, 304.11it/s]\n",
      "  1%|▊                                                                              | 9/938 [00:00<00:11, 82.77it/s]"
     ]
    },
    {
     "name": "stdout",
     "output_type": "stream",
     "text": [
      "Epoch = 83\tSum of Training loss = 20.597101877640796\tCorrect Validation Examples = 9923\n"
     ]
    },
    {
     "name": "stderr",
     "output_type": "stream",
     "text": [
      "100%|████████████████████████████████████████████████████████████████████████████| 938/938 [00:08<00:00, 113.83it/s]\n",
      "100%|████████████████████████████████████████████████████████████████████████████| 313/313 [00:01<00:00, 304.40it/s]\n",
      "  1%|▉                                                                            | 11/938 [00:00<00:08, 104.05it/s]"
     ]
    },
    {
     "name": "stdout",
     "output_type": "stream",
     "text": [
      "Epoch = 84\tSum of Training loss = 32.22996691168407\tCorrect Validation Examples = 9927\n"
     ]
    },
    {
     "name": "stderr",
     "output_type": "stream",
     "text": [
      "100%|████████████████████████████████████████████████████████████████████████████| 938/938 [00:08<00:00, 115.07it/s]\n",
      "100%|████████████████████████████████████████████████████████████████████████████| 313/313 [00:00<00:00, 316.05it/s]\n",
      "  2%|█▉                                                                           | 23/938 [00:00<00:08, 113.06it/s]"
     ]
    },
    {
     "name": "stdout",
     "output_type": "stream",
     "text": [
      "Epoch = 85\tSum of Training loss = 21.32335249261714\tCorrect Validation Examples = 9930\n"
     ]
    },
    {
     "name": "stderr",
     "output_type": "stream",
     "text": [
      "100%|████████████████████████████████████████████████████████████████████████████| 938/938 [00:08<00:00, 115.69it/s]\n",
      "100%|████████████████████████████████████████████████████████████████████████████| 313/313 [00:01<00:00, 302.93it/s]\n",
      "  1%|▉                                                                            | 11/938 [00:00<00:08, 105.04it/s]"
     ]
    },
    {
     "name": "stdout",
     "output_type": "stream",
     "text": [
      "Epoch = 86\tSum of Training loss = 26.004288366260873\tCorrect Validation Examples = 9935\n"
     ]
    },
    {
     "name": "stderr",
     "output_type": "stream",
     "text": [
      "100%|████████████████████████████████████████████████████████████████████████████| 938/938 [00:08<00:00, 112.13it/s]\n",
      "100%|████████████████████████████████████████████████████████████████████████████| 313/313 [00:01<00:00, 282.10it/s]\n",
      "  1%|▊                                                                             | 10/938 [00:00<00:09, 97.27it/s]"
     ]
    },
    {
     "name": "stdout",
     "output_type": "stream",
     "text": [
      "Epoch = 87\tSum of Training loss = 16.62811520789463\tCorrect Validation Examples = 9934\n"
     ]
    },
    {
     "name": "stderr",
     "output_type": "stream",
     "text": [
      "100%|████████████████████████████████████████████████████████████████████████████| 938/938 [00:08<00:00, 109.50it/s]\n",
      "100%|████████████████████████████████████████████████████████████████████████████| 313/313 [00:01<00:00, 287.40it/s]\n",
      "  1%|▉                                                                            | 11/938 [00:00<00:08, 108.13it/s]"
     ]
    },
    {
     "name": "stdout",
     "output_type": "stream",
     "text": [
      "Epoch = 88\tSum of Training loss = 24.69647875710809\tCorrect Validation Examples = 9932\n"
     ]
    },
    {
     "name": "stderr",
     "output_type": "stream",
     "text": [
      "100%|████████████████████████████████████████████████████████████████████████████| 938/938 [00:08<00:00, 111.42it/s]\n",
      "100%|████████████████████████████████████████████████████████████████████████████| 313/313 [00:01<00:00, 258.51it/s]\n",
      "  1%|▊                                                                             | 10/938 [00:00<00:09, 93.71it/s]"
     ]
    },
    {
     "name": "stdout",
     "output_type": "stream",
     "text": [
      "Epoch = 89\tSum of Training loss = 18.8180380036737\tCorrect Validation Examples = 9934\n"
     ]
    },
    {
     "name": "stderr",
     "output_type": "stream",
     "text": [
      "100%|████████████████████████████████████████████████████████████████████████████| 938/938 [00:08<00:00, 111.23it/s]\n",
      "100%|████████████████████████████████████████████████████████████████████████████| 313/313 [00:01<00:00, 307.92it/s]\n",
      "  2%|█▋                                                                           | 21/938 [00:00<00:08, 103.90it/s]"
     ]
    },
    {
     "name": "stdout",
     "output_type": "stream",
     "text": [
      "Epoch = 90\tSum of Training loss = 30.94589175279618\tCorrect Validation Examples = 9931\n"
     ]
    },
    {
     "name": "stderr",
     "output_type": "stream",
     "text": [
      "100%|████████████████████████████████████████████████████████████████████████████| 938/938 [00:08<00:00, 111.09it/s]\n",
      "100%|████████████████████████████████████████████████████████████████████████████| 313/313 [00:01<00:00, 296.44it/s]\n",
      "  1%|▉                                                                            | 11/938 [00:00<00:08, 104.54it/s]"
     ]
    },
    {
     "name": "stdout",
     "output_type": "stream",
     "text": [
      "Epoch = 91\tSum of Training loss = 30.84344309596056\tCorrect Validation Examples = 9926\n"
     ]
    },
    {
     "name": "stderr",
     "output_type": "stream",
     "text": [
      "100%|████████████████████████████████████████████████████████████████████████████| 938/938 [00:08<00:00, 112.87it/s]\n",
      "100%|████████████████████████████████████████████████████████████████████████████| 313/313 [00:01<00:00, 304.70it/s]\n",
      "  1%|▉                                                                            | 11/938 [00:00<00:08, 109.20it/s]"
     ]
    },
    {
     "name": "stdout",
     "output_type": "stream",
     "text": [
      "Epoch = 92\tSum of Training loss = 24.409156483612634\tCorrect Validation Examples = 9923\n"
     ]
    },
    {
     "name": "stderr",
     "output_type": "stream",
     "text": [
      "100%|████████████████████████████████████████████████████████████████████████████| 938/938 [00:08<00:00, 114.32it/s]\n",
      "100%|████████████████████████████████████████████████████████████████████████████| 313/313 [00:01<00:00, 288.98it/s]\n",
      "  1%|▊                                                                              | 9/938 [00:00<00:11, 84.34it/s]"
     ]
    },
    {
     "name": "stdout",
     "output_type": "stream",
     "text": [
      "Epoch = 93\tSum of Training loss = 28.184256011498\tCorrect Validation Examples = 9926\n"
     ]
    },
    {
     "name": "stderr",
     "output_type": "stream",
     "text": [
      "100%|████████████████████████████████████████████████████████████████████████████| 938/938 [00:08<00:00, 114.85it/s]\n",
      "100%|████████████████████████████████████████████████████████████████████████████| 313/313 [00:01<00:00, 312.24it/s]\n",
      "  1%|▉                                                                            | 11/938 [00:00<00:08, 105.04it/s]"
     ]
    },
    {
     "name": "stdout",
     "output_type": "stream",
     "text": [
      "Epoch = 94\tSum of Training loss = 13.713359923037416\tCorrect Validation Examples = 9929\n"
     ]
    },
    {
     "name": "stderr",
     "output_type": "stream",
     "text": [
      "100%|████████████████████████████████████████████████████████████████████████████| 938/938 [00:08<00:00, 108.30it/s]\n",
      "100%|████████████████████████████████████████████████████████████████████████████| 313/313 [00:01<00:00, 296.07it/s]\n",
      "  1%|▉                                                                            | 11/938 [00:00<00:08, 106.05it/s]"
     ]
    },
    {
     "name": "stdout",
     "output_type": "stream",
     "text": [
      "Epoch = 95\tSum of Training loss = 26.165756892743993\tCorrect Validation Examples = 9925\n"
     ]
    },
    {
     "name": "stderr",
     "output_type": "stream",
     "text": [
      "100%|████████████████████████████████████████████████████████████████████████████| 938/938 [00:08<00:00, 110.01it/s]\n",
      "100%|████████████████████████████████████████████████████████████████████████████| 313/313 [00:01<00:00, 297.03it/s]\n",
      "  1%|▉                                                                            | 11/938 [00:00<00:09, 102.12it/s]"
     ]
    },
    {
     "name": "stdout",
     "output_type": "stream",
     "text": [
      "Epoch = 96\tSum of Training loss = 18.95572060438817\tCorrect Validation Examples = 9922\n"
     ]
    },
    {
     "name": "stderr",
     "output_type": "stream",
     "text": [
      "100%|████████████████████████████████████████████████████████████████████████████| 938/938 [00:08<00:00, 110.84it/s]\n",
      "100%|████████████████████████████████████████████████████████████████████████████| 313/313 [00:01<00:00, 298.55it/s]\n",
      "  1%|▉                                                                            | 11/938 [00:00<00:09, 100.27it/s]"
     ]
    },
    {
     "name": "stdout",
     "output_type": "stream",
     "text": [
      "Epoch = 97\tSum of Training loss = 28.98813685786945\tCorrect Validation Examples = 9923\n"
     ]
    },
    {
     "name": "stderr",
     "output_type": "stream",
     "text": [
      "100%|████████████████████████████████████████████████████████████████████████████| 938/938 [00:08<00:00, 112.43it/s]\n",
      "100%|████████████████████████████████████████████████████████████████████████████| 313/313 [00:01<00:00, 287.66it/s]\n",
      "  1%|▊                                                                              | 9/938 [00:00<00:10, 88.47it/s]"
     ]
    },
    {
     "name": "stdout",
     "output_type": "stream",
     "text": [
      "Epoch = 98\tSum of Training loss = 23.846906795463696\tCorrect Validation Examples = 9930\n"
     ]
    },
    {
     "name": "stderr",
     "output_type": "stream",
     "text": [
      "100%|████████████████████████████████████████████████████████████████████████████| 938/938 [00:08<00:00, 109.06it/s]\n",
      "100%|████████████████████████████████████████████████████████████████████████████| 313/313 [00:01<00:00, 302.06it/s]\n",
      "  1%|▉                                                                            | 11/938 [00:00<00:08, 105.04it/s]"
     ]
    },
    {
     "name": "stdout",
     "output_type": "stream",
     "text": [
      "Epoch = 99\tSum of Training loss = 16.276006559186385\tCorrect Validation Examples = 9923\n"
     ]
    },
    {
     "name": "stderr",
     "output_type": "stream",
     "text": [
      "100%|████████████████████████████████████████████████████████████████████████████| 938/938 [00:08<00:00, 111.15it/s]\n",
      "100%|████████████████████████████████████████████████████████████████████████████| 313/313 [00:01<00:00, 298.04it/s]\n"
     ]
    },
    {
     "name": "stdout",
     "output_type": "stream",
     "text": [
      "Epoch = 100\tSum of Training loss = 15.39421605805714\tCorrect Validation Examples = 9930\n"
     ]
    },
    {
     "data": {
      "text/plain": [
       "<Figure size 1152x360 with 0 Axes>"
      ]
     },
     "metadata": {},
     "output_type": "display_data"
    }
   ],
   "source": [
    "model=CNN(dropout=False).to(device)\n",
    "optimizer = optim.RMSprop(model.parameters(), lr=1e-4)\n",
    "train_loss_array=[]\n",
    "valid_acc_array=[]\n",
    "for epoch in range(epochs):\n",
    "    #Traning \n",
    "    train_loss=0\n",
    "    for data in tqdm(trainloader):\n",
    "        images,labels=data\n",
    "        images=images.to(device)\n",
    "        labels=labels.to(device)\n",
    "        optimizer.zero_grad()\n",
    "        output=model(images)\n",
    "        loss = criterion(output, labels)\n",
    "        loss.backward()\n",
    "        optimizer.step()\n",
    "        train_loss += loss.item()\n",
    "    train_loss_array.append(train_loss)\n",
    "    #validation\n",
    "    correct=0\n",
    "    model.eval()\n",
    "    with torch.no_grad():\n",
    "        for data in tqdm(testloader):\n",
    "            images,labels=data\n",
    "            images=images.to(device)\n",
    "            labels=labels.to(device)\n",
    "            output=model(images)\n",
    "            _,pred=torch.max(output.data,1)\n",
    "            correct+=(pred == labels).sum().item()\n",
    "    valid_acc_array.append(correct)\n",
    "    model.train()\n",
    "    print(f\"Epoch = {epoch+1}\\tSum of Training loss = {train_loss}\\tCorrect Validation Examples = {correct}\")\n",
    "    \n",
    "fig,ax=plt.subplots(1,2,figsize=(16,5))\n",
    "ax[0].plot(np.arange(1,epochs+1),train_loss_array)\n",
    "ax[0].set(ylabel=\"Summed Training loss\",xlabel=\"Epochs\")\n",
    "ax[1].plot(np.arange(1,epochs+1),np.array(valid_acc_array)/len(testset)*100)\n",
    "ax[1].set(ylabel=\"Validation Accuracy\",xlabel=\"Epochs\")\n",
    "plt.savefig(\"RMS.png\",dpi=500)\n",
    "plt.clf()"
   ]
  },
  {
   "cell_type": "code",
   "execution_count": 24,
   "id": "mathematical-wireless",
   "metadata": {},
   "outputs": [
    {
     "name": "stdout",
     "output_type": "stream",
     "text": [
      "Maximum Accuracy achieved = 99.37\n"
     ]
    }
   ],
   "source": [
    "print(f'Maximum Accuracy achieved = {max(valid_acc_array)/len(testset)*100}')\n",
    "all_losses.append(train_loss_array)"
   ]
  },
  {
   "cell_type": "markdown",
   "id": "dedicated-specialist",
   "metadata": {},
   "source": [
    "## RMSprop without Regularization and with Dropout"
   ]
  },
  {
   "cell_type": "code",
   "execution_count": 25,
   "id": "designed-journey",
   "metadata": {},
   "outputs": [
    {
     "name": "stderr",
     "output_type": "stream",
     "text": [
      "100%|████████████████████████████████████████████████████████████████████████████| 938/938 [00:08<00:00, 106.41it/s]\n",
      "100%|████████████████████████████████████████████████████████████████████████████| 313/313 [00:01<00:00, 301.18it/s]\n",
      "  1%|▉                                                                            | 11/938 [00:00<00:08, 105.02it/s]"
     ]
    },
    {
     "name": "stdout",
     "output_type": "stream",
     "text": [
      "Epoch = 1\tSum of Training loss = 19597.465118408203\tCorrect Validation Examples = 9646\n"
     ]
    },
    {
     "name": "stderr",
     "output_type": "stream",
     "text": [
      "100%|████████████████████████████████████████████████████████████████████████████| 938/938 [00:08<00:00, 113.79it/s]\n",
      "100%|████████████████████████████████████████████████████████████████████████████| 313/313 [00:01<00:00, 310.42it/s]\n",
      "  1%|▉                                                                            | 11/938 [00:00<00:08, 106.05it/s]"
     ]
    },
    {
     "name": "stdout",
     "output_type": "stream",
     "text": [
      "Epoch = 2\tSum of Training loss = 6865.240772843361\tCorrect Validation Examples = 9781\n"
     ]
    },
    {
     "name": "stderr",
     "output_type": "stream",
     "text": [
      "100%|████████████████████████████████████████████████████████████████████████████| 938/938 [00:08<00:00, 108.59it/s]\n",
      "100%|████████████████████████████████████████████████████████████████████████████| 313/313 [00:01<00:00, 274.09it/s]\n",
      "  1%|▊                                                                             | 10/938 [00:00<00:09, 93.71it/s]"
     ]
    },
    {
     "name": "stdout",
     "output_type": "stream",
     "text": [
      "Epoch = 3\tSum of Training loss = 4596.209555834532\tCorrect Validation Examples = 9829\n"
     ]
    },
    {
     "name": "stderr",
     "output_type": "stream",
     "text": [
      "100%|████████████████████████████████████████████████████████████████████████████| 938/938 [00:08<00:00, 115.47it/s]\n",
      "100%|████████████████████████████████████████████████████████████████████████████| 313/313 [00:01<00:00, 302.34it/s]\n",
      "  2%|█▊                                                                           | 22/938 [00:00<00:08, 104.80it/s]"
     ]
    },
    {
     "name": "stdout",
     "output_type": "stream",
     "text": [
      "Epoch = 4\tSum of Training loss = 3622.6939064860344\tCorrect Validation Examples = 9850\n"
     ]
    },
    {
     "name": "stderr",
     "output_type": "stream",
     "text": [
      "100%|████████████████████████████████████████████████████████████████████████████| 938/938 [00:07<00:00, 117.25it/s]\n",
      "100%|████████████████████████████████████████████████████████████████████████████| 313/313 [00:01<00:00, 312.28it/s]\n",
      "  1%|▊                                                                              | 9/938 [00:00<00:10, 88.47it/s]"
     ]
    },
    {
     "name": "stdout",
     "output_type": "stream",
     "text": [
      "Epoch = 5\tSum of Training loss = 2979.269976839423\tCorrect Validation Examples = 9878\n"
     ]
    },
    {
     "name": "stderr",
     "output_type": "stream",
     "text": [
      "100%|████████████████████████████████████████████████████████████████████████████| 938/938 [00:08<00:00, 113.79it/s]\n",
      "100%|████████████████████████████████████████████████████████████████████████████| 313/313 [00:01<00:00, 311.05it/s]\n",
      "  1%|▉                                                                            | 11/938 [00:00<00:08, 105.04it/s]"
     ]
    },
    {
     "name": "stdout",
     "output_type": "stream",
     "text": [
      "Epoch = 6\tSum of Training loss = 2515.7277469411492\tCorrect Validation Examples = 9873\n"
     ]
    },
    {
     "name": "stderr",
     "output_type": "stream",
     "text": [
      "100%|████████████████████████████████████████████████████████████████████████████| 938/938 [00:08<00:00, 115.89it/s]\n",
      "100%|████████████████████████████████████████████████████████████████████████████| 313/313 [00:01<00:00, 299.32it/s]\n",
      "  1%|▉                                                                            | 11/938 [00:00<00:08, 107.08it/s]"
     ]
    },
    {
     "name": "stdout",
     "output_type": "stream",
     "text": [
      "Epoch = 7\tSum of Training loss = 2203.4354553073645\tCorrect Validation Examples = 9883\n"
     ]
    },
    {
     "name": "stderr",
     "output_type": "stream",
     "text": [
      "100%|████████████████████████████████████████████████████████████████████████████| 938/938 [00:08<00:00, 113.24it/s]\n",
      "100%|████████████████████████████████████████████████████████████████████████████| 313/313 [00:01<00:00, 303.24it/s]\n",
      "  2%|█▋                                                                           | 21/938 [00:00<00:08, 105.11it/s]"
     ]
    },
    {
     "name": "stdout",
     "output_type": "stream",
     "text": [
      "Epoch = 8\tSum of Training loss = 1922.4284472577274\tCorrect Validation Examples = 9898\n"
     ]
    },
    {
     "name": "stderr",
     "output_type": "stream",
     "text": [
      "100%|████████████████████████████████████████████████████████████████████████████| 938/938 [00:08<00:00, 113.75it/s]\n",
      "100%|████████████████████████████████████████████████████████████████████████████| 313/313 [00:01<00:00, 311.34it/s]\n",
      "  1%|▉                                                                            | 12/938 [00:00<00:08, 110.41it/s]"
     ]
    },
    {
     "name": "stdout",
     "output_type": "stream",
     "text": [
      "Epoch = 9\tSum of Training loss = 1707.1575088351965\tCorrect Validation Examples = 9894\n"
     ]
    },
    {
     "name": "stderr",
     "output_type": "stream",
     "text": [
      "100%|████████████████████████████████████████████████████████████████████████████| 938/938 [00:08<00:00, 113.38it/s]\n",
      "100%|████████████████████████████████████████████████████████████████████████████| 313/313 [00:01<00:00, 291.94it/s]\n",
      "  2%|█▊                                                                           | 22/938 [00:00<00:08, 105.44it/s]"
     ]
    },
    {
     "name": "stdout",
     "output_type": "stream",
     "text": [
      "Epoch = 10\tSum of Training loss = 1533.2368022669107\tCorrect Validation Examples = 9886\n"
     ]
    },
    {
     "name": "stderr",
     "output_type": "stream",
     "text": [
      "100%|████████████████████████████████████████████████████████████████████████████| 938/938 [00:08<00:00, 112.34it/s]\n",
      "100%|████████████████████████████████████████████████████████████████████████████| 313/313 [00:00<00:00, 315.67it/s]\n",
      "  1%|▉                                                                            | 11/938 [00:00<00:08, 105.04it/s]"
     ]
    },
    {
     "name": "stdout",
     "output_type": "stream",
     "text": [
      "Epoch = 11\tSum of Training loss = 1368.743579890579\tCorrect Validation Examples = 9910\n"
     ]
    },
    {
     "name": "stderr",
     "output_type": "stream",
     "text": [
      "100%|████████████████████████████████████████████████████████████████████████████| 938/938 [00:08<00:00, 114.06it/s]\n",
      "100%|████████████████████████████████████████████████████████████████████████████| 313/313 [00:01<00:00, 304.99it/s]\n",
      "  2%|█▊                                                                           | 22/938 [00:00<00:08, 106.66it/s]"
     ]
    },
    {
     "name": "stdout",
     "output_type": "stream",
     "text": [
      "Epoch = 12\tSum of Training loss = 1234.5218634773046\tCorrect Validation Examples = 9898\n"
     ]
    },
    {
     "name": "stderr",
     "output_type": "stream",
     "text": [
      "100%|████████████████████████████████████████████████████████████████████████████| 938/938 [00:08<00:00, 115.80it/s]\n",
      "100%|████████████████████████████████████████████████████████████████████████████| 313/313 [00:01<00:00, 295.55it/s]\n",
      "  1%|▉                                                                            | 11/938 [00:00<00:09, 102.12it/s]"
     ]
    },
    {
     "name": "stdout",
     "output_type": "stream",
     "text": [
      "Epoch = 13\tSum of Training loss = 1119.3917429763824\tCorrect Validation Examples = 9908\n"
     ]
    },
    {
     "name": "stderr",
     "output_type": "stream",
     "text": [
      "100%|████████████████████████████████████████████████████████████████████████████| 938/938 [00:08<00:00, 113.10it/s]\n",
      "100%|████████████████████████████████████████████████████████████████████████████| 313/313 [00:01<00:00, 300.04it/s]\n",
      "  1%|▉                                                                            | 11/938 [00:00<00:09, 101.19it/s]"
     ]
    },
    {
     "name": "stdout",
     "output_type": "stream",
     "text": [
      "Epoch = 14\tSum of Training loss = 1010.7601850777864\tCorrect Validation Examples = 9901\n"
     ]
    },
    {
     "name": "stderr",
     "output_type": "stream",
     "text": [
      "100%|████████████████████████████████████████████████████████████████████████████| 938/938 [00:07<00:00, 118.94it/s]\n",
      "100%|████████████████████████████████████████████████████████████████████████████| 313/313 [00:01<00:00, 299.44it/s]\n",
      "  1%|▉                                                                            | 11/938 [00:00<00:08, 103.05it/s]"
     ]
    },
    {
     "name": "stdout",
     "output_type": "stream",
     "text": [
      "Epoch = 15\tSum of Training loss = 914.9427664233372\tCorrect Validation Examples = 9909\n"
     ]
    },
    {
     "name": "stderr",
     "output_type": "stream",
     "text": [
      "100%|████████████████████████████████████████████████████████████████████████████| 938/938 [00:08<00:00, 113.41it/s]\n",
      "100%|████████████████████████████████████████████████████████████████████████████| 313/313 [00:01<00:00, 272.23it/s]\n",
      "  1%|▉                                                                            | 11/938 [00:00<00:08, 107.34it/s]"
     ]
    },
    {
     "name": "stdout",
     "output_type": "stream",
     "text": [
      "Epoch = 16\tSum of Training loss = 830.6797215621918\tCorrect Validation Examples = 9915\n"
     ]
    },
    {
     "name": "stderr",
     "output_type": "stream",
     "text": [
      "100%|████████████████████████████████████████████████████████████████████████████| 938/938 [00:08<00:00, 114.77it/s]\n",
      "100%|████████████████████████████████████████████████████████████████████████████| 313/313 [00:01<00:00, 292.21it/s]\n",
      "  1%|▊                                                                             | 10/938 [00:00<00:09, 94.59it/s]"
     ]
    },
    {
     "name": "stdout",
     "output_type": "stream",
     "text": [
      "Epoch = 17\tSum of Training loss = 758.5335787055083\tCorrect Validation Examples = 9916\n"
     ]
    },
    {
     "name": "stderr",
     "output_type": "stream",
     "text": [
      "100%|████████████████████████████████████████████████████████████████████████████| 938/938 [00:08<00:00, 111.43it/s]\n",
      "100%|████████████████████████████████████████████████████████████████████████████| 313/313 [00:01<00:00, 302.01it/s]\n",
      "  1%|▉                                                                            | 12/938 [00:00<00:08, 111.38it/s]"
     ]
    },
    {
     "name": "stdout",
     "output_type": "stream",
     "text": [
      "Epoch = 18\tSum of Training loss = 703.1393718151376\tCorrect Validation Examples = 9916\n"
     ]
    },
    {
     "name": "stderr",
     "output_type": "stream",
     "text": [
      "100%|████████████████████████████████████████████████████████████████████████████| 938/938 [00:08<00:00, 113.44it/s]\n",
      "100%|████████████████████████████████████████████████████████████████████████████| 313/313 [00:01<00:00, 298.09it/s]\n",
      "  2%|█▊                                                                           | 22/938 [00:00<00:08, 107.25it/s]"
     ]
    },
    {
     "name": "stdout",
     "output_type": "stream",
     "text": [
      "Epoch = 19\tSum of Training loss = 611.5810314766131\tCorrect Validation Examples = 9914\n"
     ]
    },
    {
     "name": "stderr",
     "output_type": "stream",
     "text": [
      "100%|████████████████████████████████████████████████████████████████████████████| 938/938 [00:08<00:00, 112.14it/s]\n",
      "100%|████████████████████████████████████████████████████████████████████████████| 313/313 [00:01<00:00, 304.64it/s]\n",
      "  3%|█▉                                                                           | 24/938 [00:00<00:07, 115.04it/s]"
     ]
    },
    {
     "name": "stdout",
     "output_type": "stream",
     "text": [
      "Epoch = 20\tSum of Training loss = 578.0073180920444\tCorrect Validation Examples = 9914\n"
     ]
    },
    {
     "name": "stderr",
     "output_type": "stream",
     "text": [
      "100%|████████████████████████████████████████████████████████████████████████████| 938/938 [00:08<00:00, 116.85it/s]\n",
      "100%|████████████████████████████████████████████████████████████████████████████| 313/313 [00:01<00:00, 304.69it/s]\n",
      "  1%|▊                                                                             | 10/938 [00:00<00:10, 91.15it/s]"
     ]
    },
    {
     "name": "stdout",
     "output_type": "stream",
     "text": [
      "Epoch = 21\tSum of Training loss = 530.5116736823693\tCorrect Validation Examples = 9917\n"
     ]
    },
    {
     "name": "stderr",
     "output_type": "stream",
     "text": [
      "100%|████████████████████████████████████████████████████████████████████████████| 938/938 [00:08<00:00, 105.84it/s]\n",
      "100%|████████████████████████████████████████████████████████████████████████████| 313/313 [00:01<00:00, 293.35it/s]\n",
      "  2%|█▉                                                                           | 23/938 [00:00<00:08, 109.92it/s]"
     ]
    },
    {
     "name": "stdout",
     "output_type": "stream",
     "text": [
      "Epoch = 22\tSum of Training loss = 462.2255168008851\tCorrect Validation Examples = 9911\n"
     ]
    },
    {
     "name": "stderr",
     "output_type": "stream",
     "text": [
      "100%|████████████████████████████████████████████████████████████████████████████| 938/938 [00:08<00:00, 115.18it/s]\n",
      "100%|████████████████████████████████████████████████████████████████████████████| 313/313 [00:01<00:00, 291.67it/s]\n",
      "  1%|▉                                                                            | 11/938 [00:00<00:09, 101.19it/s]"
     ]
    },
    {
     "name": "stdout",
     "output_type": "stream",
     "text": [
      "Epoch = 23\tSum of Training loss = 421.27311234152876\tCorrect Validation Examples = 9913\n"
     ]
    },
    {
     "name": "stderr",
     "output_type": "stream",
     "text": [
      "100%|████████████████████████████████████████████████████████████████████████████| 938/938 [00:08<00:00, 108.77it/s]\n",
      "100%|████████████████████████████████████████████████████████████████████████████| 313/313 [00:01<00:00, 264.84it/s]\n",
      "  1%|▉                                                                            | 11/938 [00:00<00:09, 102.13it/s]"
     ]
    },
    {
     "name": "stdout",
     "output_type": "stream",
     "text": [
      "Epoch = 24\tSum of Training loss = 402.7525066935923\tCorrect Validation Examples = 9914\n"
     ]
    },
    {
     "name": "stderr",
     "output_type": "stream",
     "text": [
      "100%|████████████████████████████████████████████████████████████████████████████| 938/938 [00:08<00:00, 113.71it/s]\n",
      "100%|████████████████████████████████████████████████████████████████████████████| 313/313 [00:01<00:00, 306.78it/s]\n",
      "  1%|▉                                                                            | 11/938 [00:00<00:08, 106.05it/s]"
     ]
    },
    {
     "name": "stdout",
     "output_type": "stream",
     "text": [
      "Epoch = 25\tSum of Training loss = 349.9272919059731\tCorrect Validation Examples = 9914\n"
     ]
    },
    {
     "name": "stderr",
     "output_type": "stream",
     "text": [
      "100%|████████████████████████████████████████████████████████████████████████████| 938/938 [00:08<00:00, 114.07it/s]\n",
      "100%|████████████████████████████████████████████████████████████████████████████| 313/313 [00:00<00:00, 315.40it/s]\n",
      "  1%|▊                                                                             | 10/938 [00:00<00:09, 99.28it/s]"
     ]
    },
    {
     "name": "stdout",
     "output_type": "stream",
     "text": [
      "Epoch = 26\tSum of Training loss = 347.02209477400174\tCorrect Validation Examples = 9909\n"
     ]
    },
    {
     "name": "stderr",
     "output_type": "stream",
     "text": [
      "100%|████████████████████████████████████████████████████████████████████████████| 938/938 [00:08<00:00, 114.37it/s]\n",
      "100%|████████████████████████████████████████████████████████████████████████████| 313/313 [00:01<00:00, 302.64it/s]\n",
      "  1%|▊                                                                              | 9/938 [00:00<00:10, 85.94it/s]"
     ]
    },
    {
     "name": "stdout",
     "output_type": "stream",
     "text": [
      "Epoch = 27\tSum of Training loss = 334.63027067517396\tCorrect Validation Examples = 9923\n"
     ]
    },
    {
     "name": "stderr",
     "output_type": "stream",
     "text": [
      "100%|████████████████████████████████████████████████████████████████████████████| 938/938 [00:08<00:00, 115.66it/s]\n",
      "100%|████████████████████████████████████████████████████████████████████████████| 313/313 [00:01<00:00, 304.72it/s]\n",
      "  1%|▉                                                                            | 11/938 [00:00<00:08, 107.08it/s]"
     ]
    },
    {
     "name": "stdout",
     "output_type": "stream",
     "text": [
      "Epoch = 28\tSum of Training loss = 297.6321064768126\tCorrect Validation Examples = 9916\n"
     ]
    },
    {
     "name": "stderr",
     "output_type": "stream",
     "text": [
      "100%|████████████████████████████████████████████████████████████████████████████| 938/938 [00:08<00:00, 114.27it/s]\n",
      "100%|████████████████████████████████████████████████████████████████████████████| 313/313 [00:01<00:00, 299.18it/s]\n",
      "  2%|█▋                                                                           | 21/938 [00:00<00:09, 100.61it/s]"
     ]
    },
    {
     "name": "stdout",
     "output_type": "stream",
     "text": [
      "Epoch = 29\tSum of Training loss = 270.8983238284709\tCorrect Validation Examples = 9920\n"
     ]
    },
    {
     "name": "stderr",
     "output_type": "stream",
     "text": [
      "100%|████████████████████████████████████████████████████████████████████████████| 938/938 [00:08<00:00, 112.01it/s]\n",
      "100%|████████████████████████████████████████████████████████████████████████████| 313/313 [00:01<00:00, 293.85it/s]\n",
      "  1%|▉                                                                            | 11/938 [00:00<00:08, 107.08it/s]"
     ]
    },
    {
     "name": "stdout",
     "output_type": "stream",
     "text": [
      "Epoch = 30\tSum of Training loss = 243.20090353391424\tCorrect Validation Examples = 9913\n"
     ]
    },
    {
     "name": "stderr",
     "output_type": "stream",
     "text": [
      "100%|████████████████████████████████████████████████████████████████████████████| 938/938 [00:08<00:00, 114.94it/s]\n",
      "100%|████████████████████████████████████████████████████████████████████████████| 313/313 [00:01<00:00, 309.98it/s]\n",
      "  2%|█▊                                                                           | 22/938 [00:00<00:08, 107.49it/s]"
     ]
    },
    {
     "name": "stdout",
     "output_type": "stream",
     "text": [
      "Epoch = 31\tSum of Training loss = 222.21785571268992\tCorrect Validation Examples = 9915\n"
     ]
    },
    {
     "name": "stderr",
     "output_type": "stream",
     "text": [
      "100%|████████████████████████████████████████████████████████████████████████████| 938/938 [00:07<00:00, 119.30it/s]\n",
      "100%|████████████████████████████████████████████████████████████████████████████| 313/313 [00:00<00:00, 318.94it/s]\n",
      "  1%|▉                                                                            | 12/938 [00:00<00:08, 110.39it/s]"
     ]
    },
    {
     "name": "stdout",
     "output_type": "stream",
     "text": [
      "Epoch = 32\tSum of Training loss = 204.64183526014676\tCorrect Validation Examples = 9918\n"
     ]
    },
    {
     "name": "stderr",
     "output_type": "stream",
     "text": [
      "100%|████████████████████████████████████████████████████████████████████████████| 938/938 [00:07<00:00, 123.06it/s]\n",
      "100%|████████████████████████████████████████████████████████████████████████████| 313/313 [00:00<00:00, 322.75it/s]\n",
      "  1%|▉                                                                            | 11/938 [00:00<00:08, 106.05it/s]"
     ]
    },
    {
     "name": "stdout",
     "output_type": "stream",
     "text": [
      "Epoch = 33\tSum of Training loss = 191.00679362293886\tCorrect Validation Examples = 9917\n"
     ]
    },
    {
     "name": "stderr",
     "output_type": "stream",
     "text": [
      "100%|████████████████████████████████████████████████████████████████████████████| 938/938 [00:07<00:00, 122.05it/s]\n",
      "100%|████████████████████████████████████████████████████████████████████████████| 313/313 [00:00<00:00, 321.21it/s]\n",
      "  1%|▉                                                                            | 11/938 [00:00<00:08, 109.20it/s]"
     ]
    },
    {
     "name": "stdout",
     "output_type": "stream",
     "text": [
      "Epoch = 34\tSum of Training loss = 203.3416390468774\tCorrect Validation Examples = 9916\n"
     ]
    },
    {
     "name": "stderr",
     "output_type": "stream",
     "text": [
      "100%|████████████████████████████████████████████████████████████████████████████| 938/938 [00:07<00:00, 122.74it/s]\n",
      "100%|████████████████████████████████████████████████████████████████████████████| 313/313 [00:00<00:00, 322.53it/s]\n",
      "  1%|▉                                                                            | 11/938 [00:00<00:08, 105.04it/s]"
     ]
    },
    {
     "name": "stdout",
     "output_type": "stream",
     "text": [
      "Epoch = 35\tSum of Training loss = 157.11603014840512\tCorrect Validation Examples = 9921\n"
     ]
    },
    {
     "name": "stderr",
     "output_type": "stream",
     "text": [
      "100%|████████████████████████████████████████████████████████████████████████████| 938/938 [00:07<00:00, 122.05it/s]\n",
      "100%|████████████████████████████████████████████████████████████████████████████| 313/313 [00:00<00:00, 316.68it/s]\n",
      "  1%|▉                                                                            | 11/938 [00:00<00:08, 108.13it/s]"
     ]
    },
    {
     "name": "stdout",
     "output_type": "stream",
     "text": [
      "Epoch = 36\tSum of Training loss = 184.47767042686246\tCorrect Validation Examples = 9913\n"
     ]
    },
    {
     "name": "stderr",
     "output_type": "stream",
     "text": [
      "100%|████████████████████████████████████████████████████████████████████████████| 938/938 [00:07<00:00, 122.43it/s]\n",
      "100%|████████████████████████████████████████████████████████████████████████████| 313/313 [00:00<00:00, 322.20it/s]\n",
      "  1%|▉                                                                            | 12/938 [00:00<00:08, 111.41it/s]"
     ]
    },
    {
     "name": "stdout",
     "output_type": "stream",
     "text": [
      "Epoch = 37\tSum of Training loss = 162.71716823756287\tCorrect Validation Examples = 9914\n"
     ]
    },
    {
     "name": "stderr",
     "output_type": "stream",
     "text": [
      "100%|████████████████████████████████████████████████████████████████████████████| 938/938 [00:07<00:00, 122.09it/s]\n",
      "100%|████████████████████████████████████████████████████████████████████████████| 313/313 [00:00<00:00, 313.84it/s]\n",
      "  1%|▉                                                                            | 12/938 [00:00<00:08, 110.38it/s]"
     ]
    },
    {
     "name": "stdout",
     "output_type": "stream",
     "text": [
      "Epoch = 38\tSum of Training loss = 138.34444685521885\tCorrect Validation Examples = 9914\n"
     ]
    },
    {
     "name": "stderr",
     "output_type": "stream",
     "text": [
      "100%|████████████████████████████████████████████████████████████████████████████| 938/938 [00:07<00:00, 122.56it/s]\n",
      "100%|████████████████████████████████████████████████████████████████████████████| 313/313 [00:01<00:00, 291.94it/s]\n",
      "  2%|█▉                                                                           | 23/938 [00:00<00:08, 109.31it/s]"
     ]
    },
    {
     "name": "stdout",
     "output_type": "stream",
     "text": [
      "Epoch = 39\tSum of Training loss = 124.7884522491222\tCorrect Validation Examples = 9917\n"
     ]
    },
    {
     "name": "stderr",
     "output_type": "stream",
     "text": [
      "100%|████████████████████████████████████████████████████████████████████████████| 938/938 [00:07<00:00, 118.12it/s]\n",
      "100%|████████████████████████████████████████████████████████████████████████████| 313/313 [00:00<00:00, 325.01it/s]\n",
      "  2%|█▉                                                                           | 23/938 [00:00<00:08, 114.11it/s]"
     ]
    },
    {
     "name": "stdout",
     "output_type": "stream",
     "text": [
      "Epoch = 40\tSum of Training loss = 126.16846915475617\tCorrect Validation Examples = 9914\n"
     ]
    },
    {
     "name": "stderr",
     "output_type": "stream",
     "text": [
      "100%|████████████████████████████████████████████████████████████████████████████| 938/938 [00:07<00:00, 123.10it/s]\n",
      "100%|████████████████████████████████████████████████████████████████████████████| 313/313 [00:00<00:00, 320.90it/s]\n",
      "  1%|▉                                                                            | 11/938 [00:00<00:08, 109.20it/s]"
     ]
    },
    {
     "name": "stdout",
     "output_type": "stream",
     "text": [
      "Epoch = 41\tSum of Training loss = 123.32497250527013\tCorrect Validation Examples = 9925\n"
     ]
    },
    {
     "name": "stderr",
     "output_type": "stream",
     "text": [
      "100%|████████████████████████████████████████████████████████████████████████████| 938/938 [00:07<00:00, 122.39it/s]\n",
      "100%|████████████████████████████████████████████████████████████████████████████| 313/313 [00:00<00:00, 320.57it/s]\n",
      "  1%|▉                                                                            | 11/938 [00:00<00:08, 109.17it/s]"
     ]
    },
    {
     "name": "stdout",
     "output_type": "stream",
     "text": [
      "Epoch = 42\tSum of Training loss = 113.08581855768352\tCorrect Validation Examples = 9915\n"
     ]
    },
    {
     "name": "stderr",
     "output_type": "stream",
     "text": [
      "100%|████████████████████████████████████████████████████████████████████████████| 938/938 [00:07<00:00, 121.66it/s]\n",
      "100%|████████████████████████████████████████████████████████████████████████████| 313/313 [00:00<00:00, 322.20it/s]\n",
      "  2%|█▊                                                                           | 22/938 [00:00<00:08, 108.31it/s]"
     ]
    },
    {
     "name": "stdout",
     "output_type": "stream",
     "text": [
      "Epoch = 43\tSum of Training loss = 106.55094742591245\tCorrect Validation Examples = 9920\n"
     ]
    },
    {
     "name": "stderr",
     "output_type": "stream",
     "text": [
      "100%|████████████████████████████████████████████████████████████████████████████| 938/938 [00:07<00:00, 120.26it/s]\n",
      "100%|████████████████████████████████████████████████████████████████████████████| 313/313 [00:00<00:00, 314.37it/s]\n",
      "  1%|▉                                                                            | 11/938 [00:00<00:08, 106.05it/s]"
     ]
    },
    {
     "name": "stdout",
     "output_type": "stream",
     "text": [
      "Epoch = 44\tSum of Training loss = 100.76996106617662\tCorrect Validation Examples = 9922\n"
     ]
    },
    {
     "name": "stderr",
     "output_type": "stream",
     "text": [
      "100%|████████████████████████████████████████████████████████████████████████████| 938/938 [00:07<00:00, 118.73it/s]\n",
      "100%|████████████████████████████████████████████████████████████████████████████| 313/313 [00:01<00:00, 297.89it/s]\n",
      "  1%|▊                                                                              | 9/938 [00:00<00:10, 85.14it/s]"
     ]
    },
    {
     "name": "stdout",
     "output_type": "stream",
     "text": [
      "Epoch = 45\tSum of Training loss = 92.1585680967255\tCorrect Validation Examples = 9915\n"
     ]
    },
    {
     "name": "stderr",
     "output_type": "stream",
     "text": [
      "100%|████████████████████████████████████████████████████████████████████████████| 938/938 [00:07<00:00, 121.14it/s]\n",
      "100%|████████████████████████████████████████████████████████████████████████████| 313/313 [00:00<00:00, 323.79it/s]\n",
      "  2%|█▊                                                                           | 22/938 [00:00<00:08, 108.56it/s]"
     ]
    },
    {
     "name": "stdout",
     "output_type": "stream",
     "text": [
      "Epoch = 46\tSum of Training loss = 91.55426245155877\tCorrect Validation Examples = 9920\n"
     ]
    },
    {
     "name": "stderr",
     "output_type": "stream",
     "text": [
      "100%|████████████████████████████████████████████████████████████████████████████| 938/938 [00:07<00:00, 121.26it/s]\n",
      "100%|████████████████████████████████████████████████████████████████████████████| 313/313 [00:00<00:00, 321.48it/s]\n",
      "  1%|▉                                                                            | 11/938 [00:00<00:08, 107.08it/s]"
     ]
    },
    {
     "name": "stdout",
     "output_type": "stream",
     "text": [
      "Epoch = 47\tSum of Training loss = 99.33703584277828\tCorrect Validation Examples = 9917\n"
     ]
    },
    {
     "name": "stderr",
     "output_type": "stream",
     "text": [
      "100%|████████████████████████████████████████████████████████████████████████████| 938/938 [00:07<00:00, 120.10it/s]\n",
      "100%|████████████████████████████████████████████████████████████████████████████| 313/313 [00:00<00:00, 315.66it/s]\n",
      "  1%|▉                                                                            | 11/938 [00:00<00:08, 106.54it/s]"
     ]
    },
    {
     "name": "stdout",
     "output_type": "stream",
     "text": [
      "Epoch = 48\tSum of Training loss = 88.62070937249791\tCorrect Validation Examples = 9923\n"
     ]
    },
    {
     "name": "stderr",
     "output_type": "stream",
     "text": [
      "100%|████████████████████████████████████████████████████████████████████████████| 938/938 [00:07<00:00, 121.16it/s]\n",
      "100%|████████████████████████████████████████████████████████████████████████████| 313/313 [00:00<00:00, 319.25it/s]\n",
      "  1%|▉                                                                            | 11/938 [00:00<00:08, 107.08it/s]"
     ]
    },
    {
     "name": "stdout",
     "output_type": "stream",
     "text": [
      "Epoch = 49\tSum of Training loss = 67.7252461512735\tCorrect Validation Examples = 9925\n"
     ]
    },
    {
     "name": "stderr",
     "output_type": "stream",
     "text": [
      "100%|████████████████████████████████████████████████████████████████████████████| 938/938 [00:07<00:00, 121.46it/s]\n",
      "100%|████████████████████████████████████████████████████████████████████████████| 313/313 [00:00<00:00, 321.22it/s]\n",
      "  1%|▉                                                                            | 11/938 [00:00<00:08, 107.08it/s]"
     ]
    },
    {
     "name": "stdout",
     "output_type": "stream",
     "text": [
      "Epoch = 50\tSum of Training loss = 81.51889670466426\tCorrect Validation Examples = 9920\n"
     ]
    },
    {
     "name": "stderr",
     "output_type": "stream",
     "text": [
      "100%|████████████████████████████████████████████████████████████████████████████| 938/938 [00:07<00:00, 122.55it/s]\n",
      "100%|████████████████████████████████████████████████████████████████████████████| 313/313 [00:01<00:00, 311.97it/s]\n",
      "  1%|▉                                                                            | 11/938 [00:00<00:08, 108.13it/s]"
     ]
    },
    {
     "name": "stdout",
     "output_type": "stream",
     "text": [
      "Epoch = 51\tSum of Training loss = 86.39598431872946\tCorrect Validation Examples = 9927\n"
     ]
    },
    {
     "name": "stderr",
     "output_type": "stream",
     "text": [
      "100%|████████████████████████████████████████████████████████████████████████████| 938/938 [00:07<00:00, 120.86it/s]\n",
      "100%|████████████████████████████████████████████████████████████████████████████| 313/313 [00:00<00:00, 317.33it/s]\n",
      "  1%|▉                                                                            | 11/938 [00:00<00:08, 107.07it/s]"
     ]
    },
    {
     "name": "stdout",
     "output_type": "stream",
     "text": [
      "Epoch = 52\tSum of Training loss = 60.676496929285804\tCorrect Validation Examples = 9920\n"
     ]
    },
    {
     "name": "stderr",
     "output_type": "stream",
     "text": [
      "100%|████████████████████████████████████████████████████████████████████████████| 938/938 [00:07<00:00, 121.71it/s]\n",
      "100%|████████████████████████████████████████████████████████████████████████████| 313/313 [00:00<00:00, 323.53it/s]\n",
      "  2%|█▊                                                                           | 22/938 [00:00<00:08, 107.86it/s]"
     ]
    },
    {
     "name": "stdout",
     "output_type": "stream",
     "text": [
      "Epoch = 53\tSum of Training loss = 69.49929123759694\tCorrect Validation Examples = 9924\n"
     ]
    },
    {
     "name": "stderr",
     "output_type": "stream",
     "text": [
      "100%|████████████████████████████████████████████████████████████████████████████| 938/938 [00:07<00:00, 121.70it/s]\n",
      "100%|████████████████████████████████████████████████████████████████████████████| 313/313 [00:00<00:00, 321.88it/s]\n",
      "  1%|▉                                                                            | 11/938 [00:00<00:08, 107.08it/s]"
     ]
    },
    {
     "name": "stdout",
     "output_type": "stream",
     "text": [
      "Epoch = 54\tSum of Training loss = 63.385515228661006\tCorrect Validation Examples = 9913\n"
     ]
    },
    {
     "name": "stderr",
     "output_type": "stream",
     "text": [
      "100%|████████████████████████████████████████████████████████████████████████████| 938/938 [00:07<00:00, 121.32it/s]\n",
      "100%|████████████████████████████████████████████████████████████████████████████| 313/313 [00:00<00:00, 319.26it/s]\n",
      "  1%|▉                                                                            | 12/938 [00:00<00:08, 111.41it/s]"
     ]
    },
    {
     "name": "stdout",
     "output_type": "stream",
     "text": [
      "Epoch = 55\tSum of Training loss = 58.8056349879389\tCorrect Validation Examples = 9923\n"
     ]
    },
    {
     "name": "stderr",
     "output_type": "stream",
     "text": [
      "100%|████████████████████████████████████████████████████████████████████████████| 938/938 [00:07<00:00, 122.30it/s]\n",
      "100%|████████████████████████████████████████████████████████████████████████████| 313/313 [00:00<00:00, 322.88it/s]\n",
      "  1%|▉                                                                            | 11/938 [00:00<00:08, 109.18it/s]"
     ]
    },
    {
     "name": "stdout",
     "output_type": "stream",
     "text": [
      "Epoch = 56\tSum of Training loss = 65.84663415097248\tCorrect Validation Examples = 9921\n"
     ]
    },
    {
     "name": "stderr",
     "output_type": "stream",
     "text": [
      "100%|████████████████████████████████████████████████████████████████████████████| 938/938 [00:07<00:00, 123.56it/s]\n",
      "100%|████████████████████████████████████████████████████████████████████████████| 313/313 [00:01<00:00, 311.95it/s]\n",
      "  1%|▉                                                                            | 12/938 [00:00<00:08, 108.40it/s]"
     ]
    },
    {
     "name": "stdout",
     "output_type": "stream",
     "text": [
      "Epoch = 57\tSum of Training loss = 47.893808233166965\tCorrect Validation Examples = 9913\n"
     ]
    },
    {
     "name": "stderr",
     "output_type": "stream",
     "text": [
      "100%|████████████████████████████████████████████████████████████████████████████| 938/938 [00:07<00:00, 121.94it/s]\n",
      "100%|████████████████████████████████████████████████████████████████████████████| 313/313 [00:00<00:00, 319.58it/s]\n",
      "  1%|▉                                                                            | 12/938 [00:00<00:08, 110.39it/s]"
     ]
    },
    {
     "name": "stdout",
     "output_type": "stream",
     "text": [
      "Epoch = 58\tSum of Training loss = 68.29497664218843\tCorrect Validation Examples = 9925\n"
     ]
    },
    {
     "name": "stderr",
     "output_type": "stream",
     "text": [
      "100%|████████████████████████████████████████████████████████████████████████████| 938/938 [00:07<00:00, 118.51it/s]\n",
      "100%|████████████████████████████████████████████████████████████████████████████| 313/313 [00:01<00:00, 309.17it/s]\n",
      "  1%|▉                                                                            | 11/938 [00:00<00:08, 106.05it/s]"
     ]
    },
    {
     "name": "stdout",
     "output_type": "stream",
     "text": [
      "Epoch = 59\tSum of Training loss = 66.54473841431229\tCorrect Validation Examples = 9915\n"
     ]
    },
    {
     "name": "stderr",
     "output_type": "stream",
     "text": [
      "100%|████████████████████████████████████████████████████████████████████████████| 938/938 [00:07<00:00, 119.07it/s]\n",
      "100%|████████████████████████████████████████████████████████████████████████████| 313/313 [00:01<00:00, 282.68it/s]\n",
      "  1%|▉                                                                            | 12/938 [00:00<00:08, 110.39it/s]"
     ]
    },
    {
     "name": "stdout",
     "output_type": "stream",
     "text": [
      "Epoch = 60\tSum of Training loss = 41.457169900392614\tCorrect Validation Examples = 9922\n"
     ]
    },
    {
     "name": "stderr",
     "output_type": "stream",
     "text": [
      "100%|████████████████████████████████████████████████████████████████████████████| 938/938 [00:08<00:00, 115.42it/s]\n",
      "100%|████████████████████████████████████████████████████████████████████████████| 313/313 [00:01<00:00, 309.49it/s]\n",
      "  1%|▉                                                                            | 11/938 [00:00<00:08, 109.20it/s]"
     ]
    },
    {
     "name": "stdout",
     "output_type": "stream",
     "text": [
      "Epoch = 61\tSum of Training loss = 39.646464619612516\tCorrect Validation Examples = 9920\n"
     ]
    },
    {
     "name": "stderr",
     "output_type": "stream",
     "text": [
      "100%|████████████████████████████████████████████████████████████████████████████| 938/938 [00:08<00:00, 112.96it/s]\n",
      "100%|████████████████████████████████████████████████████████████████████████████| 313/313 [00:01<00:00, 300.61it/s]\n",
      "  2%|█▋                                                                           | 21/938 [00:00<00:08, 103.07it/s]"
     ]
    },
    {
     "name": "stdout",
     "output_type": "stream",
     "text": [
      "Epoch = 62\tSum of Training loss = 61.34203326278646\tCorrect Validation Examples = 9916\n"
     ]
    },
    {
     "name": "stderr",
     "output_type": "stream",
     "text": [
      "100%|████████████████████████████████████████████████████████████████████████████| 938/938 [00:08<00:00, 112.04it/s]\n",
      "100%|████████████████████████████████████████████████████████████████████████████| 313/313 [00:00<00:00, 314.16it/s]\n",
      "  1%|▉                                                                            | 11/938 [00:00<00:08, 109.20it/s]"
     ]
    },
    {
     "name": "stdout",
     "output_type": "stream",
     "text": [
      "Epoch = 63\tSum of Training loss = 50.441654320978444\tCorrect Validation Examples = 9927\n"
     ]
    },
    {
     "name": "stderr",
     "output_type": "stream",
     "text": [
      "100%|████████████████████████████████████████████████████████████████████████████| 938/938 [00:07<00:00, 119.62it/s]\n",
      "100%|████████████████████████████████████████████████████████████████████████████| 313/313 [00:01<00:00, 286.34it/s]\n",
      "  2%|█▊                                                                           | 22/938 [00:00<00:08, 104.81it/s]"
     ]
    },
    {
     "name": "stdout",
     "output_type": "stream",
     "text": [
      "Epoch = 64\tSum of Training loss = 45.023749759212876\tCorrect Validation Examples = 9927\n"
     ]
    },
    {
     "name": "stderr",
     "output_type": "stream",
     "text": [
      "100%|████████████████████████████████████████████████████████████████████████████| 938/938 [00:08<00:00, 110.35it/s]\n",
      "100%|████████████████████████████████████████████████████████████████████████████| 313/313 [00:01<00:00, 300.32it/s]\n",
      "  1%|▉                                                                            | 11/938 [00:00<00:08, 105.04it/s]"
     ]
    },
    {
     "name": "stdout",
     "output_type": "stream",
     "text": [
      "Epoch = 65\tSum of Training loss = 41.00667882932401\tCorrect Validation Examples = 9924\n"
     ]
    },
    {
     "name": "stderr",
     "output_type": "stream",
     "text": [
      "100%|████████████████████████████████████████████████████████████████████████████| 938/938 [00:08<00:00, 113.77it/s]\n",
      "100%|████████████████████████████████████████████████████████████████████████████| 313/313 [00:01<00:00, 305.68it/s]\n",
      "  2%|█▊                                                                           | 22/938 [00:00<00:08, 104.40it/s]"
     ]
    },
    {
     "name": "stdout",
     "output_type": "stream",
     "text": [
      "Epoch = 66\tSum of Training loss = 48.44123591183517\tCorrect Validation Examples = 9923\n"
     ]
    },
    {
     "name": "stderr",
     "output_type": "stream",
     "text": [
      "100%|████████████████████████████████████████████████████████████████████████████| 938/938 [00:08<00:00, 112.72it/s]\n",
      "100%|████████████████████████████████████████████████████████████████████████████| 313/313 [00:01<00:00, 296.35it/s]\n",
      "  1%|▉                                                                            | 11/938 [00:00<00:08, 104.05it/s]"
     ]
    },
    {
     "name": "stdout",
     "output_type": "stream",
     "text": [
      "Epoch = 67\tSum of Training loss = 47.81528258987242\tCorrect Validation Examples = 9919\n"
     ]
    },
    {
     "name": "stderr",
     "output_type": "stream",
     "text": [
      "100%|████████████████████████████████████████████████████████████████████████████| 938/938 [00:08<00:00, 110.90it/s]\n",
      "100%|████████████████████████████████████████████████████████████████████████████| 313/313 [00:01<00:00, 298.61it/s]\n",
      "  1%|▉                                                                            | 11/938 [00:00<00:09, 102.13it/s]"
     ]
    },
    {
     "name": "stdout",
     "output_type": "stream",
     "text": [
      "Epoch = 68\tSum of Training loss = 29.00702672021145\tCorrect Validation Examples = 9923\n"
     ]
    },
    {
     "name": "stderr",
     "output_type": "stream",
     "text": [
      "100%|████████████████████████████████████████████████████████████████████████████| 938/938 [00:08<00:00, 114.47it/s]\n",
      "100%|████████████████████████████████████████████████████████████████████████████| 313/313 [00:01<00:00, 300.03it/s]\n",
      "  1%|▉                                                                            | 11/938 [00:00<00:08, 104.51it/s]"
     ]
    },
    {
     "name": "stdout",
     "output_type": "stream",
     "text": [
      "Epoch = 69\tSum of Training loss = 35.22750645170976\tCorrect Validation Examples = 9915\n"
     ]
    },
    {
     "name": "stderr",
     "output_type": "stream",
     "text": [
      "100%|████████████████████████████████████████████████████████████████████████████| 938/938 [00:08<00:00, 112.94it/s]\n",
      "100%|████████████████████████████████████████████████████████████████████████████| 313/313 [00:01<00:00, 304.99it/s]\n",
      "  1%|▉                                                                            | 11/938 [00:00<00:08, 108.13it/s]"
     ]
    },
    {
     "name": "stdout",
     "output_type": "stream",
     "text": [
      "Epoch = 70\tSum of Training loss = 48.10091505378809\tCorrect Validation Examples = 9919\n"
     ]
    },
    {
     "name": "stderr",
     "output_type": "stream",
     "text": [
      "100%|████████████████████████████████████████████████████████████████████████████| 938/938 [00:08<00:00, 115.00it/s]\n",
      "100%|████████████████████████████████████████████████████████████████████████████| 313/313 [00:01<00:00, 306.48it/s]\n",
      "  1%|▉                                                                            | 11/938 [00:00<00:08, 106.05it/s]"
     ]
    },
    {
     "name": "stdout",
     "output_type": "stream",
     "text": [
      "Epoch = 71\tSum of Training loss = 24.581502877384374\tCorrect Validation Examples = 9914\n"
     ]
    },
    {
     "name": "stderr",
     "output_type": "stream",
     "text": [
      "100%|████████████████████████████████████████████████████████████████████████████| 938/938 [00:08<00:00, 116.33it/s]\n",
      "100%|████████████████████████████████████████████████████████████████████████████| 313/313 [00:01<00:00, 306.48it/s]\n",
      "  1%|▉                                                                            | 11/938 [00:00<00:08, 107.08it/s]"
     ]
    },
    {
     "name": "stdout",
     "output_type": "stream",
     "text": [
      "Epoch = 72\tSum of Training loss = 44.691743898924145\tCorrect Validation Examples = 9912\n"
     ]
    },
    {
     "name": "stderr",
     "output_type": "stream",
     "text": [
      "100%|████████████████████████████████████████████████████████████████████████████| 938/938 [00:08<00:00, 114.40it/s]\n",
      "100%|████████████████████████████████████████████████████████████████████████████| 313/313 [00:01<00:00, 310.41it/s]\n",
      "  1%|▉                                                                            | 11/938 [00:00<00:08, 109.20it/s]"
     ]
    },
    {
     "name": "stdout",
     "output_type": "stream",
     "text": [
      "Epoch = 73\tSum of Training loss = 42.11932343489411\tCorrect Validation Examples = 9917\n"
     ]
    },
    {
     "name": "stderr",
     "output_type": "stream",
     "text": [
      "100%|████████████████████████████████████████████████████████████████████████████| 938/938 [00:07<00:00, 117.42it/s]\n",
      "100%|████████████████████████████████████████████████████████████████████████████| 313/313 [00:01<00:00, 303.92it/s]\n",
      "  1%|▉                                                                            | 11/938 [00:00<00:08, 107.08it/s]"
     ]
    },
    {
     "name": "stdout",
     "output_type": "stream",
     "text": [
      "Epoch = 74\tSum of Training loss = 47.93222637785228\tCorrect Validation Examples = 9920\n"
     ]
    },
    {
     "name": "stderr",
     "output_type": "stream",
     "text": [
      "100%|████████████████████████████████████████████████████████████████████████████| 938/938 [00:08<00:00, 117.05it/s]\n",
      "100%|████████████████████████████████████████████████████████████████████████████| 313/313 [00:01<00:00, 311.66it/s]\n",
      "  1%|▉                                                                            | 11/938 [00:00<00:08, 106.05it/s]"
     ]
    },
    {
     "name": "stdout",
     "output_type": "stream",
     "text": [
      "Epoch = 75\tSum of Training loss = 39.12570450406074\tCorrect Validation Examples = 9917\n"
     ]
    },
    {
     "name": "stderr",
     "output_type": "stream",
     "text": [
      "100%|████████████████████████████████████████████████████████████████████████████| 938/938 [00:08<00:00, 113.70it/s]\n",
      "100%|████████████████████████████████████████████████████████████████████████████| 313/313 [00:01<00:00, 292.40it/s]\n",
      "  1%|▉                                                                            | 11/938 [00:00<00:08, 108.13it/s]"
     ]
    },
    {
     "name": "stdout",
     "output_type": "stream",
     "text": [
      "Epoch = 76\tSum of Training loss = 31.275420920238034\tCorrect Validation Examples = 9917\n"
     ]
    },
    {
     "name": "stderr",
     "output_type": "stream",
     "text": [
      "100%|████████████████████████████████████████████████████████████████████████████| 938/938 [00:08<00:00, 113.60it/s]\n",
      "100%|████████████████████████████████████████████████████████████████████████████| 313/313 [00:01<00:00, 285.46it/s]\n",
      "  1%|▊                                                                             | 10/938 [00:00<00:10, 91.15it/s]"
     ]
    },
    {
     "name": "stdout",
     "output_type": "stream",
     "text": [
      "Epoch = 77\tSum of Training loss = 34.439736718159125\tCorrect Validation Examples = 9924\n"
     ]
    },
    {
     "name": "stderr",
     "output_type": "stream",
     "text": [
      "100%|████████████████████████████████████████████████████████████████████████████| 938/938 [00:08<00:00, 114.20it/s]\n",
      "100%|████████████████████████████████████████████████████████████████████████████| 313/313 [00:01<00:00, 304.40it/s]\n",
      "  2%|█▊                                                                           | 22/938 [00:00<00:09, 101.63it/s]"
     ]
    },
    {
     "name": "stdout",
     "output_type": "stream",
     "text": [
      "Epoch = 78\tSum of Training loss = 63.38268010520344\tCorrect Validation Examples = 9919\n"
     ]
    },
    {
     "name": "stderr",
     "output_type": "stream",
     "text": [
      "100%|████████████████████████████████████████████████████████████████████████████| 938/938 [00:08<00:00, 110.66it/s]\n",
      "100%|████████████████████████████████████████████████████████████████████████████| 313/313 [00:01<00:00, 284.15it/s]\n",
      "  2%|█▋                                                                           | 21/938 [00:00<00:09, 100.60it/s]"
     ]
    },
    {
     "name": "stdout",
     "output_type": "stream",
     "text": [
      "Epoch = 79\tSum of Training loss = 40.164534986387565\tCorrect Validation Examples = 9922\n"
     ]
    },
    {
     "name": "stderr",
     "output_type": "stream",
     "text": [
      "100%|████████████████████████████████████████████████████████████████████████████| 938/938 [00:08<00:00, 114.41it/s]\n",
      "100%|████████████████████████████████████████████████████████████████████████████| 313/313 [00:01<00:00, 303.22it/s]\n",
      "  1%|▉                                                                            | 11/938 [00:00<00:08, 104.05it/s]"
     ]
    },
    {
     "name": "stdout",
     "output_type": "stream",
     "text": [
      "Epoch = 80\tSum of Training loss = 37.20990317547717\tCorrect Validation Examples = 9924\n"
     ]
    },
    {
     "name": "stderr",
     "output_type": "stream",
     "text": [
      "100%|████████████████████████████████████████████████████████████████████████████| 938/938 [00:08<00:00, 108.66it/s]\n",
      "100%|████████████████████████████████████████████████████████████████████████████| 313/313 [00:01<00:00, 276.26it/s]\n",
      "  1%|▊                                                                             | 10/938 [00:00<00:09, 97.35it/s]"
     ]
    },
    {
     "name": "stdout",
     "output_type": "stream",
     "text": [
      "Epoch = 81\tSum of Training loss = 24.538031087585722\tCorrect Validation Examples = 9919\n"
     ]
    },
    {
     "name": "stderr",
     "output_type": "stream",
     "text": [
      "100%|████████████████████████████████████████████████████████████████████████████| 938/938 [00:08<00:00, 112.65it/s]\n",
      "100%|████████████████████████████████████████████████████████████████████████████| 313/313 [00:01<00:00, 309.80it/s]\n",
      "  2%|█▊                                                                           | 22/938 [00:00<00:08, 108.13it/s]"
     ]
    },
    {
     "name": "stdout",
     "output_type": "stream",
     "text": [
      "Epoch = 82\tSum of Training loss = 22.283451375560553\tCorrect Validation Examples = 9918\n"
     ]
    },
    {
     "name": "stderr",
     "output_type": "stream",
     "text": [
      "100%|████████████████████████████████████████████████████████████████████████████| 938/938 [00:08<00:00, 116.07it/s]\n",
      "100%|████████████████████████████████████████████████████████████████████████████| 313/313 [00:01<00:00, 304.99it/s]\n",
      "  2%|█▋                                                                           | 21/938 [00:00<00:08, 103.66it/s]"
     ]
    },
    {
     "name": "stdout",
     "output_type": "stream",
     "text": [
      "Epoch = 83\tSum of Training loss = 37.43152661261418\tCorrect Validation Examples = 9915\n"
     ]
    },
    {
     "name": "stderr",
     "output_type": "stream",
     "text": [
      "100%|████████████████████████████████████████████████████████████████████████████| 938/938 [00:08<00:00, 113.01it/s]\n",
      "100%|████████████████████████████████████████████████████████████████████████████| 313/313 [00:01<00:00, 273.86it/s]\n",
      "  1%|▉                                                                            | 11/938 [00:00<00:08, 105.04it/s]"
     ]
    },
    {
     "name": "stdout",
     "output_type": "stream",
     "text": [
      "Epoch = 84\tSum of Training loss = 33.02497386388207\tCorrect Validation Examples = 9917\n"
     ]
    },
    {
     "name": "stderr",
     "output_type": "stream",
     "text": [
      "100%|████████████████████████████████████████████████████████████████████████████| 938/938 [00:08<00:00, 114.96it/s]\n",
      "100%|████████████████████████████████████████████████████████████████████████████| 313/313 [00:00<00:00, 319.26it/s]\n",
      "  1%|▉                                                                            | 11/938 [00:00<00:08, 105.04it/s]"
     ]
    },
    {
     "name": "stdout",
     "output_type": "stream",
     "text": [
      "Epoch = 85\tSum of Training loss = 53.80191014031463\tCorrect Validation Examples = 9910\n"
     ]
    },
    {
     "name": "stderr",
     "output_type": "stream",
     "text": [
      "100%|████████████████████████████████████████████████████████████████████████████| 938/938 [00:08<00:00, 117.20it/s]\n",
      "100%|████████████████████████████████████████████████████████████████████████████| 313/313 [00:01<00:00, 300.61it/s]\n",
      "  1%|▉                                                                            | 11/938 [00:00<00:08, 105.04it/s]"
     ]
    },
    {
     "name": "stdout",
     "output_type": "stream",
     "text": [
      "Epoch = 86\tSum of Training loss = 22.452911511396678\tCorrect Validation Examples = 9925\n"
     ]
    },
    {
     "name": "stderr",
     "output_type": "stream",
     "text": [
      "100%|████████████████████████████████████████████████████████████████████████████| 938/938 [00:08<00:00, 113.04it/s]\n",
      "100%|████████████████████████████████████████████████████████████████████████████| 313/313 [00:01<00:00, 298.04it/s]\n",
      "  1%|▉                                                                            | 11/938 [00:00<00:08, 105.04it/s]"
     ]
    },
    {
     "name": "stdout",
     "output_type": "stream",
     "text": [
      "Epoch = 87\tSum of Training loss = 39.11225092791333\tCorrect Validation Examples = 9926\n"
     ]
    },
    {
     "name": "stderr",
     "output_type": "stream",
     "text": [
      "100%|████████████████████████████████████████████████████████████████████████████| 938/938 [00:08<00:00, 110.47it/s]\n",
      "100%|████████████████████████████████████████████████████████████████████████████| 313/313 [00:01<00:00, 293.58it/s]\n",
      "  1%|▊                                                                             | 10/938 [00:00<00:09, 97.35it/s]"
     ]
    },
    {
     "name": "stdout",
     "output_type": "stream",
     "text": [
      "Epoch = 88\tSum of Training loss = 21.27486923464633\tCorrect Validation Examples = 9921\n"
     ]
    },
    {
     "name": "stderr",
     "output_type": "stream",
     "text": [
      "100%|████████████████████████████████████████████████████████████████████████████| 938/938 [00:08<00:00, 106.16it/s]\n",
      "100%|████████████████████████████████████████████████████████████████████████████| 313/313 [00:01<00:00, 304.70it/s]\n",
      "  1%|▉                                                                            | 11/938 [00:00<00:08, 106.87it/s]"
     ]
    },
    {
     "name": "stdout",
     "output_type": "stream",
     "text": [
      "Epoch = 89\tSum of Training loss = 18.67357921749735\tCorrect Validation Examples = 9918\n"
     ]
    },
    {
     "name": "stderr",
     "output_type": "stream",
     "text": [
      "100%|████████████████████████████████████████████████████████████████████████████| 938/938 [00:08<00:00, 114.05it/s]\n",
      "100%|████████████████████████████████████████████████████████████████████████████| 313/313 [00:01<00:00, 292.21it/s]\n",
      "  1%|▉                                                                            | 12/938 [00:00<00:08, 110.39it/s]"
     ]
    },
    {
     "name": "stdout",
     "output_type": "stream",
     "text": [
      "Epoch = 90\tSum of Training loss = 25.654064165266483\tCorrect Validation Examples = 9915\n"
     ]
    },
    {
     "name": "stderr",
     "output_type": "stream",
     "text": [
      "100%|████████████████████████████████████████████████████████████████████████████| 938/938 [00:08<00:00, 114.33it/s]\n",
      "100%|████████████████████████████████████████████████████████████████████████████| 313/313 [00:01<00:00, 306.18it/s]\n",
      "  1%|▉                                                                            | 11/938 [00:00<00:08, 105.04it/s]"
     ]
    },
    {
     "name": "stdout",
     "output_type": "stream",
     "text": [
      "Epoch = 91\tSum of Training loss = 31.835374862397103\tCorrect Validation Examples = 9920\n"
     ]
    },
    {
     "name": "stderr",
     "output_type": "stream",
     "text": [
      "100%|████████████████████████████████████████████████████████████████████████████| 938/938 [00:08<00:00, 113.36it/s]\n",
      "100%|████████████████████████████████████████████████████████████████████████████| 313/313 [00:01<00:00, 305.00it/s]\n",
      "  1%|▉                                                                            | 11/938 [00:00<00:08, 107.08it/s]"
     ]
    },
    {
     "name": "stdout",
     "output_type": "stream",
     "text": [
      "Epoch = 92\tSum of Training loss = 25.255940920464113\tCorrect Validation Examples = 9918\n"
     ]
    },
    {
     "name": "stderr",
     "output_type": "stream",
     "text": [
      "100%|████████████████████████████████████████████████████████████████████████████| 938/938 [00:07<00:00, 117.61it/s]\n",
      "100%|████████████████████████████████████████████████████████████████████████████| 313/313 [00:01<00:00, 296.91it/s]\n",
      "  1%|▉                                                                            | 11/938 [00:00<00:09, 102.13it/s]"
     ]
    },
    {
     "name": "stdout",
     "output_type": "stream",
     "text": [
      "Epoch = 93\tSum of Training loss = 27.803920581430383\tCorrect Validation Examples = 9922\n"
     ]
    },
    {
     "name": "stderr",
     "output_type": "stream",
     "text": [
      "100%|████████████████████████████████████████████████████████████████████████████| 938/938 [00:08<00:00, 115.51it/s]\n",
      "100%|████████████████████████████████████████████████████████████████████████████| 313/313 [00:01<00:00, 308.89it/s]\n",
      "  2%|█▊                                                                           | 22/938 [00:00<00:08, 107.94it/s]"
     ]
    },
    {
     "name": "stdout",
     "output_type": "stream",
     "text": [
      "Epoch = 94\tSum of Training loss = 29.046859143604422\tCorrect Validation Examples = 9924\n"
     ]
    },
    {
     "name": "stderr",
     "output_type": "stream",
     "text": [
      "100%|████████████████████████████████████████████████████████████████████████████| 938/938 [00:08<00:00, 114.98it/s]\n",
      "100%|████████████████████████████████████████████████████████████████████████████| 313/313 [00:01<00:00, 300.32it/s]\n",
      "  2%|█▊                                                                           | 22/938 [00:00<00:08, 107.95it/s]"
     ]
    },
    {
     "name": "stdout",
     "output_type": "stream",
     "text": [
      "Epoch = 95\tSum of Training loss = 19.95805491062275\tCorrect Validation Examples = 9918\n"
     ]
    },
    {
     "name": "stderr",
     "output_type": "stream",
     "text": [
      "100%|████████████████████████████████████████████████████████████████████████████| 938/938 [00:08<00:00, 110.28it/s]\n",
      "100%|████████████████████████████████████████████████████████████████████████████| 313/313 [00:01<00:00, 296.89it/s]\n",
      "  1%|▉                                                                            | 11/938 [00:00<00:08, 106.05it/s]"
     ]
    },
    {
     "name": "stdout",
     "output_type": "stream",
     "text": [
      "Epoch = 96\tSum of Training loss = 15.328508180953385\tCorrect Validation Examples = 9911\n"
     ]
    },
    {
     "name": "stderr",
     "output_type": "stream",
     "text": [
      "100%|████████████████████████████████████████████████████████████████████████████| 938/938 [00:08<00:00, 113.00it/s]\n",
      "100%|████████████████████████████████████████████████████████████████████████████| 313/313 [00:01<00:00, 288.93it/s]\n",
      "  1%|▊                                                                             | 10/938 [00:00<00:09, 97.82it/s]"
     ]
    },
    {
     "name": "stdout",
     "output_type": "stream",
     "text": [
      "Epoch = 97\tSum of Training loss = 38.13601326894207\tCorrect Validation Examples = 9919\n"
     ]
    },
    {
     "name": "stderr",
     "output_type": "stream",
     "text": [
      "100%|████████████████████████████████████████████████████████████████████████████| 938/938 [00:08<00:00, 112.83it/s]\n",
      "100%|████████████████████████████████████████████████████████████████████████████| 313/313 [00:01<00:00, 312.58it/s]\n",
      "  1%|▉                                                                            | 11/938 [00:00<00:08, 107.08it/s]"
     ]
    },
    {
     "name": "stdout",
     "output_type": "stream",
     "text": [
      "Epoch = 98\tSum of Training loss = 25.442637472408684\tCorrect Validation Examples = 9922\n"
     ]
    },
    {
     "name": "stderr",
     "output_type": "stream",
     "text": [
      "100%|████████████████████████████████████████████████████████████████████████████| 938/938 [00:07<00:00, 117.32it/s]\n",
      "100%|████████████████████████████████████████████████████████████████████████████| 313/313 [00:01<00:00, 305.83it/s]\n",
      "  2%|█▊                                                                           | 22/938 [00:00<00:08, 105.99it/s]"
     ]
    },
    {
     "name": "stdout",
     "output_type": "stream",
     "text": [
      "Epoch = 99\tSum of Training loss = 23.208746710423483\tCorrect Validation Examples = 9925\n"
     ]
    },
    {
     "name": "stderr",
     "output_type": "stream",
     "text": [
      "100%|████████████████████████████████████████████████████████████████████████████| 938/938 [00:08<00:00, 115.81it/s]\n",
      "100%|████████████████████████████████████████████████████████████████████████████| 313/313 [00:01<00:00, 310.72it/s]\n"
     ]
    },
    {
     "name": "stdout",
     "output_type": "stream",
     "text": [
      "Epoch = 100\tSum of Training loss = 26.90147629815018\tCorrect Validation Examples = 9919\n"
     ]
    },
    {
     "data": {
      "text/plain": [
       "<Figure size 1152x360 with 0 Axes>"
      ]
     },
     "metadata": {},
     "output_type": "display_data"
    }
   ],
   "source": [
    "model=CNN(dropout=True).to(device)\n",
    "optimizer = optim.RMSprop(model.parameters(), lr=1e-4)\n",
    "train_loss_array=[]\n",
    "valid_acc_array=[]\n",
    "for epoch in range(epochs):\n",
    "    #Traning \n",
    "    train_loss=0\n",
    "    for data in tqdm(trainloader):\n",
    "        images,labels=data\n",
    "        images=images.to(device)\n",
    "        labels=labels.to(device)\n",
    "        optimizer.zero_grad()\n",
    "        output=model(images)\n",
    "        loss = criterion(output, labels)\n",
    "        loss.backward()\n",
    "        optimizer.step()\n",
    "        train_loss += loss.item()\n",
    "    train_loss_array.append(train_loss)\n",
    "    #validation\n",
    "    correct=0\n",
    "    model.eval()\n",
    "    with torch.no_grad():\n",
    "        for data in tqdm(testloader):\n",
    "            images,labels=data\n",
    "            images=images.to(device)\n",
    "            labels=labels.to(device)\n",
    "            output=model(images)\n",
    "            _,pred=torch.max(output.data,1)\n",
    "            correct+=(pred == labels).sum().item()\n",
    "    valid_acc_array.append(correct)\n",
    "    model.train()\n",
    "    print(f\"Epoch = {epoch+1}\\tSum of Training loss = {train_loss}\\tCorrect Validation Examples = {correct}\")\n",
    "    \n",
    "fig,ax=plt.subplots(1,2,figsize=(16,5))\n",
    "ax[0].plot(np.arange(1,epochs+1),train_loss_array)\n",
    "ax[0].set(ylabel=\"Summed Training loss\",xlabel=\"Epochs\")\n",
    "ax[1].plot(np.arange(1,epochs+1),np.array(valid_acc_array)/len(testset)*100)\n",
    "ax[1].set(ylabel=\"Validation Accuracy\",xlabel=\"Epochs\")\n",
    "plt.savefig(\"RMS_dropout.png\",dpi=500)\n",
    "plt.clf()"
   ]
  },
  {
   "cell_type": "code",
   "execution_count": 26,
   "id": "representative-dining",
   "metadata": {},
   "outputs": [
    {
     "name": "stdout",
     "output_type": "stream",
     "text": [
      "Maximum Accuracy achieved = 99.27\n"
     ]
    }
   ],
   "source": [
    "print(f'Maximum Accuracy achieved = {max(valid_acc_array)/len(testset)*100}')\n",
    "all_losses.append(train_loss_array)"
   ]
  },
  {
   "cell_type": "markdown",
   "id": "proof-morocco",
   "metadata": {},
   "source": [
    "## RMSprop with Regularization and without Dropout"
   ]
  },
  {
   "cell_type": "code",
   "execution_count": 27,
   "id": "alike-timber",
   "metadata": {},
   "outputs": [
    {
     "name": "stderr",
     "output_type": "stream",
     "text": [
      "100%|████████████████████████████████████████████████████████████████████████████| 938/938 [00:08<00:00, 115.62it/s]\n",
      "100%|████████████████████████████████████████████████████████████████████████████| 313/313 [00:01<00:00, 294.41it/s]\n",
      "  1%|▉                                                                            | 11/938 [00:00<00:09, 101.19it/s]"
     ]
    },
    {
     "name": "stdout",
     "output_type": "stream",
     "text": [
      "Epoch = 1\tSum of Training loss = 21194.69036912918\tCorrect Validation Examples = 9603\n"
     ]
    },
    {
     "name": "stderr",
     "output_type": "stream",
     "text": [
      "100%|████████████████████████████████████████████████████████████████████████████| 938/938 [00:08<00:00, 112.54it/s]\n",
      "100%|████████████████████████████████████████████████████████████████████████████| 313/313 [00:01<00:00, 304.99it/s]\n",
      "  2%|█▊                                                                           | 22/938 [00:00<00:08, 107.25it/s]"
     ]
    },
    {
     "name": "stdout",
     "output_type": "stream",
     "text": [
      "Epoch = 2\tSum of Training loss = 7885.934823870659\tCorrect Validation Examples = 9729\n"
     ]
    },
    {
     "name": "stderr",
     "output_type": "stream",
     "text": [
      "100%|████████████████████████████████████████████████████████████████████████████| 938/938 [00:08<00:00, 110.59it/s]\n",
      "100%|████████████████████████████████████████████████████████████████████████████| 313/313 [00:01<00:00, 298.89it/s]\n",
      "  1%|▉                                                                            | 11/938 [00:00<00:08, 109.20it/s]"
     ]
    },
    {
     "name": "stdout",
     "output_type": "stream",
     "text": [
      "Epoch = 3\tSum of Training loss = 5869.170419812202\tCorrect Validation Examples = 9771\n"
     ]
    },
    {
     "name": "stderr",
     "output_type": "stream",
     "text": [
      "100%|████████████████████████████████████████████████████████████████████████████| 938/938 [00:08<00:00, 112.18it/s]\n",
      "100%|████████████████████████████████████████████████████████████████████████████| 313/313 [00:01<00:00, 305.59it/s]\n",
      "  2%|█▋                                                                            | 20/938 [00:00<00:09, 96.84it/s]"
     ]
    },
    {
     "name": "stdout",
     "output_type": "stream",
     "text": [
      "Epoch = 4\tSum of Training loss = 4956.223359167576\tCorrect Validation Examples = 9812\n"
     ]
    },
    {
     "name": "stderr",
     "output_type": "stream",
     "text": [
      "100%|████████████████████████████████████████████████████████████████████████████| 938/938 [00:08<00:00, 116.51it/s]\n",
      "100%|████████████████████████████████████████████████████████████████████████████| 313/313 [00:01<00:00, 306.34it/s]\n",
      "  2%|█▊                                                                           | 22/938 [00:00<00:08, 109.20it/s]"
     ]
    },
    {
     "name": "stdout",
     "output_type": "stream",
     "text": [
      "Epoch = 5\tSum of Training loss = 4503.893867850304\tCorrect Validation Examples = 9797\n"
     ]
    },
    {
     "name": "stderr",
     "output_type": "stream",
     "text": [
      "100%|████████████████████████████████████████████████████████████████████████████| 938/938 [00:07<00:00, 117.51it/s]\n",
      "100%|████████████████████████████████████████████████████████████████████████████| 313/313 [00:01<00:00, 294.83it/s]\n",
      "  1%|▊                                                                             | 10/938 [00:00<00:09, 97.35it/s]"
     ]
    },
    {
     "name": "stdout",
     "output_type": "stream",
     "text": [
      "Epoch = 6\tSum of Training loss = 4103.489903092384\tCorrect Validation Examples = 9806\n"
     ]
    },
    {
     "name": "stderr",
     "output_type": "stream",
     "text": [
      "100%|████████████████████████████████████████████████████████████████████████████| 938/938 [00:08<00:00, 115.23it/s]\n",
      "100%|████████████████████████████████████████████████████████████████████████████| 313/313 [00:00<00:00, 320.56it/s]\n",
      "  1%|▉                                                                            | 12/938 [00:00<00:08, 110.39it/s]"
     ]
    },
    {
     "name": "stdout",
     "output_type": "stream",
     "text": [
      "Epoch = 7\tSum of Training loss = 3838.9752910733223\tCorrect Validation Examples = 9820\n"
     ]
    },
    {
     "name": "stderr",
     "output_type": "stream",
     "text": [
      "100%|████████████████████████████████████████████████████████████████████████████| 938/938 [00:07<00:00, 118.35it/s]\n",
      "100%|████████████████████████████████████████████████████████████████████████████| 313/313 [00:01<00:00, 301.77it/s]\n",
      "  1%|▉                                                                            | 11/938 [00:00<00:08, 107.08it/s]"
     ]
    },
    {
     "name": "stdout",
     "output_type": "stream",
     "text": [
      "Epoch = 8\tSum of Training loss = 3699.1825056672096\tCorrect Validation Examples = 9860\n"
     ]
    },
    {
     "name": "stderr",
     "output_type": "stream",
     "text": [
      "100%|████████████████████████████████████████████████████████████████████████████| 938/938 [00:08<00:00, 114.36it/s]\n",
      "100%|████████████████████████████████████████████████████████████████████████████| 313/313 [00:01<00:00, 307.37it/s]\n",
      "  1%|▉                                                                            | 11/938 [00:00<00:08, 104.05it/s]"
     ]
    },
    {
     "name": "stdout",
     "output_type": "stream",
     "text": [
      "Epoch = 9\tSum of Training loss = 3564.687522113323\tCorrect Validation Examples = 9859\n"
     ]
    },
    {
     "name": "stderr",
     "output_type": "stream",
     "text": [
      "100%|████████████████████████████████████████████████████████████████████████████| 938/938 [00:08<00:00, 116.32it/s]\n",
      "100%|████████████████████████████████████████████████████████████████████████████| 313/313 [00:01<00:00, 312.27it/s]\n",
      "  1%|▉                                                                            | 12/938 [00:00<00:08, 111.41it/s]"
     ]
    },
    {
     "name": "stdout",
     "output_type": "stream",
     "text": [
      "Epoch = 10\tSum of Training loss = 3412.408679842949\tCorrect Validation Examples = 9854\n"
     ]
    },
    {
     "name": "stderr",
     "output_type": "stream",
     "text": [
      "100%|████████████████████████████████████████████████████████████████████████████| 938/938 [00:08<00:00, 117.22it/s]\n",
      "100%|████████████████████████████████████████████████████████████████████████████| 313/313 [00:01<00:00, 286.13it/s]\n",
      "  1%|▉                                                                            | 11/938 [00:00<00:09, 102.14it/s]"
     ]
    },
    {
     "name": "stdout",
     "output_type": "stream",
     "text": [
      "Epoch = 11\tSum of Training loss = 3359.985221117735\tCorrect Validation Examples = 9843\n"
     ]
    },
    {
     "name": "stderr",
     "output_type": "stream",
     "text": [
      "100%|████████████████████████████████████████████████████████████████████████████| 938/938 [00:08<00:00, 111.77it/s]\n",
      "100%|████████████████████████████████████████████████████████████████████████████| 313/313 [00:01<00:00, 299.46it/s]\n",
      "  1%|▊                                                                             | 10/938 [00:00<00:10, 91.99it/s]"
     ]
    },
    {
     "name": "stdout",
     "output_type": "stream",
     "text": [
      "Epoch = 12\tSum of Training loss = 3273.7277339100838\tCorrect Validation Examples = 9869\n"
     ]
    },
    {
     "name": "stderr",
     "output_type": "stream",
     "text": [
      "100%|████████████████████████████████████████████████████████████████████████████| 938/938 [00:08<00:00, 111.13it/s]\n",
      "100%|████████████████████████████████████████████████████████████████████████████| 313/313 [00:01<00:00, 301.19it/s]\n",
      "  2%|█▊                                                                           | 22/938 [00:00<00:08, 107.08it/s]"
     ]
    },
    {
     "name": "stdout",
     "output_type": "stream",
     "text": [
      "Epoch = 13\tSum of Training loss = 3187.1300745904446\tCorrect Validation Examples = 9846\n"
     ]
    },
    {
     "name": "stderr",
     "output_type": "stream",
     "text": [
      "100%|████████████████████████████████████████████████████████████████████████████| 938/938 [00:08<00:00, 110.33it/s]\n",
      "100%|████████████████████████████████████████████████████████████████████████████| 313/313 [00:01<00:00, 290.32it/s]\n",
      "  1%|▉                                                                            | 11/938 [00:00<00:08, 104.05it/s]"
     ]
    },
    {
     "name": "stdout",
     "output_type": "stream",
     "text": [
      "Epoch = 14\tSum of Training loss = 3108.0792537927628\tCorrect Validation Examples = 9867\n"
     ]
    },
    {
     "name": "stderr",
     "output_type": "stream",
     "text": [
      "100%|████████████████████████████████████████████████████████████████████████████| 938/938 [00:08<00:00, 113.08it/s]\n",
      "100%|████████████████████████████████████████████████████████████████████████████| 313/313 [00:01<00:00, 302.06it/s]\n",
      "  1%|▉                                                                            | 11/938 [00:00<00:08, 106.05it/s]"
     ]
    },
    {
     "name": "stdout",
     "output_type": "stream",
     "text": [
      "Epoch = 15\tSum of Training loss = 3068.9953189492226\tCorrect Validation Examples = 9875\n"
     ]
    },
    {
     "name": "stderr",
     "output_type": "stream",
     "text": [
      "100%|████████████████████████████████████████████████████████████████████████████| 938/938 [00:08<00:00, 111.22it/s]\n",
      "100%|████████████████████████████████████████████████████████████████████████████| 313/313 [00:01<00:00, 295.07it/s]\n",
      "  1%|▊                                                                             | 10/938 [00:00<00:09, 97.35it/s]"
     ]
    },
    {
     "name": "stdout",
     "output_type": "stream",
     "text": [
      "Epoch = 16\tSum of Training loss = 3030.6819534748793\tCorrect Validation Examples = 9868\n"
     ]
    },
    {
     "name": "stderr",
     "output_type": "stream",
     "text": [
      "100%|████████████████████████████████████████████████████████████████████████████| 938/938 [00:08<00:00, 106.47it/s]\n",
      "100%|████████████████████████████████████████████████████████████████████████████| 313/313 [00:01<00:00, 267.78it/s]\n",
      "  2%|█▋                                                                           | 21/938 [00:00<00:08, 102.49it/s]"
     ]
    },
    {
     "name": "stdout",
     "output_type": "stream",
     "text": [
      "Epoch = 17\tSum of Training loss = 3019.2219255566597\tCorrect Validation Examples = 9886\n"
     ]
    },
    {
     "name": "stderr",
     "output_type": "stream",
     "text": [
      "100%|████████████████████████████████████████████████████████████████████████████| 938/938 [00:08<00:00, 115.68it/s]\n",
      "100%|████████████████████████████████████████████████████████████████████████████| 313/313 [00:01<00:00, 299.02it/s]\n",
      "  2%|█▌                                                                            | 19/938 [00:00<00:09, 94.04it/s]"
     ]
    },
    {
     "name": "stdout",
     "output_type": "stream",
     "text": [
      "Epoch = 18\tSum of Training loss = 2957.272080183029\tCorrect Validation Examples = 9863\n"
     ]
    },
    {
     "name": "stderr",
     "output_type": "stream",
     "text": [
      "100%|████████████████████████████████████████████████████████████████████████████| 938/938 [00:08<00:00, 115.47it/s]\n",
      "100%|████████████████████████████████████████████████████████████████████████████| 313/313 [00:01<00:00, 312.28it/s]\n",
      "  1%|▉                                                                            | 11/938 [00:00<00:09, 100.27it/s]"
     ]
    },
    {
     "name": "stdout",
     "output_type": "stream",
     "text": [
      "Epoch = 19\tSum of Training loss = 2971.256341844797\tCorrect Validation Examples = 9876\n"
     ]
    },
    {
     "name": "stderr",
     "output_type": "stream",
     "text": [
      "100%|████████████████████████████████████████████████████████████████████████████| 938/938 [00:08<00:00, 113.91it/s]\n",
      "100%|████████████████████████████████████████████████████████████████████████████| 313/313 [00:01<00:00, 302.93it/s]\n",
      "  1%|▉                                                                            | 11/938 [00:00<00:09, 102.13it/s]"
     ]
    },
    {
     "name": "stdout",
     "output_type": "stream",
     "text": [
      "Epoch = 20\tSum of Training loss = 2884.1391830444336\tCorrect Validation Examples = 9854\n"
     ]
    },
    {
     "name": "stderr",
     "output_type": "stream",
     "text": [
      "100%|████████████████████████████████████████████████████████████████████████████| 938/938 [00:08<00:00, 112.14it/s]\n",
      "100%|████████████████████████████████████████████████████████████████████████████| 313/313 [00:01<00:00, 303.06it/s]\n",
      "  1%|▉                                                                            | 11/938 [00:00<00:08, 105.04it/s]"
     ]
    },
    {
     "name": "stdout",
     "output_type": "stream",
     "text": [
      "Epoch = 21\tSum of Training loss = 2880.5788049697876\tCorrect Validation Examples = 9863\n"
     ]
    },
    {
     "name": "stderr",
     "output_type": "stream",
     "text": [
      "100%|████████████████████████████████████████████████████████████████████████████| 938/938 [00:08<00:00, 113.18it/s]\n",
      "100%|████████████████████████████████████████████████████████████████████████████| 313/313 [00:01<00:00, 291.13it/s]\n",
      "  1%|▉                                                                            | 11/938 [00:00<00:09, 102.10it/s]"
     ]
    },
    {
     "name": "stdout",
     "output_type": "stream",
     "text": [
      "Epoch = 22\tSum of Training loss = 2863.0538793057203\tCorrect Validation Examples = 9888\n"
     ]
    },
    {
     "name": "stderr",
     "output_type": "stream",
     "text": [
      "100%|████████████████████████████████████████████████████████████████████████████| 938/938 [00:08<00:00, 113.85it/s]\n",
      "100%|████████████████████████████████████████████████████████████████████████████| 313/313 [00:01<00:00, 304.99it/s]\n",
      "  1%|▉                                                                            | 11/938 [00:00<00:08, 106.05it/s]"
     ]
    },
    {
     "name": "stdout",
     "output_type": "stream",
     "text": [
      "Epoch = 23\tSum of Training loss = 2870.0623342841864\tCorrect Validation Examples = 9852\n"
     ]
    },
    {
     "name": "stderr",
     "output_type": "stream",
     "text": [
      "100%|████████████████████████████████████████████████████████████████████████████| 938/938 [00:08<00:00, 116.01it/s]\n",
      "100%|████████████████████████████████████████████████████████████████████████████| 313/313 [00:01<00:00, 301.19it/s]\n",
      "  2%|█▋                                                                           | 21/938 [00:00<00:08, 103.29it/s]"
     ]
    },
    {
     "name": "stdout",
     "output_type": "stream",
     "text": [
      "Epoch = 24\tSum of Training loss = 2819.7825018167496\tCorrect Validation Examples = 9878\n"
     ]
    },
    {
     "name": "stderr",
     "output_type": "stream",
     "text": [
      "100%|████████████████████████████████████████████████████████████████████████████| 938/938 [00:08<00:00, 112.67it/s]\n",
      "100%|████████████████████████████████████████████████████████████████████████████| 313/313 [00:01<00:00, 297.48it/s]\n",
      "  1%|▉                                                                            | 11/938 [00:00<00:08, 107.08it/s]"
     ]
    },
    {
     "name": "stdout",
     "output_type": "stream",
     "text": [
      "Epoch = 25\tSum of Training loss = 2796.1787991821766\tCorrect Validation Examples = 9872\n"
     ]
    },
    {
     "name": "stderr",
     "output_type": "stream",
     "text": [
      "100%|████████████████████████████████████████████████████████████████████████████| 938/938 [00:08<00:00, 114.32it/s]\n",
      "100%|████████████████████████████████████████████████████████████████████████████| 313/313 [00:01<00:00, 301.18it/s]\n",
      "  2%|█▊                                                                           | 22/938 [00:00<00:08, 108.74it/s]"
     ]
    },
    {
     "name": "stdout",
     "output_type": "stream",
     "text": [
      "Epoch = 26\tSum of Training loss = 2747.712367415428\tCorrect Validation Examples = 9881\n"
     ]
    },
    {
     "name": "stderr",
     "output_type": "stream",
     "text": [
      "100%|████████████████████████████████████████████████████████████████████████████| 938/938 [00:08<00:00, 115.23it/s]\n",
      "100%|████████████████████████████████████████████████████████████████████████████| 313/313 [00:00<00:00, 314.33it/s]\n",
      "  1%|▉                                                                            | 11/938 [00:00<00:08, 108.13it/s]"
     ]
    },
    {
     "name": "stdout",
     "output_type": "stream",
     "text": [
      "Epoch = 27\tSum of Training loss = 2733.0638538897038\tCorrect Validation Examples = 9895\n"
     ]
    },
    {
     "name": "stderr",
     "output_type": "stream",
     "text": [
      "100%|████████████████████████████████████████████████████████████████████████████| 938/938 [00:08<00:00, 111.08it/s]\n",
      "100%|████████████████████████████████████████████████████████████████████████████| 313/313 [00:01<00:00, 295.87it/s]\n",
      "  1%|▉                                                                            | 11/938 [00:00<00:08, 106.07it/s]"
     ]
    },
    {
     "name": "stdout",
     "output_type": "stream",
     "text": [
      "Epoch = 28\tSum of Training loss = 2794.6254573762417\tCorrect Validation Examples = 9855\n"
     ]
    },
    {
     "name": "stderr",
     "output_type": "stream",
     "text": [
      "100%|████████████████████████████████████████████████████████████████████████████| 938/938 [00:08<00:00, 114.99it/s]\n",
      "100%|████████████████████████████████████████████████████████████████████████████| 313/313 [00:01<00:00, 309.50it/s]\n",
      "  1%|▉                                                                            | 11/938 [00:00<00:08, 107.04it/s]"
     ]
    },
    {
     "name": "stdout",
     "output_type": "stream",
     "text": [
      "Epoch = 29\tSum of Training loss = 2733.5307711958885\tCorrect Validation Examples = 9866\n"
     ]
    },
    {
     "name": "stderr",
     "output_type": "stream",
     "text": [
      "100%|████████████████████████████████████████████████████████████████████████████| 938/938 [00:07<00:00, 118.17it/s]\n",
      "100%|████████████████████████████████████████████████████████████████████████████| 313/313 [00:01<00:00, 312.96it/s]\n",
      "  2%|█▊                                                                           | 22/938 [00:00<00:08, 107.43it/s]"
     ]
    },
    {
     "name": "stdout",
     "output_type": "stream",
     "text": [
      "Epoch = 30\tSum of Training loss = 2716.936079978943\tCorrect Validation Examples = 9875\n"
     ]
    },
    {
     "name": "stderr",
     "output_type": "stream",
     "text": [
      "100%|████████████████████████████████████████████████████████████████████████████| 938/938 [00:08<00:00, 116.92it/s]\n",
      "100%|████████████████████████████████████████████████████████████████████████████| 313/313 [00:01<00:00, 299.52it/s]\n",
      "  1%|▊                                                                             | 10/938 [00:00<00:09, 94.59it/s]"
     ]
    },
    {
     "name": "stdout",
     "output_type": "stream",
     "text": [
      "Epoch = 31\tSum of Training loss = 2712.205193966627\tCorrect Validation Examples = 9863\n"
     ]
    },
    {
     "name": "stderr",
     "output_type": "stream",
     "text": [
      "100%|████████████████████████████████████████████████████████████████████████████| 938/938 [00:08<00:00, 114.09it/s]\n",
      "100%|████████████████████████████████████████████████████████████████████████████| 313/313 [00:01<00:00, 298.89it/s]\n",
      "  2%|█▊                                                                           | 22/938 [00:00<00:08, 105.36it/s]"
     ]
    },
    {
     "name": "stdout",
     "output_type": "stream",
     "text": [
      "Epoch = 32\tSum of Training loss = 2708.0103533416986\tCorrect Validation Examples = 9877\n"
     ]
    },
    {
     "name": "stderr",
     "output_type": "stream",
     "text": [
      "100%|████████████████████████████████████████████████████████████████████████████| 938/938 [00:08<00:00, 114.08it/s]\n",
      "100%|████████████████████████████████████████████████████████████████████████████| 313/313 [00:01<00:00, 309.19it/s]\n",
      "  2%|█▉                                                                           | 23/938 [00:00<00:08, 111.98it/s]"
     ]
    },
    {
     "name": "stdout",
     "output_type": "stream",
     "text": [
      "Epoch = 33\tSum of Training loss = 2638.941270172596\tCorrect Validation Examples = 9875\n"
     ]
    },
    {
     "name": "stderr",
     "output_type": "stream",
     "text": [
      "100%|████████████████████████████████████████████████████████████████████████████| 938/938 [00:08<00:00, 113.30it/s]\n",
      "100%|████████████████████████████████████████████████████████████████████████████| 313/313 [00:01<00:00, 307.68it/s]\n",
      "  1%|▉                                                                            | 12/938 [00:00<00:08, 111.41it/s]"
     ]
    },
    {
     "name": "stdout",
     "output_type": "stream",
     "text": [
      "Epoch = 34\tSum of Training loss = 2657.64998793602\tCorrect Validation Examples = 9850\n"
     ]
    },
    {
     "name": "stderr",
     "output_type": "stream",
     "text": [
      "100%|████████████████████████████████████████████████████████████████████████████| 938/938 [00:08<00:00, 112.41it/s]\n",
      "100%|████████████████████████████████████████████████████████████████████████████| 313/313 [00:01<00:00, 294.45it/s]\n",
      "  1%|▉                                                                            | 11/938 [00:00<00:08, 105.04it/s]"
     ]
    },
    {
     "name": "stdout",
     "output_type": "stream",
     "text": [
      "Epoch = 35\tSum of Training loss = 2645.4524975419044\tCorrect Validation Examples = 9885\n"
     ]
    },
    {
     "name": "stderr",
     "output_type": "stream",
     "text": [
      "100%|████████████████████████████████████████████████████████████████████████████| 938/938 [00:08<00:00, 115.66it/s]\n",
      "100%|████████████████████████████████████████████████████████████████████████████| 313/313 [00:00<00:00, 314.46it/s]\n",
      "  1%|▉                                                                            | 11/938 [00:00<00:08, 109.20it/s]"
     ]
    },
    {
     "name": "stdout",
     "output_type": "stream",
     "text": [
      "Epoch = 36\tSum of Training loss = 2637.165607482195\tCorrect Validation Examples = 9865\n"
     ]
    },
    {
     "name": "stderr",
     "output_type": "stream",
     "text": [
      "100%|████████████████████████████████████████████████████████████████████████████| 938/938 [00:07<00:00, 119.33it/s]\n",
      "100%|████████████████████████████████████████████████████████████████████████████| 313/313 [00:00<00:00, 320.56it/s]\n",
      "  1%|▉                                                                            | 11/938 [00:00<00:08, 107.08it/s]"
     ]
    },
    {
     "name": "stdout",
     "output_type": "stream",
     "text": [
      "Epoch = 37\tSum of Training loss = 2638.073342323303\tCorrect Validation Examples = 9862\n"
     ]
    },
    {
     "name": "stderr",
     "output_type": "stream",
     "text": [
      "100%|████████████████████████████████████████████████████████████████████████████| 938/938 [00:07<00:00, 121.42it/s]\n",
      "100%|████████████████████████████████████████████████████████████████████████████| 313/313 [00:00<00:00, 320.23it/s]\n",
      "  1%|▉                                                                            | 11/938 [00:00<00:09, 102.12it/s]"
     ]
    },
    {
     "name": "stdout",
     "output_type": "stream",
     "text": [
      "Epoch = 38\tSum of Training loss = 2583.521075591445\tCorrect Validation Examples = 9874\n"
     ]
    },
    {
     "name": "stderr",
     "output_type": "stream",
     "text": [
      "100%|████████████████████████████████████████████████████████████████████████████| 938/938 [00:07<00:00, 122.06it/s]\n",
      "100%|████████████████████████████████████████████████████████████████████████████| 313/313 [00:00<00:00, 322.53it/s]\n",
      "  1%|▊                                                                             | 10/938 [00:00<00:09, 98.27it/s]"
     ]
    },
    {
     "name": "stdout",
     "output_type": "stream",
     "text": [
      "Epoch = 39\tSum of Training loss = 2636.279707863927\tCorrect Validation Examples = 9891\n"
     ]
    },
    {
     "name": "stderr",
     "output_type": "stream",
     "text": [
      "100%|████████████████████████████████████████████████████████████████████████████| 938/938 [00:07<00:00, 120.89it/s]\n",
      "100%|████████████████████████████████████████████████████████████████████████████| 313/313 [00:00<00:00, 320.89it/s]\n",
      "  1%|▉                                                                            | 11/938 [00:00<00:08, 106.05it/s]"
     ]
    },
    {
     "name": "stdout",
     "output_type": "stream",
     "text": [
      "Epoch = 40\tSum of Training loss = 2638.06862282753\tCorrect Validation Examples = 9882\n"
     ]
    },
    {
     "name": "stderr",
     "output_type": "stream",
     "text": [
      "100%|████████████████████████████████████████████████████████████████████████████| 938/938 [00:07<00:00, 121.82it/s]\n",
      "100%|████████████████████████████████████████████████████████████████████████████| 313/313 [00:00<00:00, 322.95it/s]\n",
      "  2%|█▊                                                                           | 22/938 [00:00<00:08, 107.31it/s]"
     ]
    },
    {
     "name": "stdout",
     "output_type": "stream",
     "text": [
      "Epoch = 41\tSum of Training loss = 2599.380267947912\tCorrect Validation Examples = 9873\n"
     ]
    },
    {
     "name": "stderr",
     "output_type": "stream",
     "text": [
      "100%|████████████████████████████████████████████████████████████████████████████| 938/938 [00:07<00:00, 121.48it/s]\n",
      "100%|████████████████████████████████████████████████████████████████████████████| 313/313 [00:00<00:00, 320.57it/s]\n",
      "  1%|▉                                                                            | 11/938 [00:00<00:08, 108.14it/s]"
     ]
    },
    {
     "name": "stdout",
     "output_type": "stream",
     "text": [
      "Epoch = 42\tSum of Training loss = 2585.114893615246\tCorrect Validation Examples = 9884\n"
     ]
    },
    {
     "name": "stderr",
     "output_type": "stream",
     "text": [
      "100%|████████████████████████████████████████████████████████████████████████████| 938/938 [00:07<00:00, 121.61it/s]\n",
      "100%|████████████████████████████████████████████████████████████████████████████| 313/313 [00:00<00:00, 324.87it/s]\n",
      "  2%|█▊                                                                           | 22/938 [00:00<00:08, 107.86it/s]"
     ]
    },
    {
     "name": "stdout",
     "output_type": "stream",
     "text": [
      "Epoch = 43\tSum of Training loss = 2544.3290333151817\tCorrect Validation Examples = 9873\n"
     ]
    },
    {
     "name": "stderr",
     "output_type": "stream",
     "text": [
      "100%|████████████████████████████████████████████████████████████████████████████| 938/938 [00:07<00:00, 121.37it/s]\n",
      "100%|████████████████████████████████████████████████████████████████████████████| 313/313 [00:00<00:00, 321.87it/s]\n",
      "  1%|▉                                                                            | 11/938 [00:00<00:08, 107.08it/s]"
     ]
    },
    {
     "name": "stdout",
     "output_type": "stream",
     "text": [
      "Epoch = 44\tSum of Training loss = 2573.321738407016\tCorrect Validation Examples = 9879\n"
     ]
    },
    {
     "name": "stderr",
     "output_type": "stream",
     "text": [
      "100%|████████████████████████████████████████████████████████████████████████████| 938/938 [00:07<00:00, 121.24it/s]\n",
      "100%|████████████████████████████████████████████████████████████████████████████| 313/313 [00:00<00:00, 313.47it/s]\n",
      "  1%|▉                                                                            | 11/938 [00:00<00:08, 107.08it/s]"
     ]
    },
    {
     "name": "stdout",
     "output_type": "stream",
     "text": [
      "Epoch = 45\tSum of Training loss = 2558.718195155263\tCorrect Validation Examples = 9894\n"
     ]
    },
    {
     "name": "stderr",
     "output_type": "stream",
     "text": [
      "100%|████████████████████████████████████████████████████████████████████████████| 938/938 [00:07<00:00, 120.91it/s]\n",
      "100%|████████████████████████████████████████████████████████████████████████████| 313/313 [00:00<00:00, 320.23it/s]\n",
      "  1%|▉                                                                            | 11/938 [00:00<00:08, 108.13it/s]"
     ]
    },
    {
     "name": "stdout",
     "output_type": "stream",
     "text": [
      "Epoch = 46\tSum of Training loss = 2534.3488730490208\tCorrect Validation Examples = 9851\n"
     ]
    },
    {
     "name": "stderr",
     "output_type": "stream",
     "text": [
      "100%|████████████████████████████████████████████████████████████████████████████| 938/938 [00:07<00:00, 121.96it/s]\n",
      "100%|████████████████████████████████████████████████████████████████████████████| 313/313 [00:00<00:00, 322.20it/s]\n",
      "  1%|▉                                                                            | 11/938 [00:00<00:08, 108.13it/s]"
     ]
    },
    {
     "name": "stdout",
     "output_type": "stream",
     "text": [
      "Epoch = 47\tSum of Training loss = 2534.337469533086\tCorrect Validation Examples = 9883\n"
     ]
    },
    {
     "name": "stderr",
     "output_type": "stream",
     "text": [
      "100%|████████████████████████████████████████████████████████████████████████████| 938/938 [00:07<00:00, 121.63it/s]\n",
      "100%|████████████████████████████████████████████████████████████████████████████| 313/313 [00:00<00:00, 319.90it/s]\n",
      "  1%|▉                                                                            | 11/938 [00:00<00:08, 108.13it/s]"
     ]
    },
    {
     "name": "stdout",
     "output_type": "stream",
     "text": [
      "Epoch = 48\tSum of Training loss = 2542.800006136298\tCorrect Validation Examples = 9874\n"
     ]
    },
    {
     "name": "stderr",
     "output_type": "stream",
     "text": [
      "100%|████████████████████████████████████████████████████████████████████████████| 938/938 [00:07<00:00, 122.43it/s]\n",
      "100%|████████████████████████████████████████████████████████████████████████████| 313/313 [00:00<00:00, 322.20it/s]\n",
      "  1%|▉                                                                            | 11/938 [00:00<00:08, 104.05it/s]"
     ]
    },
    {
     "name": "stdout",
     "output_type": "stream",
     "text": [
      "Epoch = 49\tSum of Training loss = 2578.6469775289297\tCorrect Validation Examples = 9887\n"
     ]
    },
    {
     "name": "stderr",
     "output_type": "stream",
     "text": [
      "100%|████████████████████████████████████████████████████████████████████████████| 938/938 [00:07<00:00, 122.02it/s]\n",
      "100%|████████████████████████████████████████████████████████████████████████████| 313/313 [00:00<00:00, 315.41it/s]\n",
      "  1%|▉                                                                            | 11/938 [00:00<00:08, 106.05it/s]"
     ]
    },
    {
     "name": "stdout",
     "output_type": "stream",
     "text": [
      "Epoch = 50\tSum of Training loss = 2516.124797463417\tCorrect Validation Examples = 9876\n"
     ]
    },
    {
     "name": "stderr",
     "output_type": "stream",
     "text": [
      "100%|████████████████████████████████████████████████████████████████████████████| 938/938 [00:07<00:00, 121.68it/s]\n",
      "100%|████████████████████████████████████████████████████████████████████████████| 313/313 [00:00<00:00, 314.60it/s]\n",
      "  1%|▉                                                                            | 11/938 [00:00<00:08, 103.08it/s]"
     ]
    },
    {
     "name": "stdout",
     "output_type": "stream",
     "text": [
      "Epoch = 51\tSum of Training loss = 2516.802472651005\tCorrect Validation Examples = 9881\n"
     ]
    },
    {
     "name": "stderr",
     "output_type": "stream",
     "text": [
      "100%|████████████████████████████████████████████████████████████████████████████| 938/938 [00:07<00:00, 122.04it/s]\n",
      "100%|████████████████████████████████████████████████████████████████████████████| 313/313 [00:00<00:00, 319.47it/s]\n",
      "  1%|▉                                                                            | 11/938 [00:00<00:08, 107.08it/s]"
     ]
    },
    {
     "name": "stdout",
     "output_type": "stream",
     "text": [
      "Epoch = 52\tSum of Training loss = 2523.0398750454187\tCorrect Validation Examples = 9864\n"
     ]
    },
    {
     "name": "stderr",
     "output_type": "stream",
     "text": [
      "100%|████████████████████████████████████████████████████████████████████████████| 938/938 [00:07<00:00, 121.16it/s]\n",
      "100%|████████████████████████████████████████████████████████████████████████████| 313/313 [00:00<00:00, 320.56it/s]\n",
      "  1%|▉                                                                            | 11/938 [00:00<00:08, 108.13it/s]"
     ]
    },
    {
     "name": "stdout",
     "output_type": "stream",
     "text": [
      "Epoch = 53\tSum of Training loss = 2528.976590782404\tCorrect Validation Examples = 9878\n"
     ]
    },
    {
     "name": "stderr",
     "output_type": "stream",
     "text": [
      "100%|████████████████████████████████████████████████████████████████████████████| 938/938 [00:07<00:00, 121.46it/s]\n",
      "100%|████████████████████████████████████████████████████████████████████████████| 313/313 [00:00<00:00, 323.20it/s]\n",
      "  1%|▉                                                                            | 11/938 [00:00<00:08, 107.08it/s]"
     ]
    },
    {
     "name": "stdout",
     "output_type": "stream",
     "text": [
      "Epoch = 54\tSum of Training loss = 2489.8980038017035\tCorrect Validation Examples = 9893\n"
     ]
    },
    {
     "name": "stderr",
     "output_type": "stream",
     "text": [
      "100%|████████████████████████████████████████████████████████████████████████████| 938/938 [00:07<00:00, 121.51it/s]\n",
      "100%|████████████████████████████████████████████████████████████████████████████| 313/313 [00:00<00:00, 318.93it/s]\n",
      "  1%|▉                                                                            | 11/938 [00:00<00:08, 107.08it/s]"
     ]
    },
    {
     "name": "stdout",
     "output_type": "stream",
     "text": [
      "Epoch = 55\tSum of Training loss = 2522.1325078606606\tCorrect Validation Examples = 9888\n"
     ]
    },
    {
     "name": "stderr",
     "output_type": "stream",
     "text": [
      "100%|████████████████████████████████████████████████████████████████████████████| 938/938 [00:07<00:00, 121.43it/s]\n",
      "100%|████████████████████████████████████████████████████████████████████████████| 313/313 [00:00<00:00, 322.39it/s]\n",
      "  1%|▉                                                                            | 11/938 [00:00<00:08, 108.10it/s]"
     ]
    },
    {
     "name": "stdout",
     "output_type": "stream",
     "text": [
      "Epoch = 56\tSum of Training loss = 2500.3665065467358\tCorrect Validation Examples = 9875\n"
     ]
    },
    {
     "name": "stderr",
     "output_type": "stream",
     "text": [
      "100%|████████████████████████████████████████████████████████████████████████████| 938/938 [00:07<00:00, 121.51it/s]\n",
      "100%|████████████████████████████████████████████████████████████████████████████| 313/313 [00:00<00:00, 314.77it/s]\n",
      "  1%|▉                                                                            | 11/938 [00:00<00:08, 108.13it/s]"
     ]
    },
    {
     "name": "stdout",
     "output_type": "stream",
     "text": [
      "Epoch = 57\tSum of Training loss = 2482.7424389719963\tCorrect Validation Examples = 9878\n"
     ]
    },
    {
     "name": "stderr",
     "output_type": "stream",
     "text": [
      "100%|████████████████████████████████████████████████████████████████████████████| 938/938 [00:07<00:00, 122.45it/s]\n",
      "100%|████████████████████████████████████████████████████████████████████████████| 313/313 [00:00<00:00, 324.06it/s]\n",
      "  2%|█▊                                                                           | 22/938 [00:00<00:08, 107.87it/s]"
     ]
    },
    {
     "name": "stdout",
     "output_type": "stream",
     "text": [
      "Epoch = 58\tSum of Training loss = 2465.5291462540627\tCorrect Validation Examples = 9891\n"
     ]
    },
    {
     "name": "stderr",
     "output_type": "stream",
     "text": [
      "100%|████████████████████████████████████████████████████████████████████████████| 938/938 [00:07<00:00, 121.66it/s]\n",
      "100%|████████████████████████████████████████████████████████████████████████████| 313/313 [00:00<00:00, 318.28it/s]\n",
      "  1%|▉                                                                            | 11/938 [00:00<00:08, 106.05it/s]"
     ]
    },
    {
     "name": "stdout",
     "output_type": "stream",
     "text": [
      "Epoch = 59\tSum of Training loss = 2501.201254621148\tCorrect Validation Examples = 9889\n"
     ]
    },
    {
     "name": "stderr",
     "output_type": "stream",
     "text": [
      "100%|████████████████████████████████████████████████████████████████████████████| 938/938 [00:07<00:00, 122.26it/s]\n",
      "100%|████████████████████████████████████████████████████████████████████████████| 313/313 [00:00<00:00, 317.32it/s]\n",
      "  1%|▉                                                                            | 11/938 [00:00<00:08, 109.20it/s]"
     ]
    },
    {
     "name": "stdout",
     "output_type": "stream",
     "text": [
      "Epoch = 60\tSum of Training loss = 2470.291411794722\tCorrect Validation Examples = 9890\n"
     ]
    },
    {
     "name": "stderr",
     "output_type": "stream",
     "text": [
      "100%|████████████████████████████████████████████████████████████████████████████| 938/938 [00:07<00:00, 121.58it/s]\n",
      "100%|████████████████████████████████████████████████████████████████████████████| 313/313 [00:00<00:00, 321.21it/s]\n",
      "  2%|█▊                                                                           | 22/938 [00:00<00:08, 107.43it/s]"
     ]
    },
    {
     "name": "stdout",
     "output_type": "stream",
     "text": [
      "Epoch = 61\tSum of Training loss = 2500.6718456745148\tCorrect Validation Examples = 9871\n"
     ]
    },
    {
     "name": "stderr",
     "output_type": "stream",
     "text": [
      "100%|████████████████████████████████████████████████████████████████████████████| 938/938 [00:07<00:00, 121.73it/s]\n",
      "100%|████████████████████████████████████████████████████████████████████████████| 313/313 [00:00<00:00, 323.20it/s]\n",
      "  1%|▉                                                                            | 11/938 [00:00<00:08, 106.05it/s]"
     ]
    },
    {
     "name": "stdout",
     "output_type": "stream",
     "text": [
      "Epoch = 62\tSum of Training loss = 2462.262781739235\tCorrect Validation Examples = 9894\n"
     ]
    },
    {
     "name": "stderr",
     "output_type": "stream",
     "text": [
      "100%|████████████████████████████████████████████████████████████████████████████| 938/938 [00:07<00:00, 122.33it/s]\n",
      "100%|████████████████████████████████████████████████████████████████████████████| 313/313 [00:00<00:00, 314.14it/s]\n",
      "  1%|▉                                                                            | 12/938 [00:00<00:08, 110.39it/s]"
     ]
    },
    {
     "name": "stdout",
     "output_type": "stream",
     "text": [
      "Epoch = 63\tSum of Training loss = 2452.1853243261576\tCorrect Validation Examples = 9870\n"
     ]
    },
    {
     "name": "stderr",
     "output_type": "stream",
     "text": [
      "100%|████████████████████████████████████████████████████████████████████████████| 938/938 [00:07<00:00, 121.14it/s]\n",
      "100%|████████████████████████████████████████████████████████████████████████████| 313/313 [00:00<00:00, 320.56it/s]\n",
      "  1%|▉                                                                            | 11/938 [00:00<00:08, 105.04it/s]"
     ]
    },
    {
     "name": "stdout",
     "output_type": "stream",
     "text": [
      "Epoch = 64\tSum of Training loss = 2493.5907740294933\tCorrect Validation Examples = 9889\n"
     ]
    },
    {
     "name": "stderr",
     "output_type": "stream",
     "text": [
      "100%|████████████████████████████████████████████████████████████████████████████| 938/938 [00:07<00:00, 121.75it/s]\n",
      "100%|████████████████████████████████████████████████████████████████████████████| 313/313 [00:00<00:00, 323.21it/s]\n",
      "  1%|▉                                                                            | 11/938 [00:00<00:08, 109.19it/s]"
     ]
    },
    {
     "name": "stdout",
     "output_type": "stream",
     "text": [
      "Epoch = 65\tSum of Training loss = 2469.5399182885885\tCorrect Validation Examples = 9892\n"
     ]
    },
    {
     "name": "stderr",
     "output_type": "stream",
     "text": [
      "100%|████████████████████████████████████████████████████████████████████████████| 938/938 [00:07<00:00, 122.09it/s]\n",
      "100%|████████████████████████████████████████████████████████████████████████████| 313/313 [00:00<00:00, 321.54it/s]\n",
      "  1%|▉                                                                            | 11/938 [00:00<00:08, 107.08it/s]"
     ]
    },
    {
     "name": "stdout",
     "output_type": "stream",
     "text": [
      "Epoch = 66\tSum of Training loss = 2459.9928985983133\tCorrect Validation Examples = 9883\n"
     ]
    },
    {
     "name": "stderr",
     "output_type": "stream",
     "text": [
      "100%|████████████████████████████████████████████████████████████████████████████| 938/938 [00:07<00:00, 121.75it/s]\n",
      "100%|████████████████████████████████████████████████████████████████████████████| 313/313 [00:00<00:00, 320.24it/s]\n",
      "  1%|▉                                                                            | 12/938 [00:00<00:08, 110.37it/s]"
     ]
    },
    {
     "name": "stdout",
     "output_type": "stream",
     "text": [
      "Epoch = 67\tSum of Training loss = 2458.4073116779327\tCorrect Validation Examples = 9875\n"
     ]
    },
    {
     "name": "stderr",
     "output_type": "stream",
     "text": [
      "100%|████████████████████████████████████████████████████████████████████████████| 938/938 [00:07<00:00, 121.87it/s]\n",
      "100%|████████████████████████████████████████████████████████████████████████████| 313/313 [00:00<00:00, 321.21it/s]\n",
      "  1%|▉                                                                            | 11/938 [00:00<00:08, 107.08it/s]"
     ]
    },
    {
     "name": "stdout",
     "output_type": "stream",
     "text": [
      "Epoch = 68\tSum of Training loss = 2425.1443535983562\tCorrect Validation Examples = 9883\n"
     ]
    },
    {
     "name": "stderr",
     "output_type": "stream",
     "text": [
      "100%|████████████████████████████████████████████████████████████████████████████| 938/938 [00:07<00:00, 121.89it/s]\n",
      "100%|████████████████████████████████████████████████████████████████████████████| 313/313 [00:00<00:00, 318.82it/s]\n",
      "  1%|▉                                                                            | 11/938 [00:00<00:08, 108.13it/s]"
     ]
    },
    {
     "name": "stdout",
     "output_type": "stream",
     "text": [
      "Epoch = 69\tSum of Training loss = 2504.519492313266\tCorrect Validation Examples = 9893\n"
     ]
    },
    {
     "name": "stderr",
     "output_type": "stream",
     "text": [
      "100%|████████████████████████████████████████████████████████████████████████████| 938/938 [00:07<00:00, 122.26it/s]\n",
      "100%|████████████████████████████████████████████████████████████████████████████| 313/313 [00:00<00:00, 320.49it/s]\n",
      "  1%|▉                                                                            | 11/938 [00:00<00:08, 107.09it/s]"
     ]
    },
    {
     "name": "stdout",
     "output_type": "stream",
     "text": [
      "Epoch = 70\tSum of Training loss = 2473.156675249338\tCorrect Validation Examples = 9863\n"
     ]
    },
    {
     "name": "stderr",
     "output_type": "stream",
     "text": [
      "100%|████████████████████████████████████████████████████████████████████████████| 938/938 [00:07<00:00, 121.38it/s]\n",
      "100%|████████████████████████████████████████████████████████████████████████████| 313/313 [00:00<00:00, 321.31it/s]\n",
      "  1%|▉                                                                            | 11/938 [00:00<00:08, 107.08it/s]"
     ]
    },
    {
     "name": "stdout",
     "output_type": "stream",
     "text": [
      "Epoch = 71\tSum of Training loss = 2470.390154540539\tCorrect Validation Examples = 9874\n"
     ]
    },
    {
     "name": "stderr",
     "output_type": "stream",
     "text": [
      "100%|████████████████████████████████████████████████████████████████████████████| 938/938 [00:07<00:00, 121.66it/s]\n",
      "100%|████████████████████████████████████████████████████████████████████████████| 313/313 [00:00<00:00, 319.25it/s]\n",
      "  1%|▉                                                                            | 11/938 [00:00<00:08, 105.04it/s]"
     ]
    },
    {
     "name": "stdout",
     "output_type": "stream",
     "text": [
      "Epoch = 72\tSum of Training loss = 2475.2727111727\tCorrect Validation Examples = 9885\n"
     ]
    },
    {
     "name": "stderr",
     "output_type": "stream",
     "text": [
      "100%|████████████████████████████████████████████████████████████████████████████| 938/938 [00:07<00:00, 122.16it/s]\n",
      "100%|████████████████████████████████████████████████████████████████████████████| 313/313 [00:00<00:00, 323.20it/s]\n",
      "  1%|▉                                                                            | 11/938 [00:00<00:08, 107.08it/s]"
     ]
    },
    {
     "name": "stdout",
     "output_type": "stream",
     "text": [
      "Epoch = 73\tSum of Training loss = 2433.6279237121344\tCorrect Validation Examples = 9877\n"
     ]
    },
    {
     "name": "stderr",
     "output_type": "stream",
     "text": [
      "100%|████████████████████████████████████████████████████████████████████████████| 938/938 [00:07<00:00, 121.81it/s]\n",
      "100%|████████████████████████████████████████████████████████████████████████████| 313/313 [00:00<00:00, 324.87it/s]\n",
      "  1%|▉                                                                            | 11/938 [00:00<00:08, 107.08it/s]"
     ]
    },
    {
     "name": "stdout",
     "output_type": "stream",
     "text": [
      "Epoch = 74\tSum of Training loss = 2432.0955200195312\tCorrect Validation Examples = 9864\n"
     ]
    },
    {
     "name": "stderr",
     "output_type": "stream",
     "text": [
      "100%|████████████████████████████████████████████████████████████████████████████| 938/938 [00:07<00:00, 121.93it/s]\n",
      "100%|████████████████████████████████████████████████████████████████████████████| 313/313 [00:00<00:00, 316.36it/s]\n",
      "  1%|▉                                                                            | 11/938 [00:00<00:08, 106.06it/s]"
     ]
    },
    {
     "name": "stdout",
     "output_type": "stream",
     "text": [
      "Epoch = 75\tSum of Training loss = 2444.963853120804\tCorrect Validation Examples = 9888\n"
     ]
    },
    {
     "name": "stderr",
     "output_type": "stream",
     "text": [
      "100%|████████████████████████████████████████████████████████████████████████████| 938/938 [00:07<00:00, 121.41it/s]\n",
      "100%|████████████████████████████████████████████████████████████████████████████| 313/313 [00:00<00:00, 323.87it/s]\n",
      "  1%|▉                                                                            | 12/938 [00:00<00:08, 110.39it/s]"
     ]
    },
    {
     "name": "stdout",
     "output_type": "stream",
     "text": [
      "Epoch = 76\tSum of Training loss = 2435.7644483447075\tCorrect Validation Examples = 9870\n"
     ]
    },
    {
     "name": "stderr",
     "output_type": "stream",
     "text": [
      "100%|████████████████████████████████████████████████████████████████████████████| 938/938 [00:07<00:00, 121.84it/s]\n",
      "100%|████████████████████████████████████████████████████████████████████████████| 313/313 [00:00<00:00, 321.55it/s]\n",
      "  1%|▉                                                                            | 11/938 [00:00<00:08, 107.08it/s]"
     ]
    },
    {
     "name": "stdout",
     "output_type": "stream",
     "text": [
      "Epoch = 77\tSum of Training loss = 2416.1393874436617\tCorrect Validation Examples = 9850\n"
     ]
    },
    {
     "name": "stderr",
     "output_type": "stream",
     "text": [
      "100%|████████████████████████████████████████████████████████████████████████████| 938/938 [00:07<00:00, 121.65it/s]\n",
      "100%|████████████████████████████████████████████████████████████████████████████| 313/313 [00:00<00:00, 321.54it/s]\n",
      "  1%|▉                                                                            | 11/938 [00:00<00:08, 107.08it/s]"
     ]
    },
    {
     "name": "stdout",
     "output_type": "stream",
     "text": [
      "Epoch = 78\tSum of Training loss = 2411.2595079541206\tCorrect Validation Examples = 9883\n"
     ]
    },
    {
     "name": "stderr",
     "output_type": "stream",
     "text": [
      "100%|████████████████████████████████████████████████████████████████████████████| 938/938 [00:07<00:00, 121.91it/s]\n",
      "100%|████████████████████████████████████████████████████████████████████████████| 313/313 [00:00<00:00, 321.87it/s]\n",
      "  1%|▉                                                                            | 11/938 [00:00<00:08, 108.13it/s]"
     ]
    },
    {
     "name": "stdout",
     "output_type": "stream",
     "text": [
      "Epoch = 79\tSum of Training loss = 2414.4162960350513\tCorrect Validation Examples = 9895\n"
     ]
    },
    {
     "name": "stderr",
     "output_type": "stream",
     "text": [
      "100%|████████████████████████████████████████████████████████████████████████████| 938/938 [00:07<00:00, 121.36it/s]\n",
      "100%|████████████████████████████████████████████████████████████████████████████| 313/313 [00:00<00:00, 325.55it/s]\n",
      "  1%|▉                                                                            | 12/938 [00:00<00:08, 112.46it/s]"
     ]
    },
    {
     "name": "stdout",
     "output_type": "stream",
     "text": [
      "Epoch = 80\tSum of Training loss = 2387.9948777854443\tCorrect Validation Examples = 9887\n"
     ]
    },
    {
     "name": "stderr",
     "output_type": "stream",
     "text": [
      "100%|████████████████████████████████████████████████████████████████████████████| 938/938 [00:07<00:00, 119.80it/s]\n",
      "100%|████████████████████████████████████████████████████████████████████████████| 313/313 [00:00<00:00, 321.22it/s]\n",
      "  1%|▉                                                                            | 11/938 [00:00<00:08, 106.08it/s]"
     ]
    },
    {
     "name": "stdout",
     "output_type": "stream",
     "text": [
      "Epoch = 81\tSum of Training loss = 2410.744707003236\tCorrect Validation Examples = 9887\n"
     ]
    },
    {
     "name": "stderr",
     "output_type": "stream",
     "text": [
      "100%|████████████████████████████████████████████████████████████████████████████| 938/938 [00:07<00:00, 121.99it/s]\n",
      "100%|████████████████████████████████████████████████████████████████████████████| 313/313 [00:00<00:00, 319.91it/s]\n",
      "  1%|▉                                                                            | 11/938 [00:00<00:09, 100.27it/s]"
     ]
    },
    {
     "name": "stdout",
     "output_type": "stream",
     "text": [
      "Epoch = 82\tSum of Training loss = 2400.2150233983994\tCorrect Validation Examples = 9876\n"
     ]
    },
    {
     "name": "stderr",
     "output_type": "stream",
     "text": [
      "100%|████████████████████████████████████████████████████████████████████████████| 938/938 [00:07<00:00, 120.09it/s]\n",
      "100%|████████████████████████████████████████████████████████████████████████████| 313/313 [00:01<00:00, 302.35it/s]\n",
      "  1%|▉                                                                            | 11/938 [00:00<00:08, 107.07it/s]"
     ]
    },
    {
     "name": "stdout",
     "output_type": "stream",
     "text": [
      "Epoch = 83\tSum of Training loss = 2399.1709925830364\tCorrect Validation Examples = 9892\n"
     ]
    },
    {
     "name": "stderr",
     "output_type": "stream",
     "text": [
      "100%|████████████████████████████████████████████████████████████████████████████| 938/938 [00:08<00:00, 114.29it/s]\n",
      "100%|████████████████████████████████████████████████████████████████████████████| 313/313 [00:00<00:00, 313.20it/s]\n",
      "  1%|▉                                                                            | 11/938 [00:00<00:08, 107.08it/s]"
     ]
    },
    {
     "name": "stdout",
     "output_type": "stream",
     "text": [
      "Epoch = 84\tSum of Training loss = 2440.9244237542152\tCorrect Validation Examples = 9899\n"
     ]
    },
    {
     "name": "stderr",
     "output_type": "stream",
     "text": [
      "100%|████████████████████████████████████████████████████████████████████████████| 938/938 [00:07<00:00, 120.82it/s]\n",
      "100%|████████████████████████████████████████████████████████████████████████████| 313/313 [00:00<00:00, 320.89it/s]\n",
      "  1%|▉                                                                            | 11/938 [00:00<00:08, 108.13it/s]"
     ]
    },
    {
     "name": "stdout",
     "output_type": "stream",
     "text": [
      "Epoch = 85\tSum of Training loss = 2384.106748893857\tCorrect Validation Examples = 9877\n"
     ]
    },
    {
     "name": "stderr",
     "output_type": "stream",
     "text": [
      "100%|████████████████████████████████████████████████████████████████████████████| 938/938 [00:07<00:00, 120.72it/s]\n",
      "100%|████████████████████████████████████████████████████████████████████████████| 313/313 [00:00<00:00, 314.47it/s]\n",
      "  1%|▉                                                                            | 11/938 [00:00<00:08, 107.08it/s]"
     ]
    },
    {
     "name": "stdout",
     "output_type": "stream",
     "text": [
      "Epoch = 86\tSum of Training loss = 2369.3164532333612\tCorrect Validation Examples = 9898\n"
     ]
    },
    {
     "name": "stderr",
     "output_type": "stream",
     "text": [
      "100%|████████████████████████████████████████████████████████████████████████████| 938/938 [00:07<00:00, 121.18it/s]\n",
      "100%|████████████████████████████████████████████████████████████████████████████| 313/313 [00:00<00:00, 317.64it/s]\n",
      "  1%|▉                                                                            | 11/938 [00:00<00:08, 103.08it/s]"
     ]
    },
    {
     "name": "stdout",
     "output_type": "stream",
     "text": [
      "Epoch = 87\tSum of Training loss = 2414.3596479445696\tCorrect Validation Examples = 9890\n"
     ]
    },
    {
     "name": "stderr",
     "output_type": "stream",
     "text": [
      "100%|████████████████████████████████████████████████████████████████████████████| 938/938 [00:07<00:00, 119.86it/s]\n",
      "100%|████████████████████████████████████████████████████████████████████████████| 313/313 [00:00<00:00, 318.29it/s]\n",
      "  1%|▉                                                                            | 11/938 [00:00<00:08, 106.05it/s]"
     ]
    },
    {
     "name": "stdout",
     "output_type": "stream",
     "text": [
      "Epoch = 88\tSum of Training loss = 2388.018971860409\tCorrect Validation Examples = 9869\n"
     ]
    },
    {
     "name": "stderr",
     "output_type": "stream",
     "text": [
      "100%|████████████████████████████████████████████████████████████████████████████| 938/938 [00:07<00:00, 117.37it/s]\n",
      "100%|████████████████████████████████████████████████████████████████████████████| 313/313 [00:01<00:00, 269.39it/s]\n",
      "  1%|▊                                                                             | 10/938 [00:00<00:09, 93.71it/s]"
     ]
    },
    {
     "name": "stdout",
     "output_type": "stream",
     "text": [
      "Epoch = 89\tSum of Training loss = 2421.1914738714695\tCorrect Validation Examples = 9895\n"
     ]
    },
    {
     "name": "stderr",
     "output_type": "stream",
     "text": [
      "100%|████████████████████████████████████████████████████████████████████████████| 938/938 [00:08<00:00, 112.85it/s]\n",
      "100%|████████████████████████████████████████████████████████████████████████████| 313/313 [00:01<00:00, 267.32it/s]\n",
      "  2%|█▊                                                                           | 22/938 [00:00<00:08, 104.57it/s]"
     ]
    },
    {
     "name": "stdout",
     "output_type": "stream",
     "text": [
      "Epoch = 90\tSum of Training loss = 2410.9945502877235\tCorrect Validation Examples = 9886\n"
     ]
    },
    {
     "name": "stderr",
     "output_type": "stream",
     "text": [
      "100%|████████████████████████████████████████████████████████████████████████████| 938/938 [00:08<00:00, 112.04it/s]\n",
      "100%|████████████████████████████████████████████████████████████████████████████| 313/313 [00:01<00:00, 279.96it/s]\n",
      "  1%|▊                                                                             | 10/938 [00:00<00:09, 94.59it/s]"
     ]
    },
    {
     "name": "stdout",
     "output_type": "stream",
     "text": [
      "Epoch = 91\tSum of Training loss = 2425.301912471652\tCorrect Validation Examples = 9897\n"
     ]
    },
    {
     "name": "stderr",
     "output_type": "stream",
     "text": [
      "100%|████████████████████████████████████████████████████████████████████████████| 938/938 [00:08<00:00, 109.43it/s]\n",
      "100%|████████████████████████████████████████████████████████████████████████████| 313/313 [00:01<00:00, 286.35it/s]\n",
      "  1%|▉                                                                            | 11/938 [00:00<00:08, 105.04it/s]"
     ]
    },
    {
     "name": "stdout",
     "output_type": "stream",
     "text": [
      "Epoch = 92\tSum of Training loss = 2378.066875308752\tCorrect Validation Examples = 9890\n"
     ]
    },
    {
     "name": "stderr",
     "output_type": "stream",
     "text": [
      "100%|████████████████████████████████████████████████████████████████████████████| 938/938 [00:08<00:00, 111.88it/s]\n",
      "100%|████████████████████████████████████████████████████████████████████████████| 313/313 [00:01<00:00, 301.19it/s]\n",
      "  1%|▉                                                                             | 11/938 [00:00<00:09, 99.37it/s]"
     ]
    },
    {
     "name": "stdout",
     "output_type": "stream",
     "text": [
      "Epoch = 93\tSum of Training loss = 2389.5306059122086\tCorrect Validation Examples = 9872\n"
     ]
    },
    {
     "name": "stderr",
     "output_type": "stream",
     "text": [
      "100%|████████████████████████████████████████████████████████████████████████████| 938/938 [00:08<00:00, 113.55it/s]\n",
      "100%|████████████████████████████████████████████████████████████████████████████| 313/313 [00:00<00:00, 322.00it/s]\n",
      "  1%|▉                                                                            | 11/938 [00:00<00:08, 108.13it/s]"
     ]
    },
    {
     "name": "stdout",
     "output_type": "stream",
     "text": [
      "Epoch = 94\tSum of Training loss = 2391.237159281969\tCorrect Validation Examples = 9889\n"
     ]
    },
    {
     "name": "stderr",
     "output_type": "stream",
     "text": [
      "100%|████████████████████████████████████████████████████████████████████████████| 938/938 [00:08<00:00, 112.56it/s]\n",
      "100%|████████████████████████████████████████████████████████████████████████████| 313/313 [00:01<00:00, 289.74it/s]\n",
      "  1%|▉                                                                            | 11/938 [00:00<00:08, 105.04it/s]"
     ]
    },
    {
     "name": "stdout",
     "output_type": "stream",
     "text": [
      "Epoch = 95\tSum of Training loss = 2421.014538794756\tCorrect Validation Examples = 9889\n"
     ]
    },
    {
     "name": "stderr",
     "output_type": "stream",
     "text": [
      "100%|████████████████████████████████████████████████████████████████████████████| 938/938 [00:08<00:00, 109.30it/s]\n",
      "100%|████████████████████████████████████████████████████████████████████████████| 313/313 [00:01<00:00, 277.73it/s]\n",
      "  1%|▊                                                                             | 10/938 [00:00<00:09, 93.71it/s]"
     ]
    },
    {
     "name": "stdout",
     "output_type": "stream",
     "text": [
      "Epoch = 96\tSum of Training loss = 2359.9293258339167\tCorrect Validation Examples = 9879\n"
     ]
    },
    {
     "name": "stderr",
     "output_type": "stream",
     "text": [
      "100%|████████████████████████████████████████████████████████████████████████████| 938/938 [00:08<00:00, 114.04it/s]\n",
      "100%|████████████████████████████████████████████████████████████████████████████| 313/313 [00:01<00:00, 311.35it/s]\n",
      "  1%|▉                                                                            | 11/938 [00:00<00:08, 107.08it/s]"
     ]
    },
    {
     "name": "stdout",
     "output_type": "stream",
     "text": [
      "Epoch = 97\tSum of Training loss = 2374.0339393764734\tCorrect Validation Examples = 9854\n"
     ]
    },
    {
     "name": "stderr",
     "output_type": "stream",
     "text": [
      "100%|████████████████████████████████████████████████████████████████████████████| 938/938 [00:08<00:00, 114.94it/s]\n",
      "100%|████████████████████████████████████████████████████████████████████████████| 313/313 [00:01<00:00, 289.53it/s]\n",
      "  1%|▉                                                                            | 11/938 [00:00<00:09, 100.24it/s]"
     ]
    },
    {
     "name": "stdout",
     "output_type": "stream",
     "text": [
      "Epoch = 98\tSum of Training loss = 2369.354405529797\tCorrect Validation Examples = 9889\n"
     ]
    },
    {
     "name": "stderr",
     "output_type": "stream",
     "text": [
      "100%|████████████████████████████████████████████████████████████████████████████| 938/938 [00:08<00:00, 112.17it/s]\n",
      "100%|████████████████████████████████████████████████████████████████████████████| 313/313 [00:01<00:00, 293.59it/s]\n",
      "  1%|▉                                                                            | 11/938 [00:00<00:08, 104.05it/s]"
     ]
    },
    {
     "name": "stdout",
     "output_type": "stream",
     "text": [
      "Epoch = 99\tSum of Training loss = 2402.7782043665648\tCorrect Validation Examples = 9890\n"
     ]
    },
    {
     "name": "stderr",
     "output_type": "stream",
     "text": [
      "100%|████████████████████████████████████████████████████████████████████████████| 938/938 [00:08<00:00, 113.31it/s]\n",
      "100%|████████████████████████████████████████████████████████████████████████████| 313/313 [00:01<00:00, 303.75it/s]\n"
     ]
    },
    {
     "name": "stdout",
     "output_type": "stream",
     "text": [
      "Epoch = 100\tSum of Training loss = 2354.808225721121\tCorrect Validation Examples = 9882\n"
     ]
    },
    {
     "data": {
      "text/plain": [
       "<Figure size 1152x360 with 0 Axes>"
      ]
     },
     "metadata": {},
     "output_type": "display_data"
    }
   ],
   "source": [
    "model=CNN(dropout=False).to(device)\n",
    "optimizer = optim.RMSprop(model.parameters(), lr=1e-4, weight_decay=0.2)\n",
    "train_loss_array=[]\n",
    "valid_acc_array=[]\n",
    "for epoch in range(epochs):\n",
    "    #Traning \n",
    "    train_loss=0\n",
    "    for data in tqdm(trainloader):\n",
    "        images,labels=data\n",
    "        images=images.to(device)\n",
    "        labels=labels.to(device)\n",
    "        optimizer.zero_grad()\n",
    "        output=model(images)\n",
    "        loss = criterion(output, labels)\n",
    "        loss.backward()\n",
    "        optimizer.step()\n",
    "        train_loss += loss.item()\n",
    "    train_loss_array.append(train_loss)\n",
    "    #validation\n",
    "    correct=0\n",
    "    model.eval()\n",
    "    with torch.no_grad():\n",
    "        for data in tqdm(testloader):\n",
    "            images,labels=data\n",
    "            images=images.to(device)\n",
    "            labels=labels.to(device)\n",
    "            output=model(images)\n",
    "            _,pred=torch.max(output.data,1)\n",
    "            correct+=(pred == labels).sum().item()\n",
    "    valid_acc_array.append(correct)\n",
    "    model.train()\n",
    "    print(f\"Epoch = {epoch+1}\\tSum of Training loss = {train_loss}\\tCorrect Validation Examples = {correct}\")\n",
    "    \n",
    "fig,ax=plt.subplots(1,2,figsize=(16,5))\n",
    "ax[0].plot(np.arange(1,epochs+1),train_loss_array)\n",
    "ax[0].set(ylabel=\"Summed Training loss\",xlabel=\"Epochs\")\n",
    "ax[1].plot(np.arange(1,epochs+1),np.array(valid_acc_array)/len(testset)*100)\n",
    "ax[1].set(ylabel=\"Validation Accuracy\",xlabel=\"Epochs\")\n",
    "plt.savefig(\"RMS_regularization.png\",dpi=500)\n",
    "plt.clf()"
   ]
  },
  {
   "cell_type": "code",
   "execution_count": 28,
   "id": "medieval-favorite",
   "metadata": {},
   "outputs": [
    {
     "name": "stdout",
     "output_type": "stream",
     "text": [
      "Maximum Accuracy achieved = 98.99\n"
     ]
    }
   ],
   "source": [
    "print(f'Maximum Accuracy achieved = {max(valid_acc_array)/len(testset)*100}')\n",
    "all_losses.append(train_loss_array)"
   ]
  },
  {
   "cell_type": "markdown",
   "id": "acquired-museum",
   "metadata": {},
   "source": [
    "## RMSprop with Regularization and with Dropout"
   ]
  },
  {
   "cell_type": "code",
   "execution_count": 29,
   "id": "tracked-childhood",
   "metadata": {},
   "outputs": [
    {
     "name": "stderr",
     "output_type": "stream",
     "text": [
      "100%|████████████████████████████████████████████████████████████████████████████| 938/938 [00:08<00:00, 113.17it/s]\n",
      "100%|████████████████████████████████████████████████████████████████████████████| 313/313 [00:01<00:00, 293.58it/s]\n",
      "  1%|▊                                                                             | 10/938 [00:00<00:09, 98.30it/s]"
     ]
    },
    {
     "name": "stdout",
     "output_type": "stream",
     "text": [
      "Epoch = 1\tSum of Training loss = 79961.41120147705\tCorrect Validation Examples = 8817\n"
     ]
    },
    {
     "name": "stderr",
     "output_type": "stream",
     "text": [
      "100%|████████████████████████████████████████████████████████████████████████████| 938/938 [00:08<00:00, 113.73it/s]\n",
      "100%|████████████████████████████████████████████████████████████████████████████| 313/313 [00:01<00:00, 302.64it/s]\n",
      "  1%|▉                                                                            | 12/938 [00:00<00:08, 109.37it/s]"
     ]
    },
    {
     "name": "stdout",
     "output_type": "stream",
     "text": [
      "Epoch = 2\tSum of Training loss = 21825.286368370056\tCorrect Validation Examples = 9235\n"
     ]
    },
    {
     "name": "stderr",
     "output_type": "stream",
     "text": [
      "100%|████████████████████████████████████████████████████████████████████████████| 938/938 [00:08<00:00, 113.22it/s]\n",
      "100%|████████████████████████████████████████████████████████████████████████████| 313/313 [00:01<00:00, 295.79it/s]\n",
      "  1%|▉                                                                            | 11/938 [00:00<00:08, 104.05it/s]"
     ]
    },
    {
     "name": "stdout",
     "output_type": "stream",
     "text": [
      "Epoch = 3\tSum of Training loss = 15350.545701026917\tCorrect Validation Examples = 9380\n"
     ]
    },
    {
     "name": "stderr",
     "output_type": "stream",
     "text": [
      "100%|████████████████████████████████████████████████████████████████████████████| 938/938 [00:08<00:00, 113.36it/s]\n",
      "100%|████████████████████████████████████████████████████████████████████████████| 313/313 [00:01<00:00, 304.99it/s]\n",
      "  1%|▉                                                                            | 11/938 [00:00<00:08, 109.20it/s]"
     ]
    },
    {
     "name": "stdout",
     "output_type": "stream",
     "text": [
      "Epoch = 4\tSum of Training loss = 11893.199454784393\tCorrect Validation Examples = 9560\n"
     ]
    },
    {
     "name": "stderr",
     "output_type": "stream",
     "text": [
      "100%|████████████████████████████████████████████████████████████████████████████| 938/938 [00:08<00:00, 111.78it/s]\n",
      "100%|████████████████████████████████████████████████████████████████████████████| 313/313 [00:01<00:00, 291.13it/s]\n",
      "  1%|▊                                                                             | 10/938 [00:00<00:09, 99.27it/s]"
     ]
    },
    {
     "name": "stdout",
     "output_type": "stream",
     "text": [
      "Epoch = 5\tSum of Training loss = 9716.99024772644\tCorrect Validation Examples = 9632\n"
     ]
    },
    {
     "name": "stderr",
     "output_type": "stream",
     "text": [
      "100%|████████████████████████████████████████████████████████████████████████████| 938/938 [00:08<00:00, 110.91it/s]\n",
      "100%|████████████████████████████████████████████████████████████████████████████| 313/313 [00:01<00:00, 287.93it/s]\n",
      "  1%|▉                                                                            | 11/938 [00:00<00:09, 101.19it/s]"
     ]
    },
    {
     "name": "stdout",
     "output_type": "stream",
     "text": [
      "Epoch = 6\tSum of Training loss = 8274.382096290588\tCorrect Validation Examples = 9701\n"
     ]
    },
    {
     "name": "stderr",
     "output_type": "stream",
     "text": [
      "100%|████████████████████████████████████████████████████████████████████████████| 938/938 [00:08<00:00, 110.13it/s]\n",
      "100%|████████████████████████████████████████████████████████████████████████████| 313/313 [00:01<00:00, 280.96it/s]\n",
      "  1%|▉                                                                            | 11/938 [00:00<00:08, 107.08it/s]"
     ]
    },
    {
     "name": "stdout",
     "output_type": "stream",
     "text": [
      "Epoch = 7\tSum of Training loss = 7368.359480500221\tCorrect Validation Examples = 9718\n"
     ]
    },
    {
     "name": "stderr",
     "output_type": "stream",
     "text": [
      "100%|████████████████████████████████████████████████████████████████████████████| 938/938 [00:08<00:00, 112.59it/s]\n",
      "100%|████████████████████████████████████████████████████████████████████████████| 313/313 [00:01<00:00, 304.99it/s]\n",
      "  1%|▉                                                                            | 12/938 [00:00<00:08, 110.39it/s]"
     ]
    },
    {
     "name": "stdout",
     "output_type": "stream",
     "text": [
      "Epoch = 8\tSum of Training loss = 6699.470900177956\tCorrect Validation Examples = 9740\n"
     ]
    },
    {
     "name": "stderr",
     "output_type": "stream",
     "text": [
      "100%|████████████████████████████████████████████████████████████████████████████| 938/938 [00:08<00:00, 115.52it/s]\n",
      "100%|████████████████████████████████████████████████████████████████████████████| 313/313 [00:01<00:00, 300.03it/s]\n",
      "  1%|▉                                                                            | 11/938 [00:00<00:08, 104.06it/s]"
     ]
    },
    {
     "name": "stdout",
     "output_type": "stream",
     "text": [
      "Epoch = 9\tSum of Training loss = 6099.087059259415\tCorrect Validation Examples = 9756\n"
     ]
    },
    {
     "name": "stderr",
     "output_type": "stream",
     "text": [
      "100%|████████████████████████████████████████████████████████████████████████████| 938/938 [00:08<00:00, 113.88it/s]\n",
      "100%|████████████████████████████████████████████████████████████████████████████| 313/313 [00:01<00:00, 302.64it/s]\n",
      "  1%|▉                                                                            | 11/938 [00:00<00:08, 106.05it/s]"
     ]
    },
    {
     "name": "stdout",
     "output_type": "stream",
     "text": [
      "Epoch = 10\tSum of Training loss = 5733.79704618454\tCorrect Validation Examples = 9771\n"
     ]
    },
    {
     "name": "stderr",
     "output_type": "stream",
     "text": [
      "100%|████████████████████████████████████████████████████████████████████████████| 938/938 [00:08<00:00, 113.97it/s]\n",
      "100%|████████████████████████████████████████████████████████████████████████████| 313/313 [00:01<00:00, 281.22it/s]\n",
      "  1%|▉                                                                            | 11/938 [00:00<00:08, 105.04it/s]"
     ]
    },
    {
     "name": "stdout",
     "output_type": "stream",
     "text": [
      "Epoch = 11\tSum of Training loss = 5403.960336506367\tCorrect Validation Examples = 9789\n"
     ]
    },
    {
     "name": "stderr",
     "output_type": "stream",
     "text": [
      "100%|████████████████████████████████████████████████████████████████████████████| 938/938 [00:08<00:00, 115.06it/s]\n",
      "100%|████████████████████████████████████████████████████████████████████████████| 313/313 [00:01<00:00, 295.86it/s]\n",
      "  1%|▉                                                                            | 11/938 [00:00<00:08, 107.05it/s]"
     ]
    },
    {
     "name": "stdout",
     "output_type": "stream",
     "text": [
      "Epoch = 12\tSum of Training loss = 5087.424502551556\tCorrect Validation Examples = 9774\n"
     ]
    },
    {
     "name": "stderr",
     "output_type": "stream",
     "text": [
      "100%|████████████████████████████████████████████████████████████████████████████| 938/938 [00:07<00:00, 118.24it/s]\n",
      "100%|████████████████████████████████████████████████████████████████████████████| 313/313 [00:01<00:00, 306.07it/s]\n",
      "  2%|█▉                                                                           | 23/938 [00:00<00:08, 110.29it/s]"
     ]
    },
    {
     "name": "stdout",
     "output_type": "stream",
     "text": [
      "Epoch = 13\tSum of Training loss = 4850.065150618553\tCorrect Validation Examples = 9790\n"
     ]
    },
    {
     "name": "stderr",
     "output_type": "stream",
     "text": [
      "100%|████████████████████████████████████████████████████████████████████████████| 938/938 [00:08<00:00, 114.63it/s]\n",
      "100%|████████████████████████████████████████████████████████████████████████████| 313/313 [00:00<00:00, 315.40it/s]\n",
      "  1%|▉                                                                            | 11/938 [00:00<00:08, 109.17it/s]"
     ]
    },
    {
     "name": "stdout",
     "output_type": "stream",
     "text": [
      "Epoch = 14\tSum of Training loss = 4677.20000576973\tCorrect Validation Examples = 9817\n"
     ]
    },
    {
     "name": "stderr",
     "output_type": "stream",
     "text": [
      "100%|████████████████████████████████████████████████████████████████████████████| 938/938 [00:07<00:00, 120.32it/s]\n",
      "100%|████████████████████████████████████████████████████████████████████████████| 313/313 [00:01<00:00, 294.09it/s]\n",
      "  1%|▉                                                                            | 11/938 [00:00<00:08, 104.05it/s]"
     ]
    },
    {
     "name": "stdout",
     "output_type": "stream",
     "text": [
      "Epoch = 15\tSum of Training loss = 4476.326271355152\tCorrect Validation Examples = 9827\n"
     ]
    },
    {
     "name": "stderr",
     "output_type": "stream",
     "text": [
      "100%|████████████████████████████████████████████████████████████████████████████| 938/938 [00:08<00:00, 116.30it/s]\n",
      "100%|████████████████████████████████████████████████████████████████████████████| 313/313 [00:00<00:00, 320.57it/s]\n",
      "  1%|▉                                                                            | 11/938 [00:00<00:08, 106.05it/s]"
     ]
    },
    {
     "name": "stdout",
     "output_type": "stream",
     "text": [
      "Epoch = 16\tSum of Training loss = 4349.184379994869\tCorrect Validation Examples = 9815\n"
     ]
    },
    {
     "name": "stderr",
     "output_type": "stream",
     "text": [
      "100%|████████████████████████████████████████████████████████████████████████████| 938/938 [00:08<00:00, 116.94it/s]\n",
      "100%|████████████████████████████████████████████████████████████████████████████| 313/313 [00:01<00:00, 299.45it/s]\n",
      "  1%|▉                                                                            | 11/938 [00:00<00:08, 105.04it/s]"
     ]
    },
    {
     "name": "stdout",
     "output_type": "stream",
     "text": [
      "Epoch = 17\tSum of Training loss = 4211.066547989845\tCorrect Validation Examples = 9826\n"
     ]
    },
    {
     "name": "stderr",
     "output_type": "stream",
     "text": [
      "100%|████████████████████████████████████████████████████████████████████████████| 938/938 [00:07<00:00, 121.71it/s]\n",
      "100%|████████████████████████████████████████████████████████████████████████████| 313/313 [00:00<00:00, 314.14it/s]\n",
      "  2%|█▊                                                                           | 22/938 [00:00<00:08, 106.48it/s]"
     ]
    },
    {
     "name": "stdout",
     "output_type": "stream",
     "text": [
      "Epoch = 18\tSum of Training loss = 4085.6249545514584\tCorrect Validation Examples = 9837\n"
     ]
    },
    {
     "name": "stderr",
     "output_type": "stream",
     "text": [
      "100%|████████████████████████████████████████████████████████████████████████████| 938/938 [00:07<00:00, 121.76it/s]\n",
      "100%|████████████████████████████████████████████████████████████████████████████| 313/313 [00:00<00:00, 317.91it/s]\n",
      "  1%|▉                                                                            | 11/938 [00:00<00:08, 107.08it/s]"
     ]
    },
    {
     "name": "stdout",
     "output_type": "stream",
     "text": [
      "Epoch = 19\tSum of Training loss = 3917.2026515603065\tCorrect Validation Examples = 9836\n"
     ]
    },
    {
     "name": "stderr",
     "output_type": "stream",
     "text": [
      "100%|████████████████████████████████████████████████████████████████████████████| 938/938 [00:07<00:00, 121.20it/s]\n",
      "100%|████████████████████████████████████████████████████████████████████████████| 313/313 [00:00<00:00, 315.50it/s]\n",
      "  2%|█▉                                                                           | 23/938 [00:00<00:08, 109.80it/s]"
     ]
    },
    {
     "name": "stdout",
     "output_type": "stream",
     "text": [
      "Epoch = 20\tSum of Training loss = 3858.7096461057663\tCorrect Validation Examples = 9839\n"
     ]
    },
    {
     "name": "stderr",
     "output_type": "stream",
     "text": [
      "100%|████████████████████████████████████████████████████████████████████████████| 938/938 [00:07<00:00, 122.23it/s]\n",
      "100%|████████████████████████████████████████████████████████████████████████████| 313/313 [00:00<00:00, 319.62it/s]\n",
      "  1%|▉                                                                            | 12/938 [00:00<00:08, 110.39it/s]"
     ]
    },
    {
     "name": "stdout",
     "output_type": "stream",
     "text": [
      "Epoch = 21\tSum of Training loss = 3733.80147343874\tCorrect Validation Examples = 9828\n"
     ]
    },
    {
     "name": "stderr",
     "output_type": "stream",
     "text": [
      "100%|████████████████████████████████████████████████████████████████████████████| 938/938 [00:07<00:00, 122.18it/s]\n",
      "100%|████████████████████████████████████████████████████████████████████████████| 313/313 [00:00<00:00, 321.05it/s]\n",
      "  1%|▉                                                                            | 12/938 [00:00<00:08, 110.36it/s]"
     ]
    },
    {
     "name": "stdout",
     "output_type": "stream",
     "text": [
      "Epoch = 22\tSum of Training loss = 3709.643181204796\tCorrect Validation Examples = 9837\n"
     ]
    },
    {
     "name": "stderr",
     "output_type": "stream",
     "text": [
      "100%|████████████████████████████████████████████████████████████████████████████| 938/938 [00:07<00:00, 122.59it/s]\n",
      "100%|████████████████████████████████████████████████████████████████████████████| 313/313 [00:00<00:00, 322.08it/s]\n",
      "  1%|▉                                                                            | 12/938 [00:00<00:08, 109.38it/s]"
     ]
    },
    {
     "name": "stdout",
     "output_type": "stream",
     "text": [
      "Epoch = 23\tSum of Training loss = 3576.049456179142\tCorrect Validation Examples = 9848\n"
     ]
    },
    {
     "name": "stderr",
     "output_type": "stream",
     "text": [
      "100%|████████████████████████████████████████████████████████████████████████████| 938/938 [00:07<00:00, 122.79it/s]\n",
      "100%|████████████████████████████████████████████████████████████████████████████| 313/313 [00:00<00:00, 321.23it/s]\n",
      "  1%|▊                                                                              | 9/938 [00:00<00:10, 89.35it/s]"
     ]
    },
    {
     "name": "stdout",
     "output_type": "stream",
     "text": [
      "Epoch = 24\tSum of Training loss = 3544.230777978897\tCorrect Validation Examples = 9840\n"
     ]
    },
    {
     "name": "stderr",
     "output_type": "stream",
     "text": [
      "100%|████████████████████████████████████████████████████████████████████████████| 938/938 [00:07<00:00, 122.26it/s]\n",
      "100%|████████████████████████████████████████████████████████████████████████████| 313/313 [00:00<00:00, 320.26it/s]\n",
      "  1%|▉                                                                            | 11/938 [00:00<00:08, 107.08it/s]"
     ]
    },
    {
     "name": "stdout",
     "output_type": "stream",
     "text": [
      "Epoch = 25\tSum of Training loss = 3473.158008992672\tCorrect Validation Examples = 9849\n"
     ]
    },
    {
     "name": "stderr",
     "output_type": "stream",
     "text": [
      "100%|████████████████████████████████████████████████████████████████████████████| 938/938 [00:07<00:00, 123.20it/s]\n",
      "100%|████████████████████████████████████████████████████████████████████████████| 313/313 [00:00<00:00, 319.70it/s]\n",
      "  1%|▉                                                                            | 11/938 [00:00<00:08, 108.13it/s]"
     ]
    },
    {
     "name": "stdout",
     "output_type": "stream",
     "text": [
      "Epoch = 26\tSum of Training loss = 3430.682391822338\tCorrect Validation Examples = 9855\n"
     ]
    },
    {
     "name": "stderr",
     "output_type": "stream",
     "text": [
      "100%|████████████████████████████████████████████████████████████████████████████| 938/938 [00:07<00:00, 123.37it/s]\n",
      "100%|████████████████████████████████████████████████████████████████████████████| 313/313 [00:00<00:00, 320.23it/s]\n",
      "  1%|▉                                                                            | 11/938 [00:00<00:08, 109.22it/s]"
     ]
    },
    {
     "name": "stdout",
     "output_type": "stream",
     "text": [
      "Epoch = 27\tSum of Training loss = 3373.716461598873\tCorrect Validation Examples = 9860\n"
     ]
    },
    {
     "name": "stderr",
     "output_type": "stream",
     "text": [
      "100%|████████████████████████████████████████████████████████████████████████████| 938/938 [00:07<00:00, 122.72it/s]\n",
      "100%|████████████████████████████████████████████████████████████████████████████| 313/313 [00:00<00:00, 321.87it/s]\n",
      "  1%|▉                                                                            | 11/938 [00:00<00:08, 108.13it/s]"
     ]
    },
    {
     "name": "stdout",
     "output_type": "stream",
     "text": [
      "Epoch = 28\tSum of Training loss = 3283.904349654913\tCorrect Validation Examples = 9851\n"
     ]
    },
    {
     "name": "stderr",
     "output_type": "stream",
     "text": [
      "100%|████████████████████████████████████████████████████████████████████████████| 938/938 [00:07<00:00, 122.72it/s]\n",
      "100%|████████████████████████████████████████████████████████████████████████████| 313/313 [00:00<00:00, 321.65it/s]\n",
      "  1%|▉                                                                            | 12/938 [00:00<00:08, 112.45it/s]"
     ]
    },
    {
     "name": "stdout",
     "output_type": "stream",
     "text": [
      "Epoch = 29\tSum of Training loss = 3244.6377767324448\tCorrect Validation Examples = 9852\n"
     ]
    },
    {
     "name": "stderr",
     "output_type": "stream",
     "text": [
      "100%|████████████████████████████████████████████████████████████████████████████| 938/938 [00:07<00:00, 123.55it/s]\n",
      "100%|████████████████████████████████████████████████████████████████████████████| 313/313 [00:00<00:00, 320.37it/s]\n",
      "  1%|▉                                                                            | 12/938 [00:00<00:08, 112.45it/s]"
     ]
    },
    {
     "name": "stdout",
     "output_type": "stream",
     "text": [
      "Epoch = 30\tSum of Training loss = 3208.661667883396\tCorrect Validation Examples = 9861\n"
     ]
    },
    {
     "name": "stderr",
     "output_type": "stream",
     "text": [
      "100%|████████████████████████████████████████████████████████████████████████████| 938/938 [00:07<00:00, 122.71it/s]\n",
      "100%|████████████████████████████████████████████████████████████████████████████| 313/313 [00:00<00:00, 320.65it/s]\n",
      "  1%|▉                                                                            | 12/938 [00:00<00:08, 112.45it/s]"
     ]
    },
    {
     "name": "stdout",
     "output_type": "stream",
     "text": [
      "Epoch = 31\tSum of Training loss = 3177.8363140523434\tCorrect Validation Examples = 9850\n"
     ]
    },
    {
     "name": "stderr",
     "output_type": "stream",
     "text": [
      "100%|████████████████████████████████████████████████████████████████████████████| 938/938 [00:07<00:00, 123.23it/s]\n",
      "100%|████████████████████████████████████████████████████████████████████████████| 313/313 [00:00<00:00, 318.95it/s]\n",
      "  1%|▉                                                                            | 11/938 [00:00<00:08, 108.16it/s]"
     ]
    },
    {
     "name": "stdout",
     "output_type": "stream",
     "text": [
      "Epoch = 32\tSum of Training loss = 3124.4293774068356\tCorrect Validation Examples = 9857\n"
     ]
    },
    {
     "name": "stderr",
     "output_type": "stream",
     "text": [
      "100%|████████████████████████████████████████████████████████████████████████████| 938/938 [00:07<00:00, 123.69it/s]\n",
      "100%|████████████████████████████████████████████████████████████████████████████| 313/313 [00:00<00:00, 320.36it/s]\n",
      "  1%|▉                                                                            | 11/938 [00:00<00:08, 109.20it/s]"
     ]
    },
    {
     "name": "stdout",
     "output_type": "stream",
     "text": [
      "Epoch = 33\tSum of Training loss = 3106.2548383772373\tCorrect Validation Examples = 9865\n"
     ]
    },
    {
     "name": "stderr",
     "output_type": "stream",
     "text": [
      "100%|████████████████████████████████████████████████████████████████████████████| 938/938 [00:07<00:00, 123.54it/s]\n",
      "100%|████████████████████████████████████████████████████████████████████████████| 313/313 [00:00<00:00, 321.21it/s]\n",
      "  1%|▉                                                                            | 12/938 [00:00<00:08, 110.39it/s]"
     ]
    },
    {
     "name": "stdout",
     "output_type": "stream",
     "text": [
      "Epoch = 34\tSum of Training loss = 3052.309070676565\tCorrect Validation Examples = 9871\n"
     ]
    },
    {
     "name": "stderr",
     "output_type": "stream",
     "text": [
      "100%|████████████████████████████████████████████████████████████████████████████| 938/938 [00:07<00:00, 123.68it/s]\n",
      "100%|████████████████████████████████████████████████████████████████████████████| 313/313 [00:00<00:00, 318.62it/s]\n",
      "  1%|▉                                                                            | 12/938 [00:00<00:08, 110.37it/s]"
     ]
    },
    {
     "name": "stdout",
     "output_type": "stream",
     "text": [
      "Epoch = 35\tSum of Training loss = 3021.8997031748295\tCorrect Validation Examples = 9859\n"
     ]
    },
    {
     "name": "stderr",
     "output_type": "stream",
     "text": [
      "100%|████████████████████████████████████████████████████████████████████████████| 938/938 [00:07<00:00, 123.90it/s]\n",
      "100%|████████████████████████████████████████████████████████████████████████████| 313/313 [00:00<00:00, 322.72it/s]\n",
      "  1%|▉                                                                            | 11/938 [00:00<00:08, 106.05it/s]"
     ]
    },
    {
     "name": "stdout",
     "output_type": "stream",
     "text": [
      "Epoch = 36\tSum of Training loss = 3021.0548051297665\tCorrect Validation Examples = 9842\n"
     ]
    },
    {
     "name": "stderr",
     "output_type": "stream",
     "text": [
      "100%|████████████████████████████████████████████████████████████████████████████| 938/938 [00:07<00:00, 122.55it/s]\n",
      "100%|████████████████████████████████████████████████████████████████████████████| 313/313 [00:00<00:00, 321.87it/s]\n",
      "  1%|▉                                                                            | 11/938 [00:00<00:08, 109.17it/s]"
     ]
    },
    {
     "name": "stdout",
     "output_type": "stream",
     "text": [
      "Epoch = 37\tSum of Training loss = 2945.663581982255\tCorrect Validation Examples = 9874\n"
     ]
    },
    {
     "name": "stderr",
     "output_type": "stream",
     "text": [
      "100%|████████████████████████████████████████████████████████████████████████████| 938/938 [00:07<00:00, 123.08it/s]\n",
      "100%|████████████████████████████████████████████████████████████████████████████| 313/313 [00:00<00:00, 320.23it/s]\n",
      "  1%|▉                                                                            | 11/938 [00:00<00:08, 108.13it/s]"
     ]
    },
    {
     "name": "stdout",
     "output_type": "stream",
     "text": [
      "Epoch = 38\tSum of Training loss = 2916.7236364781857\tCorrect Validation Examples = 9873\n"
     ]
    },
    {
     "name": "stderr",
     "output_type": "stream",
     "text": [
      "100%|████████████████████████████████████████████████████████████████████████████| 938/938 [00:07<00:00, 122.89it/s]\n",
      "100%|████████████████████████████████████████████████████████████████████████████| 313/313 [00:00<00:00, 320.65it/s]\n",
      "  1%|▉                                                                            | 11/938 [00:00<00:08, 106.05it/s]"
     ]
    },
    {
     "name": "stdout",
     "output_type": "stream",
     "text": [
      "Epoch = 39\tSum of Training loss = 2880.6693992316723\tCorrect Validation Examples = 9868\n"
     ]
    },
    {
     "name": "stderr",
     "output_type": "stream",
     "text": [
      "100%|████████████████████████████████████████████████████████████████████████████| 938/938 [00:07<00:00, 123.02it/s]\n",
      "100%|████████████████████████████████████████████████████████████████████████████| 313/313 [00:00<00:00, 320.57it/s]\n",
      "  1%|▉                                                                            | 11/938 [00:00<00:08, 105.06it/s]"
     ]
    },
    {
     "name": "stdout",
     "output_type": "stream",
     "text": [
      "Epoch = 40\tSum of Training loss = 2911.959204673767\tCorrect Validation Examples = 9869\n"
     ]
    },
    {
     "name": "stderr",
     "output_type": "stream",
     "text": [
      "100%|████████████████████████████████████████████████████████████████████████████| 938/938 [00:07<00:00, 123.80it/s]\n",
      "100%|████████████████████████████████████████████████████████████████████████████| 313/313 [00:00<00:00, 313.20it/s]\n",
      "  1%|▉                                                                            | 12/938 [00:00<00:08, 109.39it/s]"
     ]
    },
    {
     "name": "stdout",
     "output_type": "stream",
     "text": [
      "Epoch = 41\tSum of Training loss = 2854.948149636388\tCorrect Validation Examples = 9852\n"
     ]
    },
    {
     "name": "stderr",
     "output_type": "stream",
     "text": [
      "100%|████████████████████████████████████████████████████████████████████████████| 938/938 [00:07<00:00, 123.35it/s]\n",
      "100%|████████████████████████████████████████████████████████████████████████████| 313/313 [00:00<00:00, 321.50it/s]\n",
      "  1%|▉                                                                            | 11/938 [00:00<00:08, 108.13it/s]"
     ]
    },
    {
     "name": "stdout",
     "output_type": "stream",
     "text": [
      "Epoch = 42\tSum of Training loss = 2815.396998435259\tCorrect Validation Examples = 9866\n"
     ]
    },
    {
     "name": "stderr",
     "output_type": "stream",
     "text": [
      "100%|████████████████████████████████████████████████████████████████████████████| 938/938 [00:07<00:00, 117.63it/s]\n",
      "100%|████████████████████████████████████████████████████████████████████████████| 313/313 [00:01<00:00, 278.93it/s]\n",
      "  1%|▉                                                                            | 12/938 [00:00<00:08, 111.41it/s]"
     ]
    },
    {
     "name": "stdout",
     "output_type": "stream",
     "text": [
      "Epoch = 43\tSum of Training loss = 2780.8678349107504\tCorrect Validation Examples = 9870\n"
     ]
    },
    {
     "name": "stderr",
     "output_type": "stream",
     "text": [
      "100%|████████████████████████████████████████████████████████████████████████████| 938/938 [00:07<00:00, 118.29it/s]\n",
      "100%|████████████████████████████████████████████████████████████████████████████| 313/313 [00:01<00:00, 291.80it/s]\n",
      "  2%|█▋                                                                            | 20/938 [00:00<00:09, 99.28it/s]"
     ]
    },
    {
     "name": "stdout",
     "output_type": "stream",
     "text": [
      "Epoch = 44\tSum of Training loss = 2771.704795882106\tCorrect Validation Examples = 9874\n"
     ]
    },
    {
     "name": "stderr",
     "output_type": "stream",
     "text": [
      "100%|████████████████████████████████████████████████████████████████████████████| 938/938 [00:08<00:00, 115.51it/s]\n",
      "100%|████████████████████████████████████████████████████████████████████████████| 313/313 [00:01<00:00, 303.81it/s]\n",
      "  1%|▉                                                                            | 11/938 [00:00<00:08, 105.04it/s]"
     ]
    },
    {
     "name": "stdout",
     "output_type": "stream",
     "text": [
      "Epoch = 45\tSum of Training loss = 2757.1239264309406\tCorrect Validation Examples = 9873\n"
     ]
    },
    {
     "name": "stderr",
     "output_type": "stream",
     "text": [
      "100%|████████████████████████████████████████████████████████████████████████████| 938/938 [00:08<00:00, 114.00it/s]\n",
      "100%|████████████████████████████████████████████████████████████████████████████| 313/313 [00:01<00:00, 280.96it/s]\n",
      "  1%|▊                                                                             | 10/938 [00:00<00:10, 91.16it/s]"
     ]
    },
    {
     "name": "stdout",
     "output_type": "stream",
     "text": [
      "Epoch = 46\tSum of Training loss = 2726.514143794775\tCorrect Validation Examples = 9869\n"
     ]
    },
    {
     "name": "stderr",
     "output_type": "stream",
     "text": [
      "100%|████████████████████████████████████████████████████████████████████████████| 938/938 [00:08<00:00, 114.65it/s]\n",
      "100%|████████████████████████████████████████████████████████████████████████████| 313/313 [00:01<00:00, 301.98it/s]\n",
      "  1%|▉                                                                            | 11/938 [00:00<00:09, 102.14it/s]"
     ]
    },
    {
     "name": "stdout",
     "output_type": "stream",
     "text": [
      "Epoch = 47\tSum of Training loss = 2713.239106193185\tCorrect Validation Examples = 9865\n"
     ]
    },
    {
     "name": "stderr",
     "output_type": "stream",
     "text": [
      "100%|████████████████████████████████████████████████████████████████████████████| 938/938 [00:07<00:00, 118.75it/s]\n",
      "100%|████████████████████████████████████████████████████████████████████████████| 313/313 [00:00<00:00, 317.81it/s]\n",
      "  1%|▉                                                                            | 11/938 [00:00<00:08, 108.13it/s]"
     ]
    },
    {
     "name": "stdout",
     "output_type": "stream",
     "text": [
      "Epoch = 48\tSum of Training loss = 2696.905720859766\tCorrect Validation Examples = 9875\n"
     ]
    },
    {
     "name": "stderr",
     "output_type": "stream",
     "text": [
      "100%|████████████████████████████████████████████████████████████████████████████| 938/938 [00:08<00:00, 114.41it/s]\n",
      "100%|████████████████████████████████████████████████████████████████████████████| 313/313 [00:01<00:00, 287.92it/s]\n",
      "  1%|▊                                                                             | 10/938 [00:00<00:09, 98.30it/s]"
     ]
    },
    {
     "name": "stdout",
     "output_type": "stream",
     "text": [
      "Epoch = 49\tSum of Training loss = 2669.980441749096\tCorrect Validation Examples = 9871\n"
     ]
    },
    {
     "name": "stderr",
     "output_type": "stream",
     "text": [
      "100%|████████████████████████████████████████████████████████████████████████████| 938/938 [00:08<00:00, 115.35it/s]\n",
      "100%|████████████████████████████████████████████████████████████████████████████| 313/313 [00:00<00:00, 315.35it/s]\n",
      "  1%|▉                                                                            | 12/938 [00:00<00:08, 113.51it/s]"
     ]
    },
    {
     "name": "stdout",
     "output_type": "stream",
     "text": [
      "Epoch = 50\tSum of Training loss = 2657.519445002079\tCorrect Validation Examples = 9884\n"
     ]
    },
    {
     "name": "stderr",
     "output_type": "stream",
     "text": [
      "100%|████████████████████████████████████████████████████████████████████████████| 938/938 [00:07<00:00, 119.64it/s]\n",
      "100%|████████████████████████████████████████████████████████████████████████████| 313/313 [00:00<00:00, 318.59it/s]\n",
      "  1%|▉                                                                            | 12/938 [00:00<00:08, 111.38it/s]"
     ]
    },
    {
     "name": "stdout",
     "output_type": "stream",
     "text": [
      "Epoch = 51\tSum of Training loss = 2655.4844055771828\tCorrect Validation Examples = 9879\n"
     ]
    },
    {
     "name": "stderr",
     "output_type": "stream",
     "text": [
      "100%|████████████████████████████████████████████████████████████████████████████| 938/938 [00:07<00:00, 118.65it/s]\n",
      "100%|████████████████████████████████████████████████████████████████████████████| 313/313 [00:01<00:00, 302.40it/s]\n",
      "  1%|▉                                                                            | 11/938 [00:00<00:09, 101.18it/s]"
     ]
    },
    {
     "name": "stdout",
     "output_type": "stream",
     "text": [
      "Epoch = 52\tSum of Training loss = 2633.9446403235197\tCorrect Validation Examples = 9879\n"
     ]
    },
    {
     "name": "stderr",
     "output_type": "stream",
     "text": [
      "100%|████████████████████████████████████████████████████████████████████████████| 938/938 [00:08<00:00, 112.90it/s]\n",
      "100%|████████████████████████████████████████████████████████████████████████████| 313/313 [00:01<00:00, 298.17it/s]\n",
      "  1%|▉                                                                            | 11/938 [00:00<00:08, 103.08it/s]"
     ]
    },
    {
     "name": "stdout",
     "output_type": "stream",
     "text": [
      "Epoch = 53\tSum of Training loss = 2602.3098738491535\tCorrect Validation Examples = 9879\n"
     ]
    },
    {
     "name": "stderr",
     "output_type": "stream",
     "text": [
      "100%|████████████████████████████████████████████████████████████████████████████| 938/938 [00:08<00:00, 112.81it/s]\n",
      "100%|████████████████████████████████████████████████████████████████████████████| 313/313 [00:01<00:00, 295.51it/s]\n",
      "  1%|▉                                                                            | 12/938 [00:00<00:08, 110.39it/s]"
     ]
    },
    {
     "name": "stdout",
     "output_type": "stream",
     "text": [
      "Epoch = 54\tSum of Training loss = 2635.202570974827\tCorrect Validation Examples = 9873\n"
     ]
    },
    {
     "name": "stderr",
     "output_type": "stream",
     "text": [
      "100%|████████████████████████████████████████████████████████████████████████████| 938/938 [00:08<00:00, 114.22it/s]\n",
      "100%|████████████████████████████████████████████████████████████████████████████| 313/313 [00:01<00:00, 306.43it/s]\n",
      "  1%|▉                                                                            | 11/938 [00:00<00:09, 101.21it/s]"
     ]
    },
    {
     "name": "stdout",
     "output_type": "stream",
     "text": [
      "Epoch = 55\tSum of Training loss = 2585.8370591402054\tCorrect Validation Examples = 9881\n"
     ]
    },
    {
     "name": "stderr",
     "output_type": "stream",
     "text": [
      "100%|████████████████████████████████████████████████████████████████████████████| 938/938 [00:08<00:00, 113.70it/s]\n",
      "100%|████████████████████████████████████████████████████████████████████████████| 313/313 [00:01<00:00, 298.90it/s]\n",
      "  1%|▉                                                                            | 11/938 [00:00<00:08, 106.05it/s]"
     ]
    },
    {
     "name": "stdout",
     "output_type": "stream",
     "text": [
      "Epoch = 56\tSum of Training loss = 2574.894926518202\tCorrect Validation Examples = 9880\n"
     ]
    },
    {
     "name": "stderr",
     "output_type": "stream",
     "text": [
      "100%|████████████████████████████████████████████████████████████████████████████| 938/938 [00:08<00:00, 112.68it/s]\n",
      "100%|████████████████████████████████████████████████████████████████████████████| 313/313 [00:01<00:00, 306.18it/s]\n",
      "  1%|▉                                                                            | 11/938 [00:00<00:08, 103.08it/s]"
     ]
    },
    {
     "name": "stdout",
     "output_type": "stream",
     "text": [
      "Epoch = 57\tSum of Training loss = 2563.3830610066652\tCorrect Validation Examples = 9873\n"
     ]
    },
    {
     "name": "stderr",
     "output_type": "stream",
     "text": [
      "100%|████████████████████████████████████████████████████████████████████████████| 938/938 [00:08<00:00, 113.36it/s]\n",
      "100%|████████████████████████████████████████████████████████████████████████████| 313/313 [00:01<00:00, 279.46it/s]\n",
      "  1%|▉                                                                            | 11/938 [00:00<00:08, 104.05it/s]"
     ]
    },
    {
     "name": "stdout",
     "output_type": "stream",
     "text": [
      "Epoch = 58\tSum of Training loss = 2550.6523232162\tCorrect Validation Examples = 9881\n"
     ]
    },
    {
     "name": "stderr",
     "output_type": "stream",
     "text": [
      "100%|████████████████████████████████████████████████████████████████████████████| 938/938 [00:08<00:00, 110.09it/s]\n",
      "100%|████████████████████████████████████████████████████████████████████████████| 313/313 [00:01<00:00, 283.49it/s]\n",
      "  1%|▉                                                                            | 11/938 [00:00<00:08, 108.13it/s]"
     ]
    },
    {
     "name": "stdout",
     "output_type": "stream",
     "text": [
      "Epoch = 59\tSum of Training loss = 2526.697537571192\tCorrect Validation Examples = 9867\n"
     ]
    },
    {
     "name": "stderr",
     "output_type": "stream",
     "text": [
      "100%|████████████████████████████████████████████████████████████████████████████| 938/938 [00:08<00:00, 112.50it/s]\n",
      "100%|████████████████████████████████████████████████████████████████████████████| 313/313 [00:01<00:00, 295.24it/s]\n",
      "  1%|▊                                                                             | 10/938 [00:00<00:09, 96.41it/s]"
     ]
    },
    {
     "name": "stdout",
     "output_type": "stream",
     "text": [
      "Epoch = 60\tSum of Training loss = 2515.651374489069\tCorrect Validation Examples = 9875\n"
     ]
    },
    {
     "name": "stderr",
     "output_type": "stream",
     "text": [
      "100%|████████████████████████████████████████████████████████████████████████████| 938/938 [00:08<00:00, 112.99it/s]\n",
      "100%|████████████████████████████████████████████████████████████████████████████| 313/313 [00:01<00:00, 301.48it/s]\n",
      "  2%|█▉                                                                           | 23/938 [00:00<00:08, 109.93it/s]"
     ]
    },
    {
     "name": "stdout",
     "output_type": "stream",
     "text": [
      "Epoch = 61\tSum of Training loss = 2536.735119730234\tCorrect Validation Examples = 9885\n"
     ]
    },
    {
     "name": "stderr",
     "output_type": "stream",
     "text": [
      "100%|████████████████████████████████████████████████████████████████████████████| 938/938 [00:08<00:00, 115.12it/s]\n",
      "100%|████████████████████████████████████████████████████████████████████████████| 313/313 [00:01<00:00, 301.15it/s]\n",
      "  1%|▉                                                                            | 11/938 [00:00<00:08, 103.09it/s]"
     ]
    },
    {
     "name": "stdout",
     "output_type": "stream",
     "text": [
      "Epoch = 62\tSum of Training loss = 2484.01233792305\tCorrect Validation Examples = 9864\n"
     ]
    },
    {
     "name": "stderr",
     "output_type": "stream",
     "text": [
      "100%|████████████████████████████████████████████████████████████████████████████| 938/938 [00:08<00:00, 116.39it/s]\n",
      "100%|████████████████████████████████████████████████████████████████████████████| 313/313 [00:01<00:00, 285.41it/s]\n",
      "  1%|▉                                                                            | 11/938 [00:00<00:08, 106.05it/s]"
     ]
    },
    {
     "name": "stdout",
     "output_type": "stream",
     "text": [
      "Epoch = 63\tSum of Training loss = 2454.4869552254677\tCorrect Validation Examples = 9887\n"
     ]
    },
    {
     "name": "stderr",
     "output_type": "stream",
     "text": [
      "100%|████████████████████████████████████████████████████████████████████████████| 938/938 [00:08<00:00, 114.89it/s]\n",
      "100%|████████████████████████████████████████████████████████████████████████████| 313/313 [00:01<00:00, 306.47it/s]\n",
      "  1%|▉                                                                            | 11/938 [00:00<00:08, 109.20it/s]"
     ]
    },
    {
     "name": "stdout",
     "output_type": "stream",
     "text": [
      "Epoch = 64\tSum of Training loss = 2471.838860332966\tCorrect Validation Examples = 9896\n"
     ]
    },
    {
     "name": "stderr",
     "output_type": "stream",
     "text": [
      "100%|████████████████████████████████████████████████████████████████████████████| 938/938 [00:08<00:00, 112.36it/s]\n",
      "100%|████████████████████████████████████████████████████████████████████████████| 313/313 [00:01<00:00, 306.78it/s]\n",
      "  1%|▉                                                                            | 11/938 [00:00<00:08, 107.08it/s]"
     ]
    },
    {
     "name": "stdout",
     "output_type": "stream",
     "text": [
      "Epoch = 65\tSum of Training loss = 2450.6871961653233\tCorrect Validation Examples = 9877\n"
     ]
    },
    {
     "name": "stderr",
     "output_type": "stream",
     "text": [
      "100%|████████████████████████████████████████████████████████████████████████████| 938/938 [00:08<00:00, 114.77it/s]\n",
      "100%|████████████████████████████████████████████████████████████████████████████| 313/313 [00:01<00:00, 295.96it/s]\n",
      "  1%|▉                                                                            | 11/938 [00:00<00:08, 108.13it/s]"
     ]
    },
    {
     "name": "stdout",
     "output_type": "stream",
     "text": [
      "Epoch = 66\tSum of Training loss = 2467.449847653508\tCorrect Validation Examples = 9882\n"
     ]
    },
    {
     "name": "stderr",
     "output_type": "stream",
     "text": [
      "100%|████████████████████████████████████████████████████████████████████████████| 938/938 [00:08<00:00, 116.38it/s]\n",
      "100%|████████████████████████████████████████████████████████████████████████████| 313/313 [00:01<00:00, 297.19it/s]\n",
      "  1%|▉                                                                            | 12/938 [00:00<00:08, 110.39it/s]"
     ]
    },
    {
     "name": "stdout",
     "output_type": "stream",
     "text": [
      "Epoch = 67\tSum of Training loss = 2460.421028882265\tCorrect Validation Examples = 9882\n"
     ]
    },
    {
     "name": "stderr",
     "output_type": "stream",
     "text": [
      "100%|████████████████████████████████████████████████████████████████████████████| 938/938 [00:08<00:00, 115.59it/s]\n",
      "100%|████████████████████████████████████████████████████████████████████████████| 313/313 [00:01<00:00, 310.42it/s]\n",
      "  1%|▉                                                                            | 11/938 [00:00<00:08, 106.05it/s]"
     ]
    },
    {
     "name": "stdout",
     "output_type": "stream",
     "text": [
      "Epoch = 68\tSum of Training loss = 2421.381062656641\tCorrect Validation Examples = 9885\n"
     ]
    },
    {
     "name": "stderr",
     "output_type": "stream",
     "text": [
      "100%|████████████████████████████████████████████████████████████████████████████| 938/938 [00:07<00:00, 118.14it/s]\n",
      "100%|████████████████████████████████████████████████████████████████████████████| 313/313 [00:00<00:00, 313.52it/s]\n",
      "  1%|▉                                                                            | 11/938 [00:00<00:08, 103.08it/s]"
     ]
    },
    {
     "name": "stdout",
     "output_type": "stream",
     "text": [
      "Epoch = 69\tSum of Training loss = 2406.162974357605\tCorrect Validation Examples = 9894\n"
     ]
    },
    {
     "name": "stderr",
     "output_type": "stream",
     "text": [
      "100%|████████████████████████████████████████████████████████████████████████████| 938/938 [00:08<00:00, 113.74it/s]\n",
      "100%|████████████████████████████████████████████████████████████████████████████| 313/313 [00:01<00:00, 281.97it/s]\n",
      "  1%|▊                                                                             | 10/938 [00:00<00:09, 98.30it/s]"
     ]
    },
    {
     "name": "stdout",
     "output_type": "stream",
     "text": [
      "Epoch = 70\tSum of Training loss = 2417.5379411280155\tCorrect Validation Examples = 9884\n"
     ]
    },
    {
     "name": "stderr",
     "output_type": "stream",
     "text": [
      "100%|████████████████████████████████████████████████████████████████████████████| 938/938 [00:08<00:00, 115.33it/s]\n",
      "100%|████████████████████████████████████████████████████████████████████████████| 313/313 [00:00<00:00, 315.73it/s]\n",
      "  1%|▉                                                                            | 11/938 [00:00<00:08, 107.08it/s]"
     ]
    },
    {
     "name": "stdout",
     "output_type": "stream",
     "text": [
      "Epoch = 71\tSum of Training loss = 2407.1775273680687\tCorrect Validation Examples = 9889\n"
     ]
    },
    {
     "name": "stderr",
     "output_type": "stream",
     "text": [
      "100%|████████████████████████████████████████████████████████████████████████████| 938/938 [00:08<00:00, 116.11it/s]\n",
      "100%|████████████████████████████████████████████████████████████████████████████| 313/313 [00:01<00:00, 300.61it/s]\n",
      "  1%|▊                                                                             | 10/938 [00:00<00:10, 91.99it/s]"
     ]
    },
    {
     "name": "stdout",
     "output_type": "stream",
     "text": [
      "Epoch = 72\tSum of Training loss = 2362.500464618206\tCorrect Validation Examples = 9882\n"
     ]
    },
    {
     "name": "stderr",
     "output_type": "stream",
     "text": [
      "100%|████████████████████████████████████████████████████████████████████████████| 938/938 [00:08<00:00, 113.89it/s]\n",
      "100%|████████████████████████████████████████████████████████████████████████████| 313/313 [00:01<00:00, 300.03it/s]\n",
      "  1%|▉                                                                            | 11/938 [00:00<00:08, 106.05it/s]"
     ]
    },
    {
     "name": "stdout",
     "output_type": "stream",
     "text": [
      "Epoch = 73\tSum of Training loss = 2410.8239620625973\tCorrect Validation Examples = 9888\n"
     ]
    },
    {
     "name": "stderr",
     "output_type": "stream",
     "text": [
      "100%|████████████████████████████████████████████████████████████████████████████| 938/938 [00:08<00:00, 109.93it/s]\n",
      "100%|████████████████████████████████████████████████████████████████████████████| 313/313 [00:01<00:00, 300.03it/s]\n",
      "  1%|▉                                                                            | 11/938 [00:00<00:09, 100.27it/s]"
     ]
    },
    {
     "name": "stdout",
     "output_type": "stream",
     "text": [
      "Epoch = 74\tSum of Training loss = 2377.7746685892344\tCorrect Validation Examples = 9886\n"
     ]
    },
    {
     "name": "stderr",
     "output_type": "stream",
     "text": [
      "100%|████████████████████████████████████████████████████████████████████████████| 938/938 [00:08<00:00, 112.80it/s]\n",
      "100%|████████████████████████████████████████████████████████████████████████████| 313/313 [00:01<00:00, 303.81it/s]\n",
      "  1%|▉                                                                            | 11/938 [00:00<00:08, 106.05it/s]"
     ]
    },
    {
     "name": "stdout",
     "output_type": "stream",
     "text": [
      "Epoch = 75\tSum of Training loss = 2372.9000920057297\tCorrect Validation Examples = 9893\n"
     ]
    },
    {
     "name": "stderr",
     "output_type": "stream",
     "text": [
      "100%|████████████████████████████████████████████████████████████████████████████| 938/938 [00:07<00:00, 118.37it/s]\n",
      "100%|████████████████████████████████████████████████████████████████████████████| 313/313 [00:01<00:00, 311.04it/s]\n",
      "  1%|▊                                                                             | 10/938 [00:00<00:09, 98.30it/s]"
     ]
    },
    {
     "name": "stdout",
     "output_type": "stream",
     "text": [
      "Epoch = 76\tSum of Training loss = 2353.785375356674\tCorrect Validation Examples = 9885\n"
     ]
    },
    {
     "name": "stderr",
     "output_type": "stream",
     "text": [
      "100%|████████████████████████████████████████████████████████████████████████████| 938/938 [00:07<00:00, 117.35it/s]\n",
      "100%|████████████████████████████████████████████████████████████████████████████| 313/313 [00:01<00:00, 302.01it/s]\n",
      "  1%|▉                                                                            | 11/938 [00:00<00:08, 105.04it/s]"
     ]
    },
    {
     "name": "stdout",
     "output_type": "stream",
     "text": [
      "Epoch = 77\tSum of Training loss = 2335.1120418310165\tCorrect Validation Examples = 9889\n"
     ]
    },
    {
     "name": "stderr",
     "output_type": "stream",
     "text": [
      "100%|████████████████████████████████████████████████████████████████████████████| 938/938 [00:08<00:00, 108.75it/s]\n",
      "100%|████████████████████████████████████████████████████████████████████████████| 313/313 [00:01<00:00, 285.57it/s]\n",
      "  1%|▊                                                                             | 10/938 [00:00<00:09, 99.27it/s]"
     ]
    },
    {
     "name": "stdout",
     "output_type": "stream",
     "text": [
      "Epoch = 78\tSum of Training loss = 2335.219449311495\tCorrect Validation Examples = 9893\n"
     ]
    },
    {
     "name": "stderr",
     "output_type": "stream",
     "text": [
      "100%|████████████████████████████████████████████████████████████████████████████| 938/938 [00:08<00:00, 113.65it/s]\n",
      "100%|████████████████████████████████████████████████████████████████████████████| 313/313 [00:01<00:00, 302.67it/s]\n",
      "  1%|▉                                                                            | 11/938 [00:00<00:08, 103.08it/s]"
     ]
    },
    {
     "name": "stdout",
     "output_type": "stream",
     "text": [
      "Epoch = 79\tSum of Training loss = 2334.581599712372\tCorrect Validation Examples = 9878\n"
     ]
    },
    {
     "name": "stderr",
     "output_type": "stream",
     "text": [
      "100%|████████████████████████████████████████████████████████████████████████████| 938/938 [00:08<00:00, 116.63it/s]\n",
      "100%|████████████████████████████████████████████████████████████████████████████| 313/313 [00:01<00:00, 311.04it/s]\n",
      "  1%|▉                                                                            | 11/938 [00:00<00:08, 108.13it/s]"
     ]
    },
    {
     "name": "stdout",
     "output_type": "stream",
     "text": [
      "Epoch = 80\tSum of Training loss = 2322.9950206130743\tCorrect Validation Examples = 9878\n"
     ]
    },
    {
     "name": "stderr",
     "output_type": "stream",
     "text": [
      "100%|████████████████████████████████████████████████████████████████████████████| 938/938 [00:08<00:00, 114.32it/s]\n",
      "100%|████████████████████████████████████████████████████████████████████████████| 313/313 [00:01<00:00, 258.51it/s]\n",
      "  1%|▊                                                                             | 10/938 [00:00<00:10, 91.99it/s]"
     ]
    },
    {
     "name": "stdout",
     "output_type": "stream",
     "text": [
      "Epoch = 81\tSum of Training loss = 2313.45398452878\tCorrect Validation Examples = 9887\n"
     ]
    },
    {
     "name": "stderr",
     "output_type": "stream",
     "text": [
      "100%|████████████████████████████████████████████████████████████████████████████| 938/938 [00:08<00:00, 115.61it/s]\n",
      "100%|████████████████████████████████████████████████████████████████████████████| 313/313 [00:00<00:00, 321.21it/s]\n",
      "  1%|▉                                                                            | 12/938 [00:00<00:08, 110.39it/s]"
     ]
    },
    {
     "name": "stdout",
     "output_type": "stream",
     "text": [
      "Epoch = 82\tSum of Training loss = 2315.8483922183514\tCorrect Validation Examples = 9889\n"
     ]
    },
    {
     "name": "stderr",
     "output_type": "stream",
     "text": [
      "100%|████████████████████████████████████████████████████████████████████████████| 938/938 [00:07<00:00, 118.73it/s]\n",
      "100%|████████████████████████████████████████████████████████████████████████████| 313/313 [00:01<00:00, 305.46it/s]\n",
      "  2%|█▊                                                                           | 22/938 [00:00<00:08, 106.40it/s]"
     ]
    },
    {
     "name": "stdout",
     "output_type": "stream",
     "text": [
      "Epoch = 83\tSum of Training loss = 2309.4918525666\tCorrect Validation Examples = 9889\n"
     ]
    },
    {
     "name": "stderr",
     "output_type": "stream",
     "text": [
      "100%|████████████████████████████████████████████████████████████████████████████| 938/938 [00:08<00:00, 115.54it/s]\n",
      "100%|████████████████████████████████████████████████████████████████████████████| 313/313 [00:01<00:00, 296.15it/s]\n",
      "  1%|▉                                                                            | 12/938 [00:00<00:08, 110.39it/s]"
     ]
    },
    {
     "name": "stdout",
     "output_type": "stream",
     "text": [
      "Epoch = 84\tSum of Training loss = 2316.8849693089724\tCorrect Validation Examples = 9891\n"
     ]
    },
    {
     "name": "stderr",
     "output_type": "stream",
     "text": [
      "100%|████████████████████████████████████████████████████████████████████████████| 938/938 [00:08<00:00, 114.61it/s]\n",
      "100%|████████████████████████████████████████████████████████████████████████████| 313/313 [00:00<00:00, 319.46it/s]\n",
      "  1%|▉                                                                            | 12/938 [00:00<00:08, 111.41it/s]"
     ]
    },
    {
     "name": "stdout",
     "output_type": "stream",
     "text": [
      "Epoch = 85\tSum of Training loss = 2315.8879612982273\tCorrect Validation Examples = 9884\n"
     ]
    },
    {
     "name": "stderr",
     "output_type": "stream",
     "text": [
      "100%|████████████████████████████████████████████████████████████████████████████| 938/938 [00:08<00:00, 116.94it/s]\n",
      "100%|████████████████████████████████████████████████████████████████████████████| 313/313 [00:01<00:00, 297.18it/s]\n",
      "  1%|▉                                                                            | 12/938 [00:00<00:08, 111.41it/s]"
     ]
    },
    {
     "name": "stdout",
     "output_type": "stream",
     "text": [
      "Epoch = 86\tSum of Training loss = 2293.636561855674\tCorrect Validation Examples = 9874\n"
     ]
    },
    {
     "name": "stderr",
     "output_type": "stream",
     "text": [
      "100%|████████████████████████████████████████████████████████████████████████████| 938/938 [00:08<00:00, 115.54it/s]\n",
      "100%|████████████████████████████████████████████████████████████████████████████| 313/313 [00:01<00:00, 267.78it/s]\n",
      "  1%|▊                                                                             | 10/938 [00:00<00:09, 95.49it/s]"
     ]
    },
    {
     "name": "stdout",
     "output_type": "stream",
     "text": [
      "Epoch = 87\tSum of Training loss = 2275.8075407743454\tCorrect Validation Examples = 9886\n"
     ]
    },
    {
     "name": "stderr",
     "output_type": "stream",
     "text": [
      "100%|████████████████████████████████████████████████████████████████████████████| 938/938 [00:08<00:00, 116.06it/s]\n",
      "100%|████████████████████████████████████████████████████████████████████████████| 313/313 [00:01<00:00, 291.39it/s]\n",
      "  1%|▉                                                                            | 11/938 [00:00<00:09, 100.27it/s]"
     ]
    },
    {
     "name": "stdout",
     "output_type": "stream",
     "text": [
      "Epoch = 88\tSum of Training loss = 2305.0609531253576\tCorrect Validation Examples = 9878\n"
     ]
    },
    {
     "name": "stderr",
     "output_type": "stream",
     "text": [
      "100%|████████████████████████████████████████████████████████████████████████████| 938/938 [00:08<00:00, 110.05it/s]\n",
      "100%|████████████████████████████████████████████████████████████████████████████| 313/313 [00:01<00:00, 281.21it/s]\n",
      "  1%|▊                                                                             | 10/938 [00:00<00:10, 91.15it/s]"
     ]
    },
    {
     "name": "stdout",
     "output_type": "stream",
     "text": [
      "Epoch = 89\tSum of Training loss = 2276.4073353111744\tCorrect Validation Examples = 9889\n"
     ]
    },
    {
     "name": "stderr",
     "output_type": "stream",
     "text": [
      "100%|████████████████████████████████████████████████████████████████████████████| 938/938 [00:07<00:00, 117.81it/s]\n",
      "100%|████████████████████████████████████████████████████████████████████████████| 313/313 [00:00<00:00, 323.48it/s]\n",
      "  1%|▉                                                                            | 11/938 [00:00<00:08, 107.08it/s]"
     ]
    },
    {
     "name": "stdout",
     "output_type": "stream",
     "text": [
      "Epoch = 90\tSum of Training loss = 2271.8109084814787\tCorrect Validation Examples = 9885\n"
     ]
    },
    {
     "name": "stderr",
     "output_type": "stream",
     "text": [
      "100%|████████████████████████████████████████████████████████████████████████████| 938/938 [00:08<00:00, 117.07it/s]\n",
      "100%|████████████████████████████████████████████████████████████████████████████| 313/313 [00:01<00:00, 292.36it/s]\n",
      "  1%|▊                                                                              | 9/938 [00:00<00:10, 86.77it/s]"
     ]
    },
    {
     "name": "stdout",
     "output_type": "stream",
     "text": [
      "Epoch = 91\tSum of Training loss = 2236.301243573427\tCorrect Validation Examples = 9890\n"
     ]
    },
    {
     "name": "stderr",
     "output_type": "stream",
     "text": [
      "100%|████████████████████████████████████████████████████████████████████████████| 938/938 [00:07<00:00, 117.75it/s]\n",
      "100%|████████████████████████████████████████████████████████████████████████████| 313/313 [00:01<00:00, 301.19it/s]\n",
      "  1%|▉                                                                            | 12/938 [00:00<00:08, 111.38it/s]"
     ]
    },
    {
     "name": "stdout",
     "output_type": "stream",
     "text": [
      "Epoch = 92\tSum of Training loss = 2237.1707368940115\tCorrect Validation Examples = 9898\n"
     ]
    },
    {
     "name": "stderr",
     "output_type": "stream",
     "text": [
      "100%|████████████████████████████████████████████████████████████████████████████| 938/938 [00:07<00:00, 119.67it/s]\n",
      "100%|████████████████████████████████████████████████████████████████████████████| 313/313 [00:01<00:00, 295.24it/s]\n",
      "  1%|▉                                                                            | 11/938 [00:00<00:08, 106.05it/s]"
     ]
    },
    {
     "name": "stdout",
     "output_type": "stream",
     "text": [
      "Epoch = 93\tSum of Training loss = 2244.559359356761\tCorrect Validation Examples = 9880\n"
     ]
    },
    {
     "name": "stderr",
     "output_type": "stream",
     "text": [
      "100%|████████████████████████████████████████████████████████████████████████████| 938/938 [00:08<00:00, 111.74it/s]\n",
      "100%|████████████████████████████████████████████████████████████████████████████| 313/313 [00:01<00:00, 301.19it/s]\n",
      "  1%|▉                                                                            | 11/938 [00:00<00:08, 103.08it/s]"
     ]
    },
    {
     "name": "stdout",
     "output_type": "stream",
     "text": [
      "Epoch = 94\tSum of Training loss = 2238.742323897779\tCorrect Validation Examples = 9888\n"
     ]
    },
    {
     "name": "stderr",
     "output_type": "stream",
     "text": [
      "100%|████████████████████████████████████████████████████████████████████████████| 938/938 [00:08<00:00, 115.98it/s]\n",
      "100%|████████████████████████████████████████████████████████████████████████████| 313/313 [00:00<00:00, 315.40it/s]\n",
      "  1%|▉                                                                            | 11/938 [00:00<00:08, 109.20it/s]"
     ]
    },
    {
     "name": "stdout",
     "output_type": "stream",
     "text": [
      "Epoch = 95\tSum of Training loss = 2201.410784870386\tCorrect Validation Examples = 9880\n"
     ]
    },
    {
     "name": "stderr",
     "output_type": "stream",
     "text": [
      "100%|████████████████████████████████████████████████████████████████████████████| 938/938 [00:07<00:00, 117.95it/s]\n",
      "100%|████████████████████████████████████████████████████████████████████████████| 313/313 [00:01<00:00, 307.08it/s]\n",
      "  1%|▉                                                                            | 11/938 [00:00<00:08, 106.05it/s]"
     ]
    },
    {
     "name": "stdout",
     "output_type": "stream",
     "text": [
      "Epoch = 96\tSum of Training loss = 2229.376538902521\tCorrect Validation Examples = 9884\n"
     ]
    },
    {
     "name": "stderr",
     "output_type": "stream",
     "text": [
      "100%|████████████████████████████████████████████████████████████████████████████| 938/938 [00:07<00:00, 119.23it/s]\n",
      "100%|████████████████████████████████████████████████████████████████████████████| 313/313 [00:01<00:00, 310.01it/s]\n",
      "  2%|█▉                                                                           | 23/938 [00:00<00:08, 110.08it/s]"
     ]
    },
    {
     "name": "stdout",
     "output_type": "stream",
     "text": [
      "Epoch = 97\tSum of Training loss = 2219.8030580580235\tCorrect Validation Examples = 9899\n"
     ]
    },
    {
     "name": "stderr",
     "output_type": "stream",
     "text": [
      "100%|████████████████████████████████████████████████████████████████████████████| 938/938 [00:08<00:00, 115.71it/s]\n",
      "100%|████████████████████████████████████████████████████████████████████████████| 313/313 [00:01<00:00, 297.76it/s]\n",
      "  1%|▉                                                                            | 11/938 [00:00<00:08, 103.08it/s]"
     ]
    },
    {
     "name": "stdout",
     "output_type": "stream",
     "text": [
      "Epoch = 98\tSum of Training loss = 2193.8488080203533\tCorrect Validation Examples = 9886\n"
     ]
    },
    {
     "name": "stderr",
     "output_type": "stream",
     "text": [
      "100%|████████████████████████████████████████████████████████████████████████████| 938/938 [00:07<00:00, 118.62it/s]\n",
      "100%|████████████████████████████████████████████████████████████████████████████| 313/313 [00:01<00:00, 300.47it/s]\n",
      "  1%|▉                                                                            | 11/938 [00:00<00:09, 102.12it/s]"
     ]
    },
    {
     "name": "stdout",
     "output_type": "stream",
     "text": [
      "Epoch = 99\tSum of Training loss = 2228.2651437669992\tCorrect Validation Examples = 9900\n"
     ]
    },
    {
     "name": "stderr",
     "output_type": "stream",
     "text": [
      "100%|████████████████████████████████████████████████████████████████████████████| 938/938 [00:07<00:00, 119.98it/s]\n",
      "100%|████████████████████████████████████████████████████████████████████████████| 313/313 [00:01<00:00, 309.72it/s]\n"
     ]
    },
    {
     "name": "stdout",
     "output_type": "stream",
     "text": [
      "Epoch = 100\tSum of Training loss = 2214.875375151634\tCorrect Validation Examples = 9886\n"
     ]
    },
    {
     "data": {
      "text/plain": [
       "<Figure size 1152x360 with 0 Axes>"
      ]
     },
     "metadata": {},
     "output_type": "display_data"
    }
   ],
   "source": [
    "model=CNN(dropout=True).to(device)\n",
    "optimizer = optim.SGD(model.parameters(), lr=1e-4, weight_decay=0.2)\n",
    "train_loss_array=[]\n",
    "valid_acc_array=[]\n",
    "for epoch in range(epochs):\n",
    "    #Traning \n",
    "    train_loss=0\n",
    "    for data in tqdm(trainloader):\n",
    "        images,labels=data\n",
    "        images=images.to(device)\n",
    "        labels=labels.to(device)\n",
    "        optimizer.zero_grad()\n",
    "        output=model(images)\n",
    "        loss = criterion(output, labels)\n",
    "        loss.backward()\n",
    "        optimizer.step()\n",
    "        train_loss += loss.item()\n",
    "    train_loss_array.append(train_loss)\n",
    "    #validation\n",
    "    correct=0\n",
    "    model.eval()\n",
    "    with torch.no_grad():\n",
    "        for data in tqdm(testloader):\n",
    "            images,labels=data\n",
    "            images=images.to(device)\n",
    "            labels=labels.to(device)\n",
    "            output=model(images)\n",
    "            _,pred=torch.max(output.data,1)\n",
    "            correct+=(pred == labels).sum().item()\n",
    "    valid_acc_array.append(correct)\n",
    "    model.train()\n",
    "    print(f\"Epoch = {epoch+1}\\tSum of Training loss = {train_loss}\\tCorrect Validation Examples = {correct}\")\n",
    "    \n",
    "fig,ax=plt.subplots(1,2,figsize=(16,5))\n",
    "ax[0].plot(np.arange(1,epochs+1),train_loss_array)\n",
    "ax[0].set(ylabel=\"Summed Training loss\",xlabel=\"Epochs\")\n",
    "ax[1].plot(np.arange(1,epochs+1),np.array(valid_acc_array)/len(testset)*100)\n",
    "ax[1].set(ylabel=\"Validation Accuracy\",xlabel=\"Epochs\")\n",
    "plt.savefig(\"RMS_regularization_dropout.png\",dpi=500)\n",
    "plt.clf()"
   ]
  },
  {
   "cell_type": "code",
   "execution_count": 30,
   "id": "experimental-sender",
   "metadata": {},
   "outputs": [
    {
     "name": "stdout",
     "output_type": "stream",
     "text": [
      "Maximum Accuracy achieved = 99.0\n"
     ]
    }
   ],
   "source": [
    "print(f'Maximum Accuracy achieved = {max(valid_acc_array)/len(testset)*100}')\n",
    "all_losses.append(train_loss_array)"
   ]
  },
  {
   "cell_type": "code",
   "execution_count": 31,
   "id": "magnetic-middle",
   "metadata": {
    "scrolled": false
   },
   "outputs": [
    {
     "data": {
      "text/plain": [
       "<Figure size 1152x720 with 0 Axes>"
      ]
     },
     "metadata": {},
     "output_type": "display_data"
    },
    {
     "data": {
      "text/plain": [
       "<Figure size 1152x720 with 0 Axes>"
      ]
     },
     "metadata": {},
     "output_type": "display_data"
    },
    {
     "data": {
      "text/plain": [
       "<Figure size 1152x720 with 0 Axes>"
      ]
     },
     "metadata": {},
     "output_type": "display_data"
    },
    {
     "data": {
      "text/plain": [
       "<Figure size 1152x720 with 0 Axes>"
      ]
     },
     "metadata": {},
     "output_type": "display_data"
    }
   ],
   "source": [
    "labels=['SGD','Adam','RMSprop']\n",
    "title=['Without Dropout or Regulaization', 'With Dropout only', 'With Regularization only', 'With Droput and Regularization']\n",
    "for i in range(4):\n",
    "    fig,ax=plt.subplots(1,1,figsize=(16,10))\n",
    "    for j in range(3):\n",
    "        ax.plot(np.arange(1,epochs+1),all_losses[4*j+i],label=labels[j])\n",
    "        ax.set(xlabel='Epochs',ylabel='Summed Loss')\n",
    "    plt.legend()\n",
    "    plt.title(title[i])\n",
    "    plt.savefig(f\"{title[i]}.png\")\n",
    "    plt.clf()"
   ]
  },
  {
   "cell_type": "code",
   "execution_count": null,
   "id": "fossil-athletics",
   "metadata": {},
   "outputs": [],
   "source": []
  }
 ],
 "metadata": {
  "kernelspec": {
   "display_name": "Python 3",
   "language": "python",
   "name": "python3"
  },
  "language_info": {
   "codemirror_mode": {
    "name": "ipython",
    "version": 3
   },
   "file_extension": ".py",
   "mimetype": "text/x-python",
   "name": "python",
   "nbconvert_exporter": "python",
   "pygments_lexer": "ipython3",
   "version": "3.6.13"
  }
 },
 "nbformat": 4,
 "nbformat_minor": 5
}
